{
 "cells": [
  {
   "cell_type": "code",
   "execution_count": 65,
   "metadata": {},
   "outputs": [
    {
     "name": "stderr",
     "output_type": "stream",
     "text": [
      "Intel(R) Extension for Scikit-learn* enabled (https://github.com/intel/scikit-learn-intelex)\n"
     ]
    }
   ],
   "source": [
    "import os\n",
    "import sys\n",
    "import joblib\n",
    "import numpy as np\n",
    "import pandas as pd\n",
    "\n",
    "import seaborn as sns\n",
    "import matplotlib.pyplot as plt\n",
    "\n",
    "import plotly.express as px\n",
    "import plotly.graph_objects as go\n",
    "from plotly.subplots import make_subplots\n",
    "\n",
    "sys.path.append('../')\n",
    "from functionality import funs\n",
    "\n",
    "from sklearnex import patch_sklearn\n",
    "patch_sklearn()\n",
    "\n",
    "from sklearn.svm import SVC\n",
    "from sklearn.neural_network import MLPClassifier\n",
    "from sklearn.gaussian_process import GaussianProcessClassifier\n",
    "from sklearn.tree import ExtraTreeClassifier, DecisionTreeClassifier\n",
    "from sklearn.linear_model import LogisticRegression, SGDClassifier\n",
    "from sklearn.ensemble import RandomForestClassifier, ExtraTreesClassifier, AdaBoostClassifier,  GradientBoostingClassifier\n",
    "\n",
    "from sklearn.gaussian_process.kernels import RBF\n",
    "\n",
    "from sklearn.base import clone\n",
    "from sklearn.pipeline import make_pipeline\n",
    "from sklearn.feature_selection import VarianceThreshold\n",
    "from sklearn.preprocessing import OneHotEncoder, LabelBinarizer, LabelEncoder\n",
    "from sklearn.compose import make_column_selector, make_column_transformer\n",
    "from sklearn.model_selection import StratifiedShuffleSplit, train_test_split, GridSearchCV, RandomizedSearchCV\n",
    "from sklearn.metrics import recall_score, precision_score, accuracy_score, roc_auc_score, make_scorer, classification_report\n",
    "\n",
    "# Set the random generators for reproducibility.\n",
    "os.environ['PYTHONHASHSEED']= str(2124)\n",
    "\n",
    "# Set a custom color palette:\n",
    "colors = ['red','darksalmon','olive','darkseagreen','dodgerblue','navy']\n",
    "\n",
    "color = ['maroon','red','tomato','darksalmon','firebrick',\n",
    "         'darkseagreen','seagreen','lightseagreen','olive','green',\n",
    "         'dodgerblue','deepskyblue','navy','blue','royalblue']\n",
    "\n",
    "my_palette = sns.color_palette(color)\n",
    "sns.set_palette(my_palette)\n",
    "\n",
    "working = os.getcwd()\n",
    "dirname = os.path.dirname(working)"
   ]
  },
  {
   "attachments": {},
   "cell_type": "markdown",
   "metadata": {},
   "source": [
    "# Higher Education Students Performance Evaluation\n",
    "\n",
    "- The data was collected from Turkish students at two faculties: Faculty of Engineering and Faculty of Educational Sciences students in 2019. <br>\n",
    "\n",
    "- The goal is to create an ML model that can predict student performance given the data taken from a survey.\n",
    "\n",
    "- The grades are in categorical –AA, BA, BB, CB, CC, DC, DD, and Fail– hence it should be model as a mutli-class classification.\n",
    "\n",
    "<br>\n",
    "\n",
    "**Data Set Information**\n",
    "\n",
    "The data contains results from a survey with columns 1-10 relate to personal questions, 11-16 are family related, and the remaining questions include education habits."
   ]
  },
  {
   "cell_type": "code",
   "execution_count": 66,
   "metadata": {},
   "outputs": [],
   "source": [
    "# Load data.\n",
    "data = pd.read_csv('../data/data.csv', dtype={'Course ID':object})"
   ]
  },
  {
   "attachments": {},
   "cell_type": "markdown",
   "metadata": {},
   "source": [
    "## 1. Exploratory Data Analysis"
   ]
  },
  {
   "cell_type": "code",
   "execution_count": 67,
   "metadata": {},
   "outputs": [],
   "source": [
    "ages = data.Age.sort_values().unique()\n",
    "grades = data.Grade.sort_values().unique()\n",
    "hours = ['none','<5 hours','6-10 hours','11-20 hours','more than 20 hours']\n",
    "scholarship = data.Scholarship.sort_values().unique()\n",
    "notes = ['always', 'sometimes', 'never']\n",
    "listening = ['always', 'sometimes', 'never']\n",
    "attendance = ['always', 'sometimes']\n",
    "exams1 = data['Preparation to Midterm Exams 1'].sort_values().unique()\n",
    "exams2 = data['Preparation to Midterm Exams 2'].sort_values().unique()\n",
    "fathers = ['Ph.D.','MSc.','university','high school','primary school','secondary school']\n",
    "mothers = ['Ph.D.','MSc.','university','high school','primary school','secondary school']\n",
    "courses = data['Course ID'].sort_values().unique()\n",
    "transport = data['Transportation to University'].unique()\n",
    "courses = data['Course ID'].sort_values().unique()"
   ]
  },
  {
   "cell_type": "code",
   "execution_count": 68,
   "metadata": {},
   "outputs": [
    {
     "data": {
      "application/vnd.plotly.v1+json": {
       "config": {
        "plotlyServerURL": "https://plot.ly"
       },
       "data": [
        {
         "domain": {
          "x": [
           0,
           1
          ],
          "y": [
           0,
           1
          ]
         },
         "labels": [
          "AA",
          "BA",
          "BB",
          "CB",
          "CC",
          "DC",
          "DD",
          "Fail"
         ],
         "marker": {
          "colors": [
           "maroon",
           "red",
           "tomato",
           "darksalmon",
           "firebrick",
           "darkseagreen",
           "seagreen",
           "lightseagreen",
           "olive"
          ]
         },
         "sort": false,
         "textinfo": "percent+label",
         "textposition": "inside",
         "type": "pie",
         "values": [
          17,
          13,
          17,
          10,
          21,
          24,
          35,
          8
         ]
        }
       ],
       "layout": {
        "height": 650,
        "showlegend": false,
        "template": {
         "data": {
          "bar": [
           {
            "error_x": {
             "color": "#2a3f5f"
            },
            "error_y": {
             "color": "#2a3f5f"
            },
            "marker": {
             "line": {
              "color": "white",
              "width": 0.5
             },
             "pattern": {
              "fillmode": "overlay",
              "size": 10,
              "solidity": 0.2
             }
            },
            "type": "bar"
           }
          ],
          "barpolar": [
           {
            "marker": {
             "line": {
              "color": "white",
              "width": 0.5
             },
             "pattern": {
              "fillmode": "overlay",
              "size": 10,
              "solidity": 0.2
             }
            },
            "type": "barpolar"
           }
          ],
          "carpet": [
           {
            "aaxis": {
             "endlinecolor": "#2a3f5f",
             "gridcolor": "#C8D4E3",
             "linecolor": "#C8D4E3",
             "minorgridcolor": "#C8D4E3",
             "startlinecolor": "#2a3f5f"
            },
            "baxis": {
             "endlinecolor": "#2a3f5f",
             "gridcolor": "#C8D4E3",
             "linecolor": "#C8D4E3",
             "minorgridcolor": "#C8D4E3",
             "startlinecolor": "#2a3f5f"
            },
            "type": "carpet"
           }
          ],
          "choropleth": [
           {
            "colorbar": {
             "outlinewidth": 0,
             "ticks": ""
            },
            "type": "choropleth"
           }
          ],
          "contour": [
           {
            "colorbar": {
             "outlinewidth": 0,
             "ticks": ""
            },
            "colorscale": [
             [
              0,
              "#0d0887"
             ],
             [
              0.1111111111111111,
              "#46039f"
             ],
             [
              0.2222222222222222,
              "#7201a8"
             ],
             [
              0.3333333333333333,
              "#9c179e"
             ],
             [
              0.4444444444444444,
              "#bd3786"
             ],
             [
              0.5555555555555556,
              "#d8576b"
             ],
             [
              0.6666666666666666,
              "#ed7953"
             ],
             [
              0.7777777777777778,
              "#fb9f3a"
             ],
             [
              0.8888888888888888,
              "#fdca26"
             ],
             [
              1,
              "#f0f921"
             ]
            ],
            "type": "contour"
           }
          ],
          "contourcarpet": [
           {
            "colorbar": {
             "outlinewidth": 0,
             "ticks": ""
            },
            "type": "contourcarpet"
           }
          ],
          "heatmap": [
           {
            "colorbar": {
             "outlinewidth": 0,
             "ticks": ""
            },
            "colorscale": [
             [
              0,
              "#0d0887"
             ],
             [
              0.1111111111111111,
              "#46039f"
             ],
             [
              0.2222222222222222,
              "#7201a8"
             ],
             [
              0.3333333333333333,
              "#9c179e"
             ],
             [
              0.4444444444444444,
              "#bd3786"
             ],
             [
              0.5555555555555556,
              "#d8576b"
             ],
             [
              0.6666666666666666,
              "#ed7953"
             ],
             [
              0.7777777777777778,
              "#fb9f3a"
             ],
             [
              0.8888888888888888,
              "#fdca26"
             ],
             [
              1,
              "#f0f921"
             ]
            ],
            "type": "heatmap"
           }
          ],
          "heatmapgl": [
           {
            "colorbar": {
             "outlinewidth": 0,
             "ticks": ""
            },
            "colorscale": [
             [
              0,
              "#0d0887"
             ],
             [
              0.1111111111111111,
              "#46039f"
             ],
             [
              0.2222222222222222,
              "#7201a8"
             ],
             [
              0.3333333333333333,
              "#9c179e"
             ],
             [
              0.4444444444444444,
              "#bd3786"
             ],
             [
              0.5555555555555556,
              "#d8576b"
             ],
             [
              0.6666666666666666,
              "#ed7953"
             ],
             [
              0.7777777777777778,
              "#fb9f3a"
             ],
             [
              0.8888888888888888,
              "#fdca26"
             ],
             [
              1,
              "#f0f921"
             ]
            ],
            "type": "heatmapgl"
           }
          ],
          "histogram": [
           {
            "marker": {
             "pattern": {
              "fillmode": "overlay",
              "size": 10,
              "solidity": 0.2
             }
            },
            "type": "histogram"
           }
          ],
          "histogram2d": [
           {
            "colorbar": {
             "outlinewidth": 0,
             "ticks": ""
            },
            "colorscale": [
             [
              0,
              "#0d0887"
             ],
             [
              0.1111111111111111,
              "#46039f"
             ],
             [
              0.2222222222222222,
              "#7201a8"
             ],
             [
              0.3333333333333333,
              "#9c179e"
             ],
             [
              0.4444444444444444,
              "#bd3786"
             ],
             [
              0.5555555555555556,
              "#d8576b"
             ],
             [
              0.6666666666666666,
              "#ed7953"
             ],
             [
              0.7777777777777778,
              "#fb9f3a"
             ],
             [
              0.8888888888888888,
              "#fdca26"
             ],
             [
              1,
              "#f0f921"
             ]
            ],
            "type": "histogram2d"
           }
          ],
          "histogram2dcontour": [
           {
            "colorbar": {
             "outlinewidth": 0,
             "ticks": ""
            },
            "colorscale": [
             [
              0,
              "#0d0887"
             ],
             [
              0.1111111111111111,
              "#46039f"
             ],
             [
              0.2222222222222222,
              "#7201a8"
             ],
             [
              0.3333333333333333,
              "#9c179e"
             ],
             [
              0.4444444444444444,
              "#bd3786"
             ],
             [
              0.5555555555555556,
              "#d8576b"
             ],
             [
              0.6666666666666666,
              "#ed7953"
             ],
             [
              0.7777777777777778,
              "#fb9f3a"
             ],
             [
              0.8888888888888888,
              "#fdca26"
             ],
             [
              1,
              "#f0f921"
             ]
            ],
            "type": "histogram2dcontour"
           }
          ],
          "mesh3d": [
           {
            "colorbar": {
             "outlinewidth": 0,
             "ticks": ""
            },
            "type": "mesh3d"
           }
          ],
          "parcoords": [
           {
            "line": {
             "colorbar": {
              "outlinewidth": 0,
              "ticks": ""
             }
            },
            "type": "parcoords"
           }
          ],
          "pie": [
           {
            "automargin": true,
            "type": "pie"
           }
          ],
          "scatter": [
           {
            "fillpattern": {
             "fillmode": "overlay",
             "size": 10,
             "solidity": 0.2
            },
            "type": "scatter"
           }
          ],
          "scatter3d": [
           {
            "line": {
             "colorbar": {
              "outlinewidth": 0,
              "ticks": ""
             }
            },
            "marker": {
             "colorbar": {
              "outlinewidth": 0,
              "ticks": ""
             }
            },
            "type": "scatter3d"
           }
          ],
          "scattercarpet": [
           {
            "marker": {
             "colorbar": {
              "outlinewidth": 0,
              "ticks": ""
             }
            },
            "type": "scattercarpet"
           }
          ],
          "scattergeo": [
           {
            "marker": {
             "colorbar": {
              "outlinewidth": 0,
              "ticks": ""
             }
            },
            "type": "scattergeo"
           }
          ],
          "scattergl": [
           {
            "marker": {
             "colorbar": {
              "outlinewidth": 0,
              "ticks": ""
             }
            },
            "type": "scattergl"
           }
          ],
          "scattermapbox": [
           {
            "marker": {
             "colorbar": {
              "outlinewidth": 0,
              "ticks": ""
             }
            },
            "type": "scattermapbox"
           }
          ],
          "scatterpolar": [
           {
            "marker": {
             "colorbar": {
              "outlinewidth": 0,
              "ticks": ""
             }
            },
            "type": "scatterpolar"
           }
          ],
          "scatterpolargl": [
           {
            "marker": {
             "colorbar": {
              "outlinewidth": 0,
              "ticks": ""
             }
            },
            "type": "scatterpolargl"
           }
          ],
          "scatterternary": [
           {
            "marker": {
             "colorbar": {
              "outlinewidth": 0,
              "ticks": ""
             }
            },
            "type": "scatterternary"
           }
          ],
          "surface": [
           {
            "colorbar": {
             "outlinewidth": 0,
             "ticks": ""
            },
            "colorscale": [
             [
              0,
              "#0d0887"
             ],
             [
              0.1111111111111111,
              "#46039f"
             ],
             [
              0.2222222222222222,
              "#7201a8"
             ],
             [
              0.3333333333333333,
              "#9c179e"
             ],
             [
              0.4444444444444444,
              "#bd3786"
             ],
             [
              0.5555555555555556,
              "#d8576b"
             ],
             [
              0.6666666666666666,
              "#ed7953"
             ],
             [
              0.7777777777777778,
              "#fb9f3a"
             ],
             [
              0.8888888888888888,
              "#fdca26"
             ],
             [
              1,
              "#f0f921"
             ]
            ],
            "type": "surface"
           }
          ],
          "table": [
           {
            "cells": {
             "fill": {
              "color": "#EBF0F8"
             },
             "line": {
              "color": "white"
             }
            },
            "header": {
             "fill": {
              "color": "#C8D4E3"
             },
             "line": {
              "color": "white"
             }
            },
            "type": "table"
           }
          ]
         },
         "layout": {
          "annotationdefaults": {
           "arrowcolor": "#2a3f5f",
           "arrowhead": 0,
           "arrowwidth": 1
          },
          "autotypenumbers": "strict",
          "coloraxis": {
           "colorbar": {
            "outlinewidth": 0,
            "ticks": ""
           }
          },
          "colorscale": {
           "diverging": [
            [
             0,
             "#8e0152"
            ],
            [
             0.1,
             "#c51b7d"
            ],
            [
             0.2,
             "#de77ae"
            ],
            [
             0.3,
             "#f1b6da"
            ],
            [
             0.4,
             "#fde0ef"
            ],
            [
             0.5,
             "#f7f7f7"
            ],
            [
             0.6,
             "#e6f5d0"
            ],
            [
             0.7,
             "#b8e186"
            ],
            [
             0.8,
             "#7fbc41"
            ],
            [
             0.9,
             "#4d9221"
            ],
            [
             1,
             "#276419"
            ]
           ],
           "sequential": [
            [
             0,
             "#0d0887"
            ],
            [
             0.1111111111111111,
             "#46039f"
            ],
            [
             0.2222222222222222,
             "#7201a8"
            ],
            [
             0.3333333333333333,
             "#9c179e"
            ],
            [
             0.4444444444444444,
             "#bd3786"
            ],
            [
             0.5555555555555556,
             "#d8576b"
            ],
            [
             0.6666666666666666,
             "#ed7953"
            ],
            [
             0.7777777777777778,
             "#fb9f3a"
            ],
            [
             0.8888888888888888,
             "#fdca26"
            ],
            [
             1,
             "#f0f921"
            ]
           ],
           "sequentialminus": [
            [
             0,
             "#0d0887"
            ],
            [
             0.1111111111111111,
             "#46039f"
            ],
            [
             0.2222222222222222,
             "#7201a8"
            ],
            [
             0.3333333333333333,
             "#9c179e"
            ],
            [
             0.4444444444444444,
             "#bd3786"
            ],
            [
             0.5555555555555556,
             "#d8576b"
            ],
            [
             0.6666666666666666,
             "#ed7953"
            ],
            [
             0.7777777777777778,
             "#fb9f3a"
            ],
            [
             0.8888888888888888,
             "#fdca26"
            ],
            [
             1,
             "#f0f921"
            ]
           ]
          },
          "colorway": [
           "#636efa",
           "#EF553B",
           "#00cc96",
           "#ab63fa",
           "#FFA15A",
           "#19d3f3",
           "#FF6692",
           "#B6E880",
           "#FF97FF",
           "#FECB52"
          ],
          "font": {
           "color": "#2a3f5f"
          },
          "geo": {
           "bgcolor": "white",
           "lakecolor": "white",
           "landcolor": "white",
           "showlakes": true,
           "showland": true,
           "subunitcolor": "#C8D4E3"
          },
          "hoverlabel": {
           "align": "left"
          },
          "hovermode": "closest",
          "mapbox": {
           "style": "light"
          },
          "paper_bgcolor": "white",
          "plot_bgcolor": "white",
          "polar": {
           "angularaxis": {
            "gridcolor": "#EBF0F8",
            "linecolor": "#EBF0F8",
            "ticks": ""
           },
           "bgcolor": "white",
           "radialaxis": {
            "gridcolor": "#EBF0F8",
            "linecolor": "#EBF0F8",
            "ticks": ""
           }
          },
          "scene": {
           "xaxis": {
            "backgroundcolor": "white",
            "gridcolor": "#DFE8F3",
            "gridwidth": 2,
            "linecolor": "#EBF0F8",
            "showbackground": true,
            "ticks": "",
            "zerolinecolor": "#EBF0F8"
           },
           "yaxis": {
            "backgroundcolor": "white",
            "gridcolor": "#DFE8F3",
            "gridwidth": 2,
            "linecolor": "#EBF0F8",
            "showbackground": true,
            "ticks": "",
            "zerolinecolor": "#EBF0F8"
           },
           "zaxis": {
            "backgroundcolor": "white",
            "gridcolor": "#DFE8F3",
            "gridwidth": 2,
            "linecolor": "#EBF0F8",
            "showbackground": true,
            "ticks": "",
            "zerolinecolor": "#EBF0F8"
           }
          },
          "shapedefaults": {
           "line": {
            "color": "#2a3f5f"
           }
          },
          "ternary": {
           "aaxis": {
            "gridcolor": "#DFE8F3",
            "linecolor": "#A2B1C6",
            "ticks": ""
           },
           "baxis": {
            "gridcolor": "#DFE8F3",
            "linecolor": "#A2B1C6",
            "ticks": ""
           },
           "bgcolor": "white",
           "caxis": {
            "gridcolor": "#DFE8F3",
            "linecolor": "#A2B1C6",
            "ticks": ""
           }
          },
          "title": {
           "x": 0.05
          },
          "xaxis": {
           "automargin": true,
           "gridcolor": "#EBF0F8",
           "linecolor": "#EBF0F8",
           "ticks": "",
           "title": {
            "standoff": 15
           },
           "zerolinecolor": "#EBF0F8",
           "zerolinewidth": 2
          },
          "yaxis": {
           "automargin": true,
           "gridcolor": "#EBF0F8",
           "linecolor": "#EBF0F8",
           "ticks": "",
           "title": {
            "standoff": 15
           },
           "zerolinecolor": "#EBF0F8",
           "zerolinewidth": 2
          }
         }
        },
        "title": {
         "font": {
          "size": 20
         },
         "text": "Grades % Distribution"
        },
        "width": 1650
       }
      }
     },
     "metadata": {},
     "output_type": "display_data"
    }
   ],
   "source": [
    "props = (data.groupby('Grade')['Grade']\n",
    "         .count().to_frame('Count')\n",
    "         .reset_index())\n",
    "\n",
    "fig = make_subplots(\n",
    "    rows=1, \n",
    "    cols=1,\n",
    "    specs=[[{'type':'domain'}]])\n",
    "\n",
    "fig.add_trace(\n",
    "    go.Pie(\n",
    "        labels=props['Grade'], \n",
    "        values=props['Count'],\n",
    "        marker={'colors':color[0:len(grades)+1]},\n",
    "        sort=False),\n",
    "    1, 1)\n",
    "\n",
    "fig.update_traces(textposition='inside', textinfo='percent+label')\n",
    "\n",
    "# Update layout settings for the figure.\n",
    "fig.update_layout(\n",
    "    title={'text':'Grades % Distribution','font_size':20},\n",
    "    showlegend=False, \n",
    "    height=650,\n",
    "    width=1650,\n",
    "    template='plotly_white')"
   ]
  },
  {
   "attachments": {},
   "cell_type": "markdown",
   "metadata": {},
   "source": [
    "The outcome data –the grades– shows an imbalanced distribution. Whilst DD has 25% of the data, BA and CB have less than 10% and Fail represents only 5.5% of the whole data –only eight points–. This eventually will present a problem as the model will have few data points to train on predicting the Fail grade, but more data points to train the model on predicting the DD grade."
   ]
  },
  {
   "cell_type": "code",
   "execution_count": 69,
   "metadata": {},
   "outputs": [
    {
     "data": {
      "application/vnd.plotly.v1+json": {
       "config": {
        "plotlyServerURL": "https://plot.ly"
       },
       "data": [
        {
         "alignmentgroup": "True",
         "hovertemplate": "Grade=AA<br>Course ID=%{x}<br># Students=%{y}<extra></extra>",
         "legendgroup": "AA",
         "marker": {
          "color": "royalblue",
          "pattern": {
           "shape": ""
          }
         },
         "name": "AA",
         "offsetgroup": "AA",
         "orientation": "v",
         "showlegend": true,
         "textposition": "auto",
         "type": "bar",
         "x": [
          "1",
          "2",
          "3",
          "4",
          "5",
          "6",
          "7",
          "8",
          "9"
         ],
         "xaxis": "x",
         "y": [
          0,
          0,
          3,
          1,
          3,
          1,
          9,
          0,
          0
         ],
         "yaxis": "y"
        },
        {
         "alignmentgroup": "True",
         "hovertemplate": "Grade=BA<br>Course ID=%{x}<br># Students=%{y}<extra></extra>",
         "legendgroup": "BA",
         "marker": {
          "color": "blue",
          "pattern": {
           "shape": ""
          }
         },
         "name": "BA",
         "offsetgroup": "BA",
         "orientation": "v",
         "showlegend": true,
         "textposition": "auto",
         "type": "bar",
         "x": [
          "1",
          "2",
          "3",
          "4",
          "5",
          "6",
          "7",
          "8",
          "9"
         ],
         "xaxis": "x",
         "y": [
          0,
          0,
          3,
          0,
          0,
          6,
          4,
          0,
          0
         ],
         "yaxis": "y"
        },
        {
         "alignmentgroup": "True",
         "hovertemplate": "Grade=BB<br>Course ID=%{x}<br># Students=%{y}<extra></extra>",
         "legendgroup": "BB",
         "marker": {
          "color": "navy",
          "pattern": {
           "shape": ""
          }
         },
         "name": "BB",
         "offsetgroup": "BB",
         "orientation": "v",
         "showlegend": true,
         "textposition": "auto",
         "type": "bar",
         "x": [
          "1",
          "2",
          "3",
          "4",
          "5",
          "6",
          "7",
          "8",
          "9"
         ],
         "xaxis": "x",
         "y": [
          10,
          1,
          2,
          0,
          1,
          0,
          1,
          0,
          2
         ],
         "yaxis": "y"
        },
        {
         "alignmentgroup": "True",
         "hovertemplate": "Grade=CB<br>Course ID=%{x}<br># Students=%{y}<extra></extra>",
         "legendgroup": "CB",
         "marker": {
          "color": "deepskyblue",
          "pattern": {
           "shape": ""
          }
         },
         "name": "CB",
         "offsetgroup": "CB",
         "orientation": "v",
         "showlegend": true,
         "textposition": "auto",
         "type": "bar",
         "x": [
          "1",
          "2",
          "3",
          "4",
          "5",
          "6",
          "7",
          "8",
          "9"
         ],
         "xaxis": "x",
         "y": [
          3,
          0,
          0,
          2,
          2,
          1,
          0,
          0,
          2
         ],
         "yaxis": "y"
        },
        {
         "alignmentgroup": "True",
         "hovertemplate": "Grade=CC<br>Course ID=%{x}<br># Students=%{y}<extra></extra>",
         "legendgroup": "CC",
         "marker": {
          "color": "dodgerblue",
          "pattern": {
           "shape": ""
          }
         },
         "name": "CC",
         "offsetgroup": "CC",
         "orientation": "v",
         "showlegend": true,
         "textposition": "auto",
         "type": "bar",
         "x": [
          "1",
          "2",
          "3",
          "4",
          "5",
          "6",
          "7",
          "8",
          "9"
         ],
         "xaxis": "x",
         "y": [
          12,
          0,
          0,
          1,
          1,
          0,
          1,
          0,
          6
         ],
         "yaxis": "y"
        },
        {
         "alignmentgroup": "True",
         "hovertemplate": "Grade=DC<br>Course ID=%{x}<br># Students=%{y}<extra></extra>",
         "legendgroup": "DC",
         "marker": {
          "color": "green",
          "pattern": {
           "shape": ""
          }
         },
         "name": "DC",
         "offsetgroup": "DC",
         "orientation": "v",
         "showlegend": true,
         "textposition": "auto",
         "type": "bar",
         "x": [
          "1",
          "2",
          "3",
          "4",
          "5",
          "6",
          "7",
          "8",
          "9"
         ],
         "xaxis": "x",
         "y": [
          15,
          0,
          0,
          0,
          0,
          0,
          0,
          6,
          3
         ],
         "yaxis": "y"
        },
        {
         "alignmentgroup": "True",
         "hovertemplate": "Grade=DD<br>Course ID=%{x}<br># Students=%{y}<extra></extra>",
         "legendgroup": "DD",
         "marker": {
          "color": "olive",
          "pattern": {
           "shape": ""
          }
         },
         "name": "DD",
         "offsetgroup": "DD",
         "orientation": "v",
         "showlegend": true,
         "textposition": "auto",
         "type": "bar",
         "x": [
          "1",
          "2",
          "3",
          "4",
          "5",
          "6",
          "7",
          "8",
          "9"
         ],
         "xaxis": "x",
         "y": [
          23,
          1,
          0,
          0,
          0,
          0,
          0,
          7,
          4
         ],
         "yaxis": "y"
        },
        {
         "alignmentgroup": "True",
         "hovertemplate": "Grade=Fail<br>Course ID=%{x}<br># Students=%{y}<extra></extra>",
         "legendgroup": "Fail",
         "marker": {
          "color": "lightseagreen",
          "pattern": {
           "shape": ""
          }
         },
         "name": "Fail",
         "offsetgroup": "Fail",
         "orientation": "v",
         "showlegend": true,
         "textposition": "auto",
         "type": "bar",
         "x": [
          "1",
          "2",
          "3",
          "4",
          "5",
          "6",
          "7",
          "8",
          "9"
         ],
         "xaxis": "x",
         "y": [
          3,
          0,
          0,
          0,
          0,
          0,
          0,
          1,
          4
         ],
         "yaxis": "y"
        }
       ],
       "layout": {
        "barmode": "relative",
        "height": 500,
        "legend": {
         "title": {
          "text": "Grade"
         },
         "tracegroupgap": 0
        },
        "margin": {
         "t": 60
        },
        "showlegend": true,
        "template": {
         "data": {
          "bar": [
           {
            "error_x": {
             "color": "#2a3f5f"
            },
            "error_y": {
             "color": "#2a3f5f"
            },
            "marker": {
             "line": {
              "color": "white",
              "width": 0.5
             },
             "pattern": {
              "fillmode": "overlay",
              "size": 10,
              "solidity": 0.2
             }
            },
            "type": "bar"
           }
          ],
          "barpolar": [
           {
            "marker": {
             "line": {
              "color": "white",
              "width": 0.5
             },
             "pattern": {
              "fillmode": "overlay",
              "size": 10,
              "solidity": 0.2
             }
            },
            "type": "barpolar"
           }
          ],
          "carpet": [
           {
            "aaxis": {
             "endlinecolor": "#2a3f5f",
             "gridcolor": "#C8D4E3",
             "linecolor": "#C8D4E3",
             "minorgridcolor": "#C8D4E3",
             "startlinecolor": "#2a3f5f"
            },
            "baxis": {
             "endlinecolor": "#2a3f5f",
             "gridcolor": "#C8D4E3",
             "linecolor": "#C8D4E3",
             "minorgridcolor": "#C8D4E3",
             "startlinecolor": "#2a3f5f"
            },
            "type": "carpet"
           }
          ],
          "choropleth": [
           {
            "colorbar": {
             "outlinewidth": 0,
             "ticks": ""
            },
            "type": "choropleth"
           }
          ],
          "contour": [
           {
            "colorbar": {
             "outlinewidth": 0,
             "ticks": ""
            },
            "colorscale": [
             [
              0,
              "#0d0887"
             ],
             [
              0.1111111111111111,
              "#46039f"
             ],
             [
              0.2222222222222222,
              "#7201a8"
             ],
             [
              0.3333333333333333,
              "#9c179e"
             ],
             [
              0.4444444444444444,
              "#bd3786"
             ],
             [
              0.5555555555555556,
              "#d8576b"
             ],
             [
              0.6666666666666666,
              "#ed7953"
             ],
             [
              0.7777777777777778,
              "#fb9f3a"
             ],
             [
              0.8888888888888888,
              "#fdca26"
             ],
             [
              1,
              "#f0f921"
             ]
            ],
            "type": "contour"
           }
          ],
          "contourcarpet": [
           {
            "colorbar": {
             "outlinewidth": 0,
             "ticks": ""
            },
            "type": "contourcarpet"
           }
          ],
          "heatmap": [
           {
            "colorbar": {
             "outlinewidth": 0,
             "ticks": ""
            },
            "colorscale": [
             [
              0,
              "#0d0887"
             ],
             [
              0.1111111111111111,
              "#46039f"
             ],
             [
              0.2222222222222222,
              "#7201a8"
             ],
             [
              0.3333333333333333,
              "#9c179e"
             ],
             [
              0.4444444444444444,
              "#bd3786"
             ],
             [
              0.5555555555555556,
              "#d8576b"
             ],
             [
              0.6666666666666666,
              "#ed7953"
             ],
             [
              0.7777777777777778,
              "#fb9f3a"
             ],
             [
              0.8888888888888888,
              "#fdca26"
             ],
             [
              1,
              "#f0f921"
             ]
            ],
            "type": "heatmap"
           }
          ],
          "heatmapgl": [
           {
            "colorbar": {
             "outlinewidth": 0,
             "ticks": ""
            },
            "colorscale": [
             [
              0,
              "#0d0887"
             ],
             [
              0.1111111111111111,
              "#46039f"
             ],
             [
              0.2222222222222222,
              "#7201a8"
             ],
             [
              0.3333333333333333,
              "#9c179e"
             ],
             [
              0.4444444444444444,
              "#bd3786"
             ],
             [
              0.5555555555555556,
              "#d8576b"
             ],
             [
              0.6666666666666666,
              "#ed7953"
             ],
             [
              0.7777777777777778,
              "#fb9f3a"
             ],
             [
              0.8888888888888888,
              "#fdca26"
             ],
             [
              1,
              "#f0f921"
             ]
            ],
            "type": "heatmapgl"
           }
          ],
          "histogram": [
           {
            "marker": {
             "pattern": {
              "fillmode": "overlay",
              "size": 10,
              "solidity": 0.2
             }
            },
            "type": "histogram"
           }
          ],
          "histogram2d": [
           {
            "colorbar": {
             "outlinewidth": 0,
             "ticks": ""
            },
            "colorscale": [
             [
              0,
              "#0d0887"
             ],
             [
              0.1111111111111111,
              "#46039f"
             ],
             [
              0.2222222222222222,
              "#7201a8"
             ],
             [
              0.3333333333333333,
              "#9c179e"
             ],
             [
              0.4444444444444444,
              "#bd3786"
             ],
             [
              0.5555555555555556,
              "#d8576b"
             ],
             [
              0.6666666666666666,
              "#ed7953"
             ],
             [
              0.7777777777777778,
              "#fb9f3a"
             ],
             [
              0.8888888888888888,
              "#fdca26"
             ],
             [
              1,
              "#f0f921"
             ]
            ],
            "type": "histogram2d"
           }
          ],
          "histogram2dcontour": [
           {
            "colorbar": {
             "outlinewidth": 0,
             "ticks": ""
            },
            "colorscale": [
             [
              0,
              "#0d0887"
             ],
             [
              0.1111111111111111,
              "#46039f"
             ],
             [
              0.2222222222222222,
              "#7201a8"
             ],
             [
              0.3333333333333333,
              "#9c179e"
             ],
             [
              0.4444444444444444,
              "#bd3786"
             ],
             [
              0.5555555555555556,
              "#d8576b"
             ],
             [
              0.6666666666666666,
              "#ed7953"
             ],
             [
              0.7777777777777778,
              "#fb9f3a"
             ],
             [
              0.8888888888888888,
              "#fdca26"
             ],
             [
              1,
              "#f0f921"
             ]
            ],
            "type": "histogram2dcontour"
           }
          ],
          "mesh3d": [
           {
            "colorbar": {
             "outlinewidth": 0,
             "ticks": ""
            },
            "type": "mesh3d"
           }
          ],
          "parcoords": [
           {
            "line": {
             "colorbar": {
              "outlinewidth": 0,
              "ticks": ""
             }
            },
            "type": "parcoords"
           }
          ],
          "pie": [
           {
            "automargin": true,
            "type": "pie"
           }
          ],
          "scatter": [
           {
            "fillpattern": {
             "fillmode": "overlay",
             "size": 10,
             "solidity": 0.2
            },
            "type": "scatter"
           }
          ],
          "scatter3d": [
           {
            "line": {
             "colorbar": {
              "outlinewidth": 0,
              "ticks": ""
             }
            },
            "marker": {
             "colorbar": {
              "outlinewidth": 0,
              "ticks": ""
             }
            },
            "type": "scatter3d"
           }
          ],
          "scattercarpet": [
           {
            "marker": {
             "colorbar": {
              "outlinewidth": 0,
              "ticks": ""
             }
            },
            "type": "scattercarpet"
           }
          ],
          "scattergeo": [
           {
            "marker": {
             "colorbar": {
              "outlinewidth": 0,
              "ticks": ""
             }
            },
            "type": "scattergeo"
           }
          ],
          "scattergl": [
           {
            "marker": {
             "colorbar": {
              "outlinewidth": 0,
              "ticks": ""
             }
            },
            "type": "scattergl"
           }
          ],
          "scattermapbox": [
           {
            "marker": {
             "colorbar": {
              "outlinewidth": 0,
              "ticks": ""
             }
            },
            "type": "scattermapbox"
           }
          ],
          "scatterpolar": [
           {
            "marker": {
             "colorbar": {
              "outlinewidth": 0,
              "ticks": ""
             }
            },
            "type": "scatterpolar"
           }
          ],
          "scatterpolargl": [
           {
            "marker": {
             "colorbar": {
              "outlinewidth": 0,
              "ticks": ""
             }
            },
            "type": "scatterpolargl"
           }
          ],
          "scatterternary": [
           {
            "marker": {
             "colorbar": {
              "outlinewidth": 0,
              "ticks": ""
             }
            },
            "type": "scatterternary"
           }
          ],
          "surface": [
           {
            "colorbar": {
             "outlinewidth": 0,
             "ticks": ""
            },
            "colorscale": [
             [
              0,
              "#0d0887"
             ],
             [
              0.1111111111111111,
              "#46039f"
             ],
             [
              0.2222222222222222,
              "#7201a8"
             ],
             [
              0.3333333333333333,
              "#9c179e"
             ],
             [
              0.4444444444444444,
              "#bd3786"
             ],
             [
              0.5555555555555556,
              "#d8576b"
             ],
             [
              0.6666666666666666,
              "#ed7953"
             ],
             [
              0.7777777777777778,
              "#fb9f3a"
             ],
             [
              0.8888888888888888,
              "#fdca26"
             ],
             [
              1,
              "#f0f921"
             ]
            ],
            "type": "surface"
           }
          ],
          "table": [
           {
            "cells": {
             "fill": {
              "color": "#EBF0F8"
             },
             "line": {
              "color": "white"
             }
            },
            "header": {
             "fill": {
              "color": "#C8D4E3"
             },
             "line": {
              "color": "white"
             }
            },
            "type": "table"
           }
          ]
         },
         "layout": {
          "annotationdefaults": {
           "arrowcolor": "#2a3f5f",
           "arrowhead": 0,
           "arrowwidth": 1
          },
          "autotypenumbers": "strict",
          "coloraxis": {
           "colorbar": {
            "outlinewidth": 0,
            "ticks": ""
           }
          },
          "colorscale": {
           "diverging": [
            [
             0,
             "#8e0152"
            ],
            [
             0.1,
             "#c51b7d"
            ],
            [
             0.2,
             "#de77ae"
            ],
            [
             0.3,
             "#f1b6da"
            ],
            [
             0.4,
             "#fde0ef"
            ],
            [
             0.5,
             "#f7f7f7"
            ],
            [
             0.6,
             "#e6f5d0"
            ],
            [
             0.7,
             "#b8e186"
            ],
            [
             0.8,
             "#7fbc41"
            ],
            [
             0.9,
             "#4d9221"
            ],
            [
             1,
             "#276419"
            ]
           ],
           "sequential": [
            [
             0,
             "#0d0887"
            ],
            [
             0.1111111111111111,
             "#46039f"
            ],
            [
             0.2222222222222222,
             "#7201a8"
            ],
            [
             0.3333333333333333,
             "#9c179e"
            ],
            [
             0.4444444444444444,
             "#bd3786"
            ],
            [
             0.5555555555555556,
             "#d8576b"
            ],
            [
             0.6666666666666666,
             "#ed7953"
            ],
            [
             0.7777777777777778,
             "#fb9f3a"
            ],
            [
             0.8888888888888888,
             "#fdca26"
            ],
            [
             1,
             "#f0f921"
            ]
           ],
           "sequentialminus": [
            [
             0,
             "#0d0887"
            ],
            [
             0.1111111111111111,
             "#46039f"
            ],
            [
             0.2222222222222222,
             "#7201a8"
            ],
            [
             0.3333333333333333,
             "#9c179e"
            ],
            [
             0.4444444444444444,
             "#bd3786"
            ],
            [
             0.5555555555555556,
             "#d8576b"
            ],
            [
             0.6666666666666666,
             "#ed7953"
            ],
            [
             0.7777777777777778,
             "#fb9f3a"
            ],
            [
             0.8888888888888888,
             "#fdca26"
            ],
            [
             1,
             "#f0f921"
            ]
           ]
          },
          "colorway": [
           "#636efa",
           "#EF553B",
           "#00cc96",
           "#ab63fa",
           "#FFA15A",
           "#19d3f3",
           "#FF6692",
           "#B6E880",
           "#FF97FF",
           "#FECB52"
          ],
          "font": {
           "color": "#2a3f5f"
          },
          "geo": {
           "bgcolor": "white",
           "lakecolor": "white",
           "landcolor": "white",
           "showlakes": true,
           "showland": true,
           "subunitcolor": "#C8D4E3"
          },
          "hoverlabel": {
           "align": "left"
          },
          "hovermode": "closest",
          "mapbox": {
           "style": "light"
          },
          "paper_bgcolor": "white",
          "plot_bgcolor": "white",
          "polar": {
           "angularaxis": {
            "gridcolor": "#EBF0F8",
            "linecolor": "#EBF0F8",
            "ticks": ""
           },
           "bgcolor": "white",
           "radialaxis": {
            "gridcolor": "#EBF0F8",
            "linecolor": "#EBF0F8",
            "ticks": ""
           }
          },
          "scene": {
           "xaxis": {
            "backgroundcolor": "white",
            "gridcolor": "#DFE8F3",
            "gridwidth": 2,
            "linecolor": "#EBF0F8",
            "showbackground": true,
            "ticks": "",
            "zerolinecolor": "#EBF0F8"
           },
           "yaxis": {
            "backgroundcolor": "white",
            "gridcolor": "#DFE8F3",
            "gridwidth": 2,
            "linecolor": "#EBF0F8",
            "showbackground": true,
            "ticks": "",
            "zerolinecolor": "#EBF0F8"
           },
           "zaxis": {
            "backgroundcolor": "white",
            "gridcolor": "#DFE8F3",
            "gridwidth": 2,
            "linecolor": "#EBF0F8",
            "showbackground": true,
            "ticks": "",
            "zerolinecolor": "#EBF0F8"
           }
          },
          "shapedefaults": {
           "line": {
            "color": "#2a3f5f"
           }
          },
          "ternary": {
           "aaxis": {
            "gridcolor": "#DFE8F3",
            "linecolor": "#A2B1C6",
            "ticks": ""
           },
           "baxis": {
            "gridcolor": "#DFE8F3",
            "linecolor": "#A2B1C6",
            "ticks": ""
           },
           "bgcolor": "white",
           "caxis": {
            "gridcolor": "#DFE8F3",
            "linecolor": "#A2B1C6",
            "ticks": ""
           }
          },
          "title": {
           "x": 0.05
          },
          "xaxis": {
           "automargin": true,
           "gridcolor": "#EBF0F8",
           "linecolor": "#EBF0F8",
           "ticks": "",
           "title": {
            "standoff": 15
           },
           "zerolinecolor": "#EBF0F8",
           "zerolinewidth": 2
          },
          "yaxis": {
           "automargin": true,
           "gridcolor": "#EBF0F8",
           "linecolor": "#EBF0F8",
           "ticks": "",
           "title": {
            "standoff": 15
           },
           "zerolinecolor": "#EBF0F8",
           "zerolinewidth": 2
          }
         }
        },
        "title": {
         "text": "Grades by Course ID"
        },
        "width": 1650,
        "xaxis": {
         "anchor": "y",
         "domain": [
          0,
          1
         ],
         "title": {
          "text": "Course ID"
         }
        },
        "yaxis": {
         "anchor": "x",
         "domain": [
          0,
          1
         ],
         "range": [
          0,
          70
         ],
         "title": {
          "text": "# Students"
         }
        }
       }
      }
     },
     "metadata": {},
     "output_type": "display_data"
    }
   ],
   "source": [
    "fig = px.bar((data\n",
    "                .pivot_table(index='Grade', columns='Course ID', values='Student ID', fill_value=0, aggfunc='count')\n",
    "                .unstack()\n",
    "                .to_frame('Count')\n",
    "                .reset_index()), \n",
    "             x='Course ID', \n",
    "             y='Count',\n",
    "             color='Grade',\n",
    "             category_orders={'Grade': grades},\n",
    "             labels={'Count':'# Students'},\n",
    "             color_discrete_map=dict(zip(grades, np.flip(color)[0:len(grades)])),\n",
    "             )\n",
    "\n",
    "fig.update_layout(\n",
    "    showlegend=True, \n",
    "    height=500, \n",
    "    width=1650, \n",
    "    template='plotly_white',\n",
    "    title='Grades by Course ID',\n",
    "    yaxis_range = [0,70])\n",
    "\n",
    "fig.show()"
   ]
  },
  {
   "cell_type": "code",
   "execution_count": 70,
   "metadata": {},
   "outputs": [
    {
     "data": {
      "application/vnd.plotly.v1+json": {
       "config": {
        "plotlyServerURL": "https://plot.ly"
       },
       "data": [
        {
         "alignmentgroup": "True",
         "hovertemplate": "Age=18-21<br>Sex=male<br>Grade=%{x}<br>=%{y}<extra></extra>",
         "legendgroup": "18-21",
         "marker": {
          "color": "navy",
          "pattern": {
           "shape": ""
          }
         },
         "name": "18-21",
         "offsetgroup": "18-21",
         "orientation": "v",
         "showlegend": true,
         "textposition": "auto",
         "type": "bar",
         "x": [
          "AA",
          "BA",
          "BB",
          "CB",
          "CC",
          "DC",
          "DD"
         ],
         "xaxis": "x",
         "y": [
          13,
          4,
          3,
          3,
          2,
          4,
          7
         ],
         "yaxis": "y"
        },
        {
         "alignmentgroup": "True",
         "hovertemplate": "Age=18-21<br>Sex=female<br>Grade=%{x}<br>=%{y}<extra></extra>",
         "legendgroup": "18-21",
         "marker": {
          "color": "navy",
          "pattern": {
           "shape": ""
          }
         },
         "name": "18-21",
         "offsetgroup": "18-21",
         "orientation": "v",
         "showlegend": false,
         "textposition": "auto",
         "type": "bar",
         "x": [
          "BA",
          "BB",
          "CB",
          "CC",
          "DC",
          "DD",
          "Fail"
         ],
         "xaxis": "x2",
         "y": [
          2,
          1,
          1,
          7,
          6,
          6,
          6
         ],
         "yaxis": "y2"
        },
        {
         "alignmentgroup": "True",
         "hovertemplate": "Age=22-25<br>Sex=male<br>Grade=%{x}<br>=%{y}<extra></extra>",
         "legendgroup": "22-25",
         "marker": {
          "color": "dodgerblue",
          "pattern": {
           "shape": ""
          }
         },
         "name": "22-25",
         "offsetgroup": "22-25",
         "orientation": "v",
         "showlegend": true,
         "textposition": "auto",
         "type": "bar",
         "x": [
          "AA",
          "BA",
          "BB",
          "CB",
          "CC",
          "DC",
          "DD"
         ],
         "xaxis": "x",
         "y": [
          3,
          5,
          8,
          2,
          7,
          7,
          10
         ],
         "yaxis": "y"
        },
        {
         "alignmentgroup": "True",
         "hovertemplate": "Age=22-25<br>Sex=female<br>Grade=%{x}<br>=%{y}<extra></extra>",
         "legendgroup": "22-25",
         "marker": {
          "color": "dodgerblue",
          "pattern": {
           "shape": ""
          }
         },
         "name": "22-25",
         "offsetgroup": "22-25",
         "orientation": "v",
         "showlegend": false,
         "textposition": "auto",
         "type": "bar",
         "x": [
          "BA",
          "BB",
          "CB",
          "DC",
          "DD",
          "Fail"
         ],
         "xaxis": "x2",
         "y": [
          2,
          5,
          4,
          6,
          9,
          2
         ],
         "yaxis": "y2"
        },
        {
         "alignmentgroup": "True",
         "hovertemplate": "Age=above 26<br>Sex=male<br>Grade=%{x}<br>=%{y}<extra></extra>",
         "legendgroup": "above 26",
         "marker": {
          "color": "lightseagreen",
          "pattern": {
           "shape": ""
          }
         },
         "name": "above 26",
         "offsetgroup": "above 26",
         "orientation": "v",
         "showlegend": true,
         "textposition": "auto",
         "type": "bar",
         "x": [
          "AA",
          "CC",
          "DC",
          "DD"
         ],
         "xaxis": "x",
         "y": [
          1,
          5,
          1,
          2
         ],
         "yaxis": "y"
        },
        {
         "alignmentgroup": "True",
         "hovertemplate": "Age=above 26<br>Sex=female<br>Grade=%{x}<br>=%{y}<extra></extra>",
         "legendgroup": "above 26",
         "marker": {
          "color": "lightseagreen",
          "pattern": {
           "shape": ""
          }
         },
         "name": "above 26",
         "offsetgroup": "above 26",
         "orientation": "v",
         "showlegend": false,
         "textposition": "auto",
         "type": "bar",
         "x": [
          "DD"
         ],
         "xaxis": "x2",
         "y": [
          1
         ],
         "yaxis": "y2"
        }
       ],
       "layout": {
        "annotations": [
         {
          "font": {},
          "showarrow": false,
          "text": "Sex=male",
          "x": 0.245,
          "xanchor": "center",
          "xref": "paper",
          "y": 1,
          "yanchor": "bottom",
          "yref": "paper"
         },
         {
          "font": {},
          "showarrow": false,
          "text": "Sex=female",
          "x": 0.755,
          "xanchor": "center",
          "xref": "paper",
          "y": 1,
          "yanchor": "bottom",
          "yref": "paper"
         }
        ],
        "barmode": "relative",
        "height": 500,
        "legend": {
         "title": {
          "text": "Age"
         },
         "tracegroupgap": 0
        },
        "margin": {
         "t": 60
        },
        "showlegend": true,
        "template": {
         "data": {
          "bar": [
           {
            "error_x": {
             "color": "#2a3f5f"
            },
            "error_y": {
             "color": "#2a3f5f"
            },
            "marker": {
             "line": {
              "color": "white",
              "width": 0.5
             },
             "pattern": {
              "fillmode": "overlay",
              "size": 10,
              "solidity": 0.2
             }
            },
            "type": "bar"
           }
          ],
          "barpolar": [
           {
            "marker": {
             "line": {
              "color": "white",
              "width": 0.5
             },
             "pattern": {
              "fillmode": "overlay",
              "size": 10,
              "solidity": 0.2
             }
            },
            "type": "barpolar"
           }
          ],
          "carpet": [
           {
            "aaxis": {
             "endlinecolor": "#2a3f5f",
             "gridcolor": "#C8D4E3",
             "linecolor": "#C8D4E3",
             "minorgridcolor": "#C8D4E3",
             "startlinecolor": "#2a3f5f"
            },
            "baxis": {
             "endlinecolor": "#2a3f5f",
             "gridcolor": "#C8D4E3",
             "linecolor": "#C8D4E3",
             "minorgridcolor": "#C8D4E3",
             "startlinecolor": "#2a3f5f"
            },
            "type": "carpet"
           }
          ],
          "choropleth": [
           {
            "colorbar": {
             "outlinewidth": 0,
             "ticks": ""
            },
            "type": "choropleth"
           }
          ],
          "contour": [
           {
            "colorbar": {
             "outlinewidth": 0,
             "ticks": ""
            },
            "colorscale": [
             [
              0,
              "#0d0887"
             ],
             [
              0.1111111111111111,
              "#46039f"
             ],
             [
              0.2222222222222222,
              "#7201a8"
             ],
             [
              0.3333333333333333,
              "#9c179e"
             ],
             [
              0.4444444444444444,
              "#bd3786"
             ],
             [
              0.5555555555555556,
              "#d8576b"
             ],
             [
              0.6666666666666666,
              "#ed7953"
             ],
             [
              0.7777777777777778,
              "#fb9f3a"
             ],
             [
              0.8888888888888888,
              "#fdca26"
             ],
             [
              1,
              "#f0f921"
             ]
            ],
            "type": "contour"
           }
          ],
          "contourcarpet": [
           {
            "colorbar": {
             "outlinewidth": 0,
             "ticks": ""
            },
            "type": "contourcarpet"
           }
          ],
          "heatmap": [
           {
            "colorbar": {
             "outlinewidth": 0,
             "ticks": ""
            },
            "colorscale": [
             [
              0,
              "#0d0887"
             ],
             [
              0.1111111111111111,
              "#46039f"
             ],
             [
              0.2222222222222222,
              "#7201a8"
             ],
             [
              0.3333333333333333,
              "#9c179e"
             ],
             [
              0.4444444444444444,
              "#bd3786"
             ],
             [
              0.5555555555555556,
              "#d8576b"
             ],
             [
              0.6666666666666666,
              "#ed7953"
             ],
             [
              0.7777777777777778,
              "#fb9f3a"
             ],
             [
              0.8888888888888888,
              "#fdca26"
             ],
             [
              1,
              "#f0f921"
             ]
            ],
            "type": "heatmap"
           }
          ],
          "heatmapgl": [
           {
            "colorbar": {
             "outlinewidth": 0,
             "ticks": ""
            },
            "colorscale": [
             [
              0,
              "#0d0887"
             ],
             [
              0.1111111111111111,
              "#46039f"
             ],
             [
              0.2222222222222222,
              "#7201a8"
             ],
             [
              0.3333333333333333,
              "#9c179e"
             ],
             [
              0.4444444444444444,
              "#bd3786"
             ],
             [
              0.5555555555555556,
              "#d8576b"
             ],
             [
              0.6666666666666666,
              "#ed7953"
             ],
             [
              0.7777777777777778,
              "#fb9f3a"
             ],
             [
              0.8888888888888888,
              "#fdca26"
             ],
             [
              1,
              "#f0f921"
             ]
            ],
            "type": "heatmapgl"
           }
          ],
          "histogram": [
           {
            "marker": {
             "pattern": {
              "fillmode": "overlay",
              "size": 10,
              "solidity": 0.2
             }
            },
            "type": "histogram"
           }
          ],
          "histogram2d": [
           {
            "colorbar": {
             "outlinewidth": 0,
             "ticks": ""
            },
            "colorscale": [
             [
              0,
              "#0d0887"
             ],
             [
              0.1111111111111111,
              "#46039f"
             ],
             [
              0.2222222222222222,
              "#7201a8"
             ],
             [
              0.3333333333333333,
              "#9c179e"
             ],
             [
              0.4444444444444444,
              "#bd3786"
             ],
             [
              0.5555555555555556,
              "#d8576b"
             ],
             [
              0.6666666666666666,
              "#ed7953"
             ],
             [
              0.7777777777777778,
              "#fb9f3a"
             ],
             [
              0.8888888888888888,
              "#fdca26"
             ],
             [
              1,
              "#f0f921"
             ]
            ],
            "type": "histogram2d"
           }
          ],
          "histogram2dcontour": [
           {
            "colorbar": {
             "outlinewidth": 0,
             "ticks": ""
            },
            "colorscale": [
             [
              0,
              "#0d0887"
             ],
             [
              0.1111111111111111,
              "#46039f"
             ],
             [
              0.2222222222222222,
              "#7201a8"
             ],
             [
              0.3333333333333333,
              "#9c179e"
             ],
             [
              0.4444444444444444,
              "#bd3786"
             ],
             [
              0.5555555555555556,
              "#d8576b"
             ],
             [
              0.6666666666666666,
              "#ed7953"
             ],
             [
              0.7777777777777778,
              "#fb9f3a"
             ],
             [
              0.8888888888888888,
              "#fdca26"
             ],
             [
              1,
              "#f0f921"
             ]
            ],
            "type": "histogram2dcontour"
           }
          ],
          "mesh3d": [
           {
            "colorbar": {
             "outlinewidth": 0,
             "ticks": ""
            },
            "type": "mesh3d"
           }
          ],
          "parcoords": [
           {
            "line": {
             "colorbar": {
              "outlinewidth": 0,
              "ticks": ""
             }
            },
            "type": "parcoords"
           }
          ],
          "pie": [
           {
            "automargin": true,
            "type": "pie"
           }
          ],
          "scatter": [
           {
            "fillpattern": {
             "fillmode": "overlay",
             "size": 10,
             "solidity": 0.2
            },
            "type": "scatter"
           }
          ],
          "scatter3d": [
           {
            "line": {
             "colorbar": {
              "outlinewidth": 0,
              "ticks": ""
             }
            },
            "marker": {
             "colorbar": {
              "outlinewidth": 0,
              "ticks": ""
             }
            },
            "type": "scatter3d"
           }
          ],
          "scattercarpet": [
           {
            "marker": {
             "colorbar": {
              "outlinewidth": 0,
              "ticks": ""
             }
            },
            "type": "scattercarpet"
           }
          ],
          "scattergeo": [
           {
            "marker": {
             "colorbar": {
              "outlinewidth": 0,
              "ticks": ""
             }
            },
            "type": "scattergeo"
           }
          ],
          "scattergl": [
           {
            "marker": {
             "colorbar": {
              "outlinewidth": 0,
              "ticks": ""
             }
            },
            "type": "scattergl"
           }
          ],
          "scattermapbox": [
           {
            "marker": {
             "colorbar": {
              "outlinewidth": 0,
              "ticks": ""
             }
            },
            "type": "scattermapbox"
           }
          ],
          "scatterpolar": [
           {
            "marker": {
             "colorbar": {
              "outlinewidth": 0,
              "ticks": ""
             }
            },
            "type": "scatterpolar"
           }
          ],
          "scatterpolargl": [
           {
            "marker": {
             "colorbar": {
              "outlinewidth": 0,
              "ticks": ""
             }
            },
            "type": "scatterpolargl"
           }
          ],
          "scatterternary": [
           {
            "marker": {
             "colorbar": {
              "outlinewidth": 0,
              "ticks": ""
             }
            },
            "type": "scatterternary"
           }
          ],
          "surface": [
           {
            "colorbar": {
             "outlinewidth": 0,
             "ticks": ""
            },
            "colorscale": [
             [
              0,
              "#0d0887"
             ],
             [
              0.1111111111111111,
              "#46039f"
             ],
             [
              0.2222222222222222,
              "#7201a8"
             ],
             [
              0.3333333333333333,
              "#9c179e"
             ],
             [
              0.4444444444444444,
              "#bd3786"
             ],
             [
              0.5555555555555556,
              "#d8576b"
             ],
             [
              0.6666666666666666,
              "#ed7953"
             ],
             [
              0.7777777777777778,
              "#fb9f3a"
             ],
             [
              0.8888888888888888,
              "#fdca26"
             ],
             [
              1,
              "#f0f921"
             ]
            ],
            "type": "surface"
           }
          ],
          "table": [
           {
            "cells": {
             "fill": {
              "color": "#EBF0F8"
             },
             "line": {
              "color": "white"
             }
            },
            "header": {
             "fill": {
              "color": "#C8D4E3"
             },
             "line": {
              "color": "white"
             }
            },
            "type": "table"
           }
          ]
         },
         "layout": {
          "annotationdefaults": {
           "arrowcolor": "#2a3f5f",
           "arrowhead": 0,
           "arrowwidth": 1
          },
          "autotypenumbers": "strict",
          "coloraxis": {
           "colorbar": {
            "outlinewidth": 0,
            "ticks": ""
           }
          },
          "colorscale": {
           "diverging": [
            [
             0,
             "#8e0152"
            ],
            [
             0.1,
             "#c51b7d"
            ],
            [
             0.2,
             "#de77ae"
            ],
            [
             0.3,
             "#f1b6da"
            ],
            [
             0.4,
             "#fde0ef"
            ],
            [
             0.5,
             "#f7f7f7"
            ],
            [
             0.6,
             "#e6f5d0"
            ],
            [
             0.7,
             "#b8e186"
            ],
            [
             0.8,
             "#7fbc41"
            ],
            [
             0.9,
             "#4d9221"
            ],
            [
             1,
             "#276419"
            ]
           ],
           "sequential": [
            [
             0,
             "#0d0887"
            ],
            [
             0.1111111111111111,
             "#46039f"
            ],
            [
             0.2222222222222222,
             "#7201a8"
            ],
            [
             0.3333333333333333,
             "#9c179e"
            ],
            [
             0.4444444444444444,
             "#bd3786"
            ],
            [
             0.5555555555555556,
             "#d8576b"
            ],
            [
             0.6666666666666666,
             "#ed7953"
            ],
            [
             0.7777777777777778,
             "#fb9f3a"
            ],
            [
             0.8888888888888888,
             "#fdca26"
            ],
            [
             1,
             "#f0f921"
            ]
           ],
           "sequentialminus": [
            [
             0,
             "#0d0887"
            ],
            [
             0.1111111111111111,
             "#46039f"
            ],
            [
             0.2222222222222222,
             "#7201a8"
            ],
            [
             0.3333333333333333,
             "#9c179e"
            ],
            [
             0.4444444444444444,
             "#bd3786"
            ],
            [
             0.5555555555555556,
             "#d8576b"
            ],
            [
             0.6666666666666666,
             "#ed7953"
            ],
            [
             0.7777777777777778,
             "#fb9f3a"
            ],
            [
             0.8888888888888888,
             "#fdca26"
            ],
            [
             1,
             "#f0f921"
            ]
           ]
          },
          "colorway": [
           "#636efa",
           "#EF553B",
           "#00cc96",
           "#ab63fa",
           "#FFA15A",
           "#19d3f3",
           "#FF6692",
           "#B6E880",
           "#FF97FF",
           "#FECB52"
          ],
          "font": {
           "color": "#2a3f5f"
          },
          "geo": {
           "bgcolor": "white",
           "lakecolor": "white",
           "landcolor": "white",
           "showlakes": true,
           "showland": true,
           "subunitcolor": "#C8D4E3"
          },
          "hoverlabel": {
           "align": "left"
          },
          "hovermode": "closest",
          "mapbox": {
           "style": "light"
          },
          "paper_bgcolor": "white",
          "plot_bgcolor": "white",
          "polar": {
           "angularaxis": {
            "gridcolor": "#EBF0F8",
            "linecolor": "#EBF0F8",
            "ticks": ""
           },
           "bgcolor": "white",
           "radialaxis": {
            "gridcolor": "#EBF0F8",
            "linecolor": "#EBF0F8",
            "ticks": ""
           }
          },
          "scene": {
           "xaxis": {
            "backgroundcolor": "white",
            "gridcolor": "#DFE8F3",
            "gridwidth": 2,
            "linecolor": "#EBF0F8",
            "showbackground": true,
            "ticks": "",
            "zerolinecolor": "#EBF0F8"
           },
           "yaxis": {
            "backgroundcolor": "white",
            "gridcolor": "#DFE8F3",
            "gridwidth": 2,
            "linecolor": "#EBF0F8",
            "showbackground": true,
            "ticks": "",
            "zerolinecolor": "#EBF0F8"
           },
           "zaxis": {
            "backgroundcolor": "white",
            "gridcolor": "#DFE8F3",
            "gridwidth": 2,
            "linecolor": "#EBF0F8",
            "showbackground": true,
            "ticks": "",
            "zerolinecolor": "#EBF0F8"
           }
          },
          "shapedefaults": {
           "line": {
            "color": "#2a3f5f"
           }
          },
          "ternary": {
           "aaxis": {
            "gridcolor": "#DFE8F3",
            "linecolor": "#A2B1C6",
            "ticks": ""
           },
           "baxis": {
            "gridcolor": "#DFE8F3",
            "linecolor": "#A2B1C6",
            "ticks": ""
           },
           "bgcolor": "white",
           "caxis": {
            "gridcolor": "#DFE8F3",
            "linecolor": "#A2B1C6",
            "ticks": ""
           }
          },
          "title": {
           "x": 0.05
          },
          "xaxis": {
           "automargin": true,
           "gridcolor": "#EBF0F8",
           "linecolor": "#EBF0F8",
           "ticks": "",
           "title": {
            "standoff": 15
           },
           "zerolinecolor": "#EBF0F8",
           "zerolinewidth": 2
          },
          "yaxis": {
           "automargin": true,
           "gridcolor": "#EBF0F8",
           "linecolor": "#EBF0F8",
           "ticks": "",
           "title": {
            "standoff": 15
           },
           "zerolinecolor": "#EBF0F8",
           "zerolinewidth": 2
          }
         }
        },
        "title": {
         "text": "Grades by Age"
        },
        "width": 1650,
        "xaxis": {
         "anchor": "y",
         "categoryarray": [
          "AA",
          "BA",
          "BB",
          "CB",
          "CC",
          "DC",
          "DD",
          "Fail"
         ],
         "categoryorder": "array",
         "domain": [
          0,
          0.49
         ],
         "title": {
          "text": "Grade"
         }
        },
        "xaxis2": {
         "anchor": "y2",
         "categoryarray": [
          "AA",
          "BA",
          "BB",
          "CB",
          "CC",
          "DC",
          "DD",
          "Fail"
         ],
         "categoryorder": "array",
         "domain": [
          0.51,
          1
         ],
         "matches": "x",
         "title": {
          "text": "Grade"
         }
        },
        "yaxis": {
         "anchor": "x",
         "domain": [
          0,
          1
         ],
         "range": [
          0,
          28
         ],
         "title": {
          "text": "# Students"
         }
        },
        "yaxis2": {
         "anchor": "x2",
         "domain": [
          0,
          1
         ],
         "matches": "y",
         "showticklabels": false
        }
       }
      }
     },
     "metadata": {},
     "output_type": "display_data"
    }
   ],
   "source": [
    "funs.eda_plotter(data, 'Age', ages, facet_col='Sex')"
   ]
  },
  {
   "cell_type": "code",
   "execution_count": 71,
   "metadata": {},
   "outputs": [
    {
     "data": {
      "application/vnd.plotly.v1+json": {
       "config": {
        "plotlyServerURL": "https://plot.ly"
       },
       "data": [
        {
         "alignmentgroup": "True",
         "hovertemplate": "Weekly Study Hours=none<br>Grade=%{x}<br>=%{y}<extra></extra>",
         "legendgroup": "none",
         "marker": {
          "color": "navy",
          "pattern": {
           "shape": ""
          }
         },
         "name": "none",
         "offsetgroup": "none",
         "orientation": "v",
         "showlegend": true,
         "textposition": "auto",
         "type": "bar",
         "x": [
          "AA",
          "BB",
          "CB",
          "CC",
          "DC",
          "DD",
          "Fail"
         ],
         "xaxis": "x",
         "y": [
          2,
          5,
          3,
          3,
          9,
          6,
          1
         ],
         "yaxis": "y"
        },
        {
         "alignmentgroup": "True",
         "hovertemplate": "Weekly Study Hours=<5 hours<br>Grade=%{x}<br>=%{y}<extra></extra>",
         "legendgroup": "<5 hours",
         "marker": {
          "color": "dodgerblue",
          "pattern": {
           "shape": ""
          }
         },
         "name": "<5 hours",
         "offsetgroup": "<5 hours",
         "orientation": "v",
         "showlegend": true,
         "textposition": "auto",
         "type": "bar",
         "x": [
          "AA",
          "BA",
          "BB",
          "CB",
          "CC",
          "DC",
          "DD",
          "Fail"
         ],
         "xaxis": "x",
         "y": [
          10,
          11,
          7,
          5,
          8,
          11,
          18,
          4
         ],
         "yaxis": "y"
        },
        {
         "alignmentgroup": "True",
         "hovertemplate": "Weekly Study Hours=6-10 hours<br>Grade=%{x}<br>=%{y}<extra></extra>",
         "legendgroup": "6-10 hours",
         "marker": {
          "color": "lightseagreen",
          "pattern": {
           "shape": ""
          }
         },
         "name": "6-10 hours",
         "offsetgroup": "6-10 hours",
         "orientation": "v",
         "showlegend": true,
         "textposition": "auto",
         "type": "bar",
         "x": [
          "AA",
          "BA",
          "BB",
          "CC",
          "DC",
          "DD",
          "Fail"
         ],
         "xaxis": "x",
         "y": [
          5,
          2,
          4,
          6,
          2,
          9,
          2
         ],
         "yaxis": "y"
        },
        {
         "alignmentgroup": "True",
         "hovertemplate": "Weekly Study Hours=11-20 hours<br>Grade=%{x}<br>=%{y}<extra></extra>",
         "legendgroup": "11-20 hours",
         "marker": {
          "color": "darksalmon",
          "pattern": {
           "shape": ""
          }
         },
         "name": "11-20 hours",
         "offsetgroup": "11-20 hours",
         "orientation": "v",
         "showlegend": true,
         "textposition": "auto",
         "type": "bar",
         "x": [
          "BB",
          "CB",
          "CC",
          "DD"
         ],
         "xaxis": "x",
         "y": [
          1,
          1,
          4,
          2
         ],
         "yaxis": "y"
        },
        {
         "alignmentgroup": "True",
         "hovertemplate": "Weekly Study Hours=more than 20 hours<br>Grade=%{x}<br>=%{y}<extra></extra>",
         "legendgroup": "more than 20 hours",
         "marker": {
          "color": "red",
          "pattern": {
           "shape": ""
          }
         },
         "name": "more than 20 hours",
         "offsetgroup": "more than 20 hours",
         "orientation": "v",
         "showlegend": true,
         "textposition": "auto",
         "type": "bar",
         "x": [
          "CB",
          "DC",
          "Fail"
         ],
         "xaxis": "x",
         "y": [
          1,
          2,
          1
         ],
         "yaxis": "y"
        }
       ],
       "layout": {
        "barmode": "relative",
        "height": 500,
        "legend": {
         "title": {
          "text": "Weekly Study Hours"
         },
         "tracegroupgap": 0
        },
        "margin": {
         "t": 60
        },
        "showlegend": true,
        "template": {
         "data": {
          "bar": [
           {
            "error_x": {
             "color": "#2a3f5f"
            },
            "error_y": {
             "color": "#2a3f5f"
            },
            "marker": {
             "line": {
              "color": "white",
              "width": 0.5
             },
             "pattern": {
              "fillmode": "overlay",
              "size": 10,
              "solidity": 0.2
             }
            },
            "type": "bar"
           }
          ],
          "barpolar": [
           {
            "marker": {
             "line": {
              "color": "white",
              "width": 0.5
             },
             "pattern": {
              "fillmode": "overlay",
              "size": 10,
              "solidity": 0.2
             }
            },
            "type": "barpolar"
           }
          ],
          "carpet": [
           {
            "aaxis": {
             "endlinecolor": "#2a3f5f",
             "gridcolor": "#C8D4E3",
             "linecolor": "#C8D4E3",
             "minorgridcolor": "#C8D4E3",
             "startlinecolor": "#2a3f5f"
            },
            "baxis": {
             "endlinecolor": "#2a3f5f",
             "gridcolor": "#C8D4E3",
             "linecolor": "#C8D4E3",
             "minorgridcolor": "#C8D4E3",
             "startlinecolor": "#2a3f5f"
            },
            "type": "carpet"
           }
          ],
          "choropleth": [
           {
            "colorbar": {
             "outlinewidth": 0,
             "ticks": ""
            },
            "type": "choropleth"
           }
          ],
          "contour": [
           {
            "colorbar": {
             "outlinewidth": 0,
             "ticks": ""
            },
            "colorscale": [
             [
              0,
              "#0d0887"
             ],
             [
              0.1111111111111111,
              "#46039f"
             ],
             [
              0.2222222222222222,
              "#7201a8"
             ],
             [
              0.3333333333333333,
              "#9c179e"
             ],
             [
              0.4444444444444444,
              "#bd3786"
             ],
             [
              0.5555555555555556,
              "#d8576b"
             ],
             [
              0.6666666666666666,
              "#ed7953"
             ],
             [
              0.7777777777777778,
              "#fb9f3a"
             ],
             [
              0.8888888888888888,
              "#fdca26"
             ],
             [
              1,
              "#f0f921"
             ]
            ],
            "type": "contour"
           }
          ],
          "contourcarpet": [
           {
            "colorbar": {
             "outlinewidth": 0,
             "ticks": ""
            },
            "type": "contourcarpet"
           }
          ],
          "heatmap": [
           {
            "colorbar": {
             "outlinewidth": 0,
             "ticks": ""
            },
            "colorscale": [
             [
              0,
              "#0d0887"
             ],
             [
              0.1111111111111111,
              "#46039f"
             ],
             [
              0.2222222222222222,
              "#7201a8"
             ],
             [
              0.3333333333333333,
              "#9c179e"
             ],
             [
              0.4444444444444444,
              "#bd3786"
             ],
             [
              0.5555555555555556,
              "#d8576b"
             ],
             [
              0.6666666666666666,
              "#ed7953"
             ],
             [
              0.7777777777777778,
              "#fb9f3a"
             ],
             [
              0.8888888888888888,
              "#fdca26"
             ],
             [
              1,
              "#f0f921"
             ]
            ],
            "type": "heatmap"
           }
          ],
          "heatmapgl": [
           {
            "colorbar": {
             "outlinewidth": 0,
             "ticks": ""
            },
            "colorscale": [
             [
              0,
              "#0d0887"
             ],
             [
              0.1111111111111111,
              "#46039f"
             ],
             [
              0.2222222222222222,
              "#7201a8"
             ],
             [
              0.3333333333333333,
              "#9c179e"
             ],
             [
              0.4444444444444444,
              "#bd3786"
             ],
             [
              0.5555555555555556,
              "#d8576b"
             ],
             [
              0.6666666666666666,
              "#ed7953"
             ],
             [
              0.7777777777777778,
              "#fb9f3a"
             ],
             [
              0.8888888888888888,
              "#fdca26"
             ],
             [
              1,
              "#f0f921"
             ]
            ],
            "type": "heatmapgl"
           }
          ],
          "histogram": [
           {
            "marker": {
             "pattern": {
              "fillmode": "overlay",
              "size": 10,
              "solidity": 0.2
             }
            },
            "type": "histogram"
           }
          ],
          "histogram2d": [
           {
            "colorbar": {
             "outlinewidth": 0,
             "ticks": ""
            },
            "colorscale": [
             [
              0,
              "#0d0887"
             ],
             [
              0.1111111111111111,
              "#46039f"
             ],
             [
              0.2222222222222222,
              "#7201a8"
             ],
             [
              0.3333333333333333,
              "#9c179e"
             ],
             [
              0.4444444444444444,
              "#bd3786"
             ],
             [
              0.5555555555555556,
              "#d8576b"
             ],
             [
              0.6666666666666666,
              "#ed7953"
             ],
             [
              0.7777777777777778,
              "#fb9f3a"
             ],
             [
              0.8888888888888888,
              "#fdca26"
             ],
             [
              1,
              "#f0f921"
             ]
            ],
            "type": "histogram2d"
           }
          ],
          "histogram2dcontour": [
           {
            "colorbar": {
             "outlinewidth": 0,
             "ticks": ""
            },
            "colorscale": [
             [
              0,
              "#0d0887"
             ],
             [
              0.1111111111111111,
              "#46039f"
             ],
             [
              0.2222222222222222,
              "#7201a8"
             ],
             [
              0.3333333333333333,
              "#9c179e"
             ],
             [
              0.4444444444444444,
              "#bd3786"
             ],
             [
              0.5555555555555556,
              "#d8576b"
             ],
             [
              0.6666666666666666,
              "#ed7953"
             ],
             [
              0.7777777777777778,
              "#fb9f3a"
             ],
             [
              0.8888888888888888,
              "#fdca26"
             ],
             [
              1,
              "#f0f921"
             ]
            ],
            "type": "histogram2dcontour"
           }
          ],
          "mesh3d": [
           {
            "colorbar": {
             "outlinewidth": 0,
             "ticks": ""
            },
            "type": "mesh3d"
           }
          ],
          "parcoords": [
           {
            "line": {
             "colorbar": {
              "outlinewidth": 0,
              "ticks": ""
             }
            },
            "type": "parcoords"
           }
          ],
          "pie": [
           {
            "automargin": true,
            "type": "pie"
           }
          ],
          "scatter": [
           {
            "fillpattern": {
             "fillmode": "overlay",
             "size": 10,
             "solidity": 0.2
            },
            "type": "scatter"
           }
          ],
          "scatter3d": [
           {
            "line": {
             "colorbar": {
              "outlinewidth": 0,
              "ticks": ""
             }
            },
            "marker": {
             "colorbar": {
              "outlinewidth": 0,
              "ticks": ""
             }
            },
            "type": "scatter3d"
           }
          ],
          "scattercarpet": [
           {
            "marker": {
             "colorbar": {
              "outlinewidth": 0,
              "ticks": ""
             }
            },
            "type": "scattercarpet"
           }
          ],
          "scattergeo": [
           {
            "marker": {
             "colorbar": {
              "outlinewidth": 0,
              "ticks": ""
             }
            },
            "type": "scattergeo"
           }
          ],
          "scattergl": [
           {
            "marker": {
             "colorbar": {
              "outlinewidth": 0,
              "ticks": ""
             }
            },
            "type": "scattergl"
           }
          ],
          "scattermapbox": [
           {
            "marker": {
             "colorbar": {
              "outlinewidth": 0,
              "ticks": ""
             }
            },
            "type": "scattermapbox"
           }
          ],
          "scatterpolar": [
           {
            "marker": {
             "colorbar": {
              "outlinewidth": 0,
              "ticks": ""
             }
            },
            "type": "scatterpolar"
           }
          ],
          "scatterpolargl": [
           {
            "marker": {
             "colorbar": {
              "outlinewidth": 0,
              "ticks": ""
             }
            },
            "type": "scatterpolargl"
           }
          ],
          "scatterternary": [
           {
            "marker": {
             "colorbar": {
              "outlinewidth": 0,
              "ticks": ""
             }
            },
            "type": "scatterternary"
           }
          ],
          "surface": [
           {
            "colorbar": {
             "outlinewidth": 0,
             "ticks": ""
            },
            "colorscale": [
             [
              0,
              "#0d0887"
             ],
             [
              0.1111111111111111,
              "#46039f"
             ],
             [
              0.2222222222222222,
              "#7201a8"
             ],
             [
              0.3333333333333333,
              "#9c179e"
             ],
             [
              0.4444444444444444,
              "#bd3786"
             ],
             [
              0.5555555555555556,
              "#d8576b"
             ],
             [
              0.6666666666666666,
              "#ed7953"
             ],
             [
              0.7777777777777778,
              "#fb9f3a"
             ],
             [
              0.8888888888888888,
              "#fdca26"
             ],
             [
              1,
              "#f0f921"
             ]
            ],
            "type": "surface"
           }
          ],
          "table": [
           {
            "cells": {
             "fill": {
              "color": "#EBF0F8"
             },
             "line": {
              "color": "white"
             }
            },
            "header": {
             "fill": {
              "color": "#C8D4E3"
             },
             "line": {
              "color": "white"
             }
            },
            "type": "table"
           }
          ]
         },
         "layout": {
          "annotationdefaults": {
           "arrowcolor": "#2a3f5f",
           "arrowhead": 0,
           "arrowwidth": 1
          },
          "autotypenumbers": "strict",
          "coloraxis": {
           "colorbar": {
            "outlinewidth": 0,
            "ticks": ""
           }
          },
          "colorscale": {
           "diverging": [
            [
             0,
             "#8e0152"
            ],
            [
             0.1,
             "#c51b7d"
            ],
            [
             0.2,
             "#de77ae"
            ],
            [
             0.3,
             "#f1b6da"
            ],
            [
             0.4,
             "#fde0ef"
            ],
            [
             0.5,
             "#f7f7f7"
            ],
            [
             0.6,
             "#e6f5d0"
            ],
            [
             0.7,
             "#b8e186"
            ],
            [
             0.8,
             "#7fbc41"
            ],
            [
             0.9,
             "#4d9221"
            ],
            [
             1,
             "#276419"
            ]
           ],
           "sequential": [
            [
             0,
             "#0d0887"
            ],
            [
             0.1111111111111111,
             "#46039f"
            ],
            [
             0.2222222222222222,
             "#7201a8"
            ],
            [
             0.3333333333333333,
             "#9c179e"
            ],
            [
             0.4444444444444444,
             "#bd3786"
            ],
            [
             0.5555555555555556,
             "#d8576b"
            ],
            [
             0.6666666666666666,
             "#ed7953"
            ],
            [
             0.7777777777777778,
             "#fb9f3a"
            ],
            [
             0.8888888888888888,
             "#fdca26"
            ],
            [
             1,
             "#f0f921"
            ]
           ],
           "sequentialminus": [
            [
             0,
             "#0d0887"
            ],
            [
             0.1111111111111111,
             "#46039f"
            ],
            [
             0.2222222222222222,
             "#7201a8"
            ],
            [
             0.3333333333333333,
             "#9c179e"
            ],
            [
             0.4444444444444444,
             "#bd3786"
            ],
            [
             0.5555555555555556,
             "#d8576b"
            ],
            [
             0.6666666666666666,
             "#ed7953"
            ],
            [
             0.7777777777777778,
             "#fb9f3a"
            ],
            [
             0.8888888888888888,
             "#fdca26"
            ],
            [
             1,
             "#f0f921"
            ]
           ]
          },
          "colorway": [
           "#636efa",
           "#EF553B",
           "#00cc96",
           "#ab63fa",
           "#FFA15A",
           "#19d3f3",
           "#FF6692",
           "#B6E880",
           "#FF97FF",
           "#FECB52"
          ],
          "font": {
           "color": "#2a3f5f"
          },
          "geo": {
           "bgcolor": "white",
           "lakecolor": "white",
           "landcolor": "white",
           "showlakes": true,
           "showland": true,
           "subunitcolor": "#C8D4E3"
          },
          "hoverlabel": {
           "align": "left"
          },
          "hovermode": "closest",
          "mapbox": {
           "style": "light"
          },
          "paper_bgcolor": "white",
          "plot_bgcolor": "white",
          "polar": {
           "angularaxis": {
            "gridcolor": "#EBF0F8",
            "linecolor": "#EBF0F8",
            "ticks": ""
           },
           "bgcolor": "white",
           "radialaxis": {
            "gridcolor": "#EBF0F8",
            "linecolor": "#EBF0F8",
            "ticks": ""
           }
          },
          "scene": {
           "xaxis": {
            "backgroundcolor": "white",
            "gridcolor": "#DFE8F3",
            "gridwidth": 2,
            "linecolor": "#EBF0F8",
            "showbackground": true,
            "ticks": "",
            "zerolinecolor": "#EBF0F8"
           },
           "yaxis": {
            "backgroundcolor": "white",
            "gridcolor": "#DFE8F3",
            "gridwidth": 2,
            "linecolor": "#EBF0F8",
            "showbackground": true,
            "ticks": "",
            "zerolinecolor": "#EBF0F8"
           },
           "zaxis": {
            "backgroundcolor": "white",
            "gridcolor": "#DFE8F3",
            "gridwidth": 2,
            "linecolor": "#EBF0F8",
            "showbackground": true,
            "ticks": "",
            "zerolinecolor": "#EBF0F8"
           }
          },
          "shapedefaults": {
           "line": {
            "color": "#2a3f5f"
           }
          },
          "ternary": {
           "aaxis": {
            "gridcolor": "#DFE8F3",
            "linecolor": "#A2B1C6",
            "ticks": ""
           },
           "baxis": {
            "gridcolor": "#DFE8F3",
            "linecolor": "#A2B1C6",
            "ticks": ""
           },
           "bgcolor": "white",
           "caxis": {
            "gridcolor": "#DFE8F3",
            "linecolor": "#A2B1C6",
            "ticks": ""
           }
          },
          "title": {
           "x": 0.05
          },
          "xaxis": {
           "automargin": true,
           "gridcolor": "#EBF0F8",
           "linecolor": "#EBF0F8",
           "ticks": "",
           "title": {
            "standoff": 15
           },
           "zerolinecolor": "#EBF0F8",
           "zerolinewidth": 2
          },
          "yaxis": {
           "automargin": true,
           "gridcolor": "#EBF0F8",
           "linecolor": "#EBF0F8",
           "ticks": "",
           "title": {
            "standoff": 15
           },
           "zerolinecolor": "#EBF0F8",
           "zerolinewidth": 2
          }
         }
        },
        "title": {
         "text": "Grades by Weekly Study Hours"
        },
        "width": 1650,
        "xaxis": {
         "anchor": "y",
         "categoryarray": [
          "AA",
          "BA",
          "BB",
          "CB",
          "CC",
          "DC",
          "DD",
          "Fail"
         ],
         "categoryorder": "array",
         "domain": [
          0,
          1
         ],
         "title": {
          "text": "Grade"
         }
        },
        "yaxis": {
         "anchor": "x",
         "domain": [
          0,
          1
         ],
         "range": [
          0,
          28
         ],
         "title": {
          "text": "# Students"
         }
        }
       }
      }
     },
     "metadata": {},
     "output_type": "display_data"
    }
   ],
   "source": [
    "funs.eda_plotter(data, 'Weekly Study Hours', hours)"
   ]
  },
  {
   "cell_type": "code",
   "execution_count": 72,
   "metadata": {},
   "outputs": [
    {
     "data": {
      "application/vnd.plotly.v1+json": {
       "config": {
        "plotlyServerURL": "https://plot.ly"
       },
       "data": [
        {
         "alignmentgroup": "True",
         "hovertemplate": "Scholarship=25%<br>Grade=%{x}<br>=%{y}<extra></extra>",
         "legendgroup": "25%",
         "marker": {
          "color": "navy",
          "pattern": {
           "shape": ""
          }
         },
         "name": "25%",
         "offsetgroup": "25%",
         "orientation": "v",
         "showlegend": true,
         "textposition": "auto",
         "type": "bar",
         "x": [
          "AA",
          "CB",
          "DD"
         ],
         "xaxis": "x",
         "y": [
          1,
          1,
          1
         ],
         "yaxis": "y"
        },
        {
         "alignmentgroup": "True",
         "hovertemplate": "Scholarship=50%<br>Grade=%{x}<br>=%{y}<extra></extra>",
         "legendgroup": "50%",
         "marker": {
          "color": "dodgerblue",
          "pattern": {
           "shape": ""
          }
         },
         "name": "50%",
         "offsetgroup": "50%",
         "orientation": "v",
         "showlegend": true,
         "textposition": "auto",
         "type": "bar",
         "x": [
          "AA",
          "BA",
          "BB",
          "CB",
          "CC",
          "DC",
          "DD",
          "Fail"
         ],
         "xaxis": "x",
         "y": [
          6,
          5,
          8,
          4,
          14,
          13,
          23,
          3
         ],
         "yaxis": "y"
        },
        {
         "alignmentgroup": "True",
         "hovertemplate": "Scholarship=75%<br>Grade=%{x}<br>=%{y}<extra></extra>",
         "legendgroup": "75%",
         "marker": {
          "color": "lightseagreen",
          "pattern": {
           "shape": ""
          }
         },
         "name": "75%",
         "offsetgroup": "75%",
         "orientation": "v",
         "showlegend": true,
         "textposition": "auto",
         "type": "bar",
         "x": [
          "AA",
          "BA",
          "BB",
          "CB",
          "CC",
          "DC",
          "DD",
          "Fail"
         ],
         "xaxis": "x",
         "y": [
          10,
          6,
          7,
          2,
          3,
          5,
          4,
          5
         ],
         "yaxis": "y"
        },
        {
         "alignmentgroup": "True",
         "hovertemplate": "Scholarship=Full<br>Grade=%{x}<br>=%{y}<extra></extra>",
         "legendgroup": "Full",
         "marker": {
          "color": "darksalmon",
          "pattern": {
           "shape": ""
          }
         },
         "name": "Full",
         "offsetgroup": "Full",
         "orientation": "v",
         "showlegend": true,
         "textposition": "auto",
         "type": "bar",
         "x": [
          "BA",
          "BB",
          "CB",
          "CC",
          "DC",
          "DD"
         ],
         "xaxis": "x",
         "y": [
          2,
          2,
          2,
          4,
          6,
          7
         ],
         "yaxis": "y"
        },
        {
         "alignmentgroup": "True",
         "hovertemplate": "Scholarship=None<br>Grade=%{x}<br>=%{y}<extra></extra>",
         "legendgroup": "None",
         "marker": {
          "color": "red",
          "pattern": {
           "shape": ""
          }
         },
         "name": "None",
         "offsetgroup": "None",
         "orientation": "v",
         "showlegend": true,
         "textposition": "auto",
         "type": "bar",
         "x": [
          "CB"
         ],
         "xaxis": "x",
         "y": [
          1
         ],
         "yaxis": "y"
        }
       ],
       "layout": {
        "barmode": "relative",
        "height": 500,
        "legend": {
         "title": {
          "text": "Scholarship"
         },
         "tracegroupgap": 0
        },
        "margin": {
         "t": 60
        },
        "showlegend": true,
        "template": {
         "data": {
          "bar": [
           {
            "error_x": {
             "color": "#2a3f5f"
            },
            "error_y": {
             "color": "#2a3f5f"
            },
            "marker": {
             "line": {
              "color": "white",
              "width": 0.5
             },
             "pattern": {
              "fillmode": "overlay",
              "size": 10,
              "solidity": 0.2
             }
            },
            "type": "bar"
           }
          ],
          "barpolar": [
           {
            "marker": {
             "line": {
              "color": "white",
              "width": 0.5
             },
             "pattern": {
              "fillmode": "overlay",
              "size": 10,
              "solidity": 0.2
             }
            },
            "type": "barpolar"
           }
          ],
          "carpet": [
           {
            "aaxis": {
             "endlinecolor": "#2a3f5f",
             "gridcolor": "#C8D4E3",
             "linecolor": "#C8D4E3",
             "minorgridcolor": "#C8D4E3",
             "startlinecolor": "#2a3f5f"
            },
            "baxis": {
             "endlinecolor": "#2a3f5f",
             "gridcolor": "#C8D4E3",
             "linecolor": "#C8D4E3",
             "minorgridcolor": "#C8D4E3",
             "startlinecolor": "#2a3f5f"
            },
            "type": "carpet"
           }
          ],
          "choropleth": [
           {
            "colorbar": {
             "outlinewidth": 0,
             "ticks": ""
            },
            "type": "choropleth"
           }
          ],
          "contour": [
           {
            "colorbar": {
             "outlinewidth": 0,
             "ticks": ""
            },
            "colorscale": [
             [
              0,
              "#0d0887"
             ],
             [
              0.1111111111111111,
              "#46039f"
             ],
             [
              0.2222222222222222,
              "#7201a8"
             ],
             [
              0.3333333333333333,
              "#9c179e"
             ],
             [
              0.4444444444444444,
              "#bd3786"
             ],
             [
              0.5555555555555556,
              "#d8576b"
             ],
             [
              0.6666666666666666,
              "#ed7953"
             ],
             [
              0.7777777777777778,
              "#fb9f3a"
             ],
             [
              0.8888888888888888,
              "#fdca26"
             ],
             [
              1,
              "#f0f921"
             ]
            ],
            "type": "contour"
           }
          ],
          "contourcarpet": [
           {
            "colorbar": {
             "outlinewidth": 0,
             "ticks": ""
            },
            "type": "contourcarpet"
           }
          ],
          "heatmap": [
           {
            "colorbar": {
             "outlinewidth": 0,
             "ticks": ""
            },
            "colorscale": [
             [
              0,
              "#0d0887"
             ],
             [
              0.1111111111111111,
              "#46039f"
             ],
             [
              0.2222222222222222,
              "#7201a8"
             ],
             [
              0.3333333333333333,
              "#9c179e"
             ],
             [
              0.4444444444444444,
              "#bd3786"
             ],
             [
              0.5555555555555556,
              "#d8576b"
             ],
             [
              0.6666666666666666,
              "#ed7953"
             ],
             [
              0.7777777777777778,
              "#fb9f3a"
             ],
             [
              0.8888888888888888,
              "#fdca26"
             ],
             [
              1,
              "#f0f921"
             ]
            ],
            "type": "heatmap"
           }
          ],
          "heatmapgl": [
           {
            "colorbar": {
             "outlinewidth": 0,
             "ticks": ""
            },
            "colorscale": [
             [
              0,
              "#0d0887"
             ],
             [
              0.1111111111111111,
              "#46039f"
             ],
             [
              0.2222222222222222,
              "#7201a8"
             ],
             [
              0.3333333333333333,
              "#9c179e"
             ],
             [
              0.4444444444444444,
              "#bd3786"
             ],
             [
              0.5555555555555556,
              "#d8576b"
             ],
             [
              0.6666666666666666,
              "#ed7953"
             ],
             [
              0.7777777777777778,
              "#fb9f3a"
             ],
             [
              0.8888888888888888,
              "#fdca26"
             ],
             [
              1,
              "#f0f921"
             ]
            ],
            "type": "heatmapgl"
           }
          ],
          "histogram": [
           {
            "marker": {
             "pattern": {
              "fillmode": "overlay",
              "size": 10,
              "solidity": 0.2
             }
            },
            "type": "histogram"
           }
          ],
          "histogram2d": [
           {
            "colorbar": {
             "outlinewidth": 0,
             "ticks": ""
            },
            "colorscale": [
             [
              0,
              "#0d0887"
             ],
             [
              0.1111111111111111,
              "#46039f"
             ],
             [
              0.2222222222222222,
              "#7201a8"
             ],
             [
              0.3333333333333333,
              "#9c179e"
             ],
             [
              0.4444444444444444,
              "#bd3786"
             ],
             [
              0.5555555555555556,
              "#d8576b"
             ],
             [
              0.6666666666666666,
              "#ed7953"
             ],
             [
              0.7777777777777778,
              "#fb9f3a"
             ],
             [
              0.8888888888888888,
              "#fdca26"
             ],
             [
              1,
              "#f0f921"
             ]
            ],
            "type": "histogram2d"
           }
          ],
          "histogram2dcontour": [
           {
            "colorbar": {
             "outlinewidth": 0,
             "ticks": ""
            },
            "colorscale": [
             [
              0,
              "#0d0887"
             ],
             [
              0.1111111111111111,
              "#46039f"
             ],
             [
              0.2222222222222222,
              "#7201a8"
             ],
             [
              0.3333333333333333,
              "#9c179e"
             ],
             [
              0.4444444444444444,
              "#bd3786"
             ],
             [
              0.5555555555555556,
              "#d8576b"
             ],
             [
              0.6666666666666666,
              "#ed7953"
             ],
             [
              0.7777777777777778,
              "#fb9f3a"
             ],
             [
              0.8888888888888888,
              "#fdca26"
             ],
             [
              1,
              "#f0f921"
             ]
            ],
            "type": "histogram2dcontour"
           }
          ],
          "mesh3d": [
           {
            "colorbar": {
             "outlinewidth": 0,
             "ticks": ""
            },
            "type": "mesh3d"
           }
          ],
          "parcoords": [
           {
            "line": {
             "colorbar": {
              "outlinewidth": 0,
              "ticks": ""
             }
            },
            "type": "parcoords"
           }
          ],
          "pie": [
           {
            "automargin": true,
            "type": "pie"
           }
          ],
          "scatter": [
           {
            "fillpattern": {
             "fillmode": "overlay",
             "size": 10,
             "solidity": 0.2
            },
            "type": "scatter"
           }
          ],
          "scatter3d": [
           {
            "line": {
             "colorbar": {
              "outlinewidth": 0,
              "ticks": ""
             }
            },
            "marker": {
             "colorbar": {
              "outlinewidth": 0,
              "ticks": ""
             }
            },
            "type": "scatter3d"
           }
          ],
          "scattercarpet": [
           {
            "marker": {
             "colorbar": {
              "outlinewidth": 0,
              "ticks": ""
             }
            },
            "type": "scattercarpet"
           }
          ],
          "scattergeo": [
           {
            "marker": {
             "colorbar": {
              "outlinewidth": 0,
              "ticks": ""
             }
            },
            "type": "scattergeo"
           }
          ],
          "scattergl": [
           {
            "marker": {
             "colorbar": {
              "outlinewidth": 0,
              "ticks": ""
             }
            },
            "type": "scattergl"
           }
          ],
          "scattermapbox": [
           {
            "marker": {
             "colorbar": {
              "outlinewidth": 0,
              "ticks": ""
             }
            },
            "type": "scattermapbox"
           }
          ],
          "scatterpolar": [
           {
            "marker": {
             "colorbar": {
              "outlinewidth": 0,
              "ticks": ""
             }
            },
            "type": "scatterpolar"
           }
          ],
          "scatterpolargl": [
           {
            "marker": {
             "colorbar": {
              "outlinewidth": 0,
              "ticks": ""
             }
            },
            "type": "scatterpolargl"
           }
          ],
          "scatterternary": [
           {
            "marker": {
             "colorbar": {
              "outlinewidth": 0,
              "ticks": ""
             }
            },
            "type": "scatterternary"
           }
          ],
          "surface": [
           {
            "colorbar": {
             "outlinewidth": 0,
             "ticks": ""
            },
            "colorscale": [
             [
              0,
              "#0d0887"
             ],
             [
              0.1111111111111111,
              "#46039f"
             ],
             [
              0.2222222222222222,
              "#7201a8"
             ],
             [
              0.3333333333333333,
              "#9c179e"
             ],
             [
              0.4444444444444444,
              "#bd3786"
             ],
             [
              0.5555555555555556,
              "#d8576b"
             ],
             [
              0.6666666666666666,
              "#ed7953"
             ],
             [
              0.7777777777777778,
              "#fb9f3a"
             ],
             [
              0.8888888888888888,
              "#fdca26"
             ],
             [
              1,
              "#f0f921"
             ]
            ],
            "type": "surface"
           }
          ],
          "table": [
           {
            "cells": {
             "fill": {
              "color": "#EBF0F8"
             },
             "line": {
              "color": "white"
             }
            },
            "header": {
             "fill": {
              "color": "#C8D4E3"
             },
             "line": {
              "color": "white"
             }
            },
            "type": "table"
           }
          ]
         },
         "layout": {
          "annotationdefaults": {
           "arrowcolor": "#2a3f5f",
           "arrowhead": 0,
           "arrowwidth": 1
          },
          "autotypenumbers": "strict",
          "coloraxis": {
           "colorbar": {
            "outlinewidth": 0,
            "ticks": ""
           }
          },
          "colorscale": {
           "diverging": [
            [
             0,
             "#8e0152"
            ],
            [
             0.1,
             "#c51b7d"
            ],
            [
             0.2,
             "#de77ae"
            ],
            [
             0.3,
             "#f1b6da"
            ],
            [
             0.4,
             "#fde0ef"
            ],
            [
             0.5,
             "#f7f7f7"
            ],
            [
             0.6,
             "#e6f5d0"
            ],
            [
             0.7,
             "#b8e186"
            ],
            [
             0.8,
             "#7fbc41"
            ],
            [
             0.9,
             "#4d9221"
            ],
            [
             1,
             "#276419"
            ]
           ],
           "sequential": [
            [
             0,
             "#0d0887"
            ],
            [
             0.1111111111111111,
             "#46039f"
            ],
            [
             0.2222222222222222,
             "#7201a8"
            ],
            [
             0.3333333333333333,
             "#9c179e"
            ],
            [
             0.4444444444444444,
             "#bd3786"
            ],
            [
             0.5555555555555556,
             "#d8576b"
            ],
            [
             0.6666666666666666,
             "#ed7953"
            ],
            [
             0.7777777777777778,
             "#fb9f3a"
            ],
            [
             0.8888888888888888,
             "#fdca26"
            ],
            [
             1,
             "#f0f921"
            ]
           ],
           "sequentialminus": [
            [
             0,
             "#0d0887"
            ],
            [
             0.1111111111111111,
             "#46039f"
            ],
            [
             0.2222222222222222,
             "#7201a8"
            ],
            [
             0.3333333333333333,
             "#9c179e"
            ],
            [
             0.4444444444444444,
             "#bd3786"
            ],
            [
             0.5555555555555556,
             "#d8576b"
            ],
            [
             0.6666666666666666,
             "#ed7953"
            ],
            [
             0.7777777777777778,
             "#fb9f3a"
            ],
            [
             0.8888888888888888,
             "#fdca26"
            ],
            [
             1,
             "#f0f921"
            ]
           ]
          },
          "colorway": [
           "#636efa",
           "#EF553B",
           "#00cc96",
           "#ab63fa",
           "#FFA15A",
           "#19d3f3",
           "#FF6692",
           "#B6E880",
           "#FF97FF",
           "#FECB52"
          ],
          "font": {
           "color": "#2a3f5f"
          },
          "geo": {
           "bgcolor": "white",
           "lakecolor": "white",
           "landcolor": "white",
           "showlakes": true,
           "showland": true,
           "subunitcolor": "#C8D4E3"
          },
          "hoverlabel": {
           "align": "left"
          },
          "hovermode": "closest",
          "mapbox": {
           "style": "light"
          },
          "paper_bgcolor": "white",
          "plot_bgcolor": "white",
          "polar": {
           "angularaxis": {
            "gridcolor": "#EBF0F8",
            "linecolor": "#EBF0F8",
            "ticks": ""
           },
           "bgcolor": "white",
           "radialaxis": {
            "gridcolor": "#EBF0F8",
            "linecolor": "#EBF0F8",
            "ticks": ""
           }
          },
          "scene": {
           "xaxis": {
            "backgroundcolor": "white",
            "gridcolor": "#DFE8F3",
            "gridwidth": 2,
            "linecolor": "#EBF0F8",
            "showbackground": true,
            "ticks": "",
            "zerolinecolor": "#EBF0F8"
           },
           "yaxis": {
            "backgroundcolor": "white",
            "gridcolor": "#DFE8F3",
            "gridwidth": 2,
            "linecolor": "#EBF0F8",
            "showbackground": true,
            "ticks": "",
            "zerolinecolor": "#EBF0F8"
           },
           "zaxis": {
            "backgroundcolor": "white",
            "gridcolor": "#DFE8F3",
            "gridwidth": 2,
            "linecolor": "#EBF0F8",
            "showbackground": true,
            "ticks": "",
            "zerolinecolor": "#EBF0F8"
           }
          },
          "shapedefaults": {
           "line": {
            "color": "#2a3f5f"
           }
          },
          "ternary": {
           "aaxis": {
            "gridcolor": "#DFE8F3",
            "linecolor": "#A2B1C6",
            "ticks": ""
           },
           "baxis": {
            "gridcolor": "#DFE8F3",
            "linecolor": "#A2B1C6",
            "ticks": ""
           },
           "bgcolor": "white",
           "caxis": {
            "gridcolor": "#DFE8F3",
            "linecolor": "#A2B1C6",
            "ticks": ""
           }
          },
          "title": {
           "x": 0.05
          },
          "xaxis": {
           "automargin": true,
           "gridcolor": "#EBF0F8",
           "linecolor": "#EBF0F8",
           "ticks": "",
           "title": {
            "standoff": 15
           },
           "zerolinecolor": "#EBF0F8",
           "zerolinewidth": 2
          },
          "yaxis": {
           "automargin": true,
           "gridcolor": "#EBF0F8",
           "linecolor": "#EBF0F8",
           "ticks": "",
           "title": {
            "standoff": 15
           },
           "zerolinecolor": "#EBF0F8",
           "zerolinewidth": 2
          }
         }
        },
        "title": {
         "text": "Grades by Scholarship"
        },
        "width": 1650,
        "xaxis": {
         "anchor": "y",
         "categoryarray": [
          "AA",
          "BA",
          "BB",
          "CB",
          "CC",
          "DC",
          "DD",
          "Fail"
         ],
         "categoryorder": "array",
         "domain": [
          0,
          1
         ],
         "title": {
          "text": "Grade"
         }
        },
        "yaxis": {
         "anchor": "x",
         "domain": [
          0,
          1
         ],
         "range": [
          0,
          28
         ],
         "title": {
          "text": "# Students"
         }
        }
       }
      }
     },
     "metadata": {},
     "output_type": "display_data"
    }
   ],
   "source": [
    "funs.eda_plotter(data, 'Scholarship', scholarship)"
   ]
  },
  {
   "cell_type": "code",
   "execution_count": 73,
   "metadata": {},
   "outputs": [
    {
     "data": {
      "application/vnd.plotly.v1+json": {
       "config": {
        "plotlyServerURL": "https://plot.ly"
       },
       "data": [
        {
         "marker": {
          "color": "navy"
         },
         "name": "always",
         "offsetgroup": "0",
         "showlegend": false,
         "type": "bar",
         "x": [
          "AA",
          "BA",
          "BB",
          "CB",
          "CC",
          "DC",
          "DD",
          "Fail"
         ],
         "xaxis": "x",
         "y": [
          15,
          11,
          12,
          7,
          20,
          16,
          23,
          6
         ],
         "yaxis": "y"
        },
        {
         "marker": {
          "color": "dodgerblue"
         },
         "name": "sometimes",
         "offsetgroup": "0",
         "showlegend": false,
         "type": "bar",
         "x": [
          "AA",
          "BA",
          "BB",
          "CB",
          "CC",
          "DC",
          "DD",
          "Fail"
         ],
         "xaxis": "x",
         "y": [
          2,
          2,
          5,
          3,
          1,
          8,
          12,
          2
         ],
         "yaxis": "y"
        },
        {
         "marker": {
          "color": "navy"
         },
         "name": "always",
         "offsetgroup": "0",
         "showlegend": false,
         "type": "bar",
         "x": [
          "AA",
          "BA",
          "BB",
          "CB",
          "CC",
          "DC",
          "DD",
          "Fail"
         ],
         "xaxis": "x2",
         "y": [
          3,
          5,
          3,
          4,
          9,
          5,
          7,
          1
         ],
         "yaxis": "y2"
        },
        {
         "marker": {
          "color": "dodgerblue"
         },
         "name": "sometimes",
         "offsetgroup": "0",
         "showlegend": false,
         "type": "bar",
         "x": [
          "AA",
          "BA",
          "BB",
          "CB",
          "CC",
          "DC",
          "DD",
          "Fail"
         ],
         "xaxis": "x2",
         "y": [
          11,
          6,
          13,
          3,
          8,
          13,
          20,
          5
         ],
         "yaxis": "y2"
        },
        {
         "marker": {
          "color": "lightseagreen"
         },
         "name": "never",
         "offsetgroup": "0",
         "showlegend": false,
         "type": "bar",
         "x": [
          "AA",
          "BA",
          "BB",
          "CB",
          "CC",
          "DC",
          "DD",
          "Fail"
         ],
         "xaxis": "x2",
         "y": [
          3,
          2,
          1,
          3,
          4,
          6,
          8,
          2
         ],
         "yaxis": "y2"
        },
        {
         "marker": {
          "color": "navy"
         },
         "name": "always",
         "offsetgroup": "0",
         "showlegend": true,
         "type": "bar",
         "x": [
          "AA",
          "BA",
          "BB",
          "CB",
          "CC",
          "DC",
          "DD",
          "Fail"
         ],
         "xaxis": "x3",
         "y": [
          11,
          5,
          11,
          6,
          15,
          9,
          23,
          4
         ],
         "yaxis": "y3"
        },
        {
         "marker": {
          "color": "dodgerblue"
         },
         "name": "sometimes",
         "offsetgroup": "0",
         "showlegend": true,
         "type": "bar",
         "x": [
          "AA",
          "BA",
          "BB",
          "CB",
          "CC",
          "DC",
          "DD",
          "Fail"
         ],
         "xaxis": "x3",
         "y": [
          6,
          8,
          6,
          4,
          5,
          12,
          12,
          3
         ],
         "yaxis": "y3"
        },
        {
         "marker": {
          "color": "lightseagreen"
         },
         "name": "never",
         "offsetgroup": "0",
         "showlegend": true,
         "type": "bar",
         "x": [
          "CC",
          "DC",
          "Fail"
         ],
         "xaxis": "x3",
         "y": [
          1,
          3,
          1
         ],
         "yaxis": "y3"
        }
       ],
       "layout": {
        "annotations": [
         {
          "font": {
           "size": 16
          },
          "showarrow": false,
          "text": "Attendance to Classes",
          "x": 0.15833333333333333,
          "xanchor": "center",
          "xref": "paper",
          "y": 1,
          "yanchor": "bottom",
          "yref": "paper"
         },
         {
          "font": {
           "size": 16
          },
          "showarrow": false,
          "text": "Listening in Classes",
          "x": 0.5,
          "xanchor": "center",
          "xref": "paper",
          "y": 1,
          "yanchor": "bottom",
          "yref": "paper"
         },
         {
          "font": {
           "size": 16
          },
          "showarrow": false,
          "text": "Taking Notes in Classes",
          "x": 0.8416666666666667,
          "xanchor": "center",
          "xref": "paper",
          "y": 1,
          "yanchor": "bottom",
          "yref": "paper"
         }
        ],
        "barmode": "group",
        "height": 500,
        "showlegend": true,
        "template": {
         "data": {
          "bar": [
           {
            "error_x": {
             "color": "#2a3f5f"
            },
            "error_y": {
             "color": "#2a3f5f"
            },
            "marker": {
             "line": {
              "color": "white",
              "width": 0.5
             },
             "pattern": {
              "fillmode": "overlay",
              "size": 10,
              "solidity": 0.2
             }
            },
            "type": "bar"
           }
          ],
          "barpolar": [
           {
            "marker": {
             "line": {
              "color": "white",
              "width": 0.5
             },
             "pattern": {
              "fillmode": "overlay",
              "size": 10,
              "solidity": 0.2
             }
            },
            "type": "barpolar"
           }
          ],
          "carpet": [
           {
            "aaxis": {
             "endlinecolor": "#2a3f5f",
             "gridcolor": "#C8D4E3",
             "linecolor": "#C8D4E3",
             "minorgridcolor": "#C8D4E3",
             "startlinecolor": "#2a3f5f"
            },
            "baxis": {
             "endlinecolor": "#2a3f5f",
             "gridcolor": "#C8D4E3",
             "linecolor": "#C8D4E3",
             "minorgridcolor": "#C8D4E3",
             "startlinecolor": "#2a3f5f"
            },
            "type": "carpet"
           }
          ],
          "choropleth": [
           {
            "colorbar": {
             "outlinewidth": 0,
             "ticks": ""
            },
            "type": "choropleth"
           }
          ],
          "contour": [
           {
            "colorbar": {
             "outlinewidth": 0,
             "ticks": ""
            },
            "colorscale": [
             [
              0,
              "#0d0887"
             ],
             [
              0.1111111111111111,
              "#46039f"
             ],
             [
              0.2222222222222222,
              "#7201a8"
             ],
             [
              0.3333333333333333,
              "#9c179e"
             ],
             [
              0.4444444444444444,
              "#bd3786"
             ],
             [
              0.5555555555555556,
              "#d8576b"
             ],
             [
              0.6666666666666666,
              "#ed7953"
             ],
             [
              0.7777777777777778,
              "#fb9f3a"
             ],
             [
              0.8888888888888888,
              "#fdca26"
             ],
             [
              1,
              "#f0f921"
             ]
            ],
            "type": "contour"
           }
          ],
          "contourcarpet": [
           {
            "colorbar": {
             "outlinewidth": 0,
             "ticks": ""
            },
            "type": "contourcarpet"
           }
          ],
          "heatmap": [
           {
            "colorbar": {
             "outlinewidth": 0,
             "ticks": ""
            },
            "colorscale": [
             [
              0,
              "#0d0887"
             ],
             [
              0.1111111111111111,
              "#46039f"
             ],
             [
              0.2222222222222222,
              "#7201a8"
             ],
             [
              0.3333333333333333,
              "#9c179e"
             ],
             [
              0.4444444444444444,
              "#bd3786"
             ],
             [
              0.5555555555555556,
              "#d8576b"
             ],
             [
              0.6666666666666666,
              "#ed7953"
             ],
             [
              0.7777777777777778,
              "#fb9f3a"
             ],
             [
              0.8888888888888888,
              "#fdca26"
             ],
             [
              1,
              "#f0f921"
             ]
            ],
            "type": "heatmap"
           }
          ],
          "heatmapgl": [
           {
            "colorbar": {
             "outlinewidth": 0,
             "ticks": ""
            },
            "colorscale": [
             [
              0,
              "#0d0887"
             ],
             [
              0.1111111111111111,
              "#46039f"
             ],
             [
              0.2222222222222222,
              "#7201a8"
             ],
             [
              0.3333333333333333,
              "#9c179e"
             ],
             [
              0.4444444444444444,
              "#bd3786"
             ],
             [
              0.5555555555555556,
              "#d8576b"
             ],
             [
              0.6666666666666666,
              "#ed7953"
             ],
             [
              0.7777777777777778,
              "#fb9f3a"
             ],
             [
              0.8888888888888888,
              "#fdca26"
             ],
             [
              1,
              "#f0f921"
             ]
            ],
            "type": "heatmapgl"
           }
          ],
          "histogram": [
           {
            "marker": {
             "pattern": {
              "fillmode": "overlay",
              "size": 10,
              "solidity": 0.2
             }
            },
            "type": "histogram"
           }
          ],
          "histogram2d": [
           {
            "colorbar": {
             "outlinewidth": 0,
             "ticks": ""
            },
            "colorscale": [
             [
              0,
              "#0d0887"
             ],
             [
              0.1111111111111111,
              "#46039f"
             ],
             [
              0.2222222222222222,
              "#7201a8"
             ],
             [
              0.3333333333333333,
              "#9c179e"
             ],
             [
              0.4444444444444444,
              "#bd3786"
             ],
             [
              0.5555555555555556,
              "#d8576b"
             ],
             [
              0.6666666666666666,
              "#ed7953"
             ],
             [
              0.7777777777777778,
              "#fb9f3a"
             ],
             [
              0.8888888888888888,
              "#fdca26"
             ],
             [
              1,
              "#f0f921"
             ]
            ],
            "type": "histogram2d"
           }
          ],
          "histogram2dcontour": [
           {
            "colorbar": {
             "outlinewidth": 0,
             "ticks": ""
            },
            "colorscale": [
             [
              0,
              "#0d0887"
             ],
             [
              0.1111111111111111,
              "#46039f"
             ],
             [
              0.2222222222222222,
              "#7201a8"
             ],
             [
              0.3333333333333333,
              "#9c179e"
             ],
             [
              0.4444444444444444,
              "#bd3786"
             ],
             [
              0.5555555555555556,
              "#d8576b"
             ],
             [
              0.6666666666666666,
              "#ed7953"
             ],
             [
              0.7777777777777778,
              "#fb9f3a"
             ],
             [
              0.8888888888888888,
              "#fdca26"
             ],
             [
              1,
              "#f0f921"
             ]
            ],
            "type": "histogram2dcontour"
           }
          ],
          "mesh3d": [
           {
            "colorbar": {
             "outlinewidth": 0,
             "ticks": ""
            },
            "type": "mesh3d"
           }
          ],
          "parcoords": [
           {
            "line": {
             "colorbar": {
              "outlinewidth": 0,
              "ticks": ""
             }
            },
            "type": "parcoords"
           }
          ],
          "pie": [
           {
            "automargin": true,
            "type": "pie"
           }
          ],
          "scatter": [
           {
            "fillpattern": {
             "fillmode": "overlay",
             "size": 10,
             "solidity": 0.2
            },
            "type": "scatter"
           }
          ],
          "scatter3d": [
           {
            "line": {
             "colorbar": {
              "outlinewidth": 0,
              "ticks": ""
             }
            },
            "marker": {
             "colorbar": {
              "outlinewidth": 0,
              "ticks": ""
             }
            },
            "type": "scatter3d"
           }
          ],
          "scattercarpet": [
           {
            "marker": {
             "colorbar": {
              "outlinewidth": 0,
              "ticks": ""
             }
            },
            "type": "scattercarpet"
           }
          ],
          "scattergeo": [
           {
            "marker": {
             "colorbar": {
              "outlinewidth": 0,
              "ticks": ""
             }
            },
            "type": "scattergeo"
           }
          ],
          "scattergl": [
           {
            "marker": {
             "colorbar": {
              "outlinewidth": 0,
              "ticks": ""
             }
            },
            "type": "scattergl"
           }
          ],
          "scattermapbox": [
           {
            "marker": {
             "colorbar": {
              "outlinewidth": 0,
              "ticks": ""
             }
            },
            "type": "scattermapbox"
           }
          ],
          "scatterpolar": [
           {
            "marker": {
             "colorbar": {
              "outlinewidth": 0,
              "ticks": ""
             }
            },
            "type": "scatterpolar"
           }
          ],
          "scatterpolargl": [
           {
            "marker": {
             "colorbar": {
              "outlinewidth": 0,
              "ticks": ""
             }
            },
            "type": "scatterpolargl"
           }
          ],
          "scatterternary": [
           {
            "marker": {
             "colorbar": {
              "outlinewidth": 0,
              "ticks": ""
             }
            },
            "type": "scatterternary"
           }
          ],
          "surface": [
           {
            "colorbar": {
             "outlinewidth": 0,
             "ticks": ""
            },
            "colorscale": [
             [
              0,
              "#0d0887"
             ],
             [
              0.1111111111111111,
              "#46039f"
             ],
             [
              0.2222222222222222,
              "#7201a8"
             ],
             [
              0.3333333333333333,
              "#9c179e"
             ],
             [
              0.4444444444444444,
              "#bd3786"
             ],
             [
              0.5555555555555556,
              "#d8576b"
             ],
             [
              0.6666666666666666,
              "#ed7953"
             ],
             [
              0.7777777777777778,
              "#fb9f3a"
             ],
             [
              0.8888888888888888,
              "#fdca26"
             ],
             [
              1,
              "#f0f921"
             ]
            ],
            "type": "surface"
           }
          ],
          "table": [
           {
            "cells": {
             "fill": {
              "color": "#EBF0F8"
             },
             "line": {
              "color": "white"
             }
            },
            "header": {
             "fill": {
              "color": "#C8D4E3"
             },
             "line": {
              "color": "white"
             }
            },
            "type": "table"
           }
          ]
         },
         "layout": {
          "annotationdefaults": {
           "arrowcolor": "#2a3f5f",
           "arrowhead": 0,
           "arrowwidth": 1
          },
          "autotypenumbers": "strict",
          "coloraxis": {
           "colorbar": {
            "outlinewidth": 0,
            "ticks": ""
           }
          },
          "colorscale": {
           "diverging": [
            [
             0,
             "#8e0152"
            ],
            [
             0.1,
             "#c51b7d"
            ],
            [
             0.2,
             "#de77ae"
            ],
            [
             0.3,
             "#f1b6da"
            ],
            [
             0.4,
             "#fde0ef"
            ],
            [
             0.5,
             "#f7f7f7"
            ],
            [
             0.6,
             "#e6f5d0"
            ],
            [
             0.7,
             "#b8e186"
            ],
            [
             0.8,
             "#7fbc41"
            ],
            [
             0.9,
             "#4d9221"
            ],
            [
             1,
             "#276419"
            ]
           ],
           "sequential": [
            [
             0,
             "#0d0887"
            ],
            [
             0.1111111111111111,
             "#46039f"
            ],
            [
             0.2222222222222222,
             "#7201a8"
            ],
            [
             0.3333333333333333,
             "#9c179e"
            ],
            [
             0.4444444444444444,
             "#bd3786"
            ],
            [
             0.5555555555555556,
             "#d8576b"
            ],
            [
             0.6666666666666666,
             "#ed7953"
            ],
            [
             0.7777777777777778,
             "#fb9f3a"
            ],
            [
             0.8888888888888888,
             "#fdca26"
            ],
            [
             1,
             "#f0f921"
            ]
           ],
           "sequentialminus": [
            [
             0,
             "#0d0887"
            ],
            [
             0.1111111111111111,
             "#46039f"
            ],
            [
             0.2222222222222222,
             "#7201a8"
            ],
            [
             0.3333333333333333,
             "#9c179e"
            ],
            [
             0.4444444444444444,
             "#bd3786"
            ],
            [
             0.5555555555555556,
             "#d8576b"
            ],
            [
             0.6666666666666666,
             "#ed7953"
            ],
            [
             0.7777777777777778,
             "#fb9f3a"
            ],
            [
             0.8888888888888888,
             "#fdca26"
            ],
            [
             1,
             "#f0f921"
            ]
           ]
          },
          "colorway": [
           "#636efa",
           "#EF553B",
           "#00cc96",
           "#ab63fa",
           "#FFA15A",
           "#19d3f3",
           "#FF6692",
           "#B6E880",
           "#FF97FF",
           "#FECB52"
          ],
          "font": {
           "color": "#2a3f5f"
          },
          "geo": {
           "bgcolor": "white",
           "lakecolor": "white",
           "landcolor": "white",
           "showlakes": true,
           "showland": true,
           "subunitcolor": "#C8D4E3"
          },
          "hoverlabel": {
           "align": "left"
          },
          "hovermode": "closest",
          "mapbox": {
           "style": "light"
          },
          "paper_bgcolor": "white",
          "plot_bgcolor": "white",
          "polar": {
           "angularaxis": {
            "gridcolor": "#EBF0F8",
            "linecolor": "#EBF0F8",
            "ticks": ""
           },
           "bgcolor": "white",
           "radialaxis": {
            "gridcolor": "#EBF0F8",
            "linecolor": "#EBF0F8",
            "ticks": ""
           }
          },
          "scene": {
           "xaxis": {
            "backgroundcolor": "white",
            "gridcolor": "#DFE8F3",
            "gridwidth": 2,
            "linecolor": "#EBF0F8",
            "showbackground": true,
            "ticks": "",
            "zerolinecolor": "#EBF0F8"
           },
           "yaxis": {
            "backgroundcolor": "white",
            "gridcolor": "#DFE8F3",
            "gridwidth": 2,
            "linecolor": "#EBF0F8",
            "showbackground": true,
            "ticks": "",
            "zerolinecolor": "#EBF0F8"
           },
           "zaxis": {
            "backgroundcolor": "white",
            "gridcolor": "#DFE8F3",
            "gridwidth": 2,
            "linecolor": "#EBF0F8",
            "showbackground": true,
            "ticks": "",
            "zerolinecolor": "#EBF0F8"
           }
          },
          "shapedefaults": {
           "line": {
            "color": "#2a3f5f"
           }
          },
          "ternary": {
           "aaxis": {
            "gridcolor": "#DFE8F3",
            "linecolor": "#A2B1C6",
            "ticks": ""
           },
           "baxis": {
            "gridcolor": "#DFE8F3",
            "linecolor": "#A2B1C6",
            "ticks": ""
           },
           "bgcolor": "white",
           "caxis": {
            "gridcolor": "#DFE8F3",
            "linecolor": "#A2B1C6",
            "ticks": ""
           }
          },
          "title": {
           "x": 0.05
          },
          "xaxis": {
           "automargin": true,
           "gridcolor": "#EBF0F8",
           "linecolor": "#EBF0F8",
           "ticks": "",
           "title": {
            "standoff": 15
           },
           "zerolinecolor": "#EBF0F8",
           "zerolinewidth": 2
          },
          "yaxis": {
           "automargin": true,
           "gridcolor": "#EBF0F8",
           "linecolor": "#EBF0F8",
           "ticks": "",
           "title": {
            "standoff": 15
           },
           "zerolinecolor": "#EBF0F8",
           "zerolinewidth": 2
          }
         }
        },
        "width": 1650,
        "xaxis": {
         "anchor": "y",
         "domain": [
          0,
          0.31666666666666665
         ]
        },
        "xaxis2": {
         "anchor": "y2",
         "domain": [
          0.3416666666666667,
          0.6583333333333333
         ]
        },
        "xaxis3": {
         "anchor": "y3",
         "domain": [
          0.6833333333333333,
          1
         ]
        },
        "yaxis": {
         "anchor": "x",
         "domain": [
          0,
          1
         ],
         "range": [
          0,
          28
         ],
         "title": {
          "text": "# Students"
         }
        },
        "yaxis2": {
         "anchor": "x2",
         "domain": [
          0,
          1
         ],
         "matches": "y",
         "showticklabels": false
        },
        "yaxis3": {
         "anchor": "x3",
         "domain": [
          0,
          1
         ],
         "matches": "y",
         "showticklabels": false
        }
       }
      }
     },
     "metadata": {},
     "output_type": "display_data"
    }
   ],
   "source": [
    "funs.eda_plotter(data, ['Attendance to Classes','Listening in Classes','Taking Notes in Classes'], [attendance,listening,notes])"
   ]
  },
  {
   "cell_type": "code",
   "execution_count": 74,
   "metadata": {},
   "outputs": [
    {
     "data": {
      "application/vnd.plotly.v1+json": {
       "config": {
        "plotlyServerURL": "https://plot.ly"
       },
       "data": [
        {
         "marker": {
          "color": "navy"
         },
         "name": "alone",
         "offsetgroup": "0",
         "showlegend": false,
         "type": "bar",
         "x": [
          "AA",
          "BA",
          "BB",
          "CB",
          "CC",
          "DC",
          "DD",
          "Fail"
         ],
         "xaxis": "x",
         "y": [
          11,
          11,
          14,
          8,
          14,
          17,
          29,
          3
         ],
         "yaxis": "y"
        },
        {
         "marker": {
          "color": "dodgerblue"
         },
         "name": "not applicable",
         "offsetgroup": "0",
         "showlegend": false,
         "type": "bar",
         "x": [
          "AA",
          "BB",
          "CB",
          "CC",
          "DC",
          "DD",
          "Fail"
         ],
         "xaxis": "x",
         "y": [
          4,
          1,
          1,
          1,
          1,
          1,
          2
         ],
         "yaxis": "y"
        },
        {
         "marker": {
          "color": "lightseagreen"
         },
         "name": "with friends",
         "offsetgroup": "0",
         "showlegend": false,
         "type": "bar",
         "x": [
          "AA",
          "BA",
          "BB",
          "CB",
          "CC",
          "DC",
          "DD",
          "Fail"
         ],
         "xaxis": "x",
         "y": [
          2,
          2,
          2,
          1,
          6,
          6,
          5,
          3
         ],
         "yaxis": "y"
        },
        {
         "marker": {
          "color": "navy"
         },
         "name": "closest date to the exam",
         "offsetgroup": "0",
         "showlegend": false,
         "type": "bar",
         "x": [
          "AA",
          "BA",
          "BB",
          "CB",
          "CC",
          "DC",
          "DD",
          "Fail"
         ],
         "xaxis": "x2",
         "y": [
          13,
          11,
          16,
          8,
          16,
          22,
          30,
          7
         ],
         "yaxis": "y2"
        },
        {
         "marker": {
          "color": "dodgerblue"
         },
         "name": "never",
         "offsetgroup": "0",
         "showlegend": false,
         "type": "bar",
         "x": [
          "AA",
          "CC"
         ],
         "xaxis": "x2",
         "y": [
          1,
          1
         ],
         "yaxis": "y2"
        },
        {
         "marker": {
          "color": "lightseagreen"
         },
         "name": "regurlarly during the semester",
         "offsetgroup": "0",
         "showlegend": false,
         "type": "bar",
         "x": [
          "AA",
          "BA",
          "BB",
          "CB",
          "CC",
          "DC",
          "DD",
          "Fail"
         ],
         "xaxis": "x2",
         "y": [
          3,
          2,
          1,
          2,
          4,
          2,
          5,
          1
         ],
         "yaxis": "y2"
        }
       ],
       "layout": {
        "annotations": [
         {
          "font": {
           "size": 16
          },
          "showarrow": false,
          "text": "Preparation to Midterm Exams 1",
          "x": 0.24375,
          "xanchor": "center",
          "xref": "paper",
          "y": 1,
          "yanchor": "bottom",
          "yref": "paper"
         },
         {
          "font": {
           "size": 16
          },
          "showarrow": false,
          "text": "Preparation to Midterm Exams 2",
          "x": 0.75625,
          "xanchor": "center",
          "xref": "paper",
          "y": 1,
          "yanchor": "bottom",
          "yref": "paper"
         }
        ],
        "barmode": "group",
        "height": 500,
        "showlegend": true,
        "template": {
         "data": {
          "bar": [
           {
            "error_x": {
             "color": "#2a3f5f"
            },
            "error_y": {
             "color": "#2a3f5f"
            },
            "marker": {
             "line": {
              "color": "white",
              "width": 0.5
             },
             "pattern": {
              "fillmode": "overlay",
              "size": 10,
              "solidity": 0.2
             }
            },
            "type": "bar"
           }
          ],
          "barpolar": [
           {
            "marker": {
             "line": {
              "color": "white",
              "width": 0.5
             },
             "pattern": {
              "fillmode": "overlay",
              "size": 10,
              "solidity": 0.2
             }
            },
            "type": "barpolar"
           }
          ],
          "carpet": [
           {
            "aaxis": {
             "endlinecolor": "#2a3f5f",
             "gridcolor": "#C8D4E3",
             "linecolor": "#C8D4E3",
             "minorgridcolor": "#C8D4E3",
             "startlinecolor": "#2a3f5f"
            },
            "baxis": {
             "endlinecolor": "#2a3f5f",
             "gridcolor": "#C8D4E3",
             "linecolor": "#C8D4E3",
             "minorgridcolor": "#C8D4E3",
             "startlinecolor": "#2a3f5f"
            },
            "type": "carpet"
           }
          ],
          "choropleth": [
           {
            "colorbar": {
             "outlinewidth": 0,
             "ticks": ""
            },
            "type": "choropleth"
           }
          ],
          "contour": [
           {
            "colorbar": {
             "outlinewidth": 0,
             "ticks": ""
            },
            "colorscale": [
             [
              0,
              "#0d0887"
             ],
             [
              0.1111111111111111,
              "#46039f"
             ],
             [
              0.2222222222222222,
              "#7201a8"
             ],
             [
              0.3333333333333333,
              "#9c179e"
             ],
             [
              0.4444444444444444,
              "#bd3786"
             ],
             [
              0.5555555555555556,
              "#d8576b"
             ],
             [
              0.6666666666666666,
              "#ed7953"
             ],
             [
              0.7777777777777778,
              "#fb9f3a"
             ],
             [
              0.8888888888888888,
              "#fdca26"
             ],
             [
              1,
              "#f0f921"
             ]
            ],
            "type": "contour"
           }
          ],
          "contourcarpet": [
           {
            "colorbar": {
             "outlinewidth": 0,
             "ticks": ""
            },
            "type": "contourcarpet"
           }
          ],
          "heatmap": [
           {
            "colorbar": {
             "outlinewidth": 0,
             "ticks": ""
            },
            "colorscale": [
             [
              0,
              "#0d0887"
             ],
             [
              0.1111111111111111,
              "#46039f"
             ],
             [
              0.2222222222222222,
              "#7201a8"
             ],
             [
              0.3333333333333333,
              "#9c179e"
             ],
             [
              0.4444444444444444,
              "#bd3786"
             ],
             [
              0.5555555555555556,
              "#d8576b"
             ],
             [
              0.6666666666666666,
              "#ed7953"
             ],
             [
              0.7777777777777778,
              "#fb9f3a"
             ],
             [
              0.8888888888888888,
              "#fdca26"
             ],
             [
              1,
              "#f0f921"
             ]
            ],
            "type": "heatmap"
           }
          ],
          "heatmapgl": [
           {
            "colorbar": {
             "outlinewidth": 0,
             "ticks": ""
            },
            "colorscale": [
             [
              0,
              "#0d0887"
             ],
             [
              0.1111111111111111,
              "#46039f"
             ],
             [
              0.2222222222222222,
              "#7201a8"
             ],
             [
              0.3333333333333333,
              "#9c179e"
             ],
             [
              0.4444444444444444,
              "#bd3786"
             ],
             [
              0.5555555555555556,
              "#d8576b"
             ],
             [
              0.6666666666666666,
              "#ed7953"
             ],
             [
              0.7777777777777778,
              "#fb9f3a"
             ],
             [
              0.8888888888888888,
              "#fdca26"
             ],
             [
              1,
              "#f0f921"
             ]
            ],
            "type": "heatmapgl"
           }
          ],
          "histogram": [
           {
            "marker": {
             "pattern": {
              "fillmode": "overlay",
              "size": 10,
              "solidity": 0.2
             }
            },
            "type": "histogram"
           }
          ],
          "histogram2d": [
           {
            "colorbar": {
             "outlinewidth": 0,
             "ticks": ""
            },
            "colorscale": [
             [
              0,
              "#0d0887"
             ],
             [
              0.1111111111111111,
              "#46039f"
             ],
             [
              0.2222222222222222,
              "#7201a8"
             ],
             [
              0.3333333333333333,
              "#9c179e"
             ],
             [
              0.4444444444444444,
              "#bd3786"
             ],
             [
              0.5555555555555556,
              "#d8576b"
             ],
             [
              0.6666666666666666,
              "#ed7953"
             ],
             [
              0.7777777777777778,
              "#fb9f3a"
             ],
             [
              0.8888888888888888,
              "#fdca26"
             ],
             [
              1,
              "#f0f921"
             ]
            ],
            "type": "histogram2d"
           }
          ],
          "histogram2dcontour": [
           {
            "colorbar": {
             "outlinewidth": 0,
             "ticks": ""
            },
            "colorscale": [
             [
              0,
              "#0d0887"
             ],
             [
              0.1111111111111111,
              "#46039f"
             ],
             [
              0.2222222222222222,
              "#7201a8"
             ],
             [
              0.3333333333333333,
              "#9c179e"
             ],
             [
              0.4444444444444444,
              "#bd3786"
             ],
             [
              0.5555555555555556,
              "#d8576b"
             ],
             [
              0.6666666666666666,
              "#ed7953"
             ],
             [
              0.7777777777777778,
              "#fb9f3a"
             ],
             [
              0.8888888888888888,
              "#fdca26"
             ],
             [
              1,
              "#f0f921"
             ]
            ],
            "type": "histogram2dcontour"
           }
          ],
          "mesh3d": [
           {
            "colorbar": {
             "outlinewidth": 0,
             "ticks": ""
            },
            "type": "mesh3d"
           }
          ],
          "parcoords": [
           {
            "line": {
             "colorbar": {
              "outlinewidth": 0,
              "ticks": ""
             }
            },
            "type": "parcoords"
           }
          ],
          "pie": [
           {
            "automargin": true,
            "type": "pie"
           }
          ],
          "scatter": [
           {
            "fillpattern": {
             "fillmode": "overlay",
             "size": 10,
             "solidity": 0.2
            },
            "type": "scatter"
           }
          ],
          "scatter3d": [
           {
            "line": {
             "colorbar": {
              "outlinewidth": 0,
              "ticks": ""
             }
            },
            "marker": {
             "colorbar": {
              "outlinewidth": 0,
              "ticks": ""
             }
            },
            "type": "scatter3d"
           }
          ],
          "scattercarpet": [
           {
            "marker": {
             "colorbar": {
              "outlinewidth": 0,
              "ticks": ""
             }
            },
            "type": "scattercarpet"
           }
          ],
          "scattergeo": [
           {
            "marker": {
             "colorbar": {
              "outlinewidth": 0,
              "ticks": ""
             }
            },
            "type": "scattergeo"
           }
          ],
          "scattergl": [
           {
            "marker": {
             "colorbar": {
              "outlinewidth": 0,
              "ticks": ""
             }
            },
            "type": "scattergl"
           }
          ],
          "scattermapbox": [
           {
            "marker": {
             "colorbar": {
              "outlinewidth": 0,
              "ticks": ""
             }
            },
            "type": "scattermapbox"
           }
          ],
          "scatterpolar": [
           {
            "marker": {
             "colorbar": {
              "outlinewidth": 0,
              "ticks": ""
             }
            },
            "type": "scatterpolar"
           }
          ],
          "scatterpolargl": [
           {
            "marker": {
             "colorbar": {
              "outlinewidth": 0,
              "ticks": ""
             }
            },
            "type": "scatterpolargl"
           }
          ],
          "scatterternary": [
           {
            "marker": {
             "colorbar": {
              "outlinewidth": 0,
              "ticks": ""
             }
            },
            "type": "scatterternary"
           }
          ],
          "surface": [
           {
            "colorbar": {
             "outlinewidth": 0,
             "ticks": ""
            },
            "colorscale": [
             [
              0,
              "#0d0887"
             ],
             [
              0.1111111111111111,
              "#46039f"
             ],
             [
              0.2222222222222222,
              "#7201a8"
             ],
             [
              0.3333333333333333,
              "#9c179e"
             ],
             [
              0.4444444444444444,
              "#bd3786"
             ],
             [
              0.5555555555555556,
              "#d8576b"
             ],
             [
              0.6666666666666666,
              "#ed7953"
             ],
             [
              0.7777777777777778,
              "#fb9f3a"
             ],
             [
              0.8888888888888888,
              "#fdca26"
             ],
             [
              1,
              "#f0f921"
             ]
            ],
            "type": "surface"
           }
          ],
          "table": [
           {
            "cells": {
             "fill": {
              "color": "#EBF0F8"
             },
             "line": {
              "color": "white"
             }
            },
            "header": {
             "fill": {
              "color": "#C8D4E3"
             },
             "line": {
              "color": "white"
             }
            },
            "type": "table"
           }
          ]
         },
         "layout": {
          "annotationdefaults": {
           "arrowcolor": "#2a3f5f",
           "arrowhead": 0,
           "arrowwidth": 1
          },
          "autotypenumbers": "strict",
          "coloraxis": {
           "colorbar": {
            "outlinewidth": 0,
            "ticks": ""
           }
          },
          "colorscale": {
           "diverging": [
            [
             0,
             "#8e0152"
            ],
            [
             0.1,
             "#c51b7d"
            ],
            [
             0.2,
             "#de77ae"
            ],
            [
             0.3,
             "#f1b6da"
            ],
            [
             0.4,
             "#fde0ef"
            ],
            [
             0.5,
             "#f7f7f7"
            ],
            [
             0.6,
             "#e6f5d0"
            ],
            [
             0.7,
             "#b8e186"
            ],
            [
             0.8,
             "#7fbc41"
            ],
            [
             0.9,
             "#4d9221"
            ],
            [
             1,
             "#276419"
            ]
           ],
           "sequential": [
            [
             0,
             "#0d0887"
            ],
            [
             0.1111111111111111,
             "#46039f"
            ],
            [
             0.2222222222222222,
             "#7201a8"
            ],
            [
             0.3333333333333333,
             "#9c179e"
            ],
            [
             0.4444444444444444,
             "#bd3786"
            ],
            [
             0.5555555555555556,
             "#d8576b"
            ],
            [
             0.6666666666666666,
             "#ed7953"
            ],
            [
             0.7777777777777778,
             "#fb9f3a"
            ],
            [
             0.8888888888888888,
             "#fdca26"
            ],
            [
             1,
             "#f0f921"
            ]
           ],
           "sequentialminus": [
            [
             0,
             "#0d0887"
            ],
            [
             0.1111111111111111,
             "#46039f"
            ],
            [
             0.2222222222222222,
             "#7201a8"
            ],
            [
             0.3333333333333333,
             "#9c179e"
            ],
            [
             0.4444444444444444,
             "#bd3786"
            ],
            [
             0.5555555555555556,
             "#d8576b"
            ],
            [
             0.6666666666666666,
             "#ed7953"
            ],
            [
             0.7777777777777778,
             "#fb9f3a"
            ],
            [
             0.8888888888888888,
             "#fdca26"
            ],
            [
             1,
             "#f0f921"
            ]
           ]
          },
          "colorway": [
           "#636efa",
           "#EF553B",
           "#00cc96",
           "#ab63fa",
           "#FFA15A",
           "#19d3f3",
           "#FF6692",
           "#B6E880",
           "#FF97FF",
           "#FECB52"
          ],
          "font": {
           "color": "#2a3f5f"
          },
          "geo": {
           "bgcolor": "white",
           "lakecolor": "white",
           "landcolor": "white",
           "showlakes": true,
           "showland": true,
           "subunitcolor": "#C8D4E3"
          },
          "hoverlabel": {
           "align": "left"
          },
          "hovermode": "closest",
          "mapbox": {
           "style": "light"
          },
          "paper_bgcolor": "white",
          "plot_bgcolor": "white",
          "polar": {
           "angularaxis": {
            "gridcolor": "#EBF0F8",
            "linecolor": "#EBF0F8",
            "ticks": ""
           },
           "bgcolor": "white",
           "radialaxis": {
            "gridcolor": "#EBF0F8",
            "linecolor": "#EBF0F8",
            "ticks": ""
           }
          },
          "scene": {
           "xaxis": {
            "backgroundcolor": "white",
            "gridcolor": "#DFE8F3",
            "gridwidth": 2,
            "linecolor": "#EBF0F8",
            "showbackground": true,
            "ticks": "",
            "zerolinecolor": "#EBF0F8"
           },
           "yaxis": {
            "backgroundcolor": "white",
            "gridcolor": "#DFE8F3",
            "gridwidth": 2,
            "linecolor": "#EBF0F8",
            "showbackground": true,
            "ticks": "",
            "zerolinecolor": "#EBF0F8"
           },
           "zaxis": {
            "backgroundcolor": "white",
            "gridcolor": "#DFE8F3",
            "gridwidth": 2,
            "linecolor": "#EBF0F8",
            "showbackground": true,
            "ticks": "",
            "zerolinecolor": "#EBF0F8"
           }
          },
          "shapedefaults": {
           "line": {
            "color": "#2a3f5f"
           }
          },
          "ternary": {
           "aaxis": {
            "gridcolor": "#DFE8F3",
            "linecolor": "#A2B1C6",
            "ticks": ""
           },
           "baxis": {
            "gridcolor": "#DFE8F3",
            "linecolor": "#A2B1C6",
            "ticks": ""
           },
           "bgcolor": "white",
           "caxis": {
            "gridcolor": "#DFE8F3",
            "linecolor": "#A2B1C6",
            "ticks": ""
           }
          },
          "title": {
           "x": 0.05
          },
          "xaxis": {
           "automargin": true,
           "gridcolor": "#EBF0F8",
           "linecolor": "#EBF0F8",
           "ticks": "",
           "title": {
            "standoff": 15
           },
           "zerolinecolor": "#EBF0F8",
           "zerolinewidth": 2
          },
          "yaxis": {
           "automargin": true,
           "gridcolor": "#EBF0F8",
           "linecolor": "#EBF0F8",
           "ticks": "",
           "title": {
            "standoff": 15
           },
           "zerolinecolor": "#EBF0F8",
           "zerolinewidth": 2
          }
         }
        },
        "width": 1650,
        "xaxis": {
         "anchor": "y",
         "domain": [
          0,
          0.4875
         ]
        },
        "xaxis2": {
         "anchor": "y2",
         "domain": [
          0.5125,
          1
         ]
        },
        "yaxis": {
         "anchor": "x",
         "domain": [
          0,
          1
         ],
         "range": [
          0,
          28
         ],
         "title": {
          "text": "# Students"
         }
        },
        "yaxis2": {
         "anchor": "x2",
         "domain": [
          0,
          1
         ],
         "matches": "y",
         "showticklabels": false
        }
       }
      }
     },
     "metadata": {},
     "output_type": "display_data"
    }
   ],
   "source": [
    "funs.eda_plotter(data, ['Preparation to Midterm Exams 1','Preparation to Midterm Exams 2'], [exams1, exams2])"
   ]
  },
  {
   "cell_type": "code",
   "execution_count": 75,
   "metadata": {},
   "outputs": [
    {
     "data": {
      "application/vnd.plotly.v1+json": {
       "config": {
        "plotlyServerURL": "https://plot.ly"
       },
       "data": [
        {
         "alignmentgroup": "True",
         "hovertemplate": "Fathers Education=Ph.D.<br>Grade=%{x}<br>=%{y}<extra></extra>",
         "legendgroup": "Ph.D.",
         "marker": {
          "color": "navy",
          "pattern": {
           "shape": ""
          }
         },
         "name": "Ph.D.",
         "offsetgroup": "Ph.D.",
         "orientation": "v",
         "showlegend": true,
         "textposition": "auto",
         "type": "bar",
         "x": [
          "CC"
         ],
         "xaxis": "x",
         "y": [
          1
         ],
         "yaxis": "y"
        },
        {
         "alignmentgroup": "True",
         "hovertemplate": "Fathers Education=MSc.<br>Grade=%{x}<br>=%{y}<extra></extra>",
         "legendgroup": "MSc.",
         "marker": {
          "color": "dodgerblue",
          "pattern": {
           "shape": ""
          }
         },
         "name": "MSc.",
         "offsetgroup": "MSc.",
         "orientation": "v",
         "showlegend": true,
         "textposition": "auto",
         "type": "bar",
         "x": [
          "AA",
          "BA",
          "Fail"
         ],
         "xaxis": "x",
         "y": [
          2,
          1,
          2
         ],
         "yaxis": "y"
        },
        {
         "alignmentgroup": "True",
         "hovertemplate": "Fathers Education=university<br>Grade=%{x}<br>=%{y}<extra></extra>",
         "legendgroup": "university",
         "marker": {
          "color": "lightseagreen",
          "pattern": {
           "shape": ""
          }
         },
         "name": "university",
         "offsetgroup": "university",
         "orientation": "v",
         "showlegend": true,
         "textposition": "auto",
         "type": "bar",
         "x": [
          "AA",
          "BA",
          "BB",
          "CB",
          "CC",
          "DC",
          "DD",
          "Fail"
         ],
         "xaxis": "x",
         "y": [
          5,
          2,
          3,
          2,
          3,
          4,
          8,
          1
         ],
         "yaxis": "y"
        },
        {
         "alignmentgroup": "True",
         "hovertemplate": "Fathers Education=high school<br>Grade=%{x}<br>=%{y}<extra></extra>",
         "legendgroup": "high school",
         "marker": {
          "color": "darksalmon",
          "pattern": {
           "shape": ""
          }
         },
         "name": "high school",
         "offsetgroup": "high school",
         "orientation": "v",
         "showlegend": true,
         "textposition": "auto",
         "type": "bar",
         "x": [
          "AA",
          "BA",
          "BB",
          "CB",
          "CC",
          "DC",
          "DD",
          "Fail"
         ],
         "xaxis": "x",
         "y": [
          3,
          5,
          7,
          3,
          7,
          9,
          10,
          2
         ],
         "yaxis": "y"
        },
        {
         "alignmentgroup": "True",
         "hovertemplate": "Fathers Education=primary school<br>Grade=%{x}<br>=%{y}<extra></extra>",
         "legendgroup": "primary school",
         "marker": {
          "color": "red",
          "pattern": {
           "shape": ""
          }
         },
         "name": "primary school",
         "offsetgroup": "primary school",
         "orientation": "v",
         "showlegend": true,
         "textposition": "auto",
         "type": "bar",
         "x": [
          "AA",
          "BA",
          "BB",
          "CB",
          "CC",
          "DC",
          "DD",
          "Fail"
         ],
         "xaxis": "x",
         "y": [
          2,
          3,
          3,
          2,
          5,
          7,
          5,
          2
         ],
         "yaxis": "y"
        },
        {
         "alignmentgroup": "True",
         "hovertemplate": "Fathers Education=secondary school<br>Grade=%{x}<br>=%{y}<extra></extra>",
         "legendgroup": "secondary school",
         "marker": {
          "color": "#19d3f3",
          "pattern": {
           "shape": ""
          }
         },
         "name": "secondary school",
         "offsetgroup": "secondary school",
         "orientation": "v",
         "showlegend": true,
         "textposition": "auto",
         "type": "bar",
         "x": [
          "AA",
          "BA",
          "BB",
          "CB",
          "CC",
          "DC",
          "DD",
          "Fail"
         ],
         "xaxis": "x",
         "y": [
          5,
          2,
          4,
          3,
          5,
          4,
          12,
          1
         ],
         "yaxis": "y"
        }
       ],
       "layout": {
        "barmode": "relative",
        "height": 500,
        "legend": {
         "title": {
          "text": "Fathers Education"
         },
         "tracegroupgap": 0
        },
        "margin": {
         "t": 60
        },
        "showlegend": true,
        "template": {
         "data": {
          "bar": [
           {
            "error_x": {
             "color": "#2a3f5f"
            },
            "error_y": {
             "color": "#2a3f5f"
            },
            "marker": {
             "line": {
              "color": "white",
              "width": 0.5
             },
             "pattern": {
              "fillmode": "overlay",
              "size": 10,
              "solidity": 0.2
             }
            },
            "type": "bar"
           }
          ],
          "barpolar": [
           {
            "marker": {
             "line": {
              "color": "white",
              "width": 0.5
             },
             "pattern": {
              "fillmode": "overlay",
              "size": 10,
              "solidity": 0.2
             }
            },
            "type": "barpolar"
           }
          ],
          "carpet": [
           {
            "aaxis": {
             "endlinecolor": "#2a3f5f",
             "gridcolor": "#C8D4E3",
             "linecolor": "#C8D4E3",
             "minorgridcolor": "#C8D4E3",
             "startlinecolor": "#2a3f5f"
            },
            "baxis": {
             "endlinecolor": "#2a3f5f",
             "gridcolor": "#C8D4E3",
             "linecolor": "#C8D4E3",
             "minorgridcolor": "#C8D4E3",
             "startlinecolor": "#2a3f5f"
            },
            "type": "carpet"
           }
          ],
          "choropleth": [
           {
            "colorbar": {
             "outlinewidth": 0,
             "ticks": ""
            },
            "type": "choropleth"
           }
          ],
          "contour": [
           {
            "colorbar": {
             "outlinewidth": 0,
             "ticks": ""
            },
            "colorscale": [
             [
              0,
              "#0d0887"
             ],
             [
              0.1111111111111111,
              "#46039f"
             ],
             [
              0.2222222222222222,
              "#7201a8"
             ],
             [
              0.3333333333333333,
              "#9c179e"
             ],
             [
              0.4444444444444444,
              "#bd3786"
             ],
             [
              0.5555555555555556,
              "#d8576b"
             ],
             [
              0.6666666666666666,
              "#ed7953"
             ],
             [
              0.7777777777777778,
              "#fb9f3a"
             ],
             [
              0.8888888888888888,
              "#fdca26"
             ],
             [
              1,
              "#f0f921"
             ]
            ],
            "type": "contour"
           }
          ],
          "contourcarpet": [
           {
            "colorbar": {
             "outlinewidth": 0,
             "ticks": ""
            },
            "type": "contourcarpet"
           }
          ],
          "heatmap": [
           {
            "colorbar": {
             "outlinewidth": 0,
             "ticks": ""
            },
            "colorscale": [
             [
              0,
              "#0d0887"
             ],
             [
              0.1111111111111111,
              "#46039f"
             ],
             [
              0.2222222222222222,
              "#7201a8"
             ],
             [
              0.3333333333333333,
              "#9c179e"
             ],
             [
              0.4444444444444444,
              "#bd3786"
             ],
             [
              0.5555555555555556,
              "#d8576b"
             ],
             [
              0.6666666666666666,
              "#ed7953"
             ],
             [
              0.7777777777777778,
              "#fb9f3a"
             ],
             [
              0.8888888888888888,
              "#fdca26"
             ],
             [
              1,
              "#f0f921"
             ]
            ],
            "type": "heatmap"
           }
          ],
          "heatmapgl": [
           {
            "colorbar": {
             "outlinewidth": 0,
             "ticks": ""
            },
            "colorscale": [
             [
              0,
              "#0d0887"
             ],
             [
              0.1111111111111111,
              "#46039f"
             ],
             [
              0.2222222222222222,
              "#7201a8"
             ],
             [
              0.3333333333333333,
              "#9c179e"
             ],
             [
              0.4444444444444444,
              "#bd3786"
             ],
             [
              0.5555555555555556,
              "#d8576b"
             ],
             [
              0.6666666666666666,
              "#ed7953"
             ],
             [
              0.7777777777777778,
              "#fb9f3a"
             ],
             [
              0.8888888888888888,
              "#fdca26"
             ],
             [
              1,
              "#f0f921"
             ]
            ],
            "type": "heatmapgl"
           }
          ],
          "histogram": [
           {
            "marker": {
             "pattern": {
              "fillmode": "overlay",
              "size": 10,
              "solidity": 0.2
             }
            },
            "type": "histogram"
           }
          ],
          "histogram2d": [
           {
            "colorbar": {
             "outlinewidth": 0,
             "ticks": ""
            },
            "colorscale": [
             [
              0,
              "#0d0887"
             ],
             [
              0.1111111111111111,
              "#46039f"
             ],
             [
              0.2222222222222222,
              "#7201a8"
             ],
             [
              0.3333333333333333,
              "#9c179e"
             ],
             [
              0.4444444444444444,
              "#bd3786"
             ],
             [
              0.5555555555555556,
              "#d8576b"
             ],
             [
              0.6666666666666666,
              "#ed7953"
             ],
             [
              0.7777777777777778,
              "#fb9f3a"
             ],
             [
              0.8888888888888888,
              "#fdca26"
             ],
             [
              1,
              "#f0f921"
             ]
            ],
            "type": "histogram2d"
           }
          ],
          "histogram2dcontour": [
           {
            "colorbar": {
             "outlinewidth": 0,
             "ticks": ""
            },
            "colorscale": [
             [
              0,
              "#0d0887"
             ],
             [
              0.1111111111111111,
              "#46039f"
             ],
             [
              0.2222222222222222,
              "#7201a8"
             ],
             [
              0.3333333333333333,
              "#9c179e"
             ],
             [
              0.4444444444444444,
              "#bd3786"
             ],
             [
              0.5555555555555556,
              "#d8576b"
             ],
             [
              0.6666666666666666,
              "#ed7953"
             ],
             [
              0.7777777777777778,
              "#fb9f3a"
             ],
             [
              0.8888888888888888,
              "#fdca26"
             ],
             [
              1,
              "#f0f921"
             ]
            ],
            "type": "histogram2dcontour"
           }
          ],
          "mesh3d": [
           {
            "colorbar": {
             "outlinewidth": 0,
             "ticks": ""
            },
            "type": "mesh3d"
           }
          ],
          "parcoords": [
           {
            "line": {
             "colorbar": {
              "outlinewidth": 0,
              "ticks": ""
             }
            },
            "type": "parcoords"
           }
          ],
          "pie": [
           {
            "automargin": true,
            "type": "pie"
           }
          ],
          "scatter": [
           {
            "fillpattern": {
             "fillmode": "overlay",
             "size": 10,
             "solidity": 0.2
            },
            "type": "scatter"
           }
          ],
          "scatter3d": [
           {
            "line": {
             "colorbar": {
              "outlinewidth": 0,
              "ticks": ""
             }
            },
            "marker": {
             "colorbar": {
              "outlinewidth": 0,
              "ticks": ""
             }
            },
            "type": "scatter3d"
           }
          ],
          "scattercarpet": [
           {
            "marker": {
             "colorbar": {
              "outlinewidth": 0,
              "ticks": ""
             }
            },
            "type": "scattercarpet"
           }
          ],
          "scattergeo": [
           {
            "marker": {
             "colorbar": {
              "outlinewidth": 0,
              "ticks": ""
             }
            },
            "type": "scattergeo"
           }
          ],
          "scattergl": [
           {
            "marker": {
             "colorbar": {
              "outlinewidth": 0,
              "ticks": ""
             }
            },
            "type": "scattergl"
           }
          ],
          "scattermapbox": [
           {
            "marker": {
             "colorbar": {
              "outlinewidth": 0,
              "ticks": ""
             }
            },
            "type": "scattermapbox"
           }
          ],
          "scatterpolar": [
           {
            "marker": {
             "colorbar": {
              "outlinewidth": 0,
              "ticks": ""
             }
            },
            "type": "scatterpolar"
           }
          ],
          "scatterpolargl": [
           {
            "marker": {
             "colorbar": {
              "outlinewidth": 0,
              "ticks": ""
             }
            },
            "type": "scatterpolargl"
           }
          ],
          "scatterternary": [
           {
            "marker": {
             "colorbar": {
              "outlinewidth": 0,
              "ticks": ""
             }
            },
            "type": "scatterternary"
           }
          ],
          "surface": [
           {
            "colorbar": {
             "outlinewidth": 0,
             "ticks": ""
            },
            "colorscale": [
             [
              0,
              "#0d0887"
             ],
             [
              0.1111111111111111,
              "#46039f"
             ],
             [
              0.2222222222222222,
              "#7201a8"
             ],
             [
              0.3333333333333333,
              "#9c179e"
             ],
             [
              0.4444444444444444,
              "#bd3786"
             ],
             [
              0.5555555555555556,
              "#d8576b"
             ],
             [
              0.6666666666666666,
              "#ed7953"
             ],
             [
              0.7777777777777778,
              "#fb9f3a"
             ],
             [
              0.8888888888888888,
              "#fdca26"
             ],
             [
              1,
              "#f0f921"
             ]
            ],
            "type": "surface"
           }
          ],
          "table": [
           {
            "cells": {
             "fill": {
              "color": "#EBF0F8"
             },
             "line": {
              "color": "white"
             }
            },
            "header": {
             "fill": {
              "color": "#C8D4E3"
             },
             "line": {
              "color": "white"
             }
            },
            "type": "table"
           }
          ]
         },
         "layout": {
          "annotationdefaults": {
           "arrowcolor": "#2a3f5f",
           "arrowhead": 0,
           "arrowwidth": 1
          },
          "autotypenumbers": "strict",
          "coloraxis": {
           "colorbar": {
            "outlinewidth": 0,
            "ticks": ""
           }
          },
          "colorscale": {
           "diverging": [
            [
             0,
             "#8e0152"
            ],
            [
             0.1,
             "#c51b7d"
            ],
            [
             0.2,
             "#de77ae"
            ],
            [
             0.3,
             "#f1b6da"
            ],
            [
             0.4,
             "#fde0ef"
            ],
            [
             0.5,
             "#f7f7f7"
            ],
            [
             0.6,
             "#e6f5d0"
            ],
            [
             0.7,
             "#b8e186"
            ],
            [
             0.8,
             "#7fbc41"
            ],
            [
             0.9,
             "#4d9221"
            ],
            [
             1,
             "#276419"
            ]
           ],
           "sequential": [
            [
             0,
             "#0d0887"
            ],
            [
             0.1111111111111111,
             "#46039f"
            ],
            [
             0.2222222222222222,
             "#7201a8"
            ],
            [
             0.3333333333333333,
             "#9c179e"
            ],
            [
             0.4444444444444444,
             "#bd3786"
            ],
            [
             0.5555555555555556,
             "#d8576b"
            ],
            [
             0.6666666666666666,
             "#ed7953"
            ],
            [
             0.7777777777777778,
             "#fb9f3a"
            ],
            [
             0.8888888888888888,
             "#fdca26"
            ],
            [
             1,
             "#f0f921"
            ]
           ],
           "sequentialminus": [
            [
             0,
             "#0d0887"
            ],
            [
             0.1111111111111111,
             "#46039f"
            ],
            [
             0.2222222222222222,
             "#7201a8"
            ],
            [
             0.3333333333333333,
             "#9c179e"
            ],
            [
             0.4444444444444444,
             "#bd3786"
            ],
            [
             0.5555555555555556,
             "#d8576b"
            ],
            [
             0.6666666666666666,
             "#ed7953"
            ],
            [
             0.7777777777777778,
             "#fb9f3a"
            ],
            [
             0.8888888888888888,
             "#fdca26"
            ],
            [
             1,
             "#f0f921"
            ]
           ]
          },
          "colorway": [
           "#636efa",
           "#EF553B",
           "#00cc96",
           "#ab63fa",
           "#FFA15A",
           "#19d3f3",
           "#FF6692",
           "#B6E880",
           "#FF97FF",
           "#FECB52"
          ],
          "font": {
           "color": "#2a3f5f"
          },
          "geo": {
           "bgcolor": "white",
           "lakecolor": "white",
           "landcolor": "white",
           "showlakes": true,
           "showland": true,
           "subunitcolor": "#C8D4E3"
          },
          "hoverlabel": {
           "align": "left"
          },
          "hovermode": "closest",
          "mapbox": {
           "style": "light"
          },
          "paper_bgcolor": "white",
          "plot_bgcolor": "white",
          "polar": {
           "angularaxis": {
            "gridcolor": "#EBF0F8",
            "linecolor": "#EBF0F8",
            "ticks": ""
           },
           "bgcolor": "white",
           "radialaxis": {
            "gridcolor": "#EBF0F8",
            "linecolor": "#EBF0F8",
            "ticks": ""
           }
          },
          "scene": {
           "xaxis": {
            "backgroundcolor": "white",
            "gridcolor": "#DFE8F3",
            "gridwidth": 2,
            "linecolor": "#EBF0F8",
            "showbackground": true,
            "ticks": "",
            "zerolinecolor": "#EBF0F8"
           },
           "yaxis": {
            "backgroundcolor": "white",
            "gridcolor": "#DFE8F3",
            "gridwidth": 2,
            "linecolor": "#EBF0F8",
            "showbackground": true,
            "ticks": "",
            "zerolinecolor": "#EBF0F8"
           },
           "zaxis": {
            "backgroundcolor": "white",
            "gridcolor": "#DFE8F3",
            "gridwidth": 2,
            "linecolor": "#EBF0F8",
            "showbackground": true,
            "ticks": "",
            "zerolinecolor": "#EBF0F8"
           }
          },
          "shapedefaults": {
           "line": {
            "color": "#2a3f5f"
           }
          },
          "ternary": {
           "aaxis": {
            "gridcolor": "#DFE8F3",
            "linecolor": "#A2B1C6",
            "ticks": ""
           },
           "baxis": {
            "gridcolor": "#DFE8F3",
            "linecolor": "#A2B1C6",
            "ticks": ""
           },
           "bgcolor": "white",
           "caxis": {
            "gridcolor": "#DFE8F3",
            "linecolor": "#A2B1C6",
            "ticks": ""
           }
          },
          "title": {
           "x": 0.05
          },
          "xaxis": {
           "automargin": true,
           "gridcolor": "#EBF0F8",
           "linecolor": "#EBF0F8",
           "ticks": "",
           "title": {
            "standoff": 15
           },
           "zerolinecolor": "#EBF0F8",
           "zerolinewidth": 2
          },
          "yaxis": {
           "automargin": true,
           "gridcolor": "#EBF0F8",
           "linecolor": "#EBF0F8",
           "ticks": "",
           "title": {
            "standoff": 15
           },
           "zerolinecolor": "#EBF0F8",
           "zerolinewidth": 2
          }
         }
        },
        "title": {
         "text": "Grades by Fathers Education"
        },
        "width": 1650,
        "xaxis": {
         "anchor": "y",
         "categoryarray": [
          "AA",
          "BA",
          "BB",
          "CB",
          "CC",
          "DC",
          "DD",
          "Fail"
         ],
         "categoryorder": "array",
         "domain": [
          0,
          1
         ],
         "title": {
          "text": "Grade"
         }
        },
        "yaxis": {
         "anchor": "x",
         "domain": [
          0,
          1
         ],
         "range": [
          0,
          28
         ],
         "title": {
          "text": "# Students"
         }
        }
       }
      }
     },
     "metadata": {},
     "output_type": "display_data"
    }
   ],
   "source": [
    "funs.eda_plotter(data, 'Fathers Education', fathers)"
   ]
  },
  {
   "cell_type": "code",
   "execution_count": 76,
   "metadata": {},
   "outputs": [
    {
     "data": {
      "application/vnd.plotly.v1+json": {
       "config": {
        "plotlyServerURL": "https://plot.ly"
       },
       "data": [
        {
         "alignmentgroup": "True",
         "hovertemplate": "Mothers Education=Ph.D.<br>Grade=%{x}<br>=%{y}<extra></extra>",
         "legendgroup": "Ph.D.",
         "marker": {
          "color": "navy",
          "pattern": {
           "shape": ""
          }
         },
         "name": "Ph.D.",
         "offsetgroup": "Ph.D.",
         "orientation": "v",
         "showlegend": true,
         "textposition": "auto",
         "type": "bar",
         "x": [
          "AA",
          "DC"
         ],
         "xaxis": "x",
         "y": [
          1,
          1
         ],
         "yaxis": "y"
        },
        {
         "alignmentgroup": "True",
         "hovertemplate": "Mothers Education=MSc.<br>Grade=%{x}<br>=%{y}<extra></extra>",
         "legendgroup": "MSc.",
         "marker": {
          "color": "dodgerblue",
          "pattern": {
           "shape": ""
          }
         },
         "name": "MSc.",
         "offsetgroup": "MSc.",
         "orientation": "v",
         "showlegend": true,
         "textposition": "auto",
         "type": "bar",
         "x": [
          "CB",
          "Fail"
         ],
         "xaxis": "x",
         "y": [
          1,
          1
         ],
         "yaxis": "y"
        },
        {
         "alignmentgroup": "True",
         "hovertemplate": "Mothers Education=university<br>Grade=%{x}<br>=%{y}<extra></extra>",
         "legendgroup": "university",
         "marker": {
          "color": "lightseagreen",
          "pattern": {
           "shape": ""
          }
         },
         "name": "university",
         "offsetgroup": "university",
         "orientation": "v",
         "showlegend": true,
         "textposition": "auto",
         "type": "bar",
         "x": [
          "AA",
          "BA",
          "BB",
          "CB",
          "CC",
          "DC",
          "DD"
         ],
         "xaxis": "x",
         "y": [
          4,
          3,
          1,
          3,
          3,
          3,
          4
         ],
         "yaxis": "y"
        },
        {
         "alignmentgroup": "True",
         "hovertemplate": "Mothers Education=high school<br>Grade=%{x}<br>=%{y}<extra></extra>",
         "legendgroup": "high school",
         "marker": {
          "color": "darksalmon",
          "pattern": {
           "shape": ""
          }
         },
         "name": "high school",
         "offsetgroup": "high school",
         "orientation": "v",
         "showlegend": true,
         "textposition": "auto",
         "type": "bar",
         "x": [
          "AA",
          "BA",
          "BB",
          "CC",
          "DC",
          "DD",
          "Fail"
         ],
         "xaxis": "x",
         "y": [
          4,
          5,
          4,
          2,
          10,
          9,
          5
         ],
         "yaxis": "y"
        },
        {
         "alignmentgroup": "True",
         "hovertemplate": "Mothers Education=primary school<br>Grade=%{x}<br>=%{y}<extra></extra>",
         "legendgroup": "primary school",
         "marker": {
          "color": "red",
          "pattern": {
           "shape": ""
          }
         },
         "name": "primary school",
         "offsetgroup": "primary school",
         "orientation": "v",
         "showlegend": true,
         "textposition": "auto",
         "type": "bar",
         "x": [
          "AA",
          "BA",
          "BB",
          "CB",
          "CC",
          "DC",
          "DD",
          "Fail"
         ],
         "xaxis": "x",
         "y": [
          2,
          5,
          9,
          5,
          11,
          5,
          15,
          2
         ],
         "yaxis": "y"
        },
        {
         "alignmentgroup": "True",
         "hovertemplate": "Mothers Education=secondary school<br>Grade=%{x}<br>=%{y}<extra></extra>",
         "legendgroup": "secondary school",
         "marker": {
          "color": "#19d3f3",
          "pattern": {
           "shape": ""
          }
         },
         "name": "secondary school",
         "offsetgroup": "secondary school",
         "orientation": "v",
         "showlegend": true,
         "textposition": "auto",
         "type": "bar",
         "x": [
          "AA",
          "BB",
          "CB",
          "CC",
          "DC",
          "DD"
         ],
         "xaxis": "x",
         "y": [
          6,
          3,
          1,
          5,
          5,
          7
         ],
         "yaxis": "y"
        }
       ],
       "layout": {
        "barmode": "relative",
        "height": 500,
        "legend": {
         "title": {
          "text": "Mothers Education"
         },
         "tracegroupgap": 0
        },
        "margin": {
         "t": 60
        },
        "showlegend": true,
        "template": {
         "data": {
          "bar": [
           {
            "error_x": {
             "color": "#2a3f5f"
            },
            "error_y": {
             "color": "#2a3f5f"
            },
            "marker": {
             "line": {
              "color": "white",
              "width": 0.5
             },
             "pattern": {
              "fillmode": "overlay",
              "size": 10,
              "solidity": 0.2
             }
            },
            "type": "bar"
           }
          ],
          "barpolar": [
           {
            "marker": {
             "line": {
              "color": "white",
              "width": 0.5
             },
             "pattern": {
              "fillmode": "overlay",
              "size": 10,
              "solidity": 0.2
             }
            },
            "type": "barpolar"
           }
          ],
          "carpet": [
           {
            "aaxis": {
             "endlinecolor": "#2a3f5f",
             "gridcolor": "#C8D4E3",
             "linecolor": "#C8D4E3",
             "minorgridcolor": "#C8D4E3",
             "startlinecolor": "#2a3f5f"
            },
            "baxis": {
             "endlinecolor": "#2a3f5f",
             "gridcolor": "#C8D4E3",
             "linecolor": "#C8D4E3",
             "minorgridcolor": "#C8D4E3",
             "startlinecolor": "#2a3f5f"
            },
            "type": "carpet"
           }
          ],
          "choropleth": [
           {
            "colorbar": {
             "outlinewidth": 0,
             "ticks": ""
            },
            "type": "choropleth"
           }
          ],
          "contour": [
           {
            "colorbar": {
             "outlinewidth": 0,
             "ticks": ""
            },
            "colorscale": [
             [
              0,
              "#0d0887"
             ],
             [
              0.1111111111111111,
              "#46039f"
             ],
             [
              0.2222222222222222,
              "#7201a8"
             ],
             [
              0.3333333333333333,
              "#9c179e"
             ],
             [
              0.4444444444444444,
              "#bd3786"
             ],
             [
              0.5555555555555556,
              "#d8576b"
             ],
             [
              0.6666666666666666,
              "#ed7953"
             ],
             [
              0.7777777777777778,
              "#fb9f3a"
             ],
             [
              0.8888888888888888,
              "#fdca26"
             ],
             [
              1,
              "#f0f921"
             ]
            ],
            "type": "contour"
           }
          ],
          "contourcarpet": [
           {
            "colorbar": {
             "outlinewidth": 0,
             "ticks": ""
            },
            "type": "contourcarpet"
           }
          ],
          "heatmap": [
           {
            "colorbar": {
             "outlinewidth": 0,
             "ticks": ""
            },
            "colorscale": [
             [
              0,
              "#0d0887"
             ],
             [
              0.1111111111111111,
              "#46039f"
             ],
             [
              0.2222222222222222,
              "#7201a8"
             ],
             [
              0.3333333333333333,
              "#9c179e"
             ],
             [
              0.4444444444444444,
              "#bd3786"
             ],
             [
              0.5555555555555556,
              "#d8576b"
             ],
             [
              0.6666666666666666,
              "#ed7953"
             ],
             [
              0.7777777777777778,
              "#fb9f3a"
             ],
             [
              0.8888888888888888,
              "#fdca26"
             ],
             [
              1,
              "#f0f921"
             ]
            ],
            "type": "heatmap"
           }
          ],
          "heatmapgl": [
           {
            "colorbar": {
             "outlinewidth": 0,
             "ticks": ""
            },
            "colorscale": [
             [
              0,
              "#0d0887"
             ],
             [
              0.1111111111111111,
              "#46039f"
             ],
             [
              0.2222222222222222,
              "#7201a8"
             ],
             [
              0.3333333333333333,
              "#9c179e"
             ],
             [
              0.4444444444444444,
              "#bd3786"
             ],
             [
              0.5555555555555556,
              "#d8576b"
             ],
             [
              0.6666666666666666,
              "#ed7953"
             ],
             [
              0.7777777777777778,
              "#fb9f3a"
             ],
             [
              0.8888888888888888,
              "#fdca26"
             ],
             [
              1,
              "#f0f921"
             ]
            ],
            "type": "heatmapgl"
           }
          ],
          "histogram": [
           {
            "marker": {
             "pattern": {
              "fillmode": "overlay",
              "size": 10,
              "solidity": 0.2
             }
            },
            "type": "histogram"
           }
          ],
          "histogram2d": [
           {
            "colorbar": {
             "outlinewidth": 0,
             "ticks": ""
            },
            "colorscale": [
             [
              0,
              "#0d0887"
             ],
             [
              0.1111111111111111,
              "#46039f"
             ],
             [
              0.2222222222222222,
              "#7201a8"
             ],
             [
              0.3333333333333333,
              "#9c179e"
             ],
             [
              0.4444444444444444,
              "#bd3786"
             ],
             [
              0.5555555555555556,
              "#d8576b"
             ],
             [
              0.6666666666666666,
              "#ed7953"
             ],
             [
              0.7777777777777778,
              "#fb9f3a"
             ],
             [
              0.8888888888888888,
              "#fdca26"
             ],
             [
              1,
              "#f0f921"
             ]
            ],
            "type": "histogram2d"
           }
          ],
          "histogram2dcontour": [
           {
            "colorbar": {
             "outlinewidth": 0,
             "ticks": ""
            },
            "colorscale": [
             [
              0,
              "#0d0887"
             ],
             [
              0.1111111111111111,
              "#46039f"
             ],
             [
              0.2222222222222222,
              "#7201a8"
             ],
             [
              0.3333333333333333,
              "#9c179e"
             ],
             [
              0.4444444444444444,
              "#bd3786"
             ],
             [
              0.5555555555555556,
              "#d8576b"
             ],
             [
              0.6666666666666666,
              "#ed7953"
             ],
             [
              0.7777777777777778,
              "#fb9f3a"
             ],
             [
              0.8888888888888888,
              "#fdca26"
             ],
             [
              1,
              "#f0f921"
             ]
            ],
            "type": "histogram2dcontour"
           }
          ],
          "mesh3d": [
           {
            "colorbar": {
             "outlinewidth": 0,
             "ticks": ""
            },
            "type": "mesh3d"
           }
          ],
          "parcoords": [
           {
            "line": {
             "colorbar": {
              "outlinewidth": 0,
              "ticks": ""
             }
            },
            "type": "parcoords"
           }
          ],
          "pie": [
           {
            "automargin": true,
            "type": "pie"
           }
          ],
          "scatter": [
           {
            "fillpattern": {
             "fillmode": "overlay",
             "size": 10,
             "solidity": 0.2
            },
            "type": "scatter"
           }
          ],
          "scatter3d": [
           {
            "line": {
             "colorbar": {
              "outlinewidth": 0,
              "ticks": ""
             }
            },
            "marker": {
             "colorbar": {
              "outlinewidth": 0,
              "ticks": ""
             }
            },
            "type": "scatter3d"
           }
          ],
          "scattercarpet": [
           {
            "marker": {
             "colorbar": {
              "outlinewidth": 0,
              "ticks": ""
             }
            },
            "type": "scattercarpet"
           }
          ],
          "scattergeo": [
           {
            "marker": {
             "colorbar": {
              "outlinewidth": 0,
              "ticks": ""
             }
            },
            "type": "scattergeo"
           }
          ],
          "scattergl": [
           {
            "marker": {
             "colorbar": {
              "outlinewidth": 0,
              "ticks": ""
             }
            },
            "type": "scattergl"
           }
          ],
          "scattermapbox": [
           {
            "marker": {
             "colorbar": {
              "outlinewidth": 0,
              "ticks": ""
             }
            },
            "type": "scattermapbox"
           }
          ],
          "scatterpolar": [
           {
            "marker": {
             "colorbar": {
              "outlinewidth": 0,
              "ticks": ""
             }
            },
            "type": "scatterpolar"
           }
          ],
          "scatterpolargl": [
           {
            "marker": {
             "colorbar": {
              "outlinewidth": 0,
              "ticks": ""
             }
            },
            "type": "scatterpolargl"
           }
          ],
          "scatterternary": [
           {
            "marker": {
             "colorbar": {
              "outlinewidth": 0,
              "ticks": ""
             }
            },
            "type": "scatterternary"
           }
          ],
          "surface": [
           {
            "colorbar": {
             "outlinewidth": 0,
             "ticks": ""
            },
            "colorscale": [
             [
              0,
              "#0d0887"
             ],
             [
              0.1111111111111111,
              "#46039f"
             ],
             [
              0.2222222222222222,
              "#7201a8"
             ],
             [
              0.3333333333333333,
              "#9c179e"
             ],
             [
              0.4444444444444444,
              "#bd3786"
             ],
             [
              0.5555555555555556,
              "#d8576b"
             ],
             [
              0.6666666666666666,
              "#ed7953"
             ],
             [
              0.7777777777777778,
              "#fb9f3a"
             ],
             [
              0.8888888888888888,
              "#fdca26"
             ],
             [
              1,
              "#f0f921"
             ]
            ],
            "type": "surface"
           }
          ],
          "table": [
           {
            "cells": {
             "fill": {
              "color": "#EBF0F8"
             },
             "line": {
              "color": "white"
             }
            },
            "header": {
             "fill": {
              "color": "#C8D4E3"
             },
             "line": {
              "color": "white"
             }
            },
            "type": "table"
           }
          ]
         },
         "layout": {
          "annotationdefaults": {
           "arrowcolor": "#2a3f5f",
           "arrowhead": 0,
           "arrowwidth": 1
          },
          "autotypenumbers": "strict",
          "coloraxis": {
           "colorbar": {
            "outlinewidth": 0,
            "ticks": ""
           }
          },
          "colorscale": {
           "diverging": [
            [
             0,
             "#8e0152"
            ],
            [
             0.1,
             "#c51b7d"
            ],
            [
             0.2,
             "#de77ae"
            ],
            [
             0.3,
             "#f1b6da"
            ],
            [
             0.4,
             "#fde0ef"
            ],
            [
             0.5,
             "#f7f7f7"
            ],
            [
             0.6,
             "#e6f5d0"
            ],
            [
             0.7,
             "#b8e186"
            ],
            [
             0.8,
             "#7fbc41"
            ],
            [
             0.9,
             "#4d9221"
            ],
            [
             1,
             "#276419"
            ]
           ],
           "sequential": [
            [
             0,
             "#0d0887"
            ],
            [
             0.1111111111111111,
             "#46039f"
            ],
            [
             0.2222222222222222,
             "#7201a8"
            ],
            [
             0.3333333333333333,
             "#9c179e"
            ],
            [
             0.4444444444444444,
             "#bd3786"
            ],
            [
             0.5555555555555556,
             "#d8576b"
            ],
            [
             0.6666666666666666,
             "#ed7953"
            ],
            [
             0.7777777777777778,
             "#fb9f3a"
            ],
            [
             0.8888888888888888,
             "#fdca26"
            ],
            [
             1,
             "#f0f921"
            ]
           ],
           "sequentialminus": [
            [
             0,
             "#0d0887"
            ],
            [
             0.1111111111111111,
             "#46039f"
            ],
            [
             0.2222222222222222,
             "#7201a8"
            ],
            [
             0.3333333333333333,
             "#9c179e"
            ],
            [
             0.4444444444444444,
             "#bd3786"
            ],
            [
             0.5555555555555556,
             "#d8576b"
            ],
            [
             0.6666666666666666,
             "#ed7953"
            ],
            [
             0.7777777777777778,
             "#fb9f3a"
            ],
            [
             0.8888888888888888,
             "#fdca26"
            ],
            [
             1,
             "#f0f921"
            ]
           ]
          },
          "colorway": [
           "#636efa",
           "#EF553B",
           "#00cc96",
           "#ab63fa",
           "#FFA15A",
           "#19d3f3",
           "#FF6692",
           "#B6E880",
           "#FF97FF",
           "#FECB52"
          ],
          "font": {
           "color": "#2a3f5f"
          },
          "geo": {
           "bgcolor": "white",
           "lakecolor": "white",
           "landcolor": "white",
           "showlakes": true,
           "showland": true,
           "subunitcolor": "#C8D4E3"
          },
          "hoverlabel": {
           "align": "left"
          },
          "hovermode": "closest",
          "mapbox": {
           "style": "light"
          },
          "paper_bgcolor": "white",
          "plot_bgcolor": "white",
          "polar": {
           "angularaxis": {
            "gridcolor": "#EBF0F8",
            "linecolor": "#EBF0F8",
            "ticks": ""
           },
           "bgcolor": "white",
           "radialaxis": {
            "gridcolor": "#EBF0F8",
            "linecolor": "#EBF0F8",
            "ticks": ""
           }
          },
          "scene": {
           "xaxis": {
            "backgroundcolor": "white",
            "gridcolor": "#DFE8F3",
            "gridwidth": 2,
            "linecolor": "#EBF0F8",
            "showbackground": true,
            "ticks": "",
            "zerolinecolor": "#EBF0F8"
           },
           "yaxis": {
            "backgroundcolor": "white",
            "gridcolor": "#DFE8F3",
            "gridwidth": 2,
            "linecolor": "#EBF0F8",
            "showbackground": true,
            "ticks": "",
            "zerolinecolor": "#EBF0F8"
           },
           "zaxis": {
            "backgroundcolor": "white",
            "gridcolor": "#DFE8F3",
            "gridwidth": 2,
            "linecolor": "#EBF0F8",
            "showbackground": true,
            "ticks": "",
            "zerolinecolor": "#EBF0F8"
           }
          },
          "shapedefaults": {
           "line": {
            "color": "#2a3f5f"
           }
          },
          "ternary": {
           "aaxis": {
            "gridcolor": "#DFE8F3",
            "linecolor": "#A2B1C6",
            "ticks": ""
           },
           "baxis": {
            "gridcolor": "#DFE8F3",
            "linecolor": "#A2B1C6",
            "ticks": ""
           },
           "bgcolor": "white",
           "caxis": {
            "gridcolor": "#DFE8F3",
            "linecolor": "#A2B1C6",
            "ticks": ""
           }
          },
          "title": {
           "x": 0.05
          },
          "xaxis": {
           "automargin": true,
           "gridcolor": "#EBF0F8",
           "linecolor": "#EBF0F8",
           "ticks": "",
           "title": {
            "standoff": 15
           },
           "zerolinecolor": "#EBF0F8",
           "zerolinewidth": 2
          },
          "yaxis": {
           "automargin": true,
           "gridcolor": "#EBF0F8",
           "linecolor": "#EBF0F8",
           "ticks": "",
           "title": {
            "standoff": 15
           },
           "zerolinecolor": "#EBF0F8",
           "zerolinewidth": 2
          }
         }
        },
        "title": {
         "text": "Grades by Mothers Education"
        },
        "width": 1650,
        "xaxis": {
         "anchor": "y",
         "categoryarray": [
          "AA",
          "BA",
          "BB",
          "CB",
          "CC",
          "DC",
          "DD",
          "Fail"
         ],
         "categoryorder": "array",
         "domain": [
          0,
          1
         ],
         "title": {
          "text": "Grade"
         }
        },
        "yaxis": {
         "anchor": "x",
         "domain": [
          0,
          1
         ],
         "range": [
          0,
          28
         ],
         "title": {
          "text": "# Students"
         }
        }
       }
      }
     },
     "metadata": {},
     "output_type": "display_data"
    }
   ],
   "source": [
    "funs.eda_plotter(data, 'Mothers Education', fathers)"
   ]
  },
  {
   "attachments": {},
   "cell_type": "markdown",
   "metadata": {},
   "source": [
    "## 2. Data Preparation"
   ]
  },
  {
   "cell_type": "code",
   "execution_count": 77,
   "metadata": {},
   "outputs": [],
   "source": [
    "# Filter data with one apereance.\n",
    "data = data.loc[data['Scholarship'] != 'None']\n",
    "data = data.loc[data['Transportation to University'] != 'bicycle']\n",
    "data = data.loc[data['Accommodation Type'] != 'other']\n",
    "data = data.loc[data['Fathers Education'] != 'Ph.D.']"
   ]
  },
  {
   "cell_type": "code",
   "execution_count": 78,
   "metadata": {},
   "outputs": [],
   "source": [
    "# Create the X matrix and y outcome.\n",
    "y = data['Grade']\n",
    "X = data.drop(['Student ID','Grade'], axis=1)"
   ]
  },
  {
   "cell_type": "code",
   "execution_count": 79,
   "metadata": {},
   "outputs": [],
   "source": [
    "# Get the classes from the outcome. \n",
    "classes = y.sort_values().unique()"
   ]
  },
  {
   "attachments": {},
   "cell_type": "markdown",
   "metadata": {},
   "source": [
    "Error, Data Transformation, K-Fold and Metrics"
   ]
  },
  {
   "cell_type": "code",
   "execution_count": 80,
   "metadata": {},
   "outputs": [],
   "source": [
    "# Create a transformer to one hot encode categorical variables.\n",
    "Transformer = make_column_transformer(\n",
    "    (OneHotEncoder(sparse_output=False), make_column_selector(dtype_include=object)), \n",
    "    remainder=\"passthrough\")\n",
    "\n",
    "# Create a stratified shuffled split.\n",
    "sss = StratifiedShuffleSplit(3, test_size=0.1, random_state=6064)\n",
    "\n",
    "# Set the list of metrics to asses the models' performances.\n",
    "metrics = {'accuracy':make_scorer(accuracy_score, greater_is_better=True),\n",
    "           'precision_macro':make_scorer(precision_score, greater_is_better=True, average='macro', zero_division=0),\n",
    "           'recall_macro':make_scorer(recall_score, greater_is_better=True, average='macro', zero_division=0),\n",
    "           'auc': make_scorer(roc_auc_score, greater_is_better=True, average='macro', needs_proba=True, multi_class='ovr', labels=classes)}"
   ]
  },
  {
   "attachments": {},
   "cell_type": "markdown",
   "metadata": {},
   "source": [
    "Precision and recall provide insights into the model's performance for each class individually, while accuracy gives an overall view of the model's correctness. Since this is a multi-class classification problem, precision and recall are calculated individually for each class and then averaged.\n",
    "\n",
    "\n",
    "Precision: measures the proportion of correctly predicted grades out of all grades predicted as a specific grade. In this case, when predicting an AA grade what proportion of all predicted AA grades where truly AA grades. The procedure is repeated for each individual grade. High precision indicates that the model is good at correctly identifying a specific grade without misclassifying with the other grades. However, it doesn't consider the case when a grade was not predicted as the real grade.\n",
    "\n",
    "\n",
    "Recall: measures the proportion of correctly predicted grades out of all actual grades in the set. In this case, when predicting an AA grade what proportion of all AA grades were predicted as AA grades. The procedure is repeated for each individual grade. High recall indicates that the models good at predicting most of the grades from each category to its real category.\n",
    "\n",
    "\n",
    "Accuracy: measures the overall correctness of the model's predictions across all grades. It calculates the proportion of correctly predicted grades out of the total number of grades. It provides an overall assessment of the model's performance, considering both correct predictions for identifying the real and false grade category. However, it may not be the most informative metric when dealing with imbalanced datasets, where the number of instances in each class varies significantly.\n"
   ]
  },
  {
   "cell_type": "code",
   "execution_count": 81,
   "metadata": {},
   "outputs": [],
   "source": [
    "# Create a label binarizer fitted using y.\n",
    "binarizer = LabelBinarizer().fit(y)\n",
    "\n",
    "# Create a label encoder fitted using y.\n",
    "encoder = LabelEncoder().fit(y)"
   ]
  },
  {
   "attachments": {},
   "cell_type": "markdown",
   "metadata": {},
   "source": [
    "**Train and Test Subsets**\n",
    "\n",
    "Since the data is imbalanced when splitting to the train and test sets the imbalance has to taken into account. The even split is needed so that the data can train using all possible outcomes – with a distribution comparable to the expected in none seen data."
   ]
  },
  {
   "cell_type": "code",
   "execution_count": 82,
   "metadata": {},
   "outputs": [],
   "source": [
    "# Create a train and test set for X and y. Set test size to 20% of the data.\n",
    "X_train, X_test, y_train, y_test = train_test_split(X, y, test_size=0.20, shuffle=True, random_state=1234, stratify=data[['Grade']])"
   ]
  },
  {
   "cell_type": "code",
   "execution_count": 83,
   "metadata": {},
   "outputs": [
    {
     "data": {
      "application/vnd.plotly.v1+json": {
       "config": {
        "plotlyServerURL": "https://plot.ly"
       },
       "data": [
        {
         "domain": {
          "x": [
           0,
           0.45
          ],
          "y": [
           0,
           1
          ]
         },
         "labels": [
          "AA",
          "BA",
          "BB",
          "CB",
          "CC",
          "DC",
          "DD",
          "Fail"
         ],
         "marker": {
          "colors": [
           "firebrick",
           "red",
           "darksalmon",
           "tomato",
           "seagreen",
           "lightseagreen",
           "olive",
           "green",
           "dodgerblue"
          ]
         },
         "name": "Train Set",
         "sort": false,
         "textinfo": "percent+label",
         "textposition": "inside",
         "type": "pie",
         "values": [
          14,
          10,
          14,
          7,
          16,
          18,
          27,
          6
         ]
        },
        {
         "domain": {
          "x": [
           0.55,
           1
          ],
          "y": [
           0,
           1
          ]
         },
         "labels": [
          "AA",
          "BA",
          "BB",
          "CB",
          "CC",
          "DC",
          "DD",
          "Fail"
         ],
         "marker": {
          "colors": [
           "firebrick",
           "red",
           "darksalmon",
           "tomato",
           "seagreen",
           "lightseagreen",
           "olive",
           "green",
           "dodgerblue"
          ]
         },
         "name": "Test Set",
         "sort": false,
         "textinfo": "percent+label",
         "textposition": "inside",
         "type": "pie",
         "values": [
          3,
          3,
          3,
          2,
          4,
          5,
          7,
          2
         ]
        }
       ],
       "layout": {
        "annotations": [
         {
          "font": {
           "size": 16
          },
          "showarrow": false,
          "text": "Train Set",
          "x": 0.225,
          "xanchor": "center",
          "xref": "paper",
          "y": 1,
          "yanchor": "bottom",
          "yref": "paper"
         },
         {
          "font": {
           "size": 16
          },
          "showarrow": false,
          "text": "Test Set",
          "x": 0.775,
          "xanchor": "center",
          "xref": "paper",
          "y": 1,
          "yanchor": "bottom",
          "yref": "paper"
         }
        ],
        "height": 650,
        "showlegend": false,
        "template": {
         "data": {
          "bar": [
           {
            "error_x": {
             "color": "#2a3f5f"
            },
            "error_y": {
             "color": "#2a3f5f"
            },
            "marker": {
             "line": {
              "color": "white",
              "width": 0.5
             },
             "pattern": {
              "fillmode": "overlay",
              "size": 10,
              "solidity": 0.2
             }
            },
            "type": "bar"
           }
          ],
          "barpolar": [
           {
            "marker": {
             "line": {
              "color": "white",
              "width": 0.5
             },
             "pattern": {
              "fillmode": "overlay",
              "size": 10,
              "solidity": 0.2
             }
            },
            "type": "barpolar"
           }
          ],
          "carpet": [
           {
            "aaxis": {
             "endlinecolor": "#2a3f5f",
             "gridcolor": "#C8D4E3",
             "linecolor": "#C8D4E3",
             "minorgridcolor": "#C8D4E3",
             "startlinecolor": "#2a3f5f"
            },
            "baxis": {
             "endlinecolor": "#2a3f5f",
             "gridcolor": "#C8D4E3",
             "linecolor": "#C8D4E3",
             "minorgridcolor": "#C8D4E3",
             "startlinecolor": "#2a3f5f"
            },
            "type": "carpet"
           }
          ],
          "choropleth": [
           {
            "colorbar": {
             "outlinewidth": 0,
             "ticks": ""
            },
            "type": "choropleth"
           }
          ],
          "contour": [
           {
            "colorbar": {
             "outlinewidth": 0,
             "ticks": ""
            },
            "colorscale": [
             [
              0,
              "#0d0887"
             ],
             [
              0.1111111111111111,
              "#46039f"
             ],
             [
              0.2222222222222222,
              "#7201a8"
             ],
             [
              0.3333333333333333,
              "#9c179e"
             ],
             [
              0.4444444444444444,
              "#bd3786"
             ],
             [
              0.5555555555555556,
              "#d8576b"
             ],
             [
              0.6666666666666666,
              "#ed7953"
             ],
             [
              0.7777777777777778,
              "#fb9f3a"
             ],
             [
              0.8888888888888888,
              "#fdca26"
             ],
             [
              1,
              "#f0f921"
             ]
            ],
            "type": "contour"
           }
          ],
          "contourcarpet": [
           {
            "colorbar": {
             "outlinewidth": 0,
             "ticks": ""
            },
            "type": "contourcarpet"
           }
          ],
          "heatmap": [
           {
            "colorbar": {
             "outlinewidth": 0,
             "ticks": ""
            },
            "colorscale": [
             [
              0,
              "#0d0887"
             ],
             [
              0.1111111111111111,
              "#46039f"
             ],
             [
              0.2222222222222222,
              "#7201a8"
             ],
             [
              0.3333333333333333,
              "#9c179e"
             ],
             [
              0.4444444444444444,
              "#bd3786"
             ],
             [
              0.5555555555555556,
              "#d8576b"
             ],
             [
              0.6666666666666666,
              "#ed7953"
             ],
             [
              0.7777777777777778,
              "#fb9f3a"
             ],
             [
              0.8888888888888888,
              "#fdca26"
             ],
             [
              1,
              "#f0f921"
             ]
            ],
            "type": "heatmap"
           }
          ],
          "heatmapgl": [
           {
            "colorbar": {
             "outlinewidth": 0,
             "ticks": ""
            },
            "colorscale": [
             [
              0,
              "#0d0887"
             ],
             [
              0.1111111111111111,
              "#46039f"
             ],
             [
              0.2222222222222222,
              "#7201a8"
             ],
             [
              0.3333333333333333,
              "#9c179e"
             ],
             [
              0.4444444444444444,
              "#bd3786"
             ],
             [
              0.5555555555555556,
              "#d8576b"
             ],
             [
              0.6666666666666666,
              "#ed7953"
             ],
             [
              0.7777777777777778,
              "#fb9f3a"
             ],
             [
              0.8888888888888888,
              "#fdca26"
             ],
             [
              1,
              "#f0f921"
             ]
            ],
            "type": "heatmapgl"
           }
          ],
          "histogram": [
           {
            "marker": {
             "pattern": {
              "fillmode": "overlay",
              "size": 10,
              "solidity": 0.2
             }
            },
            "type": "histogram"
           }
          ],
          "histogram2d": [
           {
            "colorbar": {
             "outlinewidth": 0,
             "ticks": ""
            },
            "colorscale": [
             [
              0,
              "#0d0887"
             ],
             [
              0.1111111111111111,
              "#46039f"
             ],
             [
              0.2222222222222222,
              "#7201a8"
             ],
             [
              0.3333333333333333,
              "#9c179e"
             ],
             [
              0.4444444444444444,
              "#bd3786"
             ],
             [
              0.5555555555555556,
              "#d8576b"
             ],
             [
              0.6666666666666666,
              "#ed7953"
             ],
             [
              0.7777777777777778,
              "#fb9f3a"
             ],
             [
              0.8888888888888888,
              "#fdca26"
             ],
             [
              1,
              "#f0f921"
             ]
            ],
            "type": "histogram2d"
           }
          ],
          "histogram2dcontour": [
           {
            "colorbar": {
             "outlinewidth": 0,
             "ticks": ""
            },
            "colorscale": [
             [
              0,
              "#0d0887"
             ],
             [
              0.1111111111111111,
              "#46039f"
             ],
             [
              0.2222222222222222,
              "#7201a8"
             ],
             [
              0.3333333333333333,
              "#9c179e"
             ],
             [
              0.4444444444444444,
              "#bd3786"
             ],
             [
              0.5555555555555556,
              "#d8576b"
             ],
             [
              0.6666666666666666,
              "#ed7953"
             ],
             [
              0.7777777777777778,
              "#fb9f3a"
             ],
             [
              0.8888888888888888,
              "#fdca26"
             ],
             [
              1,
              "#f0f921"
             ]
            ],
            "type": "histogram2dcontour"
           }
          ],
          "mesh3d": [
           {
            "colorbar": {
             "outlinewidth": 0,
             "ticks": ""
            },
            "type": "mesh3d"
           }
          ],
          "parcoords": [
           {
            "line": {
             "colorbar": {
              "outlinewidth": 0,
              "ticks": ""
             }
            },
            "type": "parcoords"
           }
          ],
          "pie": [
           {
            "automargin": true,
            "type": "pie"
           }
          ],
          "scatter": [
           {
            "fillpattern": {
             "fillmode": "overlay",
             "size": 10,
             "solidity": 0.2
            },
            "type": "scatter"
           }
          ],
          "scatter3d": [
           {
            "line": {
             "colorbar": {
              "outlinewidth": 0,
              "ticks": ""
             }
            },
            "marker": {
             "colorbar": {
              "outlinewidth": 0,
              "ticks": ""
             }
            },
            "type": "scatter3d"
           }
          ],
          "scattercarpet": [
           {
            "marker": {
             "colorbar": {
              "outlinewidth": 0,
              "ticks": ""
             }
            },
            "type": "scattercarpet"
           }
          ],
          "scattergeo": [
           {
            "marker": {
             "colorbar": {
              "outlinewidth": 0,
              "ticks": ""
             }
            },
            "type": "scattergeo"
           }
          ],
          "scattergl": [
           {
            "marker": {
             "colorbar": {
              "outlinewidth": 0,
              "ticks": ""
             }
            },
            "type": "scattergl"
           }
          ],
          "scattermapbox": [
           {
            "marker": {
             "colorbar": {
              "outlinewidth": 0,
              "ticks": ""
             }
            },
            "type": "scattermapbox"
           }
          ],
          "scatterpolar": [
           {
            "marker": {
             "colorbar": {
              "outlinewidth": 0,
              "ticks": ""
             }
            },
            "type": "scatterpolar"
           }
          ],
          "scatterpolargl": [
           {
            "marker": {
             "colorbar": {
              "outlinewidth": 0,
              "ticks": ""
             }
            },
            "type": "scatterpolargl"
           }
          ],
          "scatterternary": [
           {
            "marker": {
             "colorbar": {
              "outlinewidth": 0,
              "ticks": ""
             }
            },
            "type": "scatterternary"
           }
          ],
          "surface": [
           {
            "colorbar": {
             "outlinewidth": 0,
             "ticks": ""
            },
            "colorscale": [
             [
              0,
              "#0d0887"
             ],
             [
              0.1111111111111111,
              "#46039f"
             ],
             [
              0.2222222222222222,
              "#7201a8"
             ],
             [
              0.3333333333333333,
              "#9c179e"
             ],
             [
              0.4444444444444444,
              "#bd3786"
             ],
             [
              0.5555555555555556,
              "#d8576b"
             ],
             [
              0.6666666666666666,
              "#ed7953"
             ],
             [
              0.7777777777777778,
              "#fb9f3a"
             ],
             [
              0.8888888888888888,
              "#fdca26"
             ],
             [
              1,
              "#f0f921"
             ]
            ],
            "type": "surface"
           }
          ],
          "table": [
           {
            "cells": {
             "fill": {
              "color": "#EBF0F8"
             },
             "line": {
              "color": "white"
             }
            },
            "header": {
             "fill": {
              "color": "#C8D4E3"
             },
             "line": {
              "color": "white"
             }
            },
            "type": "table"
           }
          ]
         },
         "layout": {
          "annotationdefaults": {
           "arrowcolor": "#2a3f5f",
           "arrowhead": 0,
           "arrowwidth": 1
          },
          "autotypenumbers": "strict",
          "coloraxis": {
           "colorbar": {
            "outlinewidth": 0,
            "ticks": ""
           }
          },
          "colorscale": {
           "diverging": [
            [
             0,
             "#8e0152"
            ],
            [
             0.1,
             "#c51b7d"
            ],
            [
             0.2,
             "#de77ae"
            ],
            [
             0.3,
             "#f1b6da"
            ],
            [
             0.4,
             "#fde0ef"
            ],
            [
             0.5,
             "#f7f7f7"
            ],
            [
             0.6,
             "#e6f5d0"
            ],
            [
             0.7,
             "#b8e186"
            ],
            [
             0.8,
             "#7fbc41"
            ],
            [
             0.9,
             "#4d9221"
            ],
            [
             1,
             "#276419"
            ]
           ],
           "sequential": [
            [
             0,
             "#0d0887"
            ],
            [
             0.1111111111111111,
             "#46039f"
            ],
            [
             0.2222222222222222,
             "#7201a8"
            ],
            [
             0.3333333333333333,
             "#9c179e"
            ],
            [
             0.4444444444444444,
             "#bd3786"
            ],
            [
             0.5555555555555556,
             "#d8576b"
            ],
            [
             0.6666666666666666,
             "#ed7953"
            ],
            [
             0.7777777777777778,
             "#fb9f3a"
            ],
            [
             0.8888888888888888,
             "#fdca26"
            ],
            [
             1,
             "#f0f921"
            ]
           ],
           "sequentialminus": [
            [
             0,
             "#0d0887"
            ],
            [
             0.1111111111111111,
             "#46039f"
            ],
            [
             0.2222222222222222,
             "#7201a8"
            ],
            [
             0.3333333333333333,
             "#9c179e"
            ],
            [
             0.4444444444444444,
             "#bd3786"
            ],
            [
             0.5555555555555556,
             "#d8576b"
            ],
            [
             0.6666666666666666,
             "#ed7953"
            ],
            [
             0.7777777777777778,
             "#fb9f3a"
            ],
            [
             0.8888888888888888,
             "#fdca26"
            ],
            [
             1,
             "#f0f921"
            ]
           ]
          },
          "colorway": [
           "#636efa",
           "#EF553B",
           "#00cc96",
           "#ab63fa",
           "#FFA15A",
           "#19d3f3",
           "#FF6692",
           "#B6E880",
           "#FF97FF",
           "#FECB52"
          ],
          "font": {
           "color": "#2a3f5f"
          },
          "geo": {
           "bgcolor": "white",
           "lakecolor": "white",
           "landcolor": "white",
           "showlakes": true,
           "showland": true,
           "subunitcolor": "#C8D4E3"
          },
          "hoverlabel": {
           "align": "left"
          },
          "hovermode": "closest",
          "mapbox": {
           "style": "light"
          },
          "paper_bgcolor": "white",
          "plot_bgcolor": "white",
          "polar": {
           "angularaxis": {
            "gridcolor": "#EBF0F8",
            "linecolor": "#EBF0F8",
            "ticks": ""
           },
           "bgcolor": "white",
           "radialaxis": {
            "gridcolor": "#EBF0F8",
            "linecolor": "#EBF0F8",
            "ticks": ""
           }
          },
          "scene": {
           "xaxis": {
            "backgroundcolor": "white",
            "gridcolor": "#DFE8F3",
            "gridwidth": 2,
            "linecolor": "#EBF0F8",
            "showbackground": true,
            "ticks": "",
            "zerolinecolor": "#EBF0F8"
           },
           "yaxis": {
            "backgroundcolor": "white",
            "gridcolor": "#DFE8F3",
            "gridwidth": 2,
            "linecolor": "#EBF0F8",
            "showbackground": true,
            "ticks": "",
            "zerolinecolor": "#EBF0F8"
           },
           "zaxis": {
            "backgroundcolor": "white",
            "gridcolor": "#DFE8F3",
            "gridwidth": 2,
            "linecolor": "#EBF0F8",
            "showbackground": true,
            "ticks": "",
            "zerolinecolor": "#EBF0F8"
           }
          },
          "shapedefaults": {
           "line": {
            "color": "#2a3f5f"
           }
          },
          "ternary": {
           "aaxis": {
            "gridcolor": "#DFE8F3",
            "linecolor": "#A2B1C6",
            "ticks": ""
           },
           "baxis": {
            "gridcolor": "#DFE8F3",
            "linecolor": "#A2B1C6",
            "ticks": ""
           },
           "bgcolor": "white",
           "caxis": {
            "gridcolor": "#DFE8F3",
            "linecolor": "#A2B1C6",
            "ticks": ""
           }
          },
          "title": {
           "x": 0.05
          },
          "xaxis": {
           "automargin": true,
           "gridcolor": "#EBF0F8",
           "linecolor": "#EBF0F8",
           "ticks": "",
           "title": {
            "standoff": 15
           },
           "zerolinecolor": "#EBF0F8",
           "zerolinewidth": 2
          },
          "yaxis": {
           "automargin": true,
           "gridcolor": "#EBF0F8",
           "linecolor": "#EBF0F8",
           "ticks": "",
           "title": {
            "standoff": 15
           },
           "zerolinecolor": "#EBF0F8",
           "zerolinewidth": 2
          }
         }
        },
        "title": {
         "font": {
          "size": 20
         },
         "text": "Grades % Distribution Train & Test Sets"
        },
        "width": 1650
       }
      }
     },
     "metadata": {},
     "output_type": "display_data"
    }
   ],
   "source": [
    "weights = funs.grades_distribution([y_train, y_test], ['Train Set', 'Test Set'])"
   ]
  },
  {
   "attachments": {},
   "cell_type": "markdown",
   "metadata": {},
   "source": [
    "## 3. Classification Study\n",
    "\n",
    "The following list shows the estimators –and their parameters– that are studied to identify the best possible model:\n",
    "\n",
    "```python\n",
    "log = LogisticRegression(penalty=None, random_state=6064, solver='saga', max_iter=7500, multi_class='multinomial', n_jobs=-1)\n",
    "l1 = LogisticRegression(penalty='l1', random_state=6064, solver='saga', max_iter=7500, multi_class='multinomial', n_jobs=-1)\n",
    "l2 = LogisticRegression(penalty='l2', random_state=6064, solver='sag', max_iter=10500, multi_class='multinomial', n_jobs=-1)\n",
    "net = LogisticRegression(penalty='elasticnet', random_state=6064, solver='saga', max_iter=10500, multi_class='multinomial', n_jobs=-1, l1_ratio=0.5)\n",
    "sgd = SGDClassifier(loss='modified_huber', penalty=None, max_iter=7500, n_jobs=-1, random_state=6064)\n",
    "mlp = MLPClassifier(solver='adam', max_iter=4500, random_state=6064)\n",
    "dtc = DecisionTreeClassifier(random_state=6064)\n",
    "rfc = RandomForestClassifier(random_state=6064, n_jobs=1)\n",
    "etc = ExtraTreeClassifier(random_state=6064)\n",
    "ets = ExtraTreesClassifier(random_state=6064, n_jobs=1)\n",
    "abc = AdaBoostClassifier(random_state=6064)\n",
    "gpc = GaussianProcessClassifier(kernel=RBF(0.05), random_state=6064, n_jobs=1)\n",
    "gbc = GradientBoostingClassifier(loss='log_loss', random_state=6064)\n",
    "svc = SVC(kernel=RBF(), probability=True)\n",
    "```"
   ]
  },
  {
   "cell_type": "code",
   "execution_count": 84,
   "metadata": {},
   "outputs": [],
   "source": [
    "log = LogisticRegression(penalty=None, random_state=6064, solver='saga', max_iter=7500, multi_class='multinomial', n_jobs=-1)\n",
    "l1 = LogisticRegression(penalty='l1', random_state=6064, solver='saga', max_iter=7500, multi_class='multinomial', n_jobs=-1)\n",
    "l2 = LogisticRegression(penalty='l2', random_state=6064, solver='sag', max_iter=10500, multi_class='multinomial', n_jobs=-1)\n",
    "net = LogisticRegression(penalty='elasticnet', random_state=6064, solver='saga', max_iter=10500, multi_class='multinomial', n_jobs=-1, l1_ratio=0.5)\n",
    "sgd = SGDClassifier(loss='modified_huber', penalty=None, max_iter=7500, n_jobs=-1, random_state=6064)\n",
    "mlp = MLPClassifier(solver='adam', max_iter=4500, random_state=6064)\n",
    "dtc = DecisionTreeClassifier(random_state=6064)\n",
    "rfc = RandomForestClassifier(random_state=6064, n_jobs=1)\n",
    "etc = ExtraTreeClassifier(random_state=6064)\n",
    "ets = ExtraTreesClassifier(random_state=6064, n_jobs=1)\n",
    "abc = AdaBoostClassifier(random_state=6064)\n",
    "gpc = GaussianProcessClassifier(kernel=RBF(0.05), random_state=6064, n_jobs=1)\n",
    "gbc = GradientBoostingClassifier(loss='log_loss', random_state=6064)\n",
    "svc = SVC(kernel=RBF(), probability=True)"
   ]
  },
  {
   "cell_type": "code",
   "execution_count": 85,
   "metadata": {},
   "outputs": [],
   "source": [
    "validation = []"
   ]
  },
  {
   "cell_type": "code",
   "execution_count": 86,
   "metadata": {},
   "outputs": [],
   "source": [
    "estimators = [log, l1, l2, net, sgd, mlp, dtc, rfc, etc, abc, ets, gpc, gbc, svc]"
   ]
  },
  {
   "attachments": {},
   "cell_type": "markdown",
   "metadata": {},
   "source": [
    "### 3.1 Standard Estimators"
   ]
  },
  {
   "cell_type": "code",
   "execution_count": 87,
   "metadata": {},
   "outputs": [],
   "source": [
    "train, validate = funs.cv_models_performance(estimators, Transformer, X_train, y_train, metrics, sss)"
   ]
  },
  {
   "cell_type": "code",
   "execution_count": 88,
   "metadata": {},
   "outputs": [
    {
     "data": {
      "application/vnd.plotly.v1+json": {
       "config": {
        "plotlyServerURL": "https://plot.ly"
       },
       "data": [
        {
         "hovertemplate": "<b>%{x}:</b> \t %{y}",
         "marker": {
          "color": "maroon"
         },
         "name": "logisticregression",
         "type": "bar",
         "x": [
          "Accuracy",
          "Recall weighted",
          "Precision weighted",
          "AUC"
         ],
         "xaxis": "x",
         "y": [
          1,
          1,
          1,
          1
         ],
         "yaxis": "y"
        },
        {
         "hovertemplate": "<b>%{x}:</b> \t %{y}",
         "marker": {
          "color": "maroon"
         },
         "name": "logisticregression",
         "showlegend": false,
         "type": "bar",
         "x": [
          "Accuracy",
          "Recall weighted",
          "Precision weighted",
          "AUC"
         ],
         "xaxis": "x2",
         "y": [
          0.25,
          0.2292,
          0.1889,
          0.6257
         ],
         "yaxis": "y2"
        },
        {
         "hovertemplate": "<b>%{x}:</b> \t %{y}",
         "marker": {
          "color": "red"
         },
         "name": "logisticregression_l1",
         "type": "bar",
         "x": [
          "Accuracy",
          "Recall weighted",
          "Precision weighted",
          "AUC"
         ],
         "xaxis": "x",
         "y": [
          0.8833,
          0.841,
          0.9128,
          0.9941
         ],
         "yaxis": "y"
        },
        {
         "hovertemplate": "<b>%{x}:</b> \t %{y}",
         "marker": {
          "color": "red"
         },
         "name": "logisticregression_l1",
         "showlegend": false,
         "type": "bar",
         "x": [
          "Accuracy",
          "Recall weighted",
          "Precision weighted",
          "AUC"
         ],
         "xaxis": "x2",
         "y": [
          0.3333,
          0.2917,
          0.2236,
          0.7147
         ],
         "yaxis": "y2"
        },
        {
         "hovertemplate": "<b>%{x}:</b> \t %{y}",
         "marker": {
          "color": "tomato"
         },
         "name": "logisticregression_l2",
         "type": "bar",
         "x": [
          "Accuracy",
          "Recall weighted",
          "Precision weighted",
          "AUC"
         ],
         "xaxis": "x",
         "y": [
          1,
          1,
          1,
          1
         ],
         "yaxis": "y"
        },
        {
         "hovertemplate": "<b>%{x}:</b> \t %{y}",
         "marker": {
          "color": "tomato"
         },
         "name": "logisticregression_l2",
         "showlegend": false,
         "type": "bar",
         "x": [
          "Accuracy",
          "Recall weighted",
          "Precision weighted",
          "AUC"
         ],
         "xaxis": "x2",
         "y": [
          0.25,
          0.1944,
          0.1565,
          0.6443
         ],
         "yaxis": "y2"
        },
        {
         "hovertemplate": "<b>%{x}:</b> \t %{y}",
         "marker": {
          "color": "darksalmon"
         },
         "name": "logisticregression_elasticnet",
         "type": "bar",
         "x": [
          "Accuracy",
          "Recall weighted",
          "Precision weighted",
          "AUC"
         ],
         "xaxis": "x",
         "y": [
          0.9833,
          0.987,
          0.9919,
          0.9996
         ],
         "yaxis": "y"
        },
        {
         "hovertemplate": "<b>%{x}:</b> \t %{y}",
         "marker": {
          "color": "darksalmon"
         },
         "name": "logisticregression_elasticnet",
         "showlegend": false,
         "type": "bar",
         "x": [
          "Accuracy",
          "Recall weighted",
          "Precision weighted",
          "AUC"
         ],
         "xaxis": "x2",
         "y": [
          0.3056,
          0.2639,
          0.2108,
          0.6838
         ],
         "yaxis": "y2"
        },
        {
         "hovertemplate": "<b>%{x}:</b> \t %{y}",
         "marker": {
          "color": "firebrick"
         },
         "name": "sgd",
         "type": "bar",
         "x": [
          "Accuracy",
          "Recall weighted",
          "Precision weighted",
          "AUC"
         ],
         "xaxis": "x",
         "y": [
          1,
          1,
          1,
          1
         ],
         "yaxis": "y"
        },
        {
         "hovertemplate": "<b>%{x}:</b> \t %{y}",
         "marker": {
          "color": "firebrick"
         },
         "name": "sgd",
         "showlegend": false,
         "type": "bar",
         "x": [
          "Accuracy",
          "Recall weighted",
          "Precision weighted",
          "AUC"
         ],
         "xaxis": "x2",
         "y": [
          0.2778,
          0.25,
          0.1935,
          0.5518
         ],
         "yaxis": "y2"
        },
        {
         "hovertemplate": "<b>%{x}:</b> \t %{y}",
         "marker": {
          "color": "darkseagreen"
         },
         "name": "mlp",
         "type": "bar",
         "x": [
          "Accuracy",
          "Recall weighted",
          "Precision weighted",
          "AUC"
         ],
         "xaxis": "x",
         "y": [
          1,
          1,
          1,
          1
         ],
         "yaxis": "y"
        },
        {
         "hovertemplate": "<b>%{x}:</b> \t %{y}",
         "marker": {
          "color": "darkseagreen"
         },
         "name": "mlp",
         "showlegend": false,
         "type": "bar",
         "x": [
          "Accuracy",
          "Recall weighted",
          "Precision weighted",
          "AUC"
         ],
         "xaxis": "x2",
         "y": [
          0.3611,
          0.3125,
          0.2413,
          0.6359
         ],
         "yaxis": "y2"
        },
        {
         "hovertemplate": "<b>%{x}:</b> \t %{y}",
         "marker": {
          "color": "seagreen"
         },
         "name": "decisiontree",
         "type": "bar",
         "x": [
          "Accuracy",
          "Recall weighted",
          "Precision weighted",
          "AUC"
         ],
         "xaxis": "x",
         "y": [
          1,
          1,
          1,
          1
         ],
         "yaxis": "y"
        },
        {
         "hovertemplate": "<b>%{x}:</b> \t %{y}",
         "marker": {
          "color": "seagreen"
         },
         "name": "decisiontree",
         "showlegend": false,
         "type": "bar",
         "x": [
          "Accuracy",
          "Recall weighted",
          "Precision weighted",
          "AUC"
         ],
         "xaxis": "x2",
         "y": [
          0.1667,
          0.1319,
          0.1035,
          0.5035
         ],
         "yaxis": "y2"
        },
        {
         "hovertemplate": "<b>%{x}:</b> \t %{y}",
         "marker": {
          "color": "lightseagreen"
         },
         "name": "randomforest",
         "type": "bar",
         "x": [
          "Accuracy",
          "Recall weighted",
          "Precision weighted",
          "AUC"
         ],
         "xaxis": "x",
         "y": [
          1,
          1,
          1,
          1
         ],
         "yaxis": "y"
        },
        {
         "hovertemplate": "<b>%{x}:</b> \t %{y}",
         "marker": {
          "color": "lightseagreen"
         },
         "name": "randomforest",
         "showlegend": false,
         "type": "bar",
         "x": [
          "Accuracy",
          "Recall weighted",
          "Precision weighted",
          "AUC"
         ],
         "xaxis": "x2",
         "y": [
          0.4167,
          0.3472,
          0.2917,
          0.6957
         ],
         "yaxis": "y2"
        },
        {
         "hovertemplate": "<b>%{x}:</b> \t %{y}",
         "marker": {
          "color": "olive"
         },
         "name": "extratree",
         "type": "bar",
         "x": [
          "Accuracy",
          "Recall weighted",
          "Precision weighted",
          "AUC"
         ],
         "xaxis": "x",
         "y": [
          1,
          1,
          1,
          1
         ],
         "yaxis": "y"
        },
        {
         "hovertemplate": "<b>%{x}:</b> \t %{y}",
         "marker": {
          "color": "olive"
         },
         "name": "extratree",
         "showlegend": false,
         "type": "bar",
         "x": [
          "Accuracy",
          "Recall weighted",
          "Precision weighted",
          "AUC"
         ],
         "xaxis": "x2",
         "y": [
          0.1389,
          0.1528,
          0.1215,
          0.5126
         ],
         "yaxis": "y2"
        },
        {
         "hovertemplate": "<b>%{x}:</b> \t %{y}",
         "marker": {
          "color": "green"
         },
         "name": "adaboost",
         "type": "bar",
         "x": [
          "Accuracy",
          "Recall weighted",
          "Precision weighted",
          "AUC"
         ],
         "xaxis": "x",
         "y": [
          0.3967,
          0.3087,
          0.2635,
          0.6855
         ],
         "yaxis": "y"
        },
        {
         "hovertemplate": "<b>%{x}:</b> \t %{y}",
         "marker": {
          "color": "green"
         },
         "name": "adaboost",
         "showlegend": false,
         "type": "bar",
         "x": [
          "Accuracy",
          "Recall weighted",
          "Precision weighted",
          "AUC"
         ],
         "xaxis": "x2",
         "y": [
          0.25,
          0.1597,
          0.0846,
          0.6077
         ],
         "yaxis": "y2"
        },
        {
         "hovertemplate": "<b>%{x}:</b> \t %{y}",
         "marker": {
          "color": "dodgerblue"
         },
         "name": "extratrees",
         "type": "bar",
         "x": [
          "Accuracy",
          "Recall weighted",
          "Precision weighted",
          "AUC"
         ],
         "xaxis": "x",
         "y": [
          1,
          1,
          1,
          1
         ],
         "yaxis": "y"
        },
        {
         "hovertemplate": "<b>%{x}:</b> \t %{y}",
         "marker": {
          "color": "dodgerblue"
         },
         "name": "extratrees",
         "showlegend": false,
         "type": "bar",
         "x": [
          "Accuracy",
          "Recall weighted",
          "Precision weighted",
          "AUC"
         ],
         "xaxis": "x2",
         "y": [
          0.4167,
          0.375,
          0.3431,
          0.723
         ],
         "yaxis": "y2"
        },
        {
         "hovertemplate": "<b>%{x}:</b> \t %{y}",
         "marker": {
          "color": "deepskyblue"
         },
         "name": "gaussianprocess",
         "type": "bar",
         "x": [
          "Accuracy",
          "Recall weighted",
          "Precision weighted",
          "AUC"
         ],
         "xaxis": "x",
         "y": [
          1,
          1,
          1,
          1
         ],
         "yaxis": "y"
        },
        {
         "hovertemplate": "<b>%{x}:</b> \t %{y}",
         "marker": {
          "color": "deepskyblue"
         },
         "name": "gaussianprocess",
         "showlegend": false,
         "type": "bar",
         "x": [
          "Accuracy",
          "Recall weighted",
          "Precision weighted",
          "AUC"
         ],
         "xaxis": "x2",
         "y": [
          0.0833,
          0.125,
          0.0104,
          0.5
         ],
         "yaxis": "y2"
        },
        {
         "hovertemplate": "<b>%{x}:</b> \t %{y}",
         "marker": {
          "color": "navy"
         },
         "name": "gradientboosting",
         "type": "bar",
         "x": [
          "Accuracy",
          "Recall weighted",
          "Precision weighted",
          "AUC"
         ],
         "xaxis": "x",
         "y": [
          1,
          1,
          1,
          1
         ],
         "yaxis": "y"
        },
        {
         "hovertemplate": "<b>%{x}:</b> \t %{y}",
         "marker": {
          "color": "navy"
         },
         "name": "gradientboosting",
         "showlegend": false,
         "type": "bar",
         "x": [
          "Accuracy",
          "Recall weighted",
          "Precision weighted",
          "AUC"
         ],
         "xaxis": "x2",
         "y": [
          0.3889,
          0.3958,
          0.309,
          0.6614
         ],
         "yaxis": "y2"
        },
        {
         "hovertemplate": "<b>%{x}:</b> \t %{y}",
         "marker": {
          "color": "blue"
         },
         "name": "svc",
         "type": "bar",
         "x": [
          "Accuracy",
          "Recall weighted",
          "Precision weighted",
          "AUC"
         ],
         "xaxis": "x",
         "y": [
          1,
          1,
          1,
          0
         ],
         "yaxis": "y"
        },
        {
         "hovertemplate": "<b>%{x}:</b> \t %{y}",
         "marker": {
          "color": "blue"
         },
         "name": "svc",
         "showlegend": false,
         "type": "bar",
         "x": [
          "Accuracy",
          "Recall weighted",
          "Precision weighted",
          "AUC"
         ],
         "xaxis": "x2",
         "y": [
          0.25,
          0.125,
          0.0312,
          0.3298
         ],
         "yaxis": "y2"
        }
       ],
       "layout": {
        "annotations": [
         {
          "font": {
           "size": 16
          },
          "showarrow": false,
          "text": "Train Set",
          "x": 0.24375,
          "xanchor": "center",
          "xref": "paper",
          "y": 1,
          "yanchor": "bottom",
          "yref": "paper"
         },
         {
          "font": {
           "size": 16
          },
          "showarrow": false,
          "text": "Validation Set",
          "x": 0.75625,
          "xanchor": "center",
          "xref": "paper",
          "y": 1,
          "yanchor": "bottom",
          "yref": "paper"
         }
        ],
        "height": 600,
        "showlegend": true,
        "template": {
         "data": {
          "bar": [
           {
            "error_x": {
             "color": "#2a3f5f"
            },
            "error_y": {
             "color": "#2a3f5f"
            },
            "marker": {
             "line": {
              "color": "white",
              "width": 0.5
             },
             "pattern": {
              "fillmode": "overlay",
              "size": 10,
              "solidity": 0.2
             }
            },
            "type": "bar"
           }
          ],
          "barpolar": [
           {
            "marker": {
             "line": {
              "color": "white",
              "width": 0.5
             },
             "pattern": {
              "fillmode": "overlay",
              "size": 10,
              "solidity": 0.2
             }
            },
            "type": "barpolar"
           }
          ],
          "carpet": [
           {
            "aaxis": {
             "endlinecolor": "#2a3f5f",
             "gridcolor": "#C8D4E3",
             "linecolor": "#C8D4E3",
             "minorgridcolor": "#C8D4E3",
             "startlinecolor": "#2a3f5f"
            },
            "baxis": {
             "endlinecolor": "#2a3f5f",
             "gridcolor": "#C8D4E3",
             "linecolor": "#C8D4E3",
             "minorgridcolor": "#C8D4E3",
             "startlinecolor": "#2a3f5f"
            },
            "type": "carpet"
           }
          ],
          "choropleth": [
           {
            "colorbar": {
             "outlinewidth": 0,
             "ticks": ""
            },
            "type": "choropleth"
           }
          ],
          "contour": [
           {
            "colorbar": {
             "outlinewidth": 0,
             "ticks": ""
            },
            "colorscale": [
             [
              0,
              "#0d0887"
             ],
             [
              0.1111111111111111,
              "#46039f"
             ],
             [
              0.2222222222222222,
              "#7201a8"
             ],
             [
              0.3333333333333333,
              "#9c179e"
             ],
             [
              0.4444444444444444,
              "#bd3786"
             ],
             [
              0.5555555555555556,
              "#d8576b"
             ],
             [
              0.6666666666666666,
              "#ed7953"
             ],
             [
              0.7777777777777778,
              "#fb9f3a"
             ],
             [
              0.8888888888888888,
              "#fdca26"
             ],
             [
              1,
              "#f0f921"
             ]
            ],
            "type": "contour"
           }
          ],
          "contourcarpet": [
           {
            "colorbar": {
             "outlinewidth": 0,
             "ticks": ""
            },
            "type": "contourcarpet"
           }
          ],
          "heatmap": [
           {
            "colorbar": {
             "outlinewidth": 0,
             "ticks": ""
            },
            "colorscale": [
             [
              0,
              "#0d0887"
             ],
             [
              0.1111111111111111,
              "#46039f"
             ],
             [
              0.2222222222222222,
              "#7201a8"
             ],
             [
              0.3333333333333333,
              "#9c179e"
             ],
             [
              0.4444444444444444,
              "#bd3786"
             ],
             [
              0.5555555555555556,
              "#d8576b"
             ],
             [
              0.6666666666666666,
              "#ed7953"
             ],
             [
              0.7777777777777778,
              "#fb9f3a"
             ],
             [
              0.8888888888888888,
              "#fdca26"
             ],
             [
              1,
              "#f0f921"
             ]
            ],
            "type": "heatmap"
           }
          ],
          "heatmapgl": [
           {
            "colorbar": {
             "outlinewidth": 0,
             "ticks": ""
            },
            "colorscale": [
             [
              0,
              "#0d0887"
             ],
             [
              0.1111111111111111,
              "#46039f"
             ],
             [
              0.2222222222222222,
              "#7201a8"
             ],
             [
              0.3333333333333333,
              "#9c179e"
             ],
             [
              0.4444444444444444,
              "#bd3786"
             ],
             [
              0.5555555555555556,
              "#d8576b"
             ],
             [
              0.6666666666666666,
              "#ed7953"
             ],
             [
              0.7777777777777778,
              "#fb9f3a"
             ],
             [
              0.8888888888888888,
              "#fdca26"
             ],
             [
              1,
              "#f0f921"
             ]
            ],
            "type": "heatmapgl"
           }
          ],
          "histogram": [
           {
            "marker": {
             "pattern": {
              "fillmode": "overlay",
              "size": 10,
              "solidity": 0.2
             }
            },
            "type": "histogram"
           }
          ],
          "histogram2d": [
           {
            "colorbar": {
             "outlinewidth": 0,
             "ticks": ""
            },
            "colorscale": [
             [
              0,
              "#0d0887"
             ],
             [
              0.1111111111111111,
              "#46039f"
             ],
             [
              0.2222222222222222,
              "#7201a8"
             ],
             [
              0.3333333333333333,
              "#9c179e"
             ],
             [
              0.4444444444444444,
              "#bd3786"
             ],
             [
              0.5555555555555556,
              "#d8576b"
             ],
             [
              0.6666666666666666,
              "#ed7953"
             ],
             [
              0.7777777777777778,
              "#fb9f3a"
             ],
             [
              0.8888888888888888,
              "#fdca26"
             ],
             [
              1,
              "#f0f921"
             ]
            ],
            "type": "histogram2d"
           }
          ],
          "histogram2dcontour": [
           {
            "colorbar": {
             "outlinewidth": 0,
             "ticks": ""
            },
            "colorscale": [
             [
              0,
              "#0d0887"
             ],
             [
              0.1111111111111111,
              "#46039f"
             ],
             [
              0.2222222222222222,
              "#7201a8"
             ],
             [
              0.3333333333333333,
              "#9c179e"
             ],
             [
              0.4444444444444444,
              "#bd3786"
             ],
             [
              0.5555555555555556,
              "#d8576b"
             ],
             [
              0.6666666666666666,
              "#ed7953"
             ],
             [
              0.7777777777777778,
              "#fb9f3a"
             ],
             [
              0.8888888888888888,
              "#fdca26"
             ],
             [
              1,
              "#f0f921"
             ]
            ],
            "type": "histogram2dcontour"
           }
          ],
          "mesh3d": [
           {
            "colorbar": {
             "outlinewidth": 0,
             "ticks": ""
            },
            "type": "mesh3d"
           }
          ],
          "parcoords": [
           {
            "line": {
             "colorbar": {
              "outlinewidth": 0,
              "ticks": ""
             }
            },
            "type": "parcoords"
           }
          ],
          "pie": [
           {
            "automargin": true,
            "type": "pie"
           }
          ],
          "scatter": [
           {
            "fillpattern": {
             "fillmode": "overlay",
             "size": 10,
             "solidity": 0.2
            },
            "type": "scatter"
           }
          ],
          "scatter3d": [
           {
            "line": {
             "colorbar": {
              "outlinewidth": 0,
              "ticks": ""
             }
            },
            "marker": {
             "colorbar": {
              "outlinewidth": 0,
              "ticks": ""
             }
            },
            "type": "scatter3d"
           }
          ],
          "scattercarpet": [
           {
            "marker": {
             "colorbar": {
              "outlinewidth": 0,
              "ticks": ""
             }
            },
            "type": "scattercarpet"
           }
          ],
          "scattergeo": [
           {
            "marker": {
             "colorbar": {
              "outlinewidth": 0,
              "ticks": ""
             }
            },
            "type": "scattergeo"
           }
          ],
          "scattergl": [
           {
            "marker": {
             "colorbar": {
              "outlinewidth": 0,
              "ticks": ""
             }
            },
            "type": "scattergl"
           }
          ],
          "scattermapbox": [
           {
            "marker": {
             "colorbar": {
              "outlinewidth": 0,
              "ticks": ""
             }
            },
            "type": "scattermapbox"
           }
          ],
          "scatterpolar": [
           {
            "marker": {
             "colorbar": {
              "outlinewidth": 0,
              "ticks": ""
             }
            },
            "type": "scatterpolar"
           }
          ],
          "scatterpolargl": [
           {
            "marker": {
             "colorbar": {
              "outlinewidth": 0,
              "ticks": ""
             }
            },
            "type": "scatterpolargl"
           }
          ],
          "scatterternary": [
           {
            "marker": {
             "colorbar": {
              "outlinewidth": 0,
              "ticks": ""
             }
            },
            "type": "scatterternary"
           }
          ],
          "surface": [
           {
            "colorbar": {
             "outlinewidth": 0,
             "ticks": ""
            },
            "colorscale": [
             [
              0,
              "#0d0887"
             ],
             [
              0.1111111111111111,
              "#46039f"
             ],
             [
              0.2222222222222222,
              "#7201a8"
             ],
             [
              0.3333333333333333,
              "#9c179e"
             ],
             [
              0.4444444444444444,
              "#bd3786"
             ],
             [
              0.5555555555555556,
              "#d8576b"
             ],
             [
              0.6666666666666666,
              "#ed7953"
             ],
             [
              0.7777777777777778,
              "#fb9f3a"
             ],
             [
              0.8888888888888888,
              "#fdca26"
             ],
             [
              1,
              "#f0f921"
             ]
            ],
            "type": "surface"
           }
          ],
          "table": [
           {
            "cells": {
             "fill": {
              "color": "#EBF0F8"
             },
             "line": {
              "color": "white"
             }
            },
            "header": {
             "fill": {
              "color": "#C8D4E3"
             },
             "line": {
              "color": "white"
             }
            },
            "type": "table"
           }
          ]
         },
         "layout": {
          "annotationdefaults": {
           "arrowcolor": "#2a3f5f",
           "arrowhead": 0,
           "arrowwidth": 1
          },
          "autotypenumbers": "strict",
          "coloraxis": {
           "colorbar": {
            "outlinewidth": 0,
            "ticks": ""
           }
          },
          "colorscale": {
           "diverging": [
            [
             0,
             "#8e0152"
            ],
            [
             0.1,
             "#c51b7d"
            ],
            [
             0.2,
             "#de77ae"
            ],
            [
             0.3,
             "#f1b6da"
            ],
            [
             0.4,
             "#fde0ef"
            ],
            [
             0.5,
             "#f7f7f7"
            ],
            [
             0.6,
             "#e6f5d0"
            ],
            [
             0.7,
             "#b8e186"
            ],
            [
             0.8,
             "#7fbc41"
            ],
            [
             0.9,
             "#4d9221"
            ],
            [
             1,
             "#276419"
            ]
           ],
           "sequential": [
            [
             0,
             "#0d0887"
            ],
            [
             0.1111111111111111,
             "#46039f"
            ],
            [
             0.2222222222222222,
             "#7201a8"
            ],
            [
             0.3333333333333333,
             "#9c179e"
            ],
            [
             0.4444444444444444,
             "#bd3786"
            ],
            [
             0.5555555555555556,
             "#d8576b"
            ],
            [
             0.6666666666666666,
             "#ed7953"
            ],
            [
             0.7777777777777778,
             "#fb9f3a"
            ],
            [
             0.8888888888888888,
             "#fdca26"
            ],
            [
             1,
             "#f0f921"
            ]
           ],
           "sequentialminus": [
            [
             0,
             "#0d0887"
            ],
            [
             0.1111111111111111,
             "#46039f"
            ],
            [
             0.2222222222222222,
             "#7201a8"
            ],
            [
             0.3333333333333333,
             "#9c179e"
            ],
            [
             0.4444444444444444,
             "#bd3786"
            ],
            [
             0.5555555555555556,
             "#d8576b"
            ],
            [
             0.6666666666666666,
             "#ed7953"
            ],
            [
             0.7777777777777778,
             "#fb9f3a"
            ],
            [
             0.8888888888888888,
             "#fdca26"
            ],
            [
             1,
             "#f0f921"
            ]
           ]
          },
          "colorway": [
           "#636efa",
           "#EF553B",
           "#00cc96",
           "#ab63fa",
           "#FFA15A",
           "#19d3f3",
           "#FF6692",
           "#B6E880",
           "#FF97FF",
           "#FECB52"
          ],
          "font": {
           "color": "#2a3f5f"
          },
          "geo": {
           "bgcolor": "white",
           "lakecolor": "white",
           "landcolor": "white",
           "showlakes": true,
           "showland": true,
           "subunitcolor": "#C8D4E3"
          },
          "hoverlabel": {
           "align": "left"
          },
          "hovermode": "closest",
          "mapbox": {
           "style": "light"
          },
          "paper_bgcolor": "white",
          "plot_bgcolor": "white",
          "polar": {
           "angularaxis": {
            "gridcolor": "#EBF0F8",
            "linecolor": "#EBF0F8",
            "ticks": ""
           },
           "bgcolor": "white",
           "radialaxis": {
            "gridcolor": "#EBF0F8",
            "linecolor": "#EBF0F8",
            "ticks": ""
           }
          },
          "scene": {
           "xaxis": {
            "backgroundcolor": "white",
            "gridcolor": "#DFE8F3",
            "gridwidth": 2,
            "linecolor": "#EBF0F8",
            "showbackground": true,
            "ticks": "",
            "zerolinecolor": "#EBF0F8"
           },
           "yaxis": {
            "backgroundcolor": "white",
            "gridcolor": "#DFE8F3",
            "gridwidth": 2,
            "linecolor": "#EBF0F8",
            "showbackground": true,
            "ticks": "",
            "zerolinecolor": "#EBF0F8"
           },
           "zaxis": {
            "backgroundcolor": "white",
            "gridcolor": "#DFE8F3",
            "gridwidth": 2,
            "linecolor": "#EBF0F8",
            "showbackground": true,
            "ticks": "",
            "zerolinecolor": "#EBF0F8"
           }
          },
          "shapedefaults": {
           "line": {
            "color": "#2a3f5f"
           }
          },
          "ternary": {
           "aaxis": {
            "gridcolor": "#DFE8F3",
            "linecolor": "#A2B1C6",
            "ticks": ""
           },
           "baxis": {
            "gridcolor": "#DFE8F3",
            "linecolor": "#A2B1C6",
            "ticks": ""
           },
           "bgcolor": "white",
           "caxis": {
            "gridcolor": "#DFE8F3",
            "linecolor": "#A2B1C6",
            "ticks": ""
           }
          },
          "title": {
           "x": 0.05
          },
          "xaxis": {
           "automargin": true,
           "gridcolor": "#EBF0F8",
           "linecolor": "#EBF0F8",
           "ticks": "",
           "title": {
            "standoff": 15
           },
           "zerolinecolor": "#EBF0F8",
           "zerolinewidth": 2
          },
          "yaxis": {
           "automargin": true,
           "gridcolor": "#EBF0F8",
           "linecolor": "#EBF0F8",
           "ticks": "",
           "title": {
            "standoff": 15
           },
           "zerolinecolor": "#EBF0F8",
           "zerolinewidth": 2
          }
         }
        },
        "width": 1650,
        "xaxis": {
         "anchor": "y",
         "domain": [
          0,
          0.4875
         ]
        },
        "xaxis2": {
         "anchor": "y2",
         "domain": [
          0.5125,
          1
         ]
        },
        "yaxis": {
         "anchor": "x",
         "domain": [
          0,
          1
         ],
         "range": [
          0,
          1.1
         ]
        },
        "yaxis2": {
         "anchor": "x2",
         "domain": [
          0,
          1
         ],
         "matches": "y",
         "showticklabels": false
        }
       }
      }
     },
     "metadata": {},
     "output_type": "display_data"
    }
   ],
   "source": [
    "funs.performance_plotter(train, validate, 'Validation', color)"
   ]
  },
  {
   "cell_type": "code",
   "execution_count": 89,
   "metadata": {},
   "outputs": [],
   "source": [
    "validation.append(validate)"
   ]
  },
  {
   "cell_type": "code",
   "execution_count": 90,
   "metadata": {},
   "outputs": [
    {
     "data": {
      "text/html": [
       "<style type=\"text/css\">\n",
       "</style>\n",
       "<table id=\"T_4ab83\">\n",
       "  <thead>\n",
       "    <tr>\n",
       "      <th id=\"T_4ab83_level0_col0\" class=\"col_heading level0 col0\" >Model</th>\n",
       "      <th id=\"T_4ab83_level0_col1\" class=\"col_heading level0 col1\" >Accuracy</th>\n",
       "      <th id=\"T_4ab83_level0_col2\" class=\"col_heading level0 col2\" >Recall weighted</th>\n",
       "      <th id=\"T_4ab83_level0_col3\" class=\"col_heading level0 col3\" >Precision weighted</th>\n",
       "      <th id=\"T_4ab83_level0_col4\" class=\"col_heading level0 col4\" >AUC</th>\n",
       "    </tr>\n",
       "  </thead>\n",
       "  <tbody>\n",
       "    <tr>\n",
       "      <td id=\"T_4ab83_row0_col0\" class=\"data row0 col0\" >logisticregression</td>\n",
       "      <td id=\"T_4ab83_row0_col1\" class=\"data row0 col1\" >0.250000</td>\n",
       "      <td id=\"T_4ab83_row0_col2\" class=\"data row0 col2\" >0.229200</td>\n",
       "      <td id=\"T_4ab83_row0_col3\" class=\"data row0 col3\" >0.188900</td>\n",
       "      <td id=\"T_4ab83_row0_col4\" class=\"data row0 col4\" >0.625700</td>\n",
       "    </tr>\n",
       "    <tr>\n",
       "      <td id=\"T_4ab83_row1_col0\" class=\"data row1 col0\" >logisticregression_l1</td>\n",
       "      <td id=\"T_4ab83_row1_col1\" class=\"data row1 col1\" >0.333300</td>\n",
       "      <td id=\"T_4ab83_row1_col2\" class=\"data row1 col2\" >0.291700</td>\n",
       "      <td id=\"T_4ab83_row1_col3\" class=\"data row1 col3\" >0.223600</td>\n",
       "      <td id=\"T_4ab83_row1_col4\" class=\"data row1 col4\" >0.714700</td>\n",
       "    </tr>\n",
       "    <tr>\n",
       "      <td id=\"T_4ab83_row2_col0\" class=\"data row2 col0\" >logisticregression_l2</td>\n",
       "      <td id=\"T_4ab83_row2_col1\" class=\"data row2 col1\" >0.250000</td>\n",
       "      <td id=\"T_4ab83_row2_col2\" class=\"data row2 col2\" >0.194400</td>\n",
       "      <td id=\"T_4ab83_row2_col3\" class=\"data row2 col3\" >0.156500</td>\n",
       "      <td id=\"T_4ab83_row2_col4\" class=\"data row2 col4\" >0.644300</td>\n",
       "    </tr>\n",
       "    <tr>\n",
       "      <td id=\"T_4ab83_row3_col0\" class=\"data row3 col0\" >logisticregression_elasticnet</td>\n",
       "      <td id=\"T_4ab83_row3_col1\" class=\"data row3 col1\" >0.305600</td>\n",
       "      <td id=\"T_4ab83_row3_col2\" class=\"data row3 col2\" >0.263900</td>\n",
       "      <td id=\"T_4ab83_row3_col3\" class=\"data row3 col3\" >0.210800</td>\n",
       "      <td id=\"T_4ab83_row3_col4\" class=\"data row3 col4\" >0.683800</td>\n",
       "    </tr>\n",
       "    <tr>\n",
       "      <td id=\"T_4ab83_row4_col0\" class=\"data row4 col0\" >sgd</td>\n",
       "      <td id=\"T_4ab83_row4_col1\" class=\"data row4 col1\" >0.277800</td>\n",
       "      <td id=\"T_4ab83_row4_col2\" class=\"data row4 col2\" >0.250000</td>\n",
       "      <td id=\"T_4ab83_row4_col3\" class=\"data row4 col3\" >0.193500</td>\n",
       "      <td id=\"T_4ab83_row4_col4\" class=\"data row4 col4\" >0.551800</td>\n",
       "    </tr>\n",
       "    <tr>\n",
       "      <td id=\"T_4ab83_row5_col0\" class=\"data row5 col0\" >mlp</td>\n",
       "      <td id=\"T_4ab83_row5_col1\" class=\"data row5 col1\" >0.361100</td>\n",
       "      <td id=\"T_4ab83_row5_col2\" class=\"data row5 col2\" >0.312500</td>\n",
       "      <td id=\"T_4ab83_row5_col3\" class=\"data row5 col3\" >0.241300</td>\n",
       "      <td id=\"T_4ab83_row5_col4\" class=\"data row5 col4\" >0.635900</td>\n",
       "    </tr>\n",
       "    <tr>\n",
       "      <td id=\"T_4ab83_row6_col0\" class=\"data row6 col0\" >decisiontree</td>\n",
       "      <td id=\"T_4ab83_row6_col1\" class=\"data row6 col1\" >0.166700</td>\n",
       "      <td id=\"T_4ab83_row6_col2\" class=\"data row6 col2\" >0.131900</td>\n",
       "      <td id=\"T_4ab83_row6_col3\" class=\"data row6 col3\" >0.103500</td>\n",
       "      <td id=\"T_4ab83_row6_col4\" class=\"data row6 col4\" >0.503500</td>\n",
       "    </tr>\n",
       "    <tr>\n",
       "      <td id=\"T_4ab83_row7_col0\" class=\"data row7 col0\" >randomforest</td>\n",
       "      <td id=\"T_4ab83_row7_col1\" class=\"data row7 col1\" >0.416700</td>\n",
       "      <td id=\"T_4ab83_row7_col2\" class=\"data row7 col2\" >0.347200</td>\n",
       "      <td id=\"T_4ab83_row7_col3\" class=\"data row7 col3\" >0.291700</td>\n",
       "      <td id=\"T_4ab83_row7_col4\" class=\"data row7 col4\" >0.695700</td>\n",
       "    </tr>\n",
       "    <tr>\n",
       "      <td id=\"T_4ab83_row8_col0\" class=\"data row8 col0\" >extratree</td>\n",
       "      <td id=\"T_4ab83_row8_col1\" class=\"data row8 col1\" >0.138900</td>\n",
       "      <td id=\"T_4ab83_row8_col2\" class=\"data row8 col2\" >0.152800</td>\n",
       "      <td id=\"T_4ab83_row8_col3\" class=\"data row8 col3\" >0.121500</td>\n",
       "      <td id=\"T_4ab83_row8_col4\" class=\"data row8 col4\" >0.512600</td>\n",
       "    </tr>\n",
       "    <tr>\n",
       "      <td id=\"T_4ab83_row9_col0\" class=\"data row9 col0\" >adaboost</td>\n",
       "      <td id=\"T_4ab83_row9_col1\" class=\"data row9 col1\" >0.250000</td>\n",
       "      <td id=\"T_4ab83_row9_col2\" class=\"data row9 col2\" >0.159700</td>\n",
       "      <td id=\"T_4ab83_row9_col3\" class=\"data row9 col3\" >0.084600</td>\n",
       "      <td id=\"T_4ab83_row9_col4\" class=\"data row9 col4\" >0.607700</td>\n",
       "    </tr>\n",
       "    <tr>\n",
       "      <td id=\"T_4ab83_row10_col0\" class=\"data row10 col0\" >extratrees</td>\n",
       "      <td id=\"T_4ab83_row10_col1\" class=\"data row10 col1\" >0.416700</td>\n",
       "      <td id=\"T_4ab83_row10_col2\" class=\"data row10 col2\" >0.375000</td>\n",
       "      <td id=\"T_4ab83_row10_col3\" class=\"data row10 col3\" >0.343100</td>\n",
       "      <td id=\"T_4ab83_row10_col4\" class=\"data row10 col4\" >0.723000</td>\n",
       "    </tr>\n",
       "    <tr>\n",
       "      <td id=\"T_4ab83_row11_col0\" class=\"data row11 col0\" >gaussianprocess</td>\n",
       "      <td id=\"T_4ab83_row11_col1\" class=\"data row11 col1\" >0.083300</td>\n",
       "      <td id=\"T_4ab83_row11_col2\" class=\"data row11 col2\" >0.125000</td>\n",
       "      <td id=\"T_4ab83_row11_col3\" class=\"data row11 col3\" >0.010400</td>\n",
       "      <td id=\"T_4ab83_row11_col4\" class=\"data row11 col4\" >0.500000</td>\n",
       "    </tr>\n",
       "    <tr>\n",
       "      <td id=\"T_4ab83_row12_col0\" class=\"data row12 col0\" >gradientboosting</td>\n",
       "      <td id=\"T_4ab83_row12_col1\" class=\"data row12 col1\" >0.388900</td>\n",
       "      <td id=\"T_4ab83_row12_col2\" class=\"data row12 col2\" >0.395800</td>\n",
       "      <td id=\"T_4ab83_row12_col3\" class=\"data row12 col3\" >0.309000</td>\n",
       "      <td id=\"T_4ab83_row12_col4\" class=\"data row12 col4\" >0.661400</td>\n",
       "    </tr>\n",
       "    <tr>\n",
       "      <td id=\"T_4ab83_row13_col0\" class=\"data row13 col0\" >svc</td>\n",
       "      <td id=\"T_4ab83_row13_col1\" class=\"data row13 col1\" >0.250000</td>\n",
       "      <td id=\"T_4ab83_row13_col2\" class=\"data row13 col2\" >0.125000</td>\n",
       "      <td id=\"T_4ab83_row13_col3\" class=\"data row13 col3\" >0.031200</td>\n",
       "      <td id=\"T_4ab83_row13_col4\" class=\"data row13 col4\" >0.329800</td>\n",
       "    </tr>\n",
       "  </tbody>\n",
       "</table>\n"
      ],
      "text/plain": [
       "<pandas.io.formats.style.Styler at 0x7fa39c700dc0>"
      ]
     },
     "execution_count": 90,
     "metadata": {},
     "output_type": "execute_result"
    }
   ],
   "source": [
    "validate.style.hide(axis='index')"
   ]
  },
  {
   "attachments": {},
   "cell_type": "markdown",
   "metadata": {},
   "source": [
    "### 3.2 Standard Estimators & Feature Selection with Variance Threshold of 0.10"
   ]
  },
  {
   "cell_type": "code",
   "execution_count": 91,
   "metadata": {},
   "outputs": [],
   "source": [
    "train, validate = funs.cv_models_performance(estimators, Transformer, X_train, y_train, metrics, sss, variance_threshold=0.10)"
   ]
  },
  {
   "cell_type": "code",
   "execution_count": 92,
   "metadata": {},
   "outputs": [
    {
     "data": {
      "application/vnd.plotly.v1+json": {
       "config": {
        "plotlyServerURL": "https://plot.ly"
       },
       "data": [
        {
         "hovertemplate": "<b>%{x}:</b> \t %{y}",
         "marker": {
          "color": "maroon"
         },
         "name": "logisticregression",
         "type": "bar",
         "x": [
          "Accuracy",
          "Recall weighted",
          "Precision weighted",
          "AUC"
         ],
         "xaxis": "x",
         "y": [
          1,
          1,
          1,
          1
         ],
         "yaxis": "y"
        },
        {
         "hovertemplate": "<b>%{x}:</b> \t %{y}",
         "marker": {
          "color": "maroon"
         },
         "name": "logisticregression",
         "showlegend": false,
         "type": "bar",
         "x": [
          "Accuracy",
          "Recall weighted",
          "Precision weighted",
          "AUC"
         ],
         "xaxis": "x2",
         "y": [
          0.2778,
          0.2431,
          0.2146,
          0.6324
         ],
         "yaxis": "y2"
        },
        {
         "hovertemplate": "<b>%{x}:</b> \t %{y}",
         "marker": {
          "color": "red"
         },
         "name": "logisticregression_l1",
         "type": "bar",
         "x": [
          "Accuracy",
          "Recall weighted",
          "Precision weighted",
          "AUC"
         ],
         "xaxis": "x",
         "y": [
          0.82,
          0.7974,
          0.8619,
          0.9833
         ],
         "yaxis": "y"
        },
        {
         "hovertemplate": "<b>%{x}:</b> \t %{y}",
         "marker": {
          "color": "red"
         },
         "name": "logisticregression_l1",
         "showlegend": false,
         "type": "bar",
         "x": [
          "Accuracy",
          "Recall weighted",
          "Precision weighted",
          "AUC"
         ],
         "xaxis": "x2",
         "y": [
          0.3333,
          0.2847,
          0.2299,
          0.7169
         ],
         "yaxis": "y2"
        },
        {
         "hovertemplate": "<b>%{x}:</b> \t %{y}",
         "marker": {
          "color": "tomato"
         },
         "name": "logisticregression_l2",
         "type": "bar",
         "x": [
          "Accuracy",
          "Recall weighted",
          "Precision weighted",
          "AUC"
         ],
         "xaxis": "x",
         "y": [
          0.98,
          0.982,
          0.9889,
          0.9995
         ],
         "yaxis": "y"
        },
        {
         "hovertemplate": "<b>%{x}:</b> \t %{y}",
         "marker": {
          "color": "tomato"
         },
         "name": "logisticregression_l2",
         "showlegend": false,
         "type": "bar",
         "x": [
          "Accuracy",
          "Recall weighted",
          "Precision weighted",
          "AUC"
         ],
         "xaxis": "x2",
         "y": [
          0.2778,
          0.2222,
          0.1993,
          0.6379
         ],
         "yaxis": "y2"
        },
        {
         "hovertemplate": "<b>%{x}:</b> \t %{y}",
         "marker": {
          "color": "darksalmon"
         },
         "name": "logisticregression_elasticnet",
         "type": "bar",
         "x": [
          "Accuracy",
          "Recall weighted",
          "Precision weighted",
          "AUC"
         ],
         "xaxis": "x",
         "y": [
          0.95,
          0.9553,
          0.968,
          0.9953
         ],
         "yaxis": "y"
        },
        {
         "hovertemplate": "<b>%{x}:</b> \t %{y}",
         "marker": {
          "color": "darksalmon"
         },
         "name": "logisticregression_elasticnet",
         "showlegend": false,
         "type": "bar",
         "x": [
          "Accuracy",
          "Recall weighted",
          "Precision weighted",
          "AUC"
         ],
         "xaxis": "x2",
         "y": [
          0.2778,
          0.2014,
          0.1653,
          0.6736
         ],
         "yaxis": "y2"
        },
        {
         "hovertemplate": "<b>%{x}:</b> \t %{y}",
         "marker": {
          "color": "firebrick"
         },
         "name": "sgd",
         "type": "bar",
         "x": [
          "Accuracy",
          "Recall weighted",
          "Precision weighted",
          "AUC"
         ],
         "xaxis": "x",
         "y": [
          0.9933,
          0.9948,
          0.9913,
          0.9985
         ],
         "yaxis": "y"
        },
        {
         "hovertemplate": "<b>%{x}:</b> \t %{y}",
         "marker": {
          "color": "firebrick"
         },
         "name": "sgd",
         "showlegend": false,
         "type": "bar",
         "x": [
          "Accuracy",
          "Recall weighted",
          "Precision weighted",
          "AUC"
         ],
         "xaxis": "x2",
         "y": [
          0.25,
          0.1806,
          0.1944,
          0.5724
         ],
         "yaxis": "y2"
        },
        {
         "hovertemplate": "<b>%{x}:</b> \t %{y}",
         "marker": {
          "color": "darkseagreen"
         },
         "name": "mlp",
         "type": "bar",
         "x": [
          "Accuracy",
          "Recall weighted",
          "Precision weighted",
          "AUC"
         ],
         "xaxis": "x",
         "y": [
          1,
          1,
          1,
          1
         ],
         "yaxis": "y"
        },
        {
         "hovertemplate": "<b>%{x}:</b> \t %{y}",
         "marker": {
          "color": "darkseagreen"
         },
         "name": "mlp",
         "showlegend": false,
         "type": "bar",
         "x": [
          "Accuracy",
          "Recall weighted",
          "Precision weighted",
          "AUC"
         ],
         "xaxis": "x2",
         "y": [
          0.25,
          0.25,
          0.1562,
          0.6003
         ],
         "yaxis": "y2"
        },
        {
         "hovertemplate": "<b>%{x}:</b> \t %{y}",
         "marker": {
          "color": "seagreen"
         },
         "name": "decisiontree",
         "type": "bar",
         "x": [
          "Accuracy",
          "Recall weighted",
          "Precision weighted",
          "AUC"
         ],
         "xaxis": "x",
         "y": [
          1,
          1,
          1,
          1
         ],
         "yaxis": "y"
        },
        {
         "hovertemplate": "<b>%{x}:</b> \t %{y}",
         "marker": {
          "color": "seagreen"
         },
         "name": "decisiontree",
         "showlegend": false,
         "type": "bar",
         "x": [
          "Accuracy",
          "Recall weighted",
          "Precision weighted",
          "AUC"
         ],
         "xaxis": "x2",
         "y": [
          0.25,
          0.2847,
          0.2118,
          0.5862
         ],
         "yaxis": "y2"
        },
        {
         "hovertemplate": "<b>%{x}:</b> \t %{y}",
         "marker": {
          "color": "lightseagreen"
         },
         "name": "randomforest",
         "type": "bar",
         "x": [
          "Accuracy",
          "Recall weighted",
          "Precision weighted",
          "AUC"
         ],
         "xaxis": "x",
         "y": [
          1,
          1,
          1,
          1
         ],
         "yaxis": "y"
        },
        {
         "hovertemplate": "<b>%{x}:</b> \t %{y}",
         "marker": {
          "color": "lightseagreen"
         },
         "name": "randomforest",
         "showlegend": false,
         "type": "bar",
         "x": [
          "Accuracy",
          "Recall weighted",
          "Precision weighted",
          "AUC"
         ],
         "xaxis": "x2",
         "y": [
          0.25,
          0.2222,
          0.1601,
          0.6602
         ],
         "yaxis": "y2"
        },
        {
         "hovertemplate": "<b>%{x}:</b> \t %{y}",
         "marker": {
          "color": "olive"
         },
         "name": "extratree",
         "type": "bar",
         "x": [
          "Accuracy",
          "Recall weighted",
          "Precision weighted",
          "AUC"
         ],
         "xaxis": "x",
         "y": [
          1,
          1,
          1,
          1
         ],
         "yaxis": "y"
        },
        {
         "hovertemplate": "<b>%{x}:</b> \t %{y}",
         "marker": {
          "color": "olive"
         },
         "name": "extratree",
         "showlegend": false,
         "type": "bar",
         "x": [
          "Accuracy",
          "Recall weighted",
          "Precision weighted",
          "AUC"
         ],
         "xaxis": "x2",
         "y": [
          0.1944,
          0.1389,
          0.116,
          0.5101
         ],
         "yaxis": "y2"
        },
        {
         "hovertemplate": "<b>%{x}:</b> \t %{y}",
         "marker": {
          "color": "green"
         },
         "name": "adaboost",
         "type": "bar",
         "x": [
          "Accuracy",
          "Recall weighted",
          "Precision weighted",
          "AUC"
         ],
         "xaxis": "x",
         "y": [
          0.3333,
          0.3031,
          0.3389,
          0.7637
         ],
         "yaxis": "y"
        },
        {
         "hovertemplate": "<b>%{x}:</b> \t %{y}",
         "marker": {
          "color": "green"
         },
         "name": "adaboost",
         "showlegend": false,
         "type": "bar",
         "x": [
          "Accuracy",
          "Recall weighted",
          "Precision weighted",
          "AUC"
         ],
         "xaxis": "x2",
         "y": [
          0.1944,
          0.2014,
          0.1685,
          0.605
         ],
         "yaxis": "y2"
        },
        {
         "hovertemplate": "<b>%{x}:</b> \t %{y}",
         "marker": {
          "color": "dodgerblue"
         },
         "name": "extratrees",
         "type": "bar",
         "x": [
          "Accuracy",
          "Recall weighted",
          "Precision weighted",
          "AUC"
         ],
         "xaxis": "x",
         "y": [
          1,
          1,
          1,
          1
         ],
         "yaxis": "y"
        },
        {
         "hovertemplate": "<b>%{x}:</b> \t %{y}",
         "marker": {
          "color": "dodgerblue"
         },
         "name": "extratrees",
         "showlegend": false,
         "type": "bar",
         "x": [
          "Accuracy",
          "Recall weighted",
          "Precision weighted",
          "AUC"
         ],
         "xaxis": "x2",
         "y": [
          0.25,
          0.2083,
          0.1944,
          0.7064
         ],
         "yaxis": "y2"
        },
        {
         "hovertemplate": "<b>%{x}:</b> \t %{y}",
         "marker": {
          "color": "deepskyblue"
         },
         "name": "gaussianprocess",
         "type": "bar",
         "x": [
          "Accuracy",
          "Recall weighted",
          "Precision weighted",
          "AUC"
         ],
         "xaxis": "x",
         "y": [
          1,
          1,
          1,
          1
         ],
         "yaxis": "y"
        },
        {
         "hovertemplate": "<b>%{x}:</b> \t %{y}",
         "marker": {
          "color": "deepskyblue"
         },
         "name": "gaussianprocess",
         "showlegend": false,
         "type": "bar",
         "x": [
          "Accuracy",
          "Recall weighted",
          "Precision weighted",
          "AUC"
         ],
         "xaxis": "x2",
         "y": [
          0.0833,
          0.125,
          0.0104,
          0.5
         ],
         "yaxis": "y2"
        },
        {
         "hovertemplate": "<b>%{x}:</b> \t %{y}",
         "marker": {
          "color": "navy"
         },
         "name": "gradientboosting",
         "type": "bar",
         "x": [
          "Accuracy",
          "Recall weighted",
          "Precision weighted",
          "AUC"
         ],
         "xaxis": "x",
         "y": [
          1,
          1,
          1,
          1
         ],
         "yaxis": "y"
        },
        {
         "hovertemplate": "<b>%{x}:</b> \t %{y}",
         "marker": {
          "color": "navy"
         },
         "name": "gradientboosting",
         "showlegend": false,
         "type": "bar",
         "x": [
          "Accuracy",
          "Recall weighted",
          "Precision weighted",
          "AUC"
         ],
         "xaxis": "x2",
         "y": [
          0.3056,
          0.2917,
          0.2153,
          0.6619
         ],
         "yaxis": "y2"
        },
        {
         "hovertemplate": "<b>%{x}:</b> \t %{y}",
         "marker": {
          "color": "blue"
         },
         "name": "svc",
         "type": "bar",
         "x": [
          "Accuracy",
          "Recall weighted",
          "Precision weighted",
          "AUC"
         ],
         "xaxis": "x",
         "y": [
          1,
          1,
          1,
          0
         ],
         "yaxis": "y"
        },
        {
         "hovertemplate": "<b>%{x}:</b> \t %{y}",
         "marker": {
          "color": "blue"
         },
         "name": "svc",
         "showlegend": false,
         "type": "bar",
         "x": [
          "Accuracy",
          "Recall weighted",
          "Precision weighted",
          "AUC"
         ],
         "xaxis": "x2",
         "y": [
          0.25,
          0.125,
          0.0312,
          0.3338
         ],
         "yaxis": "y2"
        }
       ],
       "layout": {
        "annotations": [
         {
          "font": {
           "size": 16
          },
          "showarrow": false,
          "text": "Train Set",
          "x": 0.24375,
          "xanchor": "center",
          "xref": "paper",
          "y": 1,
          "yanchor": "bottom",
          "yref": "paper"
         },
         {
          "font": {
           "size": 16
          },
          "showarrow": false,
          "text": "Validation Set",
          "x": 0.75625,
          "xanchor": "center",
          "xref": "paper",
          "y": 1,
          "yanchor": "bottom",
          "yref": "paper"
         }
        ],
        "height": 600,
        "showlegend": true,
        "template": {
         "data": {
          "bar": [
           {
            "error_x": {
             "color": "#2a3f5f"
            },
            "error_y": {
             "color": "#2a3f5f"
            },
            "marker": {
             "line": {
              "color": "white",
              "width": 0.5
             },
             "pattern": {
              "fillmode": "overlay",
              "size": 10,
              "solidity": 0.2
             }
            },
            "type": "bar"
           }
          ],
          "barpolar": [
           {
            "marker": {
             "line": {
              "color": "white",
              "width": 0.5
             },
             "pattern": {
              "fillmode": "overlay",
              "size": 10,
              "solidity": 0.2
             }
            },
            "type": "barpolar"
           }
          ],
          "carpet": [
           {
            "aaxis": {
             "endlinecolor": "#2a3f5f",
             "gridcolor": "#C8D4E3",
             "linecolor": "#C8D4E3",
             "minorgridcolor": "#C8D4E3",
             "startlinecolor": "#2a3f5f"
            },
            "baxis": {
             "endlinecolor": "#2a3f5f",
             "gridcolor": "#C8D4E3",
             "linecolor": "#C8D4E3",
             "minorgridcolor": "#C8D4E3",
             "startlinecolor": "#2a3f5f"
            },
            "type": "carpet"
           }
          ],
          "choropleth": [
           {
            "colorbar": {
             "outlinewidth": 0,
             "ticks": ""
            },
            "type": "choropleth"
           }
          ],
          "contour": [
           {
            "colorbar": {
             "outlinewidth": 0,
             "ticks": ""
            },
            "colorscale": [
             [
              0,
              "#0d0887"
             ],
             [
              0.1111111111111111,
              "#46039f"
             ],
             [
              0.2222222222222222,
              "#7201a8"
             ],
             [
              0.3333333333333333,
              "#9c179e"
             ],
             [
              0.4444444444444444,
              "#bd3786"
             ],
             [
              0.5555555555555556,
              "#d8576b"
             ],
             [
              0.6666666666666666,
              "#ed7953"
             ],
             [
              0.7777777777777778,
              "#fb9f3a"
             ],
             [
              0.8888888888888888,
              "#fdca26"
             ],
             [
              1,
              "#f0f921"
             ]
            ],
            "type": "contour"
           }
          ],
          "contourcarpet": [
           {
            "colorbar": {
             "outlinewidth": 0,
             "ticks": ""
            },
            "type": "contourcarpet"
           }
          ],
          "heatmap": [
           {
            "colorbar": {
             "outlinewidth": 0,
             "ticks": ""
            },
            "colorscale": [
             [
              0,
              "#0d0887"
             ],
             [
              0.1111111111111111,
              "#46039f"
             ],
             [
              0.2222222222222222,
              "#7201a8"
             ],
             [
              0.3333333333333333,
              "#9c179e"
             ],
             [
              0.4444444444444444,
              "#bd3786"
             ],
             [
              0.5555555555555556,
              "#d8576b"
             ],
             [
              0.6666666666666666,
              "#ed7953"
             ],
             [
              0.7777777777777778,
              "#fb9f3a"
             ],
             [
              0.8888888888888888,
              "#fdca26"
             ],
             [
              1,
              "#f0f921"
             ]
            ],
            "type": "heatmap"
           }
          ],
          "heatmapgl": [
           {
            "colorbar": {
             "outlinewidth": 0,
             "ticks": ""
            },
            "colorscale": [
             [
              0,
              "#0d0887"
             ],
             [
              0.1111111111111111,
              "#46039f"
             ],
             [
              0.2222222222222222,
              "#7201a8"
             ],
             [
              0.3333333333333333,
              "#9c179e"
             ],
             [
              0.4444444444444444,
              "#bd3786"
             ],
             [
              0.5555555555555556,
              "#d8576b"
             ],
             [
              0.6666666666666666,
              "#ed7953"
             ],
             [
              0.7777777777777778,
              "#fb9f3a"
             ],
             [
              0.8888888888888888,
              "#fdca26"
             ],
             [
              1,
              "#f0f921"
             ]
            ],
            "type": "heatmapgl"
           }
          ],
          "histogram": [
           {
            "marker": {
             "pattern": {
              "fillmode": "overlay",
              "size": 10,
              "solidity": 0.2
             }
            },
            "type": "histogram"
           }
          ],
          "histogram2d": [
           {
            "colorbar": {
             "outlinewidth": 0,
             "ticks": ""
            },
            "colorscale": [
             [
              0,
              "#0d0887"
             ],
             [
              0.1111111111111111,
              "#46039f"
             ],
             [
              0.2222222222222222,
              "#7201a8"
             ],
             [
              0.3333333333333333,
              "#9c179e"
             ],
             [
              0.4444444444444444,
              "#bd3786"
             ],
             [
              0.5555555555555556,
              "#d8576b"
             ],
             [
              0.6666666666666666,
              "#ed7953"
             ],
             [
              0.7777777777777778,
              "#fb9f3a"
             ],
             [
              0.8888888888888888,
              "#fdca26"
             ],
             [
              1,
              "#f0f921"
             ]
            ],
            "type": "histogram2d"
           }
          ],
          "histogram2dcontour": [
           {
            "colorbar": {
             "outlinewidth": 0,
             "ticks": ""
            },
            "colorscale": [
             [
              0,
              "#0d0887"
             ],
             [
              0.1111111111111111,
              "#46039f"
             ],
             [
              0.2222222222222222,
              "#7201a8"
             ],
             [
              0.3333333333333333,
              "#9c179e"
             ],
             [
              0.4444444444444444,
              "#bd3786"
             ],
             [
              0.5555555555555556,
              "#d8576b"
             ],
             [
              0.6666666666666666,
              "#ed7953"
             ],
             [
              0.7777777777777778,
              "#fb9f3a"
             ],
             [
              0.8888888888888888,
              "#fdca26"
             ],
             [
              1,
              "#f0f921"
             ]
            ],
            "type": "histogram2dcontour"
           }
          ],
          "mesh3d": [
           {
            "colorbar": {
             "outlinewidth": 0,
             "ticks": ""
            },
            "type": "mesh3d"
           }
          ],
          "parcoords": [
           {
            "line": {
             "colorbar": {
              "outlinewidth": 0,
              "ticks": ""
             }
            },
            "type": "parcoords"
           }
          ],
          "pie": [
           {
            "automargin": true,
            "type": "pie"
           }
          ],
          "scatter": [
           {
            "fillpattern": {
             "fillmode": "overlay",
             "size": 10,
             "solidity": 0.2
            },
            "type": "scatter"
           }
          ],
          "scatter3d": [
           {
            "line": {
             "colorbar": {
              "outlinewidth": 0,
              "ticks": ""
             }
            },
            "marker": {
             "colorbar": {
              "outlinewidth": 0,
              "ticks": ""
             }
            },
            "type": "scatter3d"
           }
          ],
          "scattercarpet": [
           {
            "marker": {
             "colorbar": {
              "outlinewidth": 0,
              "ticks": ""
             }
            },
            "type": "scattercarpet"
           }
          ],
          "scattergeo": [
           {
            "marker": {
             "colorbar": {
              "outlinewidth": 0,
              "ticks": ""
             }
            },
            "type": "scattergeo"
           }
          ],
          "scattergl": [
           {
            "marker": {
             "colorbar": {
              "outlinewidth": 0,
              "ticks": ""
             }
            },
            "type": "scattergl"
           }
          ],
          "scattermapbox": [
           {
            "marker": {
             "colorbar": {
              "outlinewidth": 0,
              "ticks": ""
             }
            },
            "type": "scattermapbox"
           }
          ],
          "scatterpolar": [
           {
            "marker": {
             "colorbar": {
              "outlinewidth": 0,
              "ticks": ""
             }
            },
            "type": "scatterpolar"
           }
          ],
          "scatterpolargl": [
           {
            "marker": {
             "colorbar": {
              "outlinewidth": 0,
              "ticks": ""
             }
            },
            "type": "scatterpolargl"
           }
          ],
          "scatterternary": [
           {
            "marker": {
             "colorbar": {
              "outlinewidth": 0,
              "ticks": ""
             }
            },
            "type": "scatterternary"
           }
          ],
          "surface": [
           {
            "colorbar": {
             "outlinewidth": 0,
             "ticks": ""
            },
            "colorscale": [
             [
              0,
              "#0d0887"
             ],
             [
              0.1111111111111111,
              "#46039f"
             ],
             [
              0.2222222222222222,
              "#7201a8"
             ],
             [
              0.3333333333333333,
              "#9c179e"
             ],
             [
              0.4444444444444444,
              "#bd3786"
             ],
             [
              0.5555555555555556,
              "#d8576b"
             ],
             [
              0.6666666666666666,
              "#ed7953"
             ],
             [
              0.7777777777777778,
              "#fb9f3a"
             ],
             [
              0.8888888888888888,
              "#fdca26"
             ],
             [
              1,
              "#f0f921"
             ]
            ],
            "type": "surface"
           }
          ],
          "table": [
           {
            "cells": {
             "fill": {
              "color": "#EBF0F8"
             },
             "line": {
              "color": "white"
             }
            },
            "header": {
             "fill": {
              "color": "#C8D4E3"
             },
             "line": {
              "color": "white"
             }
            },
            "type": "table"
           }
          ]
         },
         "layout": {
          "annotationdefaults": {
           "arrowcolor": "#2a3f5f",
           "arrowhead": 0,
           "arrowwidth": 1
          },
          "autotypenumbers": "strict",
          "coloraxis": {
           "colorbar": {
            "outlinewidth": 0,
            "ticks": ""
           }
          },
          "colorscale": {
           "diverging": [
            [
             0,
             "#8e0152"
            ],
            [
             0.1,
             "#c51b7d"
            ],
            [
             0.2,
             "#de77ae"
            ],
            [
             0.3,
             "#f1b6da"
            ],
            [
             0.4,
             "#fde0ef"
            ],
            [
             0.5,
             "#f7f7f7"
            ],
            [
             0.6,
             "#e6f5d0"
            ],
            [
             0.7,
             "#b8e186"
            ],
            [
             0.8,
             "#7fbc41"
            ],
            [
             0.9,
             "#4d9221"
            ],
            [
             1,
             "#276419"
            ]
           ],
           "sequential": [
            [
             0,
             "#0d0887"
            ],
            [
             0.1111111111111111,
             "#46039f"
            ],
            [
             0.2222222222222222,
             "#7201a8"
            ],
            [
             0.3333333333333333,
             "#9c179e"
            ],
            [
             0.4444444444444444,
             "#bd3786"
            ],
            [
             0.5555555555555556,
             "#d8576b"
            ],
            [
             0.6666666666666666,
             "#ed7953"
            ],
            [
             0.7777777777777778,
             "#fb9f3a"
            ],
            [
             0.8888888888888888,
             "#fdca26"
            ],
            [
             1,
             "#f0f921"
            ]
           ],
           "sequentialminus": [
            [
             0,
             "#0d0887"
            ],
            [
             0.1111111111111111,
             "#46039f"
            ],
            [
             0.2222222222222222,
             "#7201a8"
            ],
            [
             0.3333333333333333,
             "#9c179e"
            ],
            [
             0.4444444444444444,
             "#bd3786"
            ],
            [
             0.5555555555555556,
             "#d8576b"
            ],
            [
             0.6666666666666666,
             "#ed7953"
            ],
            [
             0.7777777777777778,
             "#fb9f3a"
            ],
            [
             0.8888888888888888,
             "#fdca26"
            ],
            [
             1,
             "#f0f921"
            ]
           ]
          },
          "colorway": [
           "#636efa",
           "#EF553B",
           "#00cc96",
           "#ab63fa",
           "#FFA15A",
           "#19d3f3",
           "#FF6692",
           "#B6E880",
           "#FF97FF",
           "#FECB52"
          ],
          "font": {
           "color": "#2a3f5f"
          },
          "geo": {
           "bgcolor": "white",
           "lakecolor": "white",
           "landcolor": "white",
           "showlakes": true,
           "showland": true,
           "subunitcolor": "#C8D4E3"
          },
          "hoverlabel": {
           "align": "left"
          },
          "hovermode": "closest",
          "mapbox": {
           "style": "light"
          },
          "paper_bgcolor": "white",
          "plot_bgcolor": "white",
          "polar": {
           "angularaxis": {
            "gridcolor": "#EBF0F8",
            "linecolor": "#EBF0F8",
            "ticks": ""
           },
           "bgcolor": "white",
           "radialaxis": {
            "gridcolor": "#EBF0F8",
            "linecolor": "#EBF0F8",
            "ticks": ""
           }
          },
          "scene": {
           "xaxis": {
            "backgroundcolor": "white",
            "gridcolor": "#DFE8F3",
            "gridwidth": 2,
            "linecolor": "#EBF0F8",
            "showbackground": true,
            "ticks": "",
            "zerolinecolor": "#EBF0F8"
           },
           "yaxis": {
            "backgroundcolor": "white",
            "gridcolor": "#DFE8F3",
            "gridwidth": 2,
            "linecolor": "#EBF0F8",
            "showbackground": true,
            "ticks": "",
            "zerolinecolor": "#EBF0F8"
           },
           "zaxis": {
            "backgroundcolor": "white",
            "gridcolor": "#DFE8F3",
            "gridwidth": 2,
            "linecolor": "#EBF0F8",
            "showbackground": true,
            "ticks": "",
            "zerolinecolor": "#EBF0F8"
           }
          },
          "shapedefaults": {
           "line": {
            "color": "#2a3f5f"
           }
          },
          "ternary": {
           "aaxis": {
            "gridcolor": "#DFE8F3",
            "linecolor": "#A2B1C6",
            "ticks": ""
           },
           "baxis": {
            "gridcolor": "#DFE8F3",
            "linecolor": "#A2B1C6",
            "ticks": ""
           },
           "bgcolor": "white",
           "caxis": {
            "gridcolor": "#DFE8F3",
            "linecolor": "#A2B1C6",
            "ticks": ""
           }
          },
          "title": {
           "x": 0.05
          },
          "xaxis": {
           "automargin": true,
           "gridcolor": "#EBF0F8",
           "linecolor": "#EBF0F8",
           "ticks": "",
           "title": {
            "standoff": 15
           },
           "zerolinecolor": "#EBF0F8",
           "zerolinewidth": 2
          },
          "yaxis": {
           "automargin": true,
           "gridcolor": "#EBF0F8",
           "linecolor": "#EBF0F8",
           "ticks": "",
           "title": {
            "standoff": 15
           },
           "zerolinecolor": "#EBF0F8",
           "zerolinewidth": 2
          }
         }
        },
        "width": 1650,
        "xaxis": {
         "anchor": "y",
         "domain": [
          0,
          0.4875
         ]
        },
        "xaxis2": {
         "anchor": "y2",
         "domain": [
          0.5125,
          1
         ]
        },
        "yaxis": {
         "anchor": "x",
         "domain": [
          0,
          1
         ],
         "range": [
          0,
          1.1
         ]
        },
        "yaxis2": {
         "anchor": "x2",
         "domain": [
          0,
          1
         ],
         "matches": "y",
         "showticklabels": false
        }
       }
      }
     },
     "metadata": {},
     "output_type": "display_data"
    }
   ],
   "source": [
    "funs.performance_plotter(train, validate, 'Validation', color)"
   ]
  },
  {
   "cell_type": "code",
   "execution_count": 93,
   "metadata": {},
   "outputs": [],
   "source": [
    "validation.append(validate)"
   ]
  },
  {
   "cell_type": "code",
   "execution_count": 94,
   "metadata": {},
   "outputs": [
    {
     "data": {
      "text/html": [
       "<style type=\"text/css\">\n",
       "</style>\n",
       "<table id=\"T_a62b9\">\n",
       "  <thead>\n",
       "    <tr>\n",
       "      <th id=\"T_a62b9_level0_col0\" class=\"col_heading level0 col0\" >Model</th>\n",
       "      <th id=\"T_a62b9_level0_col1\" class=\"col_heading level0 col1\" >Accuracy</th>\n",
       "      <th id=\"T_a62b9_level0_col2\" class=\"col_heading level0 col2\" >Recall weighted</th>\n",
       "      <th id=\"T_a62b9_level0_col3\" class=\"col_heading level0 col3\" >Precision weighted</th>\n",
       "      <th id=\"T_a62b9_level0_col4\" class=\"col_heading level0 col4\" >AUC</th>\n",
       "    </tr>\n",
       "  </thead>\n",
       "  <tbody>\n",
       "    <tr>\n",
       "      <td id=\"T_a62b9_row0_col0\" class=\"data row0 col0\" >logisticregression</td>\n",
       "      <td id=\"T_a62b9_row0_col1\" class=\"data row0 col1\" >0.277800</td>\n",
       "      <td id=\"T_a62b9_row0_col2\" class=\"data row0 col2\" >0.243100</td>\n",
       "      <td id=\"T_a62b9_row0_col3\" class=\"data row0 col3\" >0.214600</td>\n",
       "      <td id=\"T_a62b9_row0_col4\" class=\"data row0 col4\" >0.632400</td>\n",
       "    </tr>\n",
       "    <tr>\n",
       "      <td id=\"T_a62b9_row1_col0\" class=\"data row1 col0\" >logisticregression_l1</td>\n",
       "      <td id=\"T_a62b9_row1_col1\" class=\"data row1 col1\" >0.333300</td>\n",
       "      <td id=\"T_a62b9_row1_col2\" class=\"data row1 col2\" >0.284700</td>\n",
       "      <td id=\"T_a62b9_row1_col3\" class=\"data row1 col3\" >0.229900</td>\n",
       "      <td id=\"T_a62b9_row1_col4\" class=\"data row1 col4\" >0.716900</td>\n",
       "    </tr>\n",
       "    <tr>\n",
       "      <td id=\"T_a62b9_row2_col0\" class=\"data row2 col0\" >logisticregression_l2</td>\n",
       "      <td id=\"T_a62b9_row2_col1\" class=\"data row2 col1\" >0.277800</td>\n",
       "      <td id=\"T_a62b9_row2_col2\" class=\"data row2 col2\" >0.222200</td>\n",
       "      <td id=\"T_a62b9_row2_col3\" class=\"data row2 col3\" >0.199300</td>\n",
       "      <td id=\"T_a62b9_row2_col4\" class=\"data row2 col4\" >0.637900</td>\n",
       "    </tr>\n",
       "    <tr>\n",
       "      <td id=\"T_a62b9_row3_col0\" class=\"data row3 col0\" >logisticregression_elasticnet</td>\n",
       "      <td id=\"T_a62b9_row3_col1\" class=\"data row3 col1\" >0.277800</td>\n",
       "      <td id=\"T_a62b9_row3_col2\" class=\"data row3 col2\" >0.201400</td>\n",
       "      <td id=\"T_a62b9_row3_col3\" class=\"data row3 col3\" >0.165300</td>\n",
       "      <td id=\"T_a62b9_row3_col4\" class=\"data row3 col4\" >0.673600</td>\n",
       "    </tr>\n",
       "    <tr>\n",
       "      <td id=\"T_a62b9_row4_col0\" class=\"data row4 col0\" >sgd</td>\n",
       "      <td id=\"T_a62b9_row4_col1\" class=\"data row4 col1\" >0.250000</td>\n",
       "      <td id=\"T_a62b9_row4_col2\" class=\"data row4 col2\" >0.180600</td>\n",
       "      <td id=\"T_a62b9_row4_col3\" class=\"data row4 col3\" >0.194400</td>\n",
       "      <td id=\"T_a62b9_row4_col4\" class=\"data row4 col4\" >0.572400</td>\n",
       "    </tr>\n",
       "    <tr>\n",
       "      <td id=\"T_a62b9_row5_col0\" class=\"data row5 col0\" >mlp</td>\n",
       "      <td id=\"T_a62b9_row5_col1\" class=\"data row5 col1\" >0.250000</td>\n",
       "      <td id=\"T_a62b9_row5_col2\" class=\"data row5 col2\" >0.250000</td>\n",
       "      <td id=\"T_a62b9_row5_col3\" class=\"data row5 col3\" >0.156200</td>\n",
       "      <td id=\"T_a62b9_row5_col4\" class=\"data row5 col4\" >0.600300</td>\n",
       "    </tr>\n",
       "    <tr>\n",
       "      <td id=\"T_a62b9_row6_col0\" class=\"data row6 col0\" >decisiontree</td>\n",
       "      <td id=\"T_a62b9_row6_col1\" class=\"data row6 col1\" >0.250000</td>\n",
       "      <td id=\"T_a62b9_row6_col2\" class=\"data row6 col2\" >0.284700</td>\n",
       "      <td id=\"T_a62b9_row6_col3\" class=\"data row6 col3\" >0.211800</td>\n",
       "      <td id=\"T_a62b9_row6_col4\" class=\"data row6 col4\" >0.586200</td>\n",
       "    </tr>\n",
       "    <tr>\n",
       "      <td id=\"T_a62b9_row7_col0\" class=\"data row7 col0\" >randomforest</td>\n",
       "      <td id=\"T_a62b9_row7_col1\" class=\"data row7 col1\" >0.250000</td>\n",
       "      <td id=\"T_a62b9_row7_col2\" class=\"data row7 col2\" >0.222200</td>\n",
       "      <td id=\"T_a62b9_row7_col3\" class=\"data row7 col3\" >0.160100</td>\n",
       "      <td id=\"T_a62b9_row7_col4\" class=\"data row7 col4\" >0.660200</td>\n",
       "    </tr>\n",
       "    <tr>\n",
       "      <td id=\"T_a62b9_row8_col0\" class=\"data row8 col0\" >extratree</td>\n",
       "      <td id=\"T_a62b9_row8_col1\" class=\"data row8 col1\" >0.194400</td>\n",
       "      <td id=\"T_a62b9_row8_col2\" class=\"data row8 col2\" >0.138900</td>\n",
       "      <td id=\"T_a62b9_row8_col3\" class=\"data row8 col3\" >0.116000</td>\n",
       "      <td id=\"T_a62b9_row8_col4\" class=\"data row8 col4\" >0.510100</td>\n",
       "    </tr>\n",
       "    <tr>\n",
       "      <td id=\"T_a62b9_row9_col0\" class=\"data row9 col0\" >adaboost</td>\n",
       "      <td id=\"T_a62b9_row9_col1\" class=\"data row9 col1\" >0.194400</td>\n",
       "      <td id=\"T_a62b9_row9_col2\" class=\"data row9 col2\" >0.201400</td>\n",
       "      <td id=\"T_a62b9_row9_col3\" class=\"data row9 col3\" >0.168500</td>\n",
       "      <td id=\"T_a62b9_row9_col4\" class=\"data row9 col4\" >0.605000</td>\n",
       "    </tr>\n",
       "    <tr>\n",
       "      <td id=\"T_a62b9_row10_col0\" class=\"data row10 col0\" >extratrees</td>\n",
       "      <td id=\"T_a62b9_row10_col1\" class=\"data row10 col1\" >0.250000</td>\n",
       "      <td id=\"T_a62b9_row10_col2\" class=\"data row10 col2\" >0.208300</td>\n",
       "      <td id=\"T_a62b9_row10_col3\" class=\"data row10 col3\" >0.194400</td>\n",
       "      <td id=\"T_a62b9_row10_col4\" class=\"data row10 col4\" >0.706400</td>\n",
       "    </tr>\n",
       "    <tr>\n",
       "      <td id=\"T_a62b9_row11_col0\" class=\"data row11 col0\" >gaussianprocess</td>\n",
       "      <td id=\"T_a62b9_row11_col1\" class=\"data row11 col1\" >0.083300</td>\n",
       "      <td id=\"T_a62b9_row11_col2\" class=\"data row11 col2\" >0.125000</td>\n",
       "      <td id=\"T_a62b9_row11_col3\" class=\"data row11 col3\" >0.010400</td>\n",
       "      <td id=\"T_a62b9_row11_col4\" class=\"data row11 col4\" >0.500000</td>\n",
       "    </tr>\n",
       "    <tr>\n",
       "      <td id=\"T_a62b9_row12_col0\" class=\"data row12 col0\" >gradientboosting</td>\n",
       "      <td id=\"T_a62b9_row12_col1\" class=\"data row12 col1\" >0.305600</td>\n",
       "      <td id=\"T_a62b9_row12_col2\" class=\"data row12 col2\" >0.291700</td>\n",
       "      <td id=\"T_a62b9_row12_col3\" class=\"data row12 col3\" >0.215300</td>\n",
       "      <td id=\"T_a62b9_row12_col4\" class=\"data row12 col4\" >0.661900</td>\n",
       "    </tr>\n",
       "    <tr>\n",
       "      <td id=\"T_a62b9_row13_col0\" class=\"data row13 col0\" >svc</td>\n",
       "      <td id=\"T_a62b9_row13_col1\" class=\"data row13 col1\" >0.250000</td>\n",
       "      <td id=\"T_a62b9_row13_col2\" class=\"data row13 col2\" >0.125000</td>\n",
       "      <td id=\"T_a62b9_row13_col3\" class=\"data row13 col3\" >0.031200</td>\n",
       "      <td id=\"T_a62b9_row13_col4\" class=\"data row13 col4\" >0.333800</td>\n",
       "    </tr>\n",
       "  </tbody>\n",
       "</table>\n"
      ],
      "text/plain": [
       "<pandas.io.formats.style.Styler at 0x7fa3a1c68a00>"
      ]
     },
     "execution_count": 94,
     "metadata": {},
     "output_type": "execute_result"
    }
   ],
   "source": [
    "validate.style.hide(axis='index')"
   ]
  },
  {
   "attachments": {},
   "cell_type": "markdown",
   "metadata": {},
   "source": [
    "### 3.3 Standard Estimators & Feature Selection with Variance Threshold of 0.20"
   ]
  },
  {
   "cell_type": "code",
   "execution_count": 95,
   "metadata": {},
   "outputs": [],
   "source": [
    "train, validate = funs.cv_models_performance(estimators, Transformer, X_train, y_train, metrics, sss, variance_threshold=0.2)"
   ]
  },
  {
   "cell_type": "code",
   "execution_count": 96,
   "metadata": {},
   "outputs": [
    {
     "data": {
      "application/vnd.plotly.v1+json": {
       "config": {
        "plotlyServerURL": "https://plot.ly"
       },
       "data": [
        {
         "hovertemplate": "<b>%{x}:</b> \t %{y}",
         "marker": {
          "color": "maroon"
         },
         "name": "logisticregression",
         "type": "bar",
         "x": [
          "Accuracy",
          "Recall weighted",
          "Precision weighted",
          "AUC"
         ],
         "xaxis": "x",
         "y": [
          0.99,
          0.9904,
          0.9875,
          0.9999
         ],
         "yaxis": "y"
        },
        {
         "hovertemplate": "<b>%{x}:</b> \t %{y}",
         "marker": {
          "color": "maroon"
         },
         "name": "logisticregression",
         "showlegend": false,
         "type": "bar",
         "x": [
          "Accuracy",
          "Recall weighted",
          "Precision weighted",
          "AUC"
         ],
         "xaxis": "x2",
         "y": [
          0.4167,
          0.3542,
          0.3542,
          0.7004
         ],
         "yaxis": "y2"
        },
        {
         "hovertemplate": "<b>%{x}:</b> \t %{y}",
         "marker": {
          "color": "red"
         },
         "name": "logisticregression_l1",
         "type": "bar",
         "x": [
          "Accuracy",
          "Recall weighted",
          "Precision weighted",
          "AUC"
         ],
         "xaxis": "x",
         "y": [
          0.61,
          0.5583,
          0.6352,
          0.9198
         ],
         "yaxis": "y"
        },
        {
         "hovertemplate": "<b>%{x}:</b> \t %{y}",
         "marker": {
          "color": "red"
         },
         "name": "logisticregression_l1",
         "showlegend": false,
         "type": "bar",
         "x": [
          "Accuracy",
          "Recall weighted",
          "Precision weighted",
          "AUC"
         ],
         "xaxis": "x2",
         "y": [
          0.3056,
          0.25,
          0.2192,
          0.6772
         ],
         "yaxis": "y2"
        },
        {
         "hovertemplate": "<b>%{x}:</b> \t %{y}",
         "marker": {
          "color": "tomato"
         },
         "name": "logisticregression_l2",
         "type": "bar",
         "x": [
          "Accuracy",
          "Recall weighted",
          "Precision weighted",
          "AUC"
         ],
         "xaxis": "x",
         "y": [
          0.7,
          0.6946,
          0.7475,
          0.9536
         ],
         "yaxis": "y"
        },
        {
         "hovertemplate": "<b>%{x}:</b> \t %{y}",
         "marker": {
          "color": "tomato"
         },
         "name": "logisticregression_l2",
         "showlegend": false,
         "type": "bar",
         "x": [
          "Accuracy",
          "Recall weighted",
          "Precision weighted",
          "AUC"
         ],
         "xaxis": "x2",
         "y": [
          0.2778,
          0.2778,
          0.2132,
          0.6757
         ],
         "yaxis": "y2"
        },
        {
         "hovertemplate": "<b>%{x}:</b> \t %{y}",
         "marker": {
          "color": "darksalmon"
         },
         "name": "logisticregression_elasticnet",
         "type": "bar",
         "x": [
          "Accuracy",
          "Recall weighted",
          "Precision weighted",
          "AUC"
         ],
         "xaxis": "x",
         "y": [
          0.65,
          0.6183,
          0.7084,
          0.9395
         ],
         "yaxis": "y"
        },
        {
         "hovertemplate": "<b>%{x}:</b> \t %{y}",
         "marker": {
          "color": "darksalmon"
         },
         "name": "logisticregression_elasticnet",
         "showlegend": false,
         "type": "bar",
         "x": [
          "Accuracy",
          "Recall weighted",
          "Precision weighted",
          "AUC"
         ],
         "xaxis": "x2",
         "y": [
          0.25,
          0.2153,
          0.1736,
          0.7034
         ],
         "yaxis": "y2"
        },
        {
         "hovertemplate": "<b>%{x}:</b> \t %{y}",
         "marker": {
          "color": "firebrick"
         },
         "name": "sgd",
         "type": "bar",
         "x": [
          "Accuracy",
          "Recall weighted",
          "Precision weighted",
          "AUC"
         ],
         "xaxis": "x",
         "y": [
          0.73,
          0.7584,
          0.8179,
          0.8776
         ],
         "yaxis": "y"
        },
        {
         "hovertemplate": "<b>%{x}:</b> \t %{y}",
         "marker": {
          "color": "firebrick"
         },
         "name": "sgd",
         "showlegend": false,
         "type": "bar",
         "x": [
          "Accuracy",
          "Recall weighted",
          "Precision weighted",
          "AUC"
         ],
         "xaxis": "x2",
         "y": [
          0.2222,
          0.1944,
          0.1354,
          0.582
         ],
         "yaxis": "y2"
        },
        {
         "hovertemplate": "<b>%{x}:</b> \t %{y}",
         "marker": {
          "color": "darkseagreen"
         },
         "name": "mlp",
         "type": "bar",
         "x": [
          "Accuracy",
          "Recall weighted",
          "Precision weighted",
          "AUC"
         ],
         "xaxis": "x",
         "y": [
          0.99,
          0.989,
          0.9887,
          0.9999
         ],
         "yaxis": "y"
        },
        {
         "hovertemplate": "<b>%{x}:</b> \t %{y}",
         "marker": {
          "color": "darkseagreen"
         },
         "name": "mlp",
         "showlegend": false,
         "type": "bar",
         "x": [
          "Accuracy",
          "Recall weighted",
          "Precision weighted",
          "AUC"
         ],
         "xaxis": "x2",
         "y": [
          0.3333,
          0.2986,
          0.1833,
          0.6515
         ],
         "yaxis": "y2"
        },
        {
         "hovertemplate": "<b>%{x}:</b> \t %{y}",
         "marker": {
          "color": "seagreen"
         },
         "name": "decisiontree",
         "type": "bar",
         "x": [
          "Accuracy",
          "Recall weighted",
          "Precision weighted",
          "AUC"
         ],
         "xaxis": "x",
         "y": [
          0.99,
          0.9904,
          0.9875,
          0.9999
         ],
         "yaxis": "y"
        },
        {
         "hovertemplate": "<b>%{x}:</b> \t %{y}",
         "marker": {
          "color": "seagreen"
         },
         "name": "decisiontree",
         "showlegend": false,
         "type": "bar",
         "x": [
          "Accuracy",
          "Recall weighted",
          "Precision weighted",
          "AUC"
         ],
         "xaxis": "x2",
         "y": [
          0.25,
          0.1806,
          0.1528,
          0.534
         ],
         "yaxis": "y2"
        },
        {
         "hovertemplate": "<b>%{x}:</b> \t %{y}",
         "marker": {
          "color": "lightseagreen"
         },
         "name": "randomforest",
         "type": "bar",
         "x": [
          "Accuracy",
          "Recall weighted",
          "Precision weighted",
          "AUC"
         ],
         "xaxis": "x",
         "y": [
          0.99,
          0.9904,
          0.9875,
          0.9999
         ],
         "yaxis": "y"
        },
        {
         "hovertemplate": "<b>%{x}:</b> \t %{y}",
         "marker": {
          "color": "lightseagreen"
         },
         "name": "randomforest",
         "showlegend": false,
         "type": "bar",
         "x": [
          "Accuracy",
          "Recall weighted",
          "Precision weighted",
          "AUC"
         ],
         "xaxis": "x2",
         "y": [
          0.2778,
          0.25,
          0.1632,
          0.6749
         ],
         "yaxis": "y2"
        },
        {
         "hovertemplate": "<b>%{x}:</b> \t %{y}",
         "marker": {
          "color": "olive"
         },
         "name": "extratree",
         "type": "bar",
         "x": [
          "Accuracy",
          "Recall weighted",
          "Precision weighted",
          "AUC"
         ],
         "xaxis": "x",
         "y": [
          0.99,
          0.9904,
          0.9875,
          0.9999
         ],
         "yaxis": "y"
        },
        {
         "hovertemplate": "<b>%{x}:</b> \t %{y}",
         "marker": {
          "color": "olive"
         },
         "name": "extratree",
         "showlegend": false,
         "type": "bar",
         "x": [
          "Accuracy",
          "Recall weighted",
          "Precision weighted",
          "AUC"
         ],
         "xaxis": "x2",
         "y": [
          0.3056,
          0.2847,
          0.1819,
          0.5918
         ],
         "yaxis": "y2"
        },
        {
         "hovertemplate": "<b>%{x}:</b> \t %{y}",
         "marker": {
          "color": "green"
         },
         "name": "adaboost",
         "type": "bar",
         "x": [
          "Accuracy",
          "Recall weighted",
          "Precision weighted",
          "AUC"
         ],
         "xaxis": "x",
         "y": [
          0.3533,
          0.384,
          0.4333,
          0.8238
         ],
         "yaxis": "y"
        },
        {
         "hovertemplate": "<b>%{x}:</b> \t %{y}",
         "marker": {
          "color": "green"
         },
         "name": "adaboost",
         "showlegend": false,
         "type": "bar",
         "x": [
          "Accuracy",
          "Recall weighted",
          "Precision weighted",
          "AUC"
         ],
         "xaxis": "x2",
         "y": [
          0.2222,
          0.1944,
          0.1403,
          0.7377
         ],
         "yaxis": "y2"
        },
        {
         "hovertemplate": "<b>%{x}:</b> \t %{y}",
         "marker": {
          "color": "dodgerblue"
         },
         "name": "extratrees",
         "type": "bar",
         "x": [
          "Accuracy",
          "Recall weighted",
          "Precision weighted",
          "AUC"
         ],
         "xaxis": "x",
         "y": [
          0.99,
          0.9904,
          0.9875,
          0.9999
         ],
         "yaxis": "y"
        },
        {
         "hovertemplate": "<b>%{x}:</b> \t %{y}",
         "marker": {
          "color": "dodgerblue"
         },
         "name": "extratrees",
         "showlegend": false,
         "type": "bar",
         "x": [
          "Accuracy",
          "Recall weighted",
          "Precision weighted",
          "AUC"
         ],
         "xaxis": "x2",
         "y": [
          0.3056,
          0.2431,
          0.1819,
          0.7413
         ],
         "yaxis": "y2"
        },
        {
         "hovertemplate": "<b>%{x}:</b> \t %{y}",
         "marker": {
          "color": "deepskyblue"
         },
         "name": "gaussianprocess",
         "type": "bar",
         "x": [
          "Accuracy",
          "Recall weighted",
          "Precision weighted",
          "AUC"
         ],
         "xaxis": "x",
         "y": [
          0.99,
          0.9861,
          0.9911,
          0.9999
         ],
         "yaxis": "y"
        },
        {
         "hovertemplate": "<b>%{x}:</b> \t %{y}",
         "marker": {
          "color": "deepskyblue"
         },
         "name": "gaussianprocess",
         "showlegend": false,
         "type": "bar",
         "x": [
          "Accuracy",
          "Recall weighted",
          "Precision weighted",
          "AUC"
         ],
         "xaxis": "x2",
         "y": [
          0.0833,
          0.125,
          0.0104,
          0.5
         ],
         "yaxis": "y2"
        },
        {
         "hovertemplate": "<b>%{x}:</b> \t %{y}",
         "marker": {
          "color": "navy"
         },
         "name": "gradientboosting",
         "type": "bar",
         "x": [
          "Accuracy",
          "Recall weighted",
          "Precision weighted",
          "AUC"
         ],
         "xaxis": "x",
         "y": [
          0.99,
          0.9904,
          0.9875,
          0.9999
         ],
         "yaxis": "y"
        },
        {
         "hovertemplate": "<b>%{x}:</b> \t %{y}",
         "marker": {
          "color": "navy"
         },
         "name": "gradientboosting",
         "showlegend": false,
         "type": "bar",
         "x": [
          "Accuracy",
          "Recall weighted",
          "Precision weighted",
          "AUC"
         ],
         "xaxis": "x2",
         "y": [
          0.25,
          0.2361,
          0.1486,
          0.6493
         ],
         "yaxis": "y2"
        },
        {
         "hovertemplate": "<b>%{x}:</b> \t %{y}",
         "marker": {
          "color": "blue"
         },
         "name": "svc",
         "type": "bar",
         "x": [
          "Accuracy",
          "Recall weighted",
          "Precision weighted",
          "AUC"
         ],
         "xaxis": "x",
         "y": [
          0.99,
          0.9861,
          0.9911,
          0.001
         ],
         "yaxis": "y"
        },
        {
         "hovertemplate": "<b>%{x}:</b> \t %{y}",
         "marker": {
          "color": "blue"
         },
         "name": "svc",
         "showlegend": false,
         "type": "bar",
         "x": [
          "Accuracy",
          "Recall weighted",
          "Precision weighted",
          "AUC"
         ],
         "xaxis": "x2",
         "y": [
          0.25,
          0.125,
          0.0312,
          0.3481
         ],
         "yaxis": "y2"
        }
       ],
       "layout": {
        "annotations": [
         {
          "font": {
           "size": 16
          },
          "showarrow": false,
          "text": "Train Set",
          "x": 0.24375,
          "xanchor": "center",
          "xref": "paper",
          "y": 1,
          "yanchor": "bottom",
          "yref": "paper"
         },
         {
          "font": {
           "size": 16
          },
          "showarrow": false,
          "text": "Validation Set",
          "x": 0.75625,
          "xanchor": "center",
          "xref": "paper",
          "y": 1,
          "yanchor": "bottom",
          "yref": "paper"
         }
        ],
        "height": 600,
        "showlegend": true,
        "template": {
         "data": {
          "bar": [
           {
            "error_x": {
             "color": "#2a3f5f"
            },
            "error_y": {
             "color": "#2a3f5f"
            },
            "marker": {
             "line": {
              "color": "white",
              "width": 0.5
             },
             "pattern": {
              "fillmode": "overlay",
              "size": 10,
              "solidity": 0.2
             }
            },
            "type": "bar"
           }
          ],
          "barpolar": [
           {
            "marker": {
             "line": {
              "color": "white",
              "width": 0.5
             },
             "pattern": {
              "fillmode": "overlay",
              "size": 10,
              "solidity": 0.2
             }
            },
            "type": "barpolar"
           }
          ],
          "carpet": [
           {
            "aaxis": {
             "endlinecolor": "#2a3f5f",
             "gridcolor": "#C8D4E3",
             "linecolor": "#C8D4E3",
             "minorgridcolor": "#C8D4E3",
             "startlinecolor": "#2a3f5f"
            },
            "baxis": {
             "endlinecolor": "#2a3f5f",
             "gridcolor": "#C8D4E3",
             "linecolor": "#C8D4E3",
             "minorgridcolor": "#C8D4E3",
             "startlinecolor": "#2a3f5f"
            },
            "type": "carpet"
           }
          ],
          "choropleth": [
           {
            "colorbar": {
             "outlinewidth": 0,
             "ticks": ""
            },
            "type": "choropleth"
           }
          ],
          "contour": [
           {
            "colorbar": {
             "outlinewidth": 0,
             "ticks": ""
            },
            "colorscale": [
             [
              0,
              "#0d0887"
             ],
             [
              0.1111111111111111,
              "#46039f"
             ],
             [
              0.2222222222222222,
              "#7201a8"
             ],
             [
              0.3333333333333333,
              "#9c179e"
             ],
             [
              0.4444444444444444,
              "#bd3786"
             ],
             [
              0.5555555555555556,
              "#d8576b"
             ],
             [
              0.6666666666666666,
              "#ed7953"
             ],
             [
              0.7777777777777778,
              "#fb9f3a"
             ],
             [
              0.8888888888888888,
              "#fdca26"
             ],
             [
              1,
              "#f0f921"
             ]
            ],
            "type": "contour"
           }
          ],
          "contourcarpet": [
           {
            "colorbar": {
             "outlinewidth": 0,
             "ticks": ""
            },
            "type": "contourcarpet"
           }
          ],
          "heatmap": [
           {
            "colorbar": {
             "outlinewidth": 0,
             "ticks": ""
            },
            "colorscale": [
             [
              0,
              "#0d0887"
             ],
             [
              0.1111111111111111,
              "#46039f"
             ],
             [
              0.2222222222222222,
              "#7201a8"
             ],
             [
              0.3333333333333333,
              "#9c179e"
             ],
             [
              0.4444444444444444,
              "#bd3786"
             ],
             [
              0.5555555555555556,
              "#d8576b"
             ],
             [
              0.6666666666666666,
              "#ed7953"
             ],
             [
              0.7777777777777778,
              "#fb9f3a"
             ],
             [
              0.8888888888888888,
              "#fdca26"
             ],
             [
              1,
              "#f0f921"
             ]
            ],
            "type": "heatmap"
           }
          ],
          "heatmapgl": [
           {
            "colorbar": {
             "outlinewidth": 0,
             "ticks": ""
            },
            "colorscale": [
             [
              0,
              "#0d0887"
             ],
             [
              0.1111111111111111,
              "#46039f"
             ],
             [
              0.2222222222222222,
              "#7201a8"
             ],
             [
              0.3333333333333333,
              "#9c179e"
             ],
             [
              0.4444444444444444,
              "#bd3786"
             ],
             [
              0.5555555555555556,
              "#d8576b"
             ],
             [
              0.6666666666666666,
              "#ed7953"
             ],
             [
              0.7777777777777778,
              "#fb9f3a"
             ],
             [
              0.8888888888888888,
              "#fdca26"
             ],
             [
              1,
              "#f0f921"
             ]
            ],
            "type": "heatmapgl"
           }
          ],
          "histogram": [
           {
            "marker": {
             "pattern": {
              "fillmode": "overlay",
              "size": 10,
              "solidity": 0.2
             }
            },
            "type": "histogram"
           }
          ],
          "histogram2d": [
           {
            "colorbar": {
             "outlinewidth": 0,
             "ticks": ""
            },
            "colorscale": [
             [
              0,
              "#0d0887"
             ],
             [
              0.1111111111111111,
              "#46039f"
             ],
             [
              0.2222222222222222,
              "#7201a8"
             ],
             [
              0.3333333333333333,
              "#9c179e"
             ],
             [
              0.4444444444444444,
              "#bd3786"
             ],
             [
              0.5555555555555556,
              "#d8576b"
             ],
             [
              0.6666666666666666,
              "#ed7953"
             ],
             [
              0.7777777777777778,
              "#fb9f3a"
             ],
             [
              0.8888888888888888,
              "#fdca26"
             ],
             [
              1,
              "#f0f921"
             ]
            ],
            "type": "histogram2d"
           }
          ],
          "histogram2dcontour": [
           {
            "colorbar": {
             "outlinewidth": 0,
             "ticks": ""
            },
            "colorscale": [
             [
              0,
              "#0d0887"
             ],
             [
              0.1111111111111111,
              "#46039f"
             ],
             [
              0.2222222222222222,
              "#7201a8"
             ],
             [
              0.3333333333333333,
              "#9c179e"
             ],
             [
              0.4444444444444444,
              "#bd3786"
             ],
             [
              0.5555555555555556,
              "#d8576b"
             ],
             [
              0.6666666666666666,
              "#ed7953"
             ],
             [
              0.7777777777777778,
              "#fb9f3a"
             ],
             [
              0.8888888888888888,
              "#fdca26"
             ],
             [
              1,
              "#f0f921"
             ]
            ],
            "type": "histogram2dcontour"
           }
          ],
          "mesh3d": [
           {
            "colorbar": {
             "outlinewidth": 0,
             "ticks": ""
            },
            "type": "mesh3d"
           }
          ],
          "parcoords": [
           {
            "line": {
             "colorbar": {
              "outlinewidth": 0,
              "ticks": ""
             }
            },
            "type": "parcoords"
           }
          ],
          "pie": [
           {
            "automargin": true,
            "type": "pie"
           }
          ],
          "scatter": [
           {
            "fillpattern": {
             "fillmode": "overlay",
             "size": 10,
             "solidity": 0.2
            },
            "type": "scatter"
           }
          ],
          "scatter3d": [
           {
            "line": {
             "colorbar": {
              "outlinewidth": 0,
              "ticks": ""
             }
            },
            "marker": {
             "colorbar": {
              "outlinewidth": 0,
              "ticks": ""
             }
            },
            "type": "scatter3d"
           }
          ],
          "scattercarpet": [
           {
            "marker": {
             "colorbar": {
              "outlinewidth": 0,
              "ticks": ""
             }
            },
            "type": "scattercarpet"
           }
          ],
          "scattergeo": [
           {
            "marker": {
             "colorbar": {
              "outlinewidth": 0,
              "ticks": ""
             }
            },
            "type": "scattergeo"
           }
          ],
          "scattergl": [
           {
            "marker": {
             "colorbar": {
              "outlinewidth": 0,
              "ticks": ""
             }
            },
            "type": "scattergl"
           }
          ],
          "scattermapbox": [
           {
            "marker": {
             "colorbar": {
              "outlinewidth": 0,
              "ticks": ""
             }
            },
            "type": "scattermapbox"
           }
          ],
          "scatterpolar": [
           {
            "marker": {
             "colorbar": {
              "outlinewidth": 0,
              "ticks": ""
             }
            },
            "type": "scatterpolar"
           }
          ],
          "scatterpolargl": [
           {
            "marker": {
             "colorbar": {
              "outlinewidth": 0,
              "ticks": ""
             }
            },
            "type": "scatterpolargl"
           }
          ],
          "scatterternary": [
           {
            "marker": {
             "colorbar": {
              "outlinewidth": 0,
              "ticks": ""
             }
            },
            "type": "scatterternary"
           }
          ],
          "surface": [
           {
            "colorbar": {
             "outlinewidth": 0,
             "ticks": ""
            },
            "colorscale": [
             [
              0,
              "#0d0887"
             ],
             [
              0.1111111111111111,
              "#46039f"
             ],
             [
              0.2222222222222222,
              "#7201a8"
             ],
             [
              0.3333333333333333,
              "#9c179e"
             ],
             [
              0.4444444444444444,
              "#bd3786"
             ],
             [
              0.5555555555555556,
              "#d8576b"
             ],
             [
              0.6666666666666666,
              "#ed7953"
             ],
             [
              0.7777777777777778,
              "#fb9f3a"
             ],
             [
              0.8888888888888888,
              "#fdca26"
             ],
             [
              1,
              "#f0f921"
             ]
            ],
            "type": "surface"
           }
          ],
          "table": [
           {
            "cells": {
             "fill": {
              "color": "#EBF0F8"
             },
             "line": {
              "color": "white"
             }
            },
            "header": {
             "fill": {
              "color": "#C8D4E3"
             },
             "line": {
              "color": "white"
             }
            },
            "type": "table"
           }
          ]
         },
         "layout": {
          "annotationdefaults": {
           "arrowcolor": "#2a3f5f",
           "arrowhead": 0,
           "arrowwidth": 1
          },
          "autotypenumbers": "strict",
          "coloraxis": {
           "colorbar": {
            "outlinewidth": 0,
            "ticks": ""
           }
          },
          "colorscale": {
           "diverging": [
            [
             0,
             "#8e0152"
            ],
            [
             0.1,
             "#c51b7d"
            ],
            [
             0.2,
             "#de77ae"
            ],
            [
             0.3,
             "#f1b6da"
            ],
            [
             0.4,
             "#fde0ef"
            ],
            [
             0.5,
             "#f7f7f7"
            ],
            [
             0.6,
             "#e6f5d0"
            ],
            [
             0.7,
             "#b8e186"
            ],
            [
             0.8,
             "#7fbc41"
            ],
            [
             0.9,
             "#4d9221"
            ],
            [
             1,
             "#276419"
            ]
           ],
           "sequential": [
            [
             0,
             "#0d0887"
            ],
            [
             0.1111111111111111,
             "#46039f"
            ],
            [
             0.2222222222222222,
             "#7201a8"
            ],
            [
             0.3333333333333333,
             "#9c179e"
            ],
            [
             0.4444444444444444,
             "#bd3786"
            ],
            [
             0.5555555555555556,
             "#d8576b"
            ],
            [
             0.6666666666666666,
             "#ed7953"
            ],
            [
             0.7777777777777778,
             "#fb9f3a"
            ],
            [
             0.8888888888888888,
             "#fdca26"
            ],
            [
             1,
             "#f0f921"
            ]
           ],
           "sequentialminus": [
            [
             0,
             "#0d0887"
            ],
            [
             0.1111111111111111,
             "#46039f"
            ],
            [
             0.2222222222222222,
             "#7201a8"
            ],
            [
             0.3333333333333333,
             "#9c179e"
            ],
            [
             0.4444444444444444,
             "#bd3786"
            ],
            [
             0.5555555555555556,
             "#d8576b"
            ],
            [
             0.6666666666666666,
             "#ed7953"
            ],
            [
             0.7777777777777778,
             "#fb9f3a"
            ],
            [
             0.8888888888888888,
             "#fdca26"
            ],
            [
             1,
             "#f0f921"
            ]
           ]
          },
          "colorway": [
           "#636efa",
           "#EF553B",
           "#00cc96",
           "#ab63fa",
           "#FFA15A",
           "#19d3f3",
           "#FF6692",
           "#B6E880",
           "#FF97FF",
           "#FECB52"
          ],
          "font": {
           "color": "#2a3f5f"
          },
          "geo": {
           "bgcolor": "white",
           "lakecolor": "white",
           "landcolor": "white",
           "showlakes": true,
           "showland": true,
           "subunitcolor": "#C8D4E3"
          },
          "hoverlabel": {
           "align": "left"
          },
          "hovermode": "closest",
          "mapbox": {
           "style": "light"
          },
          "paper_bgcolor": "white",
          "plot_bgcolor": "white",
          "polar": {
           "angularaxis": {
            "gridcolor": "#EBF0F8",
            "linecolor": "#EBF0F8",
            "ticks": ""
           },
           "bgcolor": "white",
           "radialaxis": {
            "gridcolor": "#EBF0F8",
            "linecolor": "#EBF0F8",
            "ticks": ""
           }
          },
          "scene": {
           "xaxis": {
            "backgroundcolor": "white",
            "gridcolor": "#DFE8F3",
            "gridwidth": 2,
            "linecolor": "#EBF0F8",
            "showbackground": true,
            "ticks": "",
            "zerolinecolor": "#EBF0F8"
           },
           "yaxis": {
            "backgroundcolor": "white",
            "gridcolor": "#DFE8F3",
            "gridwidth": 2,
            "linecolor": "#EBF0F8",
            "showbackground": true,
            "ticks": "",
            "zerolinecolor": "#EBF0F8"
           },
           "zaxis": {
            "backgroundcolor": "white",
            "gridcolor": "#DFE8F3",
            "gridwidth": 2,
            "linecolor": "#EBF0F8",
            "showbackground": true,
            "ticks": "",
            "zerolinecolor": "#EBF0F8"
           }
          },
          "shapedefaults": {
           "line": {
            "color": "#2a3f5f"
           }
          },
          "ternary": {
           "aaxis": {
            "gridcolor": "#DFE8F3",
            "linecolor": "#A2B1C6",
            "ticks": ""
           },
           "baxis": {
            "gridcolor": "#DFE8F3",
            "linecolor": "#A2B1C6",
            "ticks": ""
           },
           "bgcolor": "white",
           "caxis": {
            "gridcolor": "#DFE8F3",
            "linecolor": "#A2B1C6",
            "ticks": ""
           }
          },
          "title": {
           "x": 0.05
          },
          "xaxis": {
           "automargin": true,
           "gridcolor": "#EBF0F8",
           "linecolor": "#EBF0F8",
           "ticks": "",
           "title": {
            "standoff": 15
           },
           "zerolinecolor": "#EBF0F8",
           "zerolinewidth": 2
          },
          "yaxis": {
           "automargin": true,
           "gridcolor": "#EBF0F8",
           "linecolor": "#EBF0F8",
           "ticks": "",
           "title": {
            "standoff": 15
           },
           "zerolinecolor": "#EBF0F8",
           "zerolinewidth": 2
          }
         }
        },
        "width": 1650,
        "xaxis": {
         "anchor": "y",
         "domain": [
          0,
          0.4875
         ]
        },
        "xaxis2": {
         "anchor": "y2",
         "domain": [
          0.5125,
          1
         ]
        },
        "yaxis": {
         "anchor": "x",
         "domain": [
          0,
          1
         ],
         "range": [
          0,
          1.1
         ]
        },
        "yaxis2": {
         "anchor": "x2",
         "domain": [
          0,
          1
         ],
         "matches": "y",
         "showticklabels": false
        }
       }
      }
     },
     "metadata": {},
     "output_type": "display_data"
    }
   ],
   "source": [
    "funs.performance_plotter(train, validate, 'Validation', color)"
   ]
  },
  {
   "cell_type": "code",
   "execution_count": 97,
   "metadata": {},
   "outputs": [],
   "source": [
    "validation.append(validate)"
   ]
  },
  {
   "cell_type": "code",
   "execution_count": 98,
   "metadata": {},
   "outputs": [
    {
     "data": {
      "text/html": [
       "<style type=\"text/css\">\n",
       "</style>\n",
       "<table id=\"T_b3cff\">\n",
       "  <thead>\n",
       "    <tr>\n",
       "      <th id=\"T_b3cff_level0_col0\" class=\"col_heading level0 col0\" >Model</th>\n",
       "      <th id=\"T_b3cff_level0_col1\" class=\"col_heading level0 col1\" >Accuracy</th>\n",
       "      <th id=\"T_b3cff_level0_col2\" class=\"col_heading level0 col2\" >Recall weighted</th>\n",
       "      <th id=\"T_b3cff_level0_col3\" class=\"col_heading level0 col3\" >Precision weighted</th>\n",
       "      <th id=\"T_b3cff_level0_col4\" class=\"col_heading level0 col4\" >AUC</th>\n",
       "    </tr>\n",
       "  </thead>\n",
       "  <tbody>\n",
       "    <tr>\n",
       "      <td id=\"T_b3cff_row0_col0\" class=\"data row0 col0\" >logisticregression</td>\n",
       "      <td id=\"T_b3cff_row0_col1\" class=\"data row0 col1\" >0.416700</td>\n",
       "      <td id=\"T_b3cff_row0_col2\" class=\"data row0 col2\" >0.354200</td>\n",
       "      <td id=\"T_b3cff_row0_col3\" class=\"data row0 col3\" >0.354200</td>\n",
       "      <td id=\"T_b3cff_row0_col4\" class=\"data row0 col4\" >0.700400</td>\n",
       "    </tr>\n",
       "    <tr>\n",
       "      <td id=\"T_b3cff_row1_col0\" class=\"data row1 col0\" >logisticregression_l1</td>\n",
       "      <td id=\"T_b3cff_row1_col1\" class=\"data row1 col1\" >0.305600</td>\n",
       "      <td id=\"T_b3cff_row1_col2\" class=\"data row1 col2\" >0.250000</td>\n",
       "      <td id=\"T_b3cff_row1_col3\" class=\"data row1 col3\" >0.219200</td>\n",
       "      <td id=\"T_b3cff_row1_col4\" class=\"data row1 col4\" >0.677200</td>\n",
       "    </tr>\n",
       "    <tr>\n",
       "      <td id=\"T_b3cff_row2_col0\" class=\"data row2 col0\" >logisticregression_l2</td>\n",
       "      <td id=\"T_b3cff_row2_col1\" class=\"data row2 col1\" >0.277800</td>\n",
       "      <td id=\"T_b3cff_row2_col2\" class=\"data row2 col2\" >0.277800</td>\n",
       "      <td id=\"T_b3cff_row2_col3\" class=\"data row2 col3\" >0.213200</td>\n",
       "      <td id=\"T_b3cff_row2_col4\" class=\"data row2 col4\" >0.675700</td>\n",
       "    </tr>\n",
       "    <tr>\n",
       "      <td id=\"T_b3cff_row3_col0\" class=\"data row3 col0\" >logisticregression_elasticnet</td>\n",
       "      <td id=\"T_b3cff_row3_col1\" class=\"data row3 col1\" >0.250000</td>\n",
       "      <td id=\"T_b3cff_row3_col2\" class=\"data row3 col2\" >0.215300</td>\n",
       "      <td id=\"T_b3cff_row3_col3\" class=\"data row3 col3\" >0.173600</td>\n",
       "      <td id=\"T_b3cff_row3_col4\" class=\"data row3 col4\" >0.703400</td>\n",
       "    </tr>\n",
       "    <tr>\n",
       "      <td id=\"T_b3cff_row4_col0\" class=\"data row4 col0\" >sgd</td>\n",
       "      <td id=\"T_b3cff_row4_col1\" class=\"data row4 col1\" >0.222200</td>\n",
       "      <td id=\"T_b3cff_row4_col2\" class=\"data row4 col2\" >0.194400</td>\n",
       "      <td id=\"T_b3cff_row4_col3\" class=\"data row4 col3\" >0.135400</td>\n",
       "      <td id=\"T_b3cff_row4_col4\" class=\"data row4 col4\" >0.582000</td>\n",
       "    </tr>\n",
       "    <tr>\n",
       "      <td id=\"T_b3cff_row5_col0\" class=\"data row5 col0\" >mlp</td>\n",
       "      <td id=\"T_b3cff_row5_col1\" class=\"data row5 col1\" >0.333300</td>\n",
       "      <td id=\"T_b3cff_row5_col2\" class=\"data row5 col2\" >0.298600</td>\n",
       "      <td id=\"T_b3cff_row5_col3\" class=\"data row5 col3\" >0.183300</td>\n",
       "      <td id=\"T_b3cff_row5_col4\" class=\"data row5 col4\" >0.651500</td>\n",
       "    </tr>\n",
       "    <tr>\n",
       "      <td id=\"T_b3cff_row6_col0\" class=\"data row6 col0\" >decisiontree</td>\n",
       "      <td id=\"T_b3cff_row6_col1\" class=\"data row6 col1\" >0.250000</td>\n",
       "      <td id=\"T_b3cff_row6_col2\" class=\"data row6 col2\" >0.180600</td>\n",
       "      <td id=\"T_b3cff_row6_col3\" class=\"data row6 col3\" >0.152800</td>\n",
       "      <td id=\"T_b3cff_row6_col4\" class=\"data row6 col4\" >0.534000</td>\n",
       "    </tr>\n",
       "    <tr>\n",
       "      <td id=\"T_b3cff_row7_col0\" class=\"data row7 col0\" >randomforest</td>\n",
       "      <td id=\"T_b3cff_row7_col1\" class=\"data row7 col1\" >0.277800</td>\n",
       "      <td id=\"T_b3cff_row7_col2\" class=\"data row7 col2\" >0.250000</td>\n",
       "      <td id=\"T_b3cff_row7_col3\" class=\"data row7 col3\" >0.163200</td>\n",
       "      <td id=\"T_b3cff_row7_col4\" class=\"data row7 col4\" >0.674900</td>\n",
       "    </tr>\n",
       "    <tr>\n",
       "      <td id=\"T_b3cff_row8_col0\" class=\"data row8 col0\" >extratree</td>\n",
       "      <td id=\"T_b3cff_row8_col1\" class=\"data row8 col1\" >0.305600</td>\n",
       "      <td id=\"T_b3cff_row8_col2\" class=\"data row8 col2\" >0.284700</td>\n",
       "      <td id=\"T_b3cff_row8_col3\" class=\"data row8 col3\" >0.181900</td>\n",
       "      <td id=\"T_b3cff_row8_col4\" class=\"data row8 col4\" >0.591800</td>\n",
       "    </tr>\n",
       "    <tr>\n",
       "      <td id=\"T_b3cff_row9_col0\" class=\"data row9 col0\" >adaboost</td>\n",
       "      <td id=\"T_b3cff_row9_col1\" class=\"data row9 col1\" >0.222200</td>\n",
       "      <td id=\"T_b3cff_row9_col2\" class=\"data row9 col2\" >0.194400</td>\n",
       "      <td id=\"T_b3cff_row9_col3\" class=\"data row9 col3\" >0.140300</td>\n",
       "      <td id=\"T_b3cff_row9_col4\" class=\"data row9 col4\" >0.737700</td>\n",
       "    </tr>\n",
       "    <tr>\n",
       "      <td id=\"T_b3cff_row10_col0\" class=\"data row10 col0\" >extratrees</td>\n",
       "      <td id=\"T_b3cff_row10_col1\" class=\"data row10 col1\" >0.305600</td>\n",
       "      <td id=\"T_b3cff_row10_col2\" class=\"data row10 col2\" >0.243100</td>\n",
       "      <td id=\"T_b3cff_row10_col3\" class=\"data row10 col3\" >0.181900</td>\n",
       "      <td id=\"T_b3cff_row10_col4\" class=\"data row10 col4\" >0.741300</td>\n",
       "    </tr>\n",
       "    <tr>\n",
       "      <td id=\"T_b3cff_row11_col0\" class=\"data row11 col0\" >gaussianprocess</td>\n",
       "      <td id=\"T_b3cff_row11_col1\" class=\"data row11 col1\" >0.083300</td>\n",
       "      <td id=\"T_b3cff_row11_col2\" class=\"data row11 col2\" >0.125000</td>\n",
       "      <td id=\"T_b3cff_row11_col3\" class=\"data row11 col3\" >0.010400</td>\n",
       "      <td id=\"T_b3cff_row11_col4\" class=\"data row11 col4\" >0.500000</td>\n",
       "    </tr>\n",
       "    <tr>\n",
       "      <td id=\"T_b3cff_row12_col0\" class=\"data row12 col0\" >gradientboosting</td>\n",
       "      <td id=\"T_b3cff_row12_col1\" class=\"data row12 col1\" >0.250000</td>\n",
       "      <td id=\"T_b3cff_row12_col2\" class=\"data row12 col2\" >0.236100</td>\n",
       "      <td id=\"T_b3cff_row12_col3\" class=\"data row12 col3\" >0.148600</td>\n",
       "      <td id=\"T_b3cff_row12_col4\" class=\"data row12 col4\" >0.649300</td>\n",
       "    </tr>\n",
       "    <tr>\n",
       "      <td id=\"T_b3cff_row13_col0\" class=\"data row13 col0\" >svc</td>\n",
       "      <td id=\"T_b3cff_row13_col1\" class=\"data row13 col1\" >0.250000</td>\n",
       "      <td id=\"T_b3cff_row13_col2\" class=\"data row13 col2\" >0.125000</td>\n",
       "      <td id=\"T_b3cff_row13_col3\" class=\"data row13 col3\" >0.031200</td>\n",
       "      <td id=\"T_b3cff_row13_col4\" class=\"data row13 col4\" >0.348100</td>\n",
       "    </tr>\n",
       "  </tbody>\n",
       "</table>\n"
      ],
      "text/plain": [
       "<pandas.io.formats.style.Styler at 0x7fa3a04b1430>"
      ]
     },
     "execution_count": 98,
     "metadata": {},
     "output_type": "execute_result"
    }
   ],
   "source": [
    "validate.style.hide(axis='index')"
   ]
  },
  {
   "attachments": {},
   "cell_type": "markdown",
   "metadata": {},
   "source": [
    "### 3.4. Grid Search for Best Estimators"
   ]
  },
  {
   "cell_type": "code",
   "execution_count": 99,
   "metadata": {},
   "outputs": [],
   "source": [
    "# Create a pipeline with data transformation and variance threshold.\n",
    "preprocessor = make_pipeline(Transformer, VarianceThreshold())"
   ]
  },
  {
   "cell_type": "code",
   "execution_count": 100,
   "metadata": {},
   "outputs": [],
   "source": [
    "if not 'logisticregression.joblib' in os.listdir('../working/best_estimators'):\n",
    "\n",
    "    log_cv = GridSearchCV(\n",
    "        estimator =  make_pipeline(preprocessor, log),\n",
    "        param_grid={\n",
    "            'pipeline__variancethreshold__threshold':np.arange(0.05, 0.25,0.025),\n",
    "            'logisticregression__multi_class':['multinomial','ovr']},\n",
    "        scoring=metrics,\n",
    "        n_jobs=-1,\n",
    "        refit='accuracy', \n",
    "        cv=sss,\n",
    "        return_train_score=True)\n",
    "    \n",
    "    _ = log_cv.fit(X_train, y_train)"
   ]
  },
  {
   "cell_type": "code",
   "execution_count": 101,
   "metadata": {},
   "outputs": [],
   "source": [
    "if not 'logisticregression_l1.joblib' in os.listdir('../working/best_estimators'):\n",
    "\n",
    "    l1_cv = GridSearchCV(\n",
    "        estimator = make_pipeline(preprocessor, l1),\n",
    "        param_grid={\n",
    "            'pipeline__variancethreshold__threshold':np.arange(0.05, 0.25,0.025),\n",
    "            'logisticregression__C':[0.1,0.5,1,5,10,50,100],\n",
    "            'logisticregression__multi_class':['multinomial','ovr']},\n",
    "        scoring=metrics,\n",
    "        n_jobs=-1,\n",
    "        refit='accuracy', \n",
    "        cv=sss,\n",
    "        return_train_score=True)\n",
    "    \n",
    "    _ = l1_cv.fit(X_train, y_train)"
   ]
  },
  {
   "cell_type": "code",
   "execution_count": 102,
   "metadata": {},
   "outputs": [],
   "source": [
    "if not 'logisticregression_l2.joblib' in os.listdir('../working/best_estimators'):\n",
    "\n",
    "    l2_cv = GridSearchCV(\n",
    "        estimator = make_pipeline(preprocessor, l2),\n",
    "        param_grid={\n",
    "            'pipeline__variancethreshold__threshold':np.arange(0.05, 0.25,0.025),\n",
    "            'logisticregression__C':[0.1,0.5,1,5,10,50,100],\n",
    "            'logisticregression__multi_class':['multinomial','ovr']},\n",
    "        scoring=metrics,\n",
    "        n_jobs=-1,\n",
    "        refit='accuracy', \n",
    "        cv=sss,\n",
    "        return_train_score=True)\n",
    "    \n",
    "    _ = l2_cv.fit(X_train, y_train)"
   ]
  },
  {
   "cell_type": "code",
   "execution_count": 103,
   "metadata": {},
   "outputs": [],
   "source": [
    "if not 'logisticregression_elasticnet.joblib' in os.listdir('../working/best_estimators'):\n",
    "\n",
    "    net_cv = GridSearchCV(\n",
    "        estimator = make_pipeline(preprocessor, net),\n",
    "        param_grid={\n",
    "            'pipeline__variancethreshold__threshold':np.arange(0.05, 0.25,0.025),\n",
    "            'logisticregression__C':[0.1,0.5,1,5,10,50,100],\n",
    "            'logisticregression__l1_ratio':np.arange(0.1,1.1,0.1),\n",
    "            'logisticregression__multi_class':['multinomial','ovr']},\n",
    "        scoring=metrics,\n",
    "        n_jobs=-1,\n",
    "        refit='accuracy', \n",
    "        cv=sss,\n",
    "        return_train_score=True)\n",
    "    \n",
    "    _ = net_cv.fit(X_train, y_train)"
   ]
  },
  {
   "cell_type": "code",
   "execution_count": 104,
   "metadata": {},
   "outputs": [],
   "source": [
    "if not 'sgd_l1.joblib' in os.listdir('../working/best_estimators'):\n",
    "\n",
    "    sgd_cv = GridSearchCV(\n",
    "        estimator =  make_pipeline(preprocessor, sgd),\n",
    "        param_grid={\n",
    "            'pipeline__variancethreshold__threshold':np.arange(0.05, 0.25,0.025),\n",
    "            'sgdclassifier__loss':['log_loss','modified_huber'],\n",
    "            'sgdclassifier__penalty':['l2', 'l1', 'elasticnet', None],\n",
    "            'sgdclassifier__alpha':np.arange(0.0001,0.11,0.025)},\n",
    "        scoring=metrics,\n",
    "        n_jobs=-1,\n",
    "        refit='accuracy', \n",
    "        cv=sss,\n",
    "        return_train_score=True)\n",
    "    \n",
    "    _ = sgd_cv.fit(X_train, y_train)"
   ]
  },
  {
   "cell_type": "code",
   "execution_count": 105,
   "metadata": {},
   "outputs": [],
   "source": [
    "if not 'mlp.joblib' in os.listdir('../working/best_estimators'):\n",
    "\n",
    "    mlp_cv = GridSearchCV(\n",
    "        estimator = make_pipeline(preprocessor, mlp),\n",
    "        param_grid={\n",
    "            'pipeline__variancethreshold__threshold':np.arange(0.05, 0.25,0.025),\n",
    "            'mlpclassifier__hidden_layer_sizes':[(50,), (100,), (150,), (200,)],\n",
    "            'mlpclassifier__activation':['identity', 'logistic', 'tanh', 'relu'],\n",
    "            'mlpclassifier__alpha':[0.1, 0.05, 0.01, 0.001]},\n",
    "        scoring=metrics,\n",
    "        n_jobs=-1,\n",
    "        refit='accuracy', \n",
    "        cv=sss,\n",
    "        return_train_score=True)\n",
    "    \n",
    "    _ = mlp_cv.fit(X_train, y_train)"
   ]
  },
  {
   "cell_type": "code",
   "execution_count": 106,
   "metadata": {},
   "outputs": [],
   "source": [
    "if not 'decisiontree.joblib' in os.listdir('../working/best_estimators'):\n",
    "\n",
    "    dtc_cv = GridSearchCV(\n",
    "        estimator = make_pipeline(preprocessor, dtc),\n",
    "        param_grid={\n",
    "            'pipeline__variancethreshold__threshold':np.arange(0.1, 0.225,0.025),\n",
    "            'decisiontreeclassifier__criterion':['gini','entropy','log_loss'],\n",
    "            'decisiontreeclassifier__max_depth':np.arange(5, 11),\n",
    "            'decisiontreeclassifier__min_samples_split':np.arange(2, 5),\n",
    "            'decisiontreeclassifier__min_samples_leaf':np.arange(1, 5),\n",
    "            'decisiontreeclassifier__class_weight':[None, weights],\n",
    "            'decisiontreeclassifier__ccp_alpha':np.arange(0.005, 0.035, 0.005)},\n",
    "        scoring=metrics,\n",
    "        n_jobs=-1,\n",
    "        refit='accuracy', \n",
    "        cv=sss,\n",
    "        return_train_score=True)\n",
    "    \n",
    "    _ = dtc_cv.fit(X_train, y_train)"
   ]
  },
  {
   "cell_type": "code",
   "execution_count": 107,
   "metadata": {},
   "outputs": [],
   "source": [
    "if not 'randomforest.joblib' in os.listdir('../working/best_estimators'):\n",
    "\n",
    "    rfc_cv = GridSearchCV(\n",
    "        estimator = make_pipeline(preprocessor, rfc),\n",
    "        param_grid={\n",
    "            'pipeline__variancethreshold__threshold':np.arange(0.1, 0.225,0.025),\n",
    "            'randomforestclassifier__criterion':['gini','entropy','log_loss'],\n",
    "            'randomforestclassifier__max_depth':np.arange(5, 11),\n",
    "            'randomforestclassifier__min_samples_split':np.arange(2, 5),\n",
    "            'randomforestclassifier__min_samples_leaf':np.arange(1, 5),\n",
    "            'randomforestclassifier__class_weight':[None, weights],\n",
    "            'randomforestclassifier__ccp_alpha':np.arange(0.005, 0.035, 0.005)},\n",
    "        scoring=metrics,\n",
    "        n_jobs=-1,\n",
    "        refit='accuracy', \n",
    "        cv=sss,\n",
    "        return_train_score=True)\n",
    "    \n",
    "    _ = rfc_cv.fit(X_train, y_train)"
   ]
  },
  {
   "cell_type": "code",
   "execution_count": 108,
   "metadata": {},
   "outputs": [],
   "source": [
    "if not 'extratree.joblib' in os.listdir('../working/best_estimators'):\n",
    "\n",
    "    etc_cv = GridSearchCV(\n",
    "        estimator =  make_pipeline(preprocessor, etc),\n",
    "        param_grid={\n",
    "            'pipeline__variancethreshold__threshold':np.arange(0.1, 0.225,0.025),\n",
    "            'extratreeclassifier__criterion':['gini','entropy','log_loss'],\n",
    "            'extratreeclassifier__max_depth':np.arange(5, 11),\n",
    "            'extratreeclassifier__min_samples_split':np.arange(2, 5),\n",
    "            'extratreeclassifier__min_samples_leaf':np.arange(1, 5),\n",
    "            'extratreeclassifier__class_weight':[None, weights],\n",
    "            'extratreeclassifier__ccp_alpha':np.arange(0.005, 0.035, 0.005)},\n",
    "        scoring=metrics,\n",
    "        n_jobs=-1,\n",
    "        refit='accuracy', \n",
    "        cv=sss,\n",
    "        return_train_score=False)\n",
    "    \n",
    "    _ = etc_cv.fit(X_train, y_train)"
   ]
  },
  {
   "cell_type": "code",
   "execution_count": 109,
   "metadata": {},
   "outputs": [],
   "source": [
    "if not 'extratrees.joblib' in os.listdir('../working/best_estimators'):\n",
    "\n",
    "    ets_cv = GridSearchCV(\n",
    "        estimator =  make_pipeline(preprocessor, ets),\n",
    "        param_grid={\n",
    "            'pipeline__variancethreshold__threshold':np.arange(0.1, 0.225,0.025),\n",
    "            'extratreesclassifier__criterion':['gini','entropy','log_loss'],\n",
    "            'extratreesclassifier__n_estimators':np.arange(5, 11),\n",
    "            'extratreesclassifier__max_depth':np.arange(5, 11),\n",
    "            'extratreesclassifier__min_samples_split':np.arange(2, 5),\n",
    "            'extratreesclassifier__min_samples_leaf':np.arange(1, 5),\n",
    "            'extratreesclassifier__class_weight':[None, weights],\n",
    "            'extratreesclassifier__ccp_alpha':np.arange(0.005, 0.035, 0.005)},\n",
    "        scoring=metrics,\n",
    "        n_jobs=-1,\n",
    "        refit='accuracy', \n",
    "        cv=sss,\n",
    "        return_train_score=False)\n",
    "    \n",
    "    _ = ets_cv.fit(X_train, y_train)"
   ]
  },
  {
   "cell_type": "code",
   "execution_count": 110,
   "metadata": {},
   "outputs": [],
   "source": [
    "if not 'adaboost.joblib' in os.listdir('../working/best_estimators'):\n",
    "\n",
    "    abc_cv = GridSearchCV(\n",
    "        estimator = make_pipeline(preprocessor, abc),\n",
    "        param_grid={\n",
    "            'pipeline__variancethreshold__threshold':np.arange(0.1, 0.225,0.025),\n",
    "            'adaboostclassifier__estimator':[dtc_cv.best_estimator_.steps[1][1], \n",
    "                                             rfc_cv.best_estimator_.steps[1][1], \n",
    "                                             etc_cv.best_estimator_.steps[1][1], \n",
    "                                             ets_cv.best_estimator_.steps[1][1]],\n",
    "            'adaboostclassifier__n_estimators':np.arange(10, 110, 10),\n",
    "            'adaboostclassifier__learning_rate':np.arange(0.1,1.1,0.1)},\n",
    "        scoring=metrics,\n",
    "        n_jobs=-1,\n",
    "        refit='accuracy', \n",
    "        cv=sss,\n",
    "        return_train_score=True)\n",
    "    \n",
    "    _ = abc_cv.fit(X_train, y_train)"
   ]
  },
  {
   "cell_type": "code",
   "execution_count": 111,
   "metadata": {},
   "outputs": [],
   "source": [
    "if not 'gaussianprocess.joblib' in os.listdir('../working/best_estimators'):\n",
    "\n",
    "    gpc_cv = GridSearchCV(\n",
    "        estimator =  make_pipeline(preprocessor, gpc),\n",
    "        param_grid={\n",
    "            'pipeline__variancethreshold__threshold':np.arange(0.05, 0.25,0.025),\n",
    "            'gaussianprocessclassifier__kernel':[RBF(0.001), RBF(0.005), RBF(0.01), RBF(0.05)]},\n",
    "        scoring=metrics,\n",
    "        n_jobs=-1,\n",
    "        refit='accuracy', \n",
    "        cv=sss,\n",
    "        return_train_score=False)\n",
    "    \n",
    "    _ = gpc_cv.fit(X_train, y_train)"
   ]
  },
  {
   "cell_type": "code",
   "execution_count": 112,
   "metadata": {},
   "outputs": [],
   "source": [
    "if not 'gradientboosting.joblib' in os.listdir('../working/best_estimators'):\n",
    "\n",
    "    gbc_cv = RandomizedSearchCV(    \n",
    "        estimator = make_pipeline(preprocessor, gbc),\n",
    "        param_distributions={\n",
    "            'pipeline__variancethreshold__threshold':np.arange(0.05, 0.25, 0.025),\n",
    "            'gradientboostingclassifier__learning_rate':[0.01, 0.05, 0.1, 0.5, 1, 5],\n",
    "            'gradientboostingclassifier__n_estimators':[8,9,10,11,12,13,14,15],\n",
    "            'gradientboostingclassifier__min_samples_split':np.arange(2,6),\n",
    "            'gradientboostingclassifier__min_samples_leaf':np.arange(2,6),\n",
    "            'gradientboostingclassifier__ccp_alpha':np.arange(0.005, 0.035, 0.005)},\n",
    "        n_iter=30,\n",
    "        scoring=metrics,\n",
    "        n_jobs=-1,\n",
    "        refit='accuracy', \n",
    "        cv=sss,\n",
    "        random_state=9597)\n",
    "\n",
    "    _ = gbc_cv.fit(X_train, y_train)"
   ]
  },
  {
   "cell_type": "code",
   "execution_count": 113,
   "metadata": {},
   "outputs": [],
   "source": [
    "if not 'svc.joblib' in os.listdir('../working/best_estimators'):\n",
    "\n",
    "    svc_cv = GridSearchCV(\n",
    "        estimator =  make_pipeline(preprocessor, svc),\n",
    "        param_grid={\n",
    "            'pipeline__variancethreshold__threshold':np.arange(0.05, 0.25,0.025),\n",
    "            'svc__C':np.arange(1,11,1),\n",
    "            'svc__kernel':['rbf','sigmoid']},\n",
    "        scoring=metrics,\n",
    "        n_jobs=-1,\n",
    "        refit='accuracy', \n",
    "        cv=sss,\n",
    "        return_train_score=False)\n",
    "    \n",
    "    _ = svc_cv.fit(X_train, y_train)"
   ]
  },
  {
   "cell_type": "code",
   "execution_count": 114,
   "metadata": {},
   "outputs": [],
   "source": [
    "# Check if the best_estimators folder is empty. \n",
    "if len(os.listdir(os.path.join(dirname, 'working/best_estimators'))) == 0:\n",
    "\n",
    "    # Create a list with the GridSearchCV best estimators.\n",
    "    best_estimators = [\n",
    "        log_cv.best_estimator_,\n",
    "        l1_cv.best_estimator_, \n",
    "        l2_cv.best_estimator_,\n",
    "        net_cv.best_estimator_,\n",
    "        sgd_cv.best_estimator_,\n",
    "        mlp_cv.best_estimator_,\n",
    "        dtc_cv.best_estimator_,\n",
    "        rfc_cv.best_estimator_,\n",
    "        etc_cv.best_estimator_, \n",
    "        ets_cv.best_estimator_,\n",
    "        abc_cv.best_estimator_,\n",
    "        gpc_cv.best_estimator_,\n",
    "        gbc_cv.best_estimator_,\n",
    "        svc_cv.best_estimator_]\n",
    "    \n",
    "    # Save the best estimators to folder.\n",
    "    funs.save_best_estimators(best_estimators)\n",
    "\n",
    "else:\n",
    "    # Load the best estimators from folder.\n",
    "    best_estimators = funs.load_best_estimators()"
   ]
  },
  {
   "cell_type": "code",
   "execution_count": 115,
   "metadata": {},
   "outputs": [],
   "source": [
    "train, validate = funs.cv_models_performance(best_estimators, Transformer, X_train, y_train, metrics, sss, best=True)"
   ]
  },
  {
   "cell_type": "code",
   "execution_count": 116,
   "metadata": {},
   "outputs": [
    {
     "data": {
      "application/vnd.plotly.v1+json": {
       "config": {
        "plotlyServerURL": "https://plot.ly"
       },
       "data": [
        {
         "hovertemplate": "<b>%{x}:</b> \t %{y}",
         "marker": {
          "color": "maroon"
         },
         "name": "logisticregression",
         "type": "bar",
         "x": [
          "Accuracy",
          "Recall weighted",
          "Precision weighted",
          "AUC"
         ],
         "xaxis": "x",
         "y": [
          0.99,
          0.9904,
          0.9875,
          0.9999
         ],
         "yaxis": "y"
        },
        {
         "hovertemplate": "<b>%{x}:</b> \t %{y}",
         "marker": {
          "color": "maroon"
         },
         "name": "logisticregression",
         "showlegend": false,
         "type": "bar",
         "x": [
          "Accuracy",
          "Recall weighted",
          "Precision weighted",
          "AUC"
         ],
         "xaxis": "x2",
         "y": [
          0.4167,
          0.3542,
          0.3542,
          0.7004
         ],
         "yaxis": "y2"
        },
        {
         "hovertemplate": "<b>%{x}:</b> \t %{y}",
         "marker": {
          "color": "red"
         },
         "name": "logisticregression_l1",
         "type": "bar",
         "x": [
          "Accuracy",
          "Recall weighted",
          "Precision weighted",
          "AUC"
         ],
         "xaxis": "x",
         "y": [
          0.9833,
          0.9857,
          0.9828,
          0.9997
         ],
         "yaxis": "y"
        },
        {
         "hovertemplate": "<b>%{x}:</b> \t %{y}",
         "marker": {
          "color": "red"
         },
         "name": "logisticregression_l1",
         "showlegend": false,
         "type": "bar",
         "x": [
          "Accuracy",
          "Recall weighted",
          "Precision weighted",
          "AUC"
         ],
         "xaxis": "x2",
         "y": [
          0.4444,
          0.375,
          0.3611,
          0.6854
         ],
         "yaxis": "y2"
        },
        {
         "hovertemplate": "<b>%{x}:</b> \t %{y}",
         "marker": {
          "color": "tomato"
         },
         "name": "logisticregression_l2",
         "type": "bar",
         "x": [
          "Accuracy",
          "Recall weighted",
          "Precision weighted",
          "AUC"
         ],
         "xaxis": "x",
         "y": [
          0.96,
          0.9668,
          0.9698,
          0.9984
         ],
         "yaxis": "y"
        },
        {
         "hovertemplate": "<b>%{x}:</b> \t %{y}",
         "marker": {
          "color": "tomato"
         },
         "name": "logisticregression_l2",
         "showlegend": false,
         "type": "bar",
         "x": [
          "Accuracy",
          "Recall weighted",
          "Precision weighted",
          "AUC"
         ],
         "xaxis": "x2",
         "y": [
          0.3889,
          0.3194,
          0.2674,
          0.6997
         ],
         "yaxis": "y2"
        },
        {
         "hovertemplate": "<b>%{x}:</b> \t %{y}",
         "marker": {
          "color": "darksalmon"
         },
         "name": "logisticregression_elasticnet",
         "type": "bar",
         "x": [
          "Accuracy",
          "Recall weighted",
          "Precision weighted",
          "AUC"
         ],
         "xaxis": "x",
         "y": [
          0.9733,
          0.9767,
          0.9778,
          0.9991
         ],
         "yaxis": "y"
        },
        {
         "hovertemplate": "<b>%{x}:</b> \t %{y}",
         "marker": {
          "color": "darksalmon"
         },
         "name": "logisticregression_elasticnet",
         "showlegend": false,
         "type": "bar",
         "x": [
          "Accuracy",
          "Recall weighted",
          "Precision weighted",
          "AUC"
         ],
         "xaxis": "x2",
         "y": [
          0.4444,
          0.375,
          0.3611,
          0.6914
         ],
         "yaxis": "y2"
        },
        {
         "hovertemplate": "<b>%{x}:</b> \t %{y}",
         "marker": {
          "color": "firebrick"
         },
         "name": "sgd_l1",
         "type": "bar",
         "x": [
          "Accuracy",
          "Recall weighted",
          "Precision weighted",
          "AUC"
         ],
         "xaxis": "x",
         "y": [
          0.5033,
          0.3927,
          0.4211,
          0.866
         ],
         "yaxis": "y"
        },
        {
         "hovertemplate": "<b>%{x}:</b> \t %{y}",
         "marker": {
          "color": "firebrick"
         },
         "name": "sgd_l1",
         "showlegend": false,
         "type": "bar",
         "x": [
          "Accuracy",
          "Recall weighted",
          "Precision weighted",
          "AUC"
         ],
         "xaxis": "x2",
         "y": [
          0.4444,
          0.3403,
          0.2297,
          0.7607
         ],
         "yaxis": "y2"
        },
        {
         "hovertemplate": "<b>%{x}:</b> \t %{y}",
         "marker": {
          "color": "darkseagreen"
         },
         "name": "mlp",
         "type": "bar",
         "x": [
          "Accuracy",
          "Recall weighted",
          "Precision weighted",
          "AUC"
         ],
         "xaxis": "x",
         "y": [
          0.9967,
          0.9968,
          0.9958,
          1
         ],
         "yaxis": "y"
        },
        {
         "hovertemplate": "<b>%{x}:</b> \t %{y}",
         "marker": {
          "color": "darkseagreen"
         },
         "name": "mlp",
         "showlegend": false,
         "type": "bar",
         "x": [
          "Accuracy",
          "Recall weighted",
          "Precision weighted",
          "AUC"
         ],
         "xaxis": "x2",
         "y": [
          0.4167,
          0.3958,
          0.2764,
          0.6782
         ],
         "yaxis": "y2"
        },
        {
         "hovertemplate": "<b>%{x}:</b> \t %{y}",
         "marker": {
          "color": "seagreen"
         },
         "name": "decisiontree",
         "type": "bar",
         "x": [
          "Accuracy",
          "Recall weighted",
          "Precision weighted",
          "AUC"
         ],
         "xaxis": "x",
         "y": [
          0.7333,
          0.7033,
          0.7638,
          0.9704
         ],
         "yaxis": "y"
        },
        {
         "hovertemplate": "<b>%{x}:</b> \t %{y}",
         "marker": {
          "color": "seagreen"
         },
         "name": "decisiontree",
         "showlegend": false,
         "type": "bar",
         "x": [
          "Accuracy",
          "Recall weighted",
          "Precision weighted",
          "AUC"
         ],
         "xaxis": "x2",
         "y": [
          0.4444,
          0.4097,
          0.3153,
          0.6713
         ],
         "yaxis": "y2"
        },
        {
         "hovertemplate": "<b>%{x}:</b> \t %{y}",
         "marker": {
          "color": "lightseagreen"
         },
         "name": "randomforest",
         "type": "bar",
         "x": [
          "Accuracy",
          "Recall weighted",
          "Precision weighted",
          "AUC"
         ],
         "xaxis": "x",
         "y": [
          0.9967,
          0.9968,
          0.9958,
          1
         ],
         "yaxis": "y"
        },
        {
         "hovertemplate": "<b>%{x}:</b> \t %{y}",
         "marker": {
          "color": "lightseagreen"
         },
         "name": "randomforest",
         "showlegend": false,
         "type": "bar",
         "x": [
          "Accuracy",
          "Recall weighted",
          "Precision weighted",
          "AUC"
         ],
         "xaxis": "x2",
         "y": [
          0.4722,
          0.3958,
          0.3139,
          0.7108
         ],
         "yaxis": "y2"
        },
        {
         "hovertemplate": "<b>%{x}:</b> \t %{y}",
         "marker": {
          "color": "olive"
         },
         "name": "extratree",
         "type": "bar",
         "x": [
          "Accuracy",
          "Recall weighted",
          "Precision weighted",
          "AUC"
         ],
         "xaxis": "x",
         "y": [
          0.53,
          0.4778,
          0.447,
          0.9018
         ],
         "yaxis": "y"
        },
        {
         "hovertemplate": "<b>%{x}:</b> \t %{y}",
         "marker": {
          "color": "olive"
         },
         "name": "extratree",
         "showlegend": false,
         "type": "bar",
         "x": [
          "Accuracy",
          "Recall weighted",
          "Precision weighted",
          "AUC"
         ],
         "xaxis": "x2",
         "y": [
          0.4444,
          0.4097,
          0.2917,
          0.7233
         ],
         "yaxis": "y2"
        },
        {
         "hovertemplate": "<b>%{x}:</b> \t %{y}",
         "marker": {
          "color": "green"
         },
         "name": "adaboost",
         "type": "bar",
         "x": [
          "Accuracy",
          "Recall weighted",
          "Precision weighted",
          "AUC"
         ],
         "xaxis": "x",
         "y": [
          0.9967,
          0.9968,
          0.9958,
          1
         ],
         "yaxis": "y"
        },
        {
         "hovertemplate": "<b>%{x}:</b> \t %{y}",
         "marker": {
          "color": "green"
         },
         "name": "adaboost",
         "showlegend": false,
         "type": "bar",
         "x": [
          "Accuracy",
          "Recall weighted",
          "Precision weighted",
          "AUC"
         ],
         "xaxis": "x2",
         "y": [
          0.4722,
          0.4444,
          0.3083,
          0.7772
         ],
         "yaxis": "y2"
        },
        {
         "hovertemplate": "<b>%{x}:</b> \t %{y}",
         "marker": {
          "color": "dodgerblue"
         },
         "name": "extratrees",
         "type": "bar",
         "x": [
          "Accuracy",
          "Recall weighted",
          "Precision weighted",
          "AUC"
         ],
         "xaxis": "x",
         "y": [
          0.9867,
          0.9858,
          0.9841,
          0.9996
         ],
         "yaxis": "y"
        },
        {
         "hovertemplate": "<b>%{x}:</b> \t %{y}",
         "marker": {
          "color": "dodgerblue"
         },
         "name": "extratrees",
         "showlegend": false,
         "type": "bar",
         "x": [
          "Accuracy",
          "Recall weighted",
          "Precision weighted",
          "AUC"
         ],
         "xaxis": "x2",
         "y": [
          0.5556,
          0.5139,
          0.4658,
          0.744
         ],
         "yaxis": "y2"
        },
        {
         "hovertemplate": "<b>%{x}:</b> \t %{y}",
         "marker": {
          "color": "deepskyblue"
         },
         "name": "gaussianprocess",
         "type": "bar",
         "x": [
          "Accuracy",
          "Recall weighted",
          "Precision weighted",
          "AUC"
         ],
         "xaxis": "x",
         "y": [
          1,
          1,
          1,
          1
         ],
         "yaxis": "y"
        },
        {
         "hovertemplate": "<b>%{x}:</b> \t %{y}",
         "marker": {
          "color": "deepskyblue"
         },
         "name": "gaussianprocess",
         "showlegend": false,
         "type": "bar",
         "x": [
          "Accuracy",
          "Recall weighted",
          "Precision weighted",
          "AUC"
         ],
         "xaxis": "x2",
         "y": [
          0.0833,
          0.125,
          0.0104,
          0.5
         ],
         "yaxis": "y2"
        },
        {
         "hovertemplate": "<b>%{x}:</b> \t %{y}",
         "marker": {
          "color": "navy"
         },
         "name": "gradientboosting",
         "type": "bar",
         "x": [
          "Accuracy",
          "Recall weighted",
          "Precision weighted",
          "AUC"
         ],
         "xaxis": "x",
         "y": [
          0.39,
          0.2959,
          0.2275,
          0.6929
         ],
         "yaxis": "y"
        },
        {
         "hovertemplate": "<b>%{x}:</b> \t %{y}",
         "marker": {
          "color": "navy"
         },
         "name": "gradientboosting",
         "showlegend": false,
         "type": "bar",
         "x": [
          "Accuracy",
          "Recall weighted",
          "Precision weighted",
          "AUC"
         ],
         "xaxis": "x2",
         "y": [
          0.3889,
          0.3125,
          0.1522,
          0.6265
         ],
         "yaxis": "y2"
        },
        {
         "hovertemplate": "<b>%{x}:</b> \t %{y}",
         "marker": {
          "color": "blue"
         },
         "name": "svc",
         "type": "bar",
         "x": [
          "Accuracy",
          "Recall weighted",
          "Precision weighted",
          "AUC"
         ],
         "xaxis": "x",
         "y": [
          0.4033,
          0.3284,
          0.3233,
          0.6678
         ],
         "yaxis": "y"
        },
        {
         "hovertemplate": "<b>%{x}:</b> \t %{y}",
         "marker": {
          "color": "blue"
         },
         "name": "svc",
         "showlegend": false,
         "type": "bar",
         "x": [
          "Accuracy",
          "Recall weighted",
          "Precision weighted",
          "AUC"
         ],
         "xaxis": "x2",
         "y": [
          0.4444,
          0.3333,
          0.2361,
          0.6672
         ],
         "yaxis": "y2"
        }
       ],
       "layout": {
        "annotations": [
         {
          "font": {
           "size": 16
          },
          "showarrow": false,
          "text": "Train Set",
          "x": 0.24375,
          "xanchor": "center",
          "xref": "paper",
          "y": 1,
          "yanchor": "bottom",
          "yref": "paper"
         },
         {
          "font": {
           "size": 16
          },
          "showarrow": false,
          "text": "Validation Set",
          "x": 0.75625,
          "xanchor": "center",
          "xref": "paper",
          "y": 1,
          "yanchor": "bottom",
          "yref": "paper"
         }
        ],
        "height": 600,
        "showlegend": true,
        "template": {
         "data": {
          "bar": [
           {
            "error_x": {
             "color": "#2a3f5f"
            },
            "error_y": {
             "color": "#2a3f5f"
            },
            "marker": {
             "line": {
              "color": "white",
              "width": 0.5
             },
             "pattern": {
              "fillmode": "overlay",
              "size": 10,
              "solidity": 0.2
             }
            },
            "type": "bar"
           }
          ],
          "barpolar": [
           {
            "marker": {
             "line": {
              "color": "white",
              "width": 0.5
             },
             "pattern": {
              "fillmode": "overlay",
              "size": 10,
              "solidity": 0.2
             }
            },
            "type": "barpolar"
           }
          ],
          "carpet": [
           {
            "aaxis": {
             "endlinecolor": "#2a3f5f",
             "gridcolor": "#C8D4E3",
             "linecolor": "#C8D4E3",
             "minorgridcolor": "#C8D4E3",
             "startlinecolor": "#2a3f5f"
            },
            "baxis": {
             "endlinecolor": "#2a3f5f",
             "gridcolor": "#C8D4E3",
             "linecolor": "#C8D4E3",
             "minorgridcolor": "#C8D4E3",
             "startlinecolor": "#2a3f5f"
            },
            "type": "carpet"
           }
          ],
          "choropleth": [
           {
            "colorbar": {
             "outlinewidth": 0,
             "ticks": ""
            },
            "type": "choropleth"
           }
          ],
          "contour": [
           {
            "colorbar": {
             "outlinewidth": 0,
             "ticks": ""
            },
            "colorscale": [
             [
              0,
              "#0d0887"
             ],
             [
              0.1111111111111111,
              "#46039f"
             ],
             [
              0.2222222222222222,
              "#7201a8"
             ],
             [
              0.3333333333333333,
              "#9c179e"
             ],
             [
              0.4444444444444444,
              "#bd3786"
             ],
             [
              0.5555555555555556,
              "#d8576b"
             ],
             [
              0.6666666666666666,
              "#ed7953"
             ],
             [
              0.7777777777777778,
              "#fb9f3a"
             ],
             [
              0.8888888888888888,
              "#fdca26"
             ],
             [
              1,
              "#f0f921"
             ]
            ],
            "type": "contour"
           }
          ],
          "contourcarpet": [
           {
            "colorbar": {
             "outlinewidth": 0,
             "ticks": ""
            },
            "type": "contourcarpet"
           }
          ],
          "heatmap": [
           {
            "colorbar": {
             "outlinewidth": 0,
             "ticks": ""
            },
            "colorscale": [
             [
              0,
              "#0d0887"
             ],
             [
              0.1111111111111111,
              "#46039f"
             ],
             [
              0.2222222222222222,
              "#7201a8"
             ],
             [
              0.3333333333333333,
              "#9c179e"
             ],
             [
              0.4444444444444444,
              "#bd3786"
             ],
             [
              0.5555555555555556,
              "#d8576b"
             ],
             [
              0.6666666666666666,
              "#ed7953"
             ],
             [
              0.7777777777777778,
              "#fb9f3a"
             ],
             [
              0.8888888888888888,
              "#fdca26"
             ],
             [
              1,
              "#f0f921"
             ]
            ],
            "type": "heatmap"
           }
          ],
          "heatmapgl": [
           {
            "colorbar": {
             "outlinewidth": 0,
             "ticks": ""
            },
            "colorscale": [
             [
              0,
              "#0d0887"
             ],
             [
              0.1111111111111111,
              "#46039f"
             ],
             [
              0.2222222222222222,
              "#7201a8"
             ],
             [
              0.3333333333333333,
              "#9c179e"
             ],
             [
              0.4444444444444444,
              "#bd3786"
             ],
             [
              0.5555555555555556,
              "#d8576b"
             ],
             [
              0.6666666666666666,
              "#ed7953"
             ],
             [
              0.7777777777777778,
              "#fb9f3a"
             ],
             [
              0.8888888888888888,
              "#fdca26"
             ],
             [
              1,
              "#f0f921"
             ]
            ],
            "type": "heatmapgl"
           }
          ],
          "histogram": [
           {
            "marker": {
             "pattern": {
              "fillmode": "overlay",
              "size": 10,
              "solidity": 0.2
             }
            },
            "type": "histogram"
           }
          ],
          "histogram2d": [
           {
            "colorbar": {
             "outlinewidth": 0,
             "ticks": ""
            },
            "colorscale": [
             [
              0,
              "#0d0887"
             ],
             [
              0.1111111111111111,
              "#46039f"
             ],
             [
              0.2222222222222222,
              "#7201a8"
             ],
             [
              0.3333333333333333,
              "#9c179e"
             ],
             [
              0.4444444444444444,
              "#bd3786"
             ],
             [
              0.5555555555555556,
              "#d8576b"
             ],
             [
              0.6666666666666666,
              "#ed7953"
             ],
             [
              0.7777777777777778,
              "#fb9f3a"
             ],
             [
              0.8888888888888888,
              "#fdca26"
             ],
             [
              1,
              "#f0f921"
             ]
            ],
            "type": "histogram2d"
           }
          ],
          "histogram2dcontour": [
           {
            "colorbar": {
             "outlinewidth": 0,
             "ticks": ""
            },
            "colorscale": [
             [
              0,
              "#0d0887"
             ],
             [
              0.1111111111111111,
              "#46039f"
             ],
             [
              0.2222222222222222,
              "#7201a8"
             ],
             [
              0.3333333333333333,
              "#9c179e"
             ],
             [
              0.4444444444444444,
              "#bd3786"
             ],
             [
              0.5555555555555556,
              "#d8576b"
             ],
             [
              0.6666666666666666,
              "#ed7953"
             ],
             [
              0.7777777777777778,
              "#fb9f3a"
             ],
             [
              0.8888888888888888,
              "#fdca26"
             ],
             [
              1,
              "#f0f921"
             ]
            ],
            "type": "histogram2dcontour"
           }
          ],
          "mesh3d": [
           {
            "colorbar": {
             "outlinewidth": 0,
             "ticks": ""
            },
            "type": "mesh3d"
           }
          ],
          "parcoords": [
           {
            "line": {
             "colorbar": {
              "outlinewidth": 0,
              "ticks": ""
             }
            },
            "type": "parcoords"
           }
          ],
          "pie": [
           {
            "automargin": true,
            "type": "pie"
           }
          ],
          "scatter": [
           {
            "fillpattern": {
             "fillmode": "overlay",
             "size": 10,
             "solidity": 0.2
            },
            "type": "scatter"
           }
          ],
          "scatter3d": [
           {
            "line": {
             "colorbar": {
              "outlinewidth": 0,
              "ticks": ""
             }
            },
            "marker": {
             "colorbar": {
              "outlinewidth": 0,
              "ticks": ""
             }
            },
            "type": "scatter3d"
           }
          ],
          "scattercarpet": [
           {
            "marker": {
             "colorbar": {
              "outlinewidth": 0,
              "ticks": ""
             }
            },
            "type": "scattercarpet"
           }
          ],
          "scattergeo": [
           {
            "marker": {
             "colorbar": {
              "outlinewidth": 0,
              "ticks": ""
             }
            },
            "type": "scattergeo"
           }
          ],
          "scattergl": [
           {
            "marker": {
             "colorbar": {
              "outlinewidth": 0,
              "ticks": ""
             }
            },
            "type": "scattergl"
           }
          ],
          "scattermapbox": [
           {
            "marker": {
             "colorbar": {
              "outlinewidth": 0,
              "ticks": ""
             }
            },
            "type": "scattermapbox"
           }
          ],
          "scatterpolar": [
           {
            "marker": {
             "colorbar": {
              "outlinewidth": 0,
              "ticks": ""
             }
            },
            "type": "scatterpolar"
           }
          ],
          "scatterpolargl": [
           {
            "marker": {
             "colorbar": {
              "outlinewidth": 0,
              "ticks": ""
             }
            },
            "type": "scatterpolargl"
           }
          ],
          "scatterternary": [
           {
            "marker": {
             "colorbar": {
              "outlinewidth": 0,
              "ticks": ""
             }
            },
            "type": "scatterternary"
           }
          ],
          "surface": [
           {
            "colorbar": {
             "outlinewidth": 0,
             "ticks": ""
            },
            "colorscale": [
             [
              0,
              "#0d0887"
             ],
             [
              0.1111111111111111,
              "#46039f"
             ],
             [
              0.2222222222222222,
              "#7201a8"
             ],
             [
              0.3333333333333333,
              "#9c179e"
             ],
             [
              0.4444444444444444,
              "#bd3786"
             ],
             [
              0.5555555555555556,
              "#d8576b"
             ],
             [
              0.6666666666666666,
              "#ed7953"
             ],
             [
              0.7777777777777778,
              "#fb9f3a"
             ],
             [
              0.8888888888888888,
              "#fdca26"
             ],
             [
              1,
              "#f0f921"
             ]
            ],
            "type": "surface"
           }
          ],
          "table": [
           {
            "cells": {
             "fill": {
              "color": "#EBF0F8"
             },
             "line": {
              "color": "white"
             }
            },
            "header": {
             "fill": {
              "color": "#C8D4E3"
             },
             "line": {
              "color": "white"
             }
            },
            "type": "table"
           }
          ]
         },
         "layout": {
          "annotationdefaults": {
           "arrowcolor": "#2a3f5f",
           "arrowhead": 0,
           "arrowwidth": 1
          },
          "autotypenumbers": "strict",
          "coloraxis": {
           "colorbar": {
            "outlinewidth": 0,
            "ticks": ""
           }
          },
          "colorscale": {
           "diverging": [
            [
             0,
             "#8e0152"
            ],
            [
             0.1,
             "#c51b7d"
            ],
            [
             0.2,
             "#de77ae"
            ],
            [
             0.3,
             "#f1b6da"
            ],
            [
             0.4,
             "#fde0ef"
            ],
            [
             0.5,
             "#f7f7f7"
            ],
            [
             0.6,
             "#e6f5d0"
            ],
            [
             0.7,
             "#b8e186"
            ],
            [
             0.8,
             "#7fbc41"
            ],
            [
             0.9,
             "#4d9221"
            ],
            [
             1,
             "#276419"
            ]
           ],
           "sequential": [
            [
             0,
             "#0d0887"
            ],
            [
             0.1111111111111111,
             "#46039f"
            ],
            [
             0.2222222222222222,
             "#7201a8"
            ],
            [
             0.3333333333333333,
             "#9c179e"
            ],
            [
             0.4444444444444444,
             "#bd3786"
            ],
            [
             0.5555555555555556,
             "#d8576b"
            ],
            [
             0.6666666666666666,
             "#ed7953"
            ],
            [
             0.7777777777777778,
             "#fb9f3a"
            ],
            [
             0.8888888888888888,
             "#fdca26"
            ],
            [
             1,
             "#f0f921"
            ]
           ],
           "sequentialminus": [
            [
             0,
             "#0d0887"
            ],
            [
             0.1111111111111111,
             "#46039f"
            ],
            [
             0.2222222222222222,
             "#7201a8"
            ],
            [
             0.3333333333333333,
             "#9c179e"
            ],
            [
             0.4444444444444444,
             "#bd3786"
            ],
            [
             0.5555555555555556,
             "#d8576b"
            ],
            [
             0.6666666666666666,
             "#ed7953"
            ],
            [
             0.7777777777777778,
             "#fb9f3a"
            ],
            [
             0.8888888888888888,
             "#fdca26"
            ],
            [
             1,
             "#f0f921"
            ]
           ]
          },
          "colorway": [
           "#636efa",
           "#EF553B",
           "#00cc96",
           "#ab63fa",
           "#FFA15A",
           "#19d3f3",
           "#FF6692",
           "#B6E880",
           "#FF97FF",
           "#FECB52"
          ],
          "font": {
           "color": "#2a3f5f"
          },
          "geo": {
           "bgcolor": "white",
           "lakecolor": "white",
           "landcolor": "white",
           "showlakes": true,
           "showland": true,
           "subunitcolor": "#C8D4E3"
          },
          "hoverlabel": {
           "align": "left"
          },
          "hovermode": "closest",
          "mapbox": {
           "style": "light"
          },
          "paper_bgcolor": "white",
          "plot_bgcolor": "white",
          "polar": {
           "angularaxis": {
            "gridcolor": "#EBF0F8",
            "linecolor": "#EBF0F8",
            "ticks": ""
           },
           "bgcolor": "white",
           "radialaxis": {
            "gridcolor": "#EBF0F8",
            "linecolor": "#EBF0F8",
            "ticks": ""
           }
          },
          "scene": {
           "xaxis": {
            "backgroundcolor": "white",
            "gridcolor": "#DFE8F3",
            "gridwidth": 2,
            "linecolor": "#EBF0F8",
            "showbackground": true,
            "ticks": "",
            "zerolinecolor": "#EBF0F8"
           },
           "yaxis": {
            "backgroundcolor": "white",
            "gridcolor": "#DFE8F3",
            "gridwidth": 2,
            "linecolor": "#EBF0F8",
            "showbackground": true,
            "ticks": "",
            "zerolinecolor": "#EBF0F8"
           },
           "zaxis": {
            "backgroundcolor": "white",
            "gridcolor": "#DFE8F3",
            "gridwidth": 2,
            "linecolor": "#EBF0F8",
            "showbackground": true,
            "ticks": "",
            "zerolinecolor": "#EBF0F8"
           }
          },
          "shapedefaults": {
           "line": {
            "color": "#2a3f5f"
           }
          },
          "ternary": {
           "aaxis": {
            "gridcolor": "#DFE8F3",
            "linecolor": "#A2B1C6",
            "ticks": ""
           },
           "baxis": {
            "gridcolor": "#DFE8F3",
            "linecolor": "#A2B1C6",
            "ticks": ""
           },
           "bgcolor": "white",
           "caxis": {
            "gridcolor": "#DFE8F3",
            "linecolor": "#A2B1C6",
            "ticks": ""
           }
          },
          "title": {
           "x": 0.05
          },
          "xaxis": {
           "automargin": true,
           "gridcolor": "#EBF0F8",
           "linecolor": "#EBF0F8",
           "ticks": "",
           "title": {
            "standoff": 15
           },
           "zerolinecolor": "#EBF0F8",
           "zerolinewidth": 2
          },
          "yaxis": {
           "automargin": true,
           "gridcolor": "#EBF0F8",
           "linecolor": "#EBF0F8",
           "ticks": "",
           "title": {
            "standoff": 15
           },
           "zerolinecolor": "#EBF0F8",
           "zerolinewidth": 2
          }
         }
        },
        "width": 1650,
        "xaxis": {
         "anchor": "y",
         "domain": [
          0,
          0.4875
         ]
        },
        "xaxis2": {
         "anchor": "y2",
         "domain": [
          0.5125,
          1
         ]
        },
        "yaxis": {
         "anchor": "x",
         "domain": [
          0,
          1
         ],
         "range": [
          0,
          1.1
         ]
        },
        "yaxis2": {
         "anchor": "x2",
         "domain": [
          0,
          1
         ],
         "matches": "y",
         "showticklabels": false
        }
       }
      }
     },
     "metadata": {},
     "output_type": "display_data"
    }
   ],
   "source": [
    "funs.performance_plotter(train, validate, 'Validation', color)"
   ]
  },
  {
   "cell_type": "code",
   "execution_count": 117,
   "metadata": {},
   "outputs": [],
   "source": [
    "validation.append(validate)"
   ]
  },
  {
   "cell_type": "code",
   "execution_count": 118,
   "metadata": {},
   "outputs": [
    {
     "data": {
      "text/html": [
       "<style type=\"text/css\">\n",
       "</style>\n",
       "<table id=\"T_81d93\">\n",
       "  <thead>\n",
       "    <tr>\n",
       "      <th id=\"T_81d93_level0_col0\" class=\"col_heading level0 col0\" >Model</th>\n",
       "      <th id=\"T_81d93_level0_col1\" class=\"col_heading level0 col1\" >Accuracy</th>\n",
       "      <th id=\"T_81d93_level0_col2\" class=\"col_heading level0 col2\" >Recall weighted</th>\n",
       "      <th id=\"T_81d93_level0_col3\" class=\"col_heading level0 col3\" >Precision weighted</th>\n",
       "      <th id=\"T_81d93_level0_col4\" class=\"col_heading level0 col4\" >AUC</th>\n",
       "    </tr>\n",
       "  </thead>\n",
       "  <tbody>\n",
       "    <tr>\n",
       "      <td id=\"T_81d93_row0_col0\" class=\"data row0 col0\" >logisticregression</td>\n",
       "      <td id=\"T_81d93_row0_col1\" class=\"data row0 col1\" >0.416700</td>\n",
       "      <td id=\"T_81d93_row0_col2\" class=\"data row0 col2\" >0.354200</td>\n",
       "      <td id=\"T_81d93_row0_col3\" class=\"data row0 col3\" >0.354200</td>\n",
       "      <td id=\"T_81d93_row0_col4\" class=\"data row0 col4\" >0.700400</td>\n",
       "    </tr>\n",
       "    <tr>\n",
       "      <td id=\"T_81d93_row1_col0\" class=\"data row1 col0\" >logisticregression_l1</td>\n",
       "      <td id=\"T_81d93_row1_col1\" class=\"data row1 col1\" >0.444400</td>\n",
       "      <td id=\"T_81d93_row1_col2\" class=\"data row1 col2\" >0.375000</td>\n",
       "      <td id=\"T_81d93_row1_col3\" class=\"data row1 col3\" >0.361100</td>\n",
       "      <td id=\"T_81d93_row1_col4\" class=\"data row1 col4\" >0.685400</td>\n",
       "    </tr>\n",
       "    <tr>\n",
       "      <td id=\"T_81d93_row2_col0\" class=\"data row2 col0\" >logisticregression_l2</td>\n",
       "      <td id=\"T_81d93_row2_col1\" class=\"data row2 col1\" >0.388900</td>\n",
       "      <td id=\"T_81d93_row2_col2\" class=\"data row2 col2\" >0.319400</td>\n",
       "      <td id=\"T_81d93_row2_col3\" class=\"data row2 col3\" >0.267400</td>\n",
       "      <td id=\"T_81d93_row2_col4\" class=\"data row2 col4\" >0.699700</td>\n",
       "    </tr>\n",
       "    <tr>\n",
       "      <td id=\"T_81d93_row3_col0\" class=\"data row3 col0\" >logisticregression_elasticnet</td>\n",
       "      <td id=\"T_81d93_row3_col1\" class=\"data row3 col1\" >0.444400</td>\n",
       "      <td id=\"T_81d93_row3_col2\" class=\"data row3 col2\" >0.375000</td>\n",
       "      <td id=\"T_81d93_row3_col3\" class=\"data row3 col3\" >0.361100</td>\n",
       "      <td id=\"T_81d93_row3_col4\" class=\"data row3 col4\" >0.691400</td>\n",
       "    </tr>\n",
       "    <tr>\n",
       "      <td id=\"T_81d93_row4_col0\" class=\"data row4 col0\" >sgd_l1</td>\n",
       "      <td id=\"T_81d93_row4_col1\" class=\"data row4 col1\" >0.444400</td>\n",
       "      <td id=\"T_81d93_row4_col2\" class=\"data row4 col2\" >0.340300</td>\n",
       "      <td id=\"T_81d93_row4_col3\" class=\"data row4 col3\" >0.229700</td>\n",
       "      <td id=\"T_81d93_row4_col4\" class=\"data row4 col4\" >0.760700</td>\n",
       "    </tr>\n",
       "    <tr>\n",
       "      <td id=\"T_81d93_row5_col0\" class=\"data row5 col0\" >mlp</td>\n",
       "      <td id=\"T_81d93_row5_col1\" class=\"data row5 col1\" >0.416700</td>\n",
       "      <td id=\"T_81d93_row5_col2\" class=\"data row5 col2\" >0.395800</td>\n",
       "      <td id=\"T_81d93_row5_col3\" class=\"data row5 col3\" >0.276400</td>\n",
       "      <td id=\"T_81d93_row5_col4\" class=\"data row5 col4\" >0.678200</td>\n",
       "    </tr>\n",
       "    <tr>\n",
       "      <td id=\"T_81d93_row6_col0\" class=\"data row6 col0\" >decisiontree</td>\n",
       "      <td id=\"T_81d93_row6_col1\" class=\"data row6 col1\" >0.444400</td>\n",
       "      <td id=\"T_81d93_row6_col2\" class=\"data row6 col2\" >0.409700</td>\n",
       "      <td id=\"T_81d93_row6_col3\" class=\"data row6 col3\" >0.315300</td>\n",
       "      <td id=\"T_81d93_row6_col4\" class=\"data row6 col4\" >0.671300</td>\n",
       "    </tr>\n",
       "    <tr>\n",
       "      <td id=\"T_81d93_row7_col0\" class=\"data row7 col0\" >randomforest</td>\n",
       "      <td id=\"T_81d93_row7_col1\" class=\"data row7 col1\" >0.472200</td>\n",
       "      <td id=\"T_81d93_row7_col2\" class=\"data row7 col2\" >0.395800</td>\n",
       "      <td id=\"T_81d93_row7_col3\" class=\"data row7 col3\" >0.313900</td>\n",
       "      <td id=\"T_81d93_row7_col4\" class=\"data row7 col4\" >0.710800</td>\n",
       "    </tr>\n",
       "    <tr>\n",
       "      <td id=\"T_81d93_row8_col0\" class=\"data row8 col0\" >extratree</td>\n",
       "      <td id=\"T_81d93_row8_col1\" class=\"data row8 col1\" >0.444400</td>\n",
       "      <td id=\"T_81d93_row8_col2\" class=\"data row8 col2\" >0.409700</td>\n",
       "      <td id=\"T_81d93_row8_col3\" class=\"data row8 col3\" >0.291700</td>\n",
       "      <td id=\"T_81d93_row8_col4\" class=\"data row8 col4\" >0.723300</td>\n",
       "    </tr>\n",
       "    <tr>\n",
       "      <td id=\"T_81d93_row9_col0\" class=\"data row9 col0\" >adaboost</td>\n",
       "      <td id=\"T_81d93_row9_col1\" class=\"data row9 col1\" >0.472200</td>\n",
       "      <td id=\"T_81d93_row9_col2\" class=\"data row9 col2\" >0.444400</td>\n",
       "      <td id=\"T_81d93_row9_col3\" class=\"data row9 col3\" >0.308300</td>\n",
       "      <td id=\"T_81d93_row9_col4\" class=\"data row9 col4\" >0.777200</td>\n",
       "    </tr>\n",
       "    <tr>\n",
       "      <td id=\"T_81d93_row10_col0\" class=\"data row10 col0\" >extratrees</td>\n",
       "      <td id=\"T_81d93_row10_col1\" class=\"data row10 col1\" >0.555600</td>\n",
       "      <td id=\"T_81d93_row10_col2\" class=\"data row10 col2\" >0.513900</td>\n",
       "      <td id=\"T_81d93_row10_col3\" class=\"data row10 col3\" >0.465800</td>\n",
       "      <td id=\"T_81d93_row10_col4\" class=\"data row10 col4\" >0.744000</td>\n",
       "    </tr>\n",
       "    <tr>\n",
       "      <td id=\"T_81d93_row11_col0\" class=\"data row11 col0\" >gaussianprocess</td>\n",
       "      <td id=\"T_81d93_row11_col1\" class=\"data row11 col1\" >0.083300</td>\n",
       "      <td id=\"T_81d93_row11_col2\" class=\"data row11 col2\" >0.125000</td>\n",
       "      <td id=\"T_81d93_row11_col3\" class=\"data row11 col3\" >0.010400</td>\n",
       "      <td id=\"T_81d93_row11_col4\" class=\"data row11 col4\" >0.500000</td>\n",
       "    </tr>\n",
       "    <tr>\n",
       "      <td id=\"T_81d93_row12_col0\" class=\"data row12 col0\" >gradientboosting</td>\n",
       "      <td id=\"T_81d93_row12_col1\" class=\"data row12 col1\" >0.388900</td>\n",
       "      <td id=\"T_81d93_row12_col2\" class=\"data row12 col2\" >0.312500</td>\n",
       "      <td id=\"T_81d93_row12_col3\" class=\"data row12 col3\" >0.152200</td>\n",
       "      <td id=\"T_81d93_row12_col4\" class=\"data row12 col4\" >0.626500</td>\n",
       "    </tr>\n",
       "    <tr>\n",
       "      <td id=\"T_81d93_row13_col0\" class=\"data row13 col0\" >svc</td>\n",
       "      <td id=\"T_81d93_row13_col1\" class=\"data row13 col1\" >0.444400</td>\n",
       "      <td id=\"T_81d93_row13_col2\" class=\"data row13 col2\" >0.333300</td>\n",
       "      <td id=\"T_81d93_row13_col3\" class=\"data row13 col3\" >0.236100</td>\n",
       "      <td id=\"T_81d93_row13_col4\" class=\"data row13 col4\" >0.667200</td>\n",
       "    </tr>\n",
       "  </tbody>\n",
       "</table>\n"
      ],
      "text/plain": [
       "<pandas.io.formats.style.Styler at 0x7fa3a01a36d0>"
      ]
     },
     "execution_count": 118,
     "metadata": {},
     "output_type": "execute_result"
    }
   ],
   "source": [
    "validate.style.hide(axis='index')"
   ]
  },
  {
   "attachments": {},
   "cell_type": "markdown",
   "metadata": {},
   "source": [
    "### 3.5 Comparison Between Procedures"
   ]
  },
  {
   "cell_type": "code",
   "execution_count": 119,
   "metadata": {},
   "outputs": [],
   "source": [
    "names = ['Standard Estimator',\n",
    "         'Variance T (0.1)',\n",
    "         'Variance T (0.2)',\n",
    "         'Best Estimator']"
   ]
  },
  {
   "cell_type": "code",
   "execution_count": 120,
   "metadata": {},
   "outputs": [
    {
     "data": {
      "application/vnd.plotly.v1+json": {
       "config": {
        "plotlyServerURL": "https://plot.ly"
       },
       "data": [
        {
         "hovertemplate": "<b>%{x}:</b> \t %{y}",
         "marker": {
          "color": "maroon"
         },
         "name": "logisticregression",
         "showlegend": true,
         "type": "bar",
         "x": [
          "Accuracy"
         ],
         "xaxis": "x",
         "y": [
          0.25
         ],
         "yaxis": "y"
        },
        {
         "hovertemplate": "<b>%{x}:</b> \t %{y}",
         "marker": {
          "color": "red"
         },
         "name": "logisticregression_l1",
         "showlegend": true,
         "type": "bar",
         "x": [
          "Accuracy"
         ],
         "xaxis": "x",
         "y": [
          0.3333
         ],
         "yaxis": "y"
        },
        {
         "hovertemplate": "<b>%{x}:</b> \t %{y}",
         "marker": {
          "color": "tomato"
         },
         "name": "logisticregression_l2",
         "showlegend": true,
         "type": "bar",
         "x": [
          "Accuracy"
         ],
         "xaxis": "x",
         "y": [
          0.25
         ],
         "yaxis": "y"
        },
        {
         "hovertemplate": "<b>%{x}:</b> \t %{y}",
         "marker": {
          "color": "darksalmon"
         },
         "name": "logisticregression_elasticnet",
         "showlegend": true,
         "type": "bar",
         "x": [
          "Accuracy"
         ],
         "xaxis": "x",
         "y": [
          0.3056
         ],
         "yaxis": "y"
        },
        {
         "hovertemplate": "<b>%{x}:</b> \t %{y}",
         "marker": {
          "color": "firebrick"
         },
         "name": "sgd",
         "showlegend": true,
         "type": "bar",
         "x": [
          "Accuracy"
         ],
         "xaxis": "x",
         "y": [
          0.2778
         ],
         "yaxis": "y"
        },
        {
         "hovertemplate": "<b>%{x}:</b> \t %{y}",
         "marker": {
          "color": "darkseagreen"
         },
         "name": "mlp",
         "showlegend": true,
         "type": "bar",
         "x": [
          "Accuracy"
         ],
         "xaxis": "x",
         "y": [
          0.3611
         ],
         "yaxis": "y"
        },
        {
         "hovertemplate": "<b>%{x}:</b> \t %{y}",
         "marker": {
          "color": "seagreen"
         },
         "name": "decisiontree",
         "showlegend": true,
         "type": "bar",
         "x": [
          "Accuracy"
         ],
         "xaxis": "x",
         "y": [
          0.1667
         ],
         "yaxis": "y"
        },
        {
         "hovertemplate": "<b>%{x}:</b> \t %{y}",
         "marker": {
          "color": "lightseagreen"
         },
         "name": "randomforest",
         "showlegend": true,
         "type": "bar",
         "x": [
          "Accuracy"
         ],
         "xaxis": "x",
         "y": [
          0.4167
         ],
         "yaxis": "y"
        },
        {
         "hovertemplate": "<b>%{x}:</b> \t %{y}",
         "marker": {
          "color": "olive"
         },
         "name": "extratree",
         "showlegend": true,
         "type": "bar",
         "x": [
          "Accuracy"
         ],
         "xaxis": "x",
         "y": [
          0.1389
         ],
         "yaxis": "y"
        },
        {
         "hovertemplate": "<b>%{x}:</b> \t %{y}",
         "marker": {
          "color": "green"
         },
         "name": "adaboost",
         "showlegend": true,
         "type": "bar",
         "x": [
          "Accuracy"
         ],
         "xaxis": "x",
         "y": [
          0.25
         ],
         "yaxis": "y"
        },
        {
         "hovertemplate": "<b>%{x}:</b> \t %{y}",
         "marker": {
          "color": "dodgerblue"
         },
         "name": "extratrees",
         "showlegend": true,
         "type": "bar",
         "x": [
          "Accuracy"
         ],
         "xaxis": "x",
         "y": [
          0.4167
         ],
         "yaxis": "y"
        },
        {
         "hovertemplate": "<b>%{x}:</b> \t %{y}",
         "marker": {
          "color": "deepskyblue"
         },
         "name": "gaussianprocess",
         "showlegend": true,
         "type": "bar",
         "x": [
          "Accuracy"
         ],
         "xaxis": "x",
         "y": [
          0.0833
         ],
         "yaxis": "y"
        },
        {
         "hovertemplate": "<b>%{x}:</b> \t %{y}",
         "marker": {
          "color": "navy"
         },
         "name": "gradientboosting",
         "showlegend": true,
         "type": "bar",
         "x": [
          "Accuracy"
         ],
         "xaxis": "x",
         "y": [
          0.3889
         ],
         "yaxis": "y"
        },
        {
         "hovertemplate": "<b>%{x}:</b> \t %{y}",
         "marker": {
          "color": "blue"
         },
         "name": "svc",
         "showlegend": true,
         "type": "bar",
         "x": [
          "Accuracy"
         ],
         "xaxis": "x",
         "y": [
          0.25
         ],
         "yaxis": "y"
        },
        {
         "hovertemplate": "<b>%{x}:</b> \t %{y}",
         "marker": {
          "color": "maroon"
         },
         "name": "logisticregression",
         "showlegend": false,
         "type": "bar",
         "x": [
          "Accuracy"
         ],
         "xaxis": "x2",
         "y": [
          0.2778
         ],
         "yaxis": "y2"
        },
        {
         "hovertemplate": "<b>%{x}:</b> \t %{y}",
         "marker": {
          "color": "red"
         },
         "name": "logisticregression_l1",
         "showlegend": false,
         "type": "bar",
         "x": [
          "Accuracy"
         ],
         "xaxis": "x2",
         "y": [
          0.3333
         ],
         "yaxis": "y2"
        },
        {
         "hovertemplate": "<b>%{x}:</b> \t %{y}",
         "marker": {
          "color": "tomato"
         },
         "name": "logisticregression_l2",
         "showlegend": false,
         "type": "bar",
         "x": [
          "Accuracy"
         ],
         "xaxis": "x2",
         "y": [
          0.2778
         ],
         "yaxis": "y2"
        },
        {
         "hovertemplate": "<b>%{x}:</b> \t %{y}",
         "marker": {
          "color": "darksalmon"
         },
         "name": "logisticregression_elasticnet",
         "showlegend": false,
         "type": "bar",
         "x": [
          "Accuracy"
         ],
         "xaxis": "x2",
         "y": [
          0.2778
         ],
         "yaxis": "y2"
        },
        {
         "hovertemplate": "<b>%{x}:</b> \t %{y}",
         "marker": {
          "color": "firebrick"
         },
         "name": "sgd",
         "showlegend": false,
         "type": "bar",
         "x": [
          "Accuracy"
         ],
         "xaxis": "x2",
         "y": [
          0.25
         ],
         "yaxis": "y2"
        },
        {
         "hovertemplate": "<b>%{x}:</b> \t %{y}",
         "marker": {
          "color": "darkseagreen"
         },
         "name": "mlp",
         "showlegend": false,
         "type": "bar",
         "x": [
          "Accuracy"
         ],
         "xaxis": "x2",
         "y": [
          0.25
         ],
         "yaxis": "y2"
        },
        {
         "hovertemplate": "<b>%{x}:</b> \t %{y}",
         "marker": {
          "color": "seagreen"
         },
         "name": "decisiontree",
         "showlegend": false,
         "type": "bar",
         "x": [
          "Accuracy"
         ],
         "xaxis": "x2",
         "y": [
          0.25
         ],
         "yaxis": "y2"
        },
        {
         "hovertemplate": "<b>%{x}:</b> \t %{y}",
         "marker": {
          "color": "lightseagreen"
         },
         "name": "randomforest",
         "showlegend": false,
         "type": "bar",
         "x": [
          "Accuracy"
         ],
         "xaxis": "x2",
         "y": [
          0.25
         ],
         "yaxis": "y2"
        },
        {
         "hovertemplate": "<b>%{x}:</b> \t %{y}",
         "marker": {
          "color": "olive"
         },
         "name": "extratree",
         "showlegend": false,
         "type": "bar",
         "x": [
          "Accuracy"
         ],
         "xaxis": "x2",
         "y": [
          0.1944
         ],
         "yaxis": "y2"
        },
        {
         "hovertemplate": "<b>%{x}:</b> \t %{y}",
         "marker": {
          "color": "green"
         },
         "name": "adaboost",
         "showlegend": false,
         "type": "bar",
         "x": [
          "Accuracy"
         ],
         "xaxis": "x2",
         "y": [
          0.1944
         ],
         "yaxis": "y2"
        },
        {
         "hovertemplate": "<b>%{x}:</b> \t %{y}",
         "marker": {
          "color": "dodgerblue"
         },
         "name": "extratrees",
         "showlegend": false,
         "type": "bar",
         "x": [
          "Accuracy"
         ],
         "xaxis": "x2",
         "y": [
          0.25
         ],
         "yaxis": "y2"
        },
        {
         "hovertemplate": "<b>%{x}:</b> \t %{y}",
         "marker": {
          "color": "deepskyblue"
         },
         "name": "gaussianprocess",
         "showlegend": false,
         "type": "bar",
         "x": [
          "Accuracy"
         ],
         "xaxis": "x2",
         "y": [
          0.0833
         ],
         "yaxis": "y2"
        },
        {
         "hovertemplate": "<b>%{x}:</b> \t %{y}",
         "marker": {
          "color": "navy"
         },
         "name": "gradientboosting",
         "showlegend": false,
         "type": "bar",
         "x": [
          "Accuracy"
         ],
         "xaxis": "x2",
         "y": [
          0.3056
         ],
         "yaxis": "y2"
        },
        {
         "hovertemplate": "<b>%{x}:</b> \t %{y}",
         "marker": {
          "color": "blue"
         },
         "name": "svc",
         "showlegend": false,
         "type": "bar",
         "x": [
          "Accuracy"
         ],
         "xaxis": "x2",
         "y": [
          0.25
         ],
         "yaxis": "y2"
        },
        {
         "hovertemplate": "<b>%{x}:</b> \t %{y}",
         "marker": {
          "color": "maroon"
         },
         "name": "logisticregression",
         "showlegend": false,
         "type": "bar",
         "x": [
          "Accuracy"
         ],
         "xaxis": "x3",
         "y": [
          0.4167
         ],
         "yaxis": "y3"
        },
        {
         "hovertemplate": "<b>%{x}:</b> \t %{y}",
         "marker": {
          "color": "red"
         },
         "name": "logisticregression_l1",
         "showlegend": false,
         "type": "bar",
         "x": [
          "Accuracy"
         ],
         "xaxis": "x3",
         "y": [
          0.3056
         ],
         "yaxis": "y3"
        },
        {
         "hovertemplate": "<b>%{x}:</b> \t %{y}",
         "marker": {
          "color": "tomato"
         },
         "name": "logisticregression_l2",
         "showlegend": false,
         "type": "bar",
         "x": [
          "Accuracy"
         ],
         "xaxis": "x3",
         "y": [
          0.2778
         ],
         "yaxis": "y3"
        },
        {
         "hovertemplate": "<b>%{x}:</b> \t %{y}",
         "marker": {
          "color": "darksalmon"
         },
         "name": "logisticregression_elasticnet",
         "showlegend": false,
         "type": "bar",
         "x": [
          "Accuracy"
         ],
         "xaxis": "x3",
         "y": [
          0.25
         ],
         "yaxis": "y3"
        },
        {
         "hovertemplate": "<b>%{x}:</b> \t %{y}",
         "marker": {
          "color": "firebrick"
         },
         "name": "sgd",
         "showlegend": false,
         "type": "bar",
         "x": [
          "Accuracy"
         ],
         "xaxis": "x3",
         "y": [
          0.2222
         ],
         "yaxis": "y3"
        },
        {
         "hovertemplate": "<b>%{x}:</b> \t %{y}",
         "marker": {
          "color": "darkseagreen"
         },
         "name": "mlp",
         "showlegend": false,
         "type": "bar",
         "x": [
          "Accuracy"
         ],
         "xaxis": "x3",
         "y": [
          0.3333
         ],
         "yaxis": "y3"
        },
        {
         "hovertemplate": "<b>%{x}:</b> \t %{y}",
         "marker": {
          "color": "seagreen"
         },
         "name": "decisiontree",
         "showlegend": false,
         "type": "bar",
         "x": [
          "Accuracy"
         ],
         "xaxis": "x3",
         "y": [
          0.25
         ],
         "yaxis": "y3"
        },
        {
         "hovertemplate": "<b>%{x}:</b> \t %{y}",
         "marker": {
          "color": "lightseagreen"
         },
         "name": "randomforest",
         "showlegend": false,
         "type": "bar",
         "x": [
          "Accuracy"
         ],
         "xaxis": "x3",
         "y": [
          0.2778
         ],
         "yaxis": "y3"
        },
        {
         "hovertemplate": "<b>%{x}:</b> \t %{y}",
         "marker": {
          "color": "olive"
         },
         "name": "extratree",
         "showlegend": false,
         "type": "bar",
         "x": [
          "Accuracy"
         ],
         "xaxis": "x3",
         "y": [
          0.3056
         ],
         "yaxis": "y3"
        },
        {
         "hovertemplate": "<b>%{x}:</b> \t %{y}",
         "marker": {
          "color": "green"
         },
         "name": "adaboost",
         "showlegend": false,
         "type": "bar",
         "x": [
          "Accuracy"
         ],
         "xaxis": "x3",
         "y": [
          0.2222
         ],
         "yaxis": "y3"
        },
        {
         "hovertemplate": "<b>%{x}:</b> \t %{y}",
         "marker": {
          "color": "dodgerblue"
         },
         "name": "extratrees",
         "showlegend": false,
         "type": "bar",
         "x": [
          "Accuracy"
         ],
         "xaxis": "x3",
         "y": [
          0.3056
         ],
         "yaxis": "y3"
        },
        {
         "hovertemplate": "<b>%{x}:</b> \t %{y}",
         "marker": {
          "color": "deepskyblue"
         },
         "name": "gaussianprocess",
         "showlegend": false,
         "type": "bar",
         "x": [
          "Accuracy"
         ],
         "xaxis": "x3",
         "y": [
          0.0833
         ],
         "yaxis": "y3"
        },
        {
         "hovertemplate": "<b>%{x}:</b> \t %{y}",
         "marker": {
          "color": "navy"
         },
         "name": "gradientboosting",
         "showlegend": false,
         "type": "bar",
         "x": [
          "Accuracy"
         ],
         "xaxis": "x3",
         "y": [
          0.25
         ],
         "yaxis": "y3"
        },
        {
         "hovertemplate": "<b>%{x}:</b> \t %{y}",
         "marker": {
          "color": "blue"
         },
         "name": "svc",
         "showlegend": false,
         "type": "bar",
         "x": [
          "Accuracy"
         ],
         "xaxis": "x3",
         "y": [
          0.25
         ],
         "yaxis": "y3"
        },
        {
         "hovertemplate": "<b>%{x}:</b> \t %{y}",
         "marker": {
          "color": "maroon"
         },
         "name": "logisticregression",
         "showlegend": false,
         "type": "bar",
         "x": [
          "Accuracy"
         ],
         "xaxis": "x4",
         "y": [
          0.4167
         ],
         "yaxis": "y4"
        },
        {
         "hovertemplate": "<b>%{x}:</b> \t %{y}",
         "marker": {
          "color": "red"
         },
         "name": "logisticregression_l1",
         "showlegend": false,
         "type": "bar",
         "x": [
          "Accuracy"
         ],
         "xaxis": "x4",
         "y": [
          0.4444
         ],
         "yaxis": "y4"
        },
        {
         "hovertemplate": "<b>%{x}:</b> \t %{y}",
         "marker": {
          "color": "tomato"
         },
         "name": "logisticregression_l2",
         "showlegend": false,
         "type": "bar",
         "x": [
          "Accuracy"
         ],
         "xaxis": "x4",
         "y": [
          0.3889
         ],
         "yaxis": "y4"
        },
        {
         "hovertemplate": "<b>%{x}:</b> \t %{y}",
         "marker": {
          "color": "darksalmon"
         },
         "name": "logisticregression_elasticnet",
         "showlegend": false,
         "type": "bar",
         "x": [
          "Accuracy"
         ],
         "xaxis": "x4",
         "y": [
          0.4444
         ],
         "yaxis": "y4"
        },
        {
         "hovertemplate": "<b>%{x}:</b> \t %{y}",
         "marker": {
          "color": "firebrick"
         },
         "name": "sgd_l1",
         "showlegend": false,
         "type": "bar",
         "x": [
          "Accuracy"
         ],
         "xaxis": "x4",
         "y": [
          0.4444
         ],
         "yaxis": "y4"
        },
        {
         "hovertemplate": "<b>%{x}:</b> \t %{y}",
         "marker": {
          "color": "darkseagreen"
         },
         "name": "mlp",
         "showlegend": false,
         "type": "bar",
         "x": [
          "Accuracy"
         ],
         "xaxis": "x4",
         "y": [
          0.4167
         ],
         "yaxis": "y4"
        },
        {
         "hovertemplate": "<b>%{x}:</b> \t %{y}",
         "marker": {
          "color": "seagreen"
         },
         "name": "decisiontree",
         "showlegend": false,
         "type": "bar",
         "x": [
          "Accuracy"
         ],
         "xaxis": "x4",
         "y": [
          0.4444
         ],
         "yaxis": "y4"
        },
        {
         "hovertemplate": "<b>%{x}:</b> \t %{y}",
         "marker": {
          "color": "lightseagreen"
         },
         "name": "randomforest",
         "showlegend": false,
         "type": "bar",
         "x": [
          "Accuracy"
         ],
         "xaxis": "x4",
         "y": [
          0.4722
         ],
         "yaxis": "y4"
        },
        {
         "hovertemplate": "<b>%{x}:</b> \t %{y}",
         "marker": {
          "color": "olive"
         },
         "name": "extratree",
         "showlegend": false,
         "type": "bar",
         "x": [
          "Accuracy"
         ],
         "xaxis": "x4",
         "y": [
          0.4444
         ],
         "yaxis": "y4"
        },
        {
         "hovertemplate": "<b>%{x}:</b> \t %{y}",
         "marker": {
          "color": "green"
         },
         "name": "adaboost",
         "showlegend": false,
         "type": "bar",
         "x": [
          "Accuracy"
         ],
         "xaxis": "x4",
         "y": [
          0.4722
         ],
         "yaxis": "y4"
        },
        {
         "hovertemplate": "<b>%{x}:</b> \t %{y}",
         "marker": {
          "color": "dodgerblue"
         },
         "name": "extratrees",
         "showlegend": false,
         "type": "bar",
         "x": [
          "Accuracy"
         ],
         "xaxis": "x4",
         "y": [
          0.5556
         ],
         "yaxis": "y4"
        },
        {
         "hovertemplate": "<b>%{x}:</b> \t %{y}",
         "marker": {
          "color": "deepskyblue"
         },
         "name": "gaussianprocess",
         "showlegend": false,
         "type": "bar",
         "x": [
          "Accuracy"
         ],
         "xaxis": "x4",
         "y": [
          0.0833
         ],
         "yaxis": "y4"
        },
        {
         "hovertemplate": "<b>%{x}:</b> \t %{y}",
         "marker": {
          "color": "navy"
         },
         "name": "gradientboosting",
         "showlegend": false,
         "type": "bar",
         "x": [
          "Accuracy"
         ],
         "xaxis": "x4",
         "y": [
          0.3889
         ],
         "yaxis": "y4"
        },
        {
         "hovertemplate": "<b>%{x}:</b> \t %{y}",
         "marker": {
          "color": "blue"
         },
         "name": "svc",
         "showlegend": false,
         "type": "bar",
         "x": [
          "Accuracy"
         ],
         "xaxis": "x4",
         "y": [
          0.4444
         ],
         "yaxis": "y4"
        }
       ],
       "layout": {
        "annotations": [
         {
          "font": {
           "size": 16
          },
          "showarrow": false,
          "text": "Standard Estimator",
          "x": 0.115625,
          "xanchor": "center",
          "xref": "paper",
          "y": 1,
          "yanchor": "bottom",
          "yref": "paper"
         },
         {
          "font": {
           "size": 16
          },
          "showarrow": false,
          "text": "Variance T (0.1)",
          "x": 0.37187500000000007,
          "xanchor": "center",
          "xref": "paper",
          "y": 1,
          "yanchor": "bottom",
          "yref": "paper"
         },
         {
          "font": {
           "size": 16
          },
          "showarrow": false,
          "text": "Variance T (0.2)",
          "x": 0.628125,
          "xanchor": "center",
          "xref": "paper",
          "y": 1,
          "yanchor": "bottom",
          "yref": "paper"
         },
         {
          "font": {
           "size": 16
          },
          "showarrow": false,
          "text": "Best Estimator",
          "x": 0.884375,
          "xanchor": "center",
          "xref": "paper",
          "y": 1,
          "yanchor": "bottom",
          "yref": "paper"
         }
        ],
        "height": 500,
        "showlegend": true,
        "template": {
         "data": {
          "bar": [
           {
            "error_x": {
             "color": "#2a3f5f"
            },
            "error_y": {
             "color": "#2a3f5f"
            },
            "marker": {
             "line": {
              "color": "white",
              "width": 0.5
             },
             "pattern": {
              "fillmode": "overlay",
              "size": 10,
              "solidity": 0.2
             }
            },
            "type": "bar"
           }
          ],
          "barpolar": [
           {
            "marker": {
             "line": {
              "color": "white",
              "width": 0.5
             },
             "pattern": {
              "fillmode": "overlay",
              "size": 10,
              "solidity": 0.2
             }
            },
            "type": "barpolar"
           }
          ],
          "carpet": [
           {
            "aaxis": {
             "endlinecolor": "#2a3f5f",
             "gridcolor": "#C8D4E3",
             "linecolor": "#C8D4E3",
             "minorgridcolor": "#C8D4E3",
             "startlinecolor": "#2a3f5f"
            },
            "baxis": {
             "endlinecolor": "#2a3f5f",
             "gridcolor": "#C8D4E3",
             "linecolor": "#C8D4E3",
             "minorgridcolor": "#C8D4E3",
             "startlinecolor": "#2a3f5f"
            },
            "type": "carpet"
           }
          ],
          "choropleth": [
           {
            "colorbar": {
             "outlinewidth": 0,
             "ticks": ""
            },
            "type": "choropleth"
           }
          ],
          "contour": [
           {
            "colorbar": {
             "outlinewidth": 0,
             "ticks": ""
            },
            "colorscale": [
             [
              0,
              "#0d0887"
             ],
             [
              0.1111111111111111,
              "#46039f"
             ],
             [
              0.2222222222222222,
              "#7201a8"
             ],
             [
              0.3333333333333333,
              "#9c179e"
             ],
             [
              0.4444444444444444,
              "#bd3786"
             ],
             [
              0.5555555555555556,
              "#d8576b"
             ],
             [
              0.6666666666666666,
              "#ed7953"
             ],
             [
              0.7777777777777778,
              "#fb9f3a"
             ],
             [
              0.8888888888888888,
              "#fdca26"
             ],
             [
              1,
              "#f0f921"
             ]
            ],
            "type": "contour"
           }
          ],
          "contourcarpet": [
           {
            "colorbar": {
             "outlinewidth": 0,
             "ticks": ""
            },
            "type": "contourcarpet"
           }
          ],
          "heatmap": [
           {
            "colorbar": {
             "outlinewidth": 0,
             "ticks": ""
            },
            "colorscale": [
             [
              0,
              "#0d0887"
             ],
             [
              0.1111111111111111,
              "#46039f"
             ],
             [
              0.2222222222222222,
              "#7201a8"
             ],
             [
              0.3333333333333333,
              "#9c179e"
             ],
             [
              0.4444444444444444,
              "#bd3786"
             ],
             [
              0.5555555555555556,
              "#d8576b"
             ],
             [
              0.6666666666666666,
              "#ed7953"
             ],
             [
              0.7777777777777778,
              "#fb9f3a"
             ],
             [
              0.8888888888888888,
              "#fdca26"
             ],
             [
              1,
              "#f0f921"
             ]
            ],
            "type": "heatmap"
           }
          ],
          "heatmapgl": [
           {
            "colorbar": {
             "outlinewidth": 0,
             "ticks": ""
            },
            "colorscale": [
             [
              0,
              "#0d0887"
             ],
             [
              0.1111111111111111,
              "#46039f"
             ],
             [
              0.2222222222222222,
              "#7201a8"
             ],
             [
              0.3333333333333333,
              "#9c179e"
             ],
             [
              0.4444444444444444,
              "#bd3786"
             ],
             [
              0.5555555555555556,
              "#d8576b"
             ],
             [
              0.6666666666666666,
              "#ed7953"
             ],
             [
              0.7777777777777778,
              "#fb9f3a"
             ],
             [
              0.8888888888888888,
              "#fdca26"
             ],
             [
              1,
              "#f0f921"
             ]
            ],
            "type": "heatmapgl"
           }
          ],
          "histogram": [
           {
            "marker": {
             "pattern": {
              "fillmode": "overlay",
              "size": 10,
              "solidity": 0.2
             }
            },
            "type": "histogram"
           }
          ],
          "histogram2d": [
           {
            "colorbar": {
             "outlinewidth": 0,
             "ticks": ""
            },
            "colorscale": [
             [
              0,
              "#0d0887"
             ],
             [
              0.1111111111111111,
              "#46039f"
             ],
             [
              0.2222222222222222,
              "#7201a8"
             ],
             [
              0.3333333333333333,
              "#9c179e"
             ],
             [
              0.4444444444444444,
              "#bd3786"
             ],
             [
              0.5555555555555556,
              "#d8576b"
             ],
             [
              0.6666666666666666,
              "#ed7953"
             ],
             [
              0.7777777777777778,
              "#fb9f3a"
             ],
             [
              0.8888888888888888,
              "#fdca26"
             ],
             [
              1,
              "#f0f921"
             ]
            ],
            "type": "histogram2d"
           }
          ],
          "histogram2dcontour": [
           {
            "colorbar": {
             "outlinewidth": 0,
             "ticks": ""
            },
            "colorscale": [
             [
              0,
              "#0d0887"
             ],
             [
              0.1111111111111111,
              "#46039f"
             ],
             [
              0.2222222222222222,
              "#7201a8"
             ],
             [
              0.3333333333333333,
              "#9c179e"
             ],
             [
              0.4444444444444444,
              "#bd3786"
             ],
             [
              0.5555555555555556,
              "#d8576b"
             ],
             [
              0.6666666666666666,
              "#ed7953"
             ],
             [
              0.7777777777777778,
              "#fb9f3a"
             ],
             [
              0.8888888888888888,
              "#fdca26"
             ],
             [
              1,
              "#f0f921"
             ]
            ],
            "type": "histogram2dcontour"
           }
          ],
          "mesh3d": [
           {
            "colorbar": {
             "outlinewidth": 0,
             "ticks": ""
            },
            "type": "mesh3d"
           }
          ],
          "parcoords": [
           {
            "line": {
             "colorbar": {
              "outlinewidth": 0,
              "ticks": ""
             }
            },
            "type": "parcoords"
           }
          ],
          "pie": [
           {
            "automargin": true,
            "type": "pie"
           }
          ],
          "scatter": [
           {
            "fillpattern": {
             "fillmode": "overlay",
             "size": 10,
             "solidity": 0.2
            },
            "type": "scatter"
           }
          ],
          "scatter3d": [
           {
            "line": {
             "colorbar": {
              "outlinewidth": 0,
              "ticks": ""
             }
            },
            "marker": {
             "colorbar": {
              "outlinewidth": 0,
              "ticks": ""
             }
            },
            "type": "scatter3d"
           }
          ],
          "scattercarpet": [
           {
            "marker": {
             "colorbar": {
              "outlinewidth": 0,
              "ticks": ""
             }
            },
            "type": "scattercarpet"
           }
          ],
          "scattergeo": [
           {
            "marker": {
             "colorbar": {
              "outlinewidth": 0,
              "ticks": ""
             }
            },
            "type": "scattergeo"
           }
          ],
          "scattergl": [
           {
            "marker": {
             "colorbar": {
              "outlinewidth": 0,
              "ticks": ""
             }
            },
            "type": "scattergl"
           }
          ],
          "scattermapbox": [
           {
            "marker": {
             "colorbar": {
              "outlinewidth": 0,
              "ticks": ""
             }
            },
            "type": "scattermapbox"
           }
          ],
          "scatterpolar": [
           {
            "marker": {
             "colorbar": {
              "outlinewidth": 0,
              "ticks": ""
             }
            },
            "type": "scatterpolar"
           }
          ],
          "scatterpolargl": [
           {
            "marker": {
             "colorbar": {
              "outlinewidth": 0,
              "ticks": ""
             }
            },
            "type": "scatterpolargl"
           }
          ],
          "scatterternary": [
           {
            "marker": {
             "colorbar": {
              "outlinewidth": 0,
              "ticks": ""
             }
            },
            "type": "scatterternary"
           }
          ],
          "surface": [
           {
            "colorbar": {
             "outlinewidth": 0,
             "ticks": ""
            },
            "colorscale": [
             [
              0,
              "#0d0887"
             ],
             [
              0.1111111111111111,
              "#46039f"
             ],
             [
              0.2222222222222222,
              "#7201a8"
             ],
             [
              0.3333333333333333,
              "#9c179e"
             ],
             [
              0.4444444444444444,
              "#bd3786"
             ],
             [
              0.5555555555555556,
              "#d8576b"
             ],
             [
              0.6666666666666666,
              "#ed7953"
             ],
             [
              0.7777777777777778,
              "#fb9f3a"
             ],
             [
              0.8888888888888888,
              "#fdca26"
             ],
             [
              1,
              "#f0f921"
             ]
            ],
            "type": "surface"
           }
          ],
          "table": [
           {
            "cells": {
             "fill": {
              "color": "#EBF0F8"
             },
             "line": {
              "color": "white"
             }
            },
            "header": {
             "fill": {
              "color": "#C8D4E3"
             },
             "line": {
              "color": "white"
             }
            },
            "type": "table"
           }
          ]
         },
         "layout": {
          "annotationdefaults": {
           "arrowcolor": "#2a3f5f",
           "arrowhead": 0,
           "arrowwidth": 1
          },
          "autotypenumbers": "strict",
          "coloraxis": {
           "colorbar": {
            "outlinewidth": 0,
            "ticks": ""
           }
          },
          "colorscale": {
           "diverging": [
            [
             0,
             "#8e0152"
            ],
            [
             0.1,
             "#c51b7d"
            ],
            [
             0.2,
             "#de77ae"
            ],
            [
             0.3,
             "#f1b6da"
            ],
            [
             0.4,
             "#fde0ef"
            ],
            [
             0.5,
             "#f7f7f7"
            ],
            [
             0.6,
             "#e6f5d0"
            ],
            [
             0.7,
             "#b8e186"
            ],
            [
             0.8,
             "#7fbc41"
            ],
            [
             0.9,
             "#4d9221"
            ],
            [
             1,
             "#276419"
            ]
           ],
           "sequential": [
            [
             0,
             "#0d0887"
            ],
            [
             0.1111111111111111,
             "#46039f"
            ],
            [
             0.2222222222222222,
             "#7201a8"
            ],
            [
             0.3333333333333333,
             "#9c179e"
            ],
            [
             0.4444444444444444,
             "#bd3786"
            ],
            [
             0.5555555555555556,
             "#d8576b"
            ],
            [
             0.6666666666666666,
             "#ed7953"
            ],
            [
             0.7777777777777778,
             "#fb9f3a"
            ],
            [
             0.8888888888888888,
             "#fdca26"
            ],
            [
             1,
             "#f0f921"
            ]
           ],
           "sequentialminus": [
            [
             0,
             "#0d0887"
            ],
            [
             0.1111111111111111,
             "#46039f"
            ],
            [
             0.2222222222222222,
             "#7201a8"
            ],
            [
             0.3333333333333333,
             "#9c179e"
            ],
            [
             0.4444444444444444,
             "#bd3786"
            ],
            [
             0.5555555555555556,
             "#d8576b"
            ],
            [
             0.6666666666666666,
             "#ed7953"
            ],
            [
             0.7777777777777778,
             "#fb9f3a"
            ],
            [
             0.8888888888888888,
             "#fdca26"
            ],
            [
             1,
             "#f0f921"
            ]
           ]
          },
          "colorway": [
           "#636efa",
           "#EF553B",
           "#00cc96",
           "#ab63fa",
           "#FFA15A",
           "#19d3f3",
           "#FF6692",
           "#B6E880",
           "#FF97FF",
           "#FECB52"
          ],
          "font": {
           "color": "#2a3f5f"
          },
          "geo": {
           "bgcolor": "white",
           "lakecolor": "white",
           "landcolor": "white",
           "showlakes": true,
           "showland": true,
           "subunitcolor": "#C8D4E3"
          },
          "hoverlabel": {
           "align": "left"
          },
          "hovermode": "closest",
          "mapbox": {
           "style": "light"
          },
          "paper_bgcolor": "white",
          "plot_bgcolor": "white",
          "polar": {
           "angularaxis": {
            "gridcolor": "#EBF0F8",
            "linecolor": "#EBF0F8",
            "ticks": ""
           },
           "bgcolor": "white",
           "radialaxis": {
            "gridcolor": "#EBF0F8",
            "linecolor": "#EBF0F8",
            "ticks": ""
           }
          },
          "scene": {
           "xaxis": {
            "backgroundcolor": "white",
            "gridcolor": "#DFE8F3",
            "gridwidth": 2,
            "linecolor": "#EBF0F8",
            "showbackground": true,
            "ticks": "",
            "zerolinecolor": "#EBF0F8"
           },
           "yaxis": {
            "backgroundcolor": "white",
            "gridcolor": "#DFE8F3",
            "gridwidth": 2,
            "linecolor": "#EBF0F8",
            "showbackground": true,
            "ticks": "",
            "zerolinecolor": "#EBF0F8"
           },
           "zaxis": {
            "backgroundcolor": "white",
            "gridcolor": "#DFE8F3",
            "gridwidth": 2,
            "linecolor": "#EBF0F8",
            "showbackground": true,
            "ticks": "",
            "zerolinecolor": "#EBF0F8"
           }
          },
          "shapedefaults": {
           "line": {
            "color": "#2a3f5f"
           }
          },
          "ternary": {
           "aaxis": {
            "gridcolor": "#DFE8F3",
            "linecolor": "#A2B1C6",
            "ticks": ""
           },
           "baxis": {
            "gridcolor": "#DFE8F3",
            "linecolor": "#A2B1C6",
            "ticks": ""
           },
           "bgcolor": "white",
           "caxis": {
            "gridcolor": "#DFE8F3",
            "linecolor": "#A2B1C6",
            "ticks": ""
           }
          },
          "title": {
           "x": 0.05
          },
          "xaxis": {
           "automargin": true,
           "gridcolor": "#EBF0F8",
           "linecolor": "#EBF0F8",
           "ticks": "",
           "title": {
            "standoff": 15
           },
           "zerolinecolor": "#EBF0F8",
           "zerolinewidth": 2
          },
          "yaxis": {
           "automargin": true,
           "gridcolor": "#EBF0F8",
           "linecolor": "#EBF0F8",
           "ticks": "",
           "title": {
            "standoff": 15
           },
           "zerolinecolor": "#EBF0F8",
           "zerolinewidth": 2
          }
         }
        },
        "title": {
         "font": {
          "size": 20
         },
         "text": "Accuracy Perfromance"
        },
        "width": 1650,
        "xaxis": {
         "anchor": "y",
         "domain": [
          0,
          0.23125
         ],
         "showticklabels": false
        },
        "xaxis2": {
         "anchor": "y2",
         "domain": [
          0.25625000000000003,
          0.48750000000000004
         ],
         "showticklabels": false
        },
        "xaxis3": {
         "anchor": "y3",
         "domain": [
          0.5125000000000001,
          0.7437500000000001
         ],
         "showticklabels": false
        },
        "xaxis4": {
         "anchor": "y4",
         "domain": [
          0.76875,
          1
         ],
         "showticklabels": false
        },
        "yaxis": {
         "anchor": "x",
         "domain": [
          0,
          1
         ],
         "range": [
          0,
          1.1
         ]
        },
        "yaxis2": {
         "anchor": "x2",
         "domain": [
          0,
          1
         ],
         "matches": "y",
         "showticklabels": false
        },
        "yaxis3": {
         "anchor": "x3",
         "domain": [
          0,
          1
         ],
         "matches": "y",
         "showticklabels": false
        },
        "yaxis4": {
         "anchor": "x4",
         "domain": [
          0,
          1
         ],
         "matches": "y",
         "showticklabels": false
        }
       }
      }
     },
     "metadata": {},
     "output_type": "display_data"
    }
   ],
   "source": [
    "funs.comparison_plotter('Accuracy', validation, names, color)"
   ]
  },
  {
   "cell_type": "code",
   "execution_count": 121,
   "metadata": {},
   "outputs": [
    {
     "data": {
      "application/vnd.plotly.v1+json": {
       "config": {
        "plotlyServerURL": "https://plot.ly"
       },
       "data": [
        {
         "hovertemplate": "<b>%{x}:</b> \t %{y}",
         "marker": {
          "color": "maroon"
         },
         "name": "logisticregression",
         "showlegend": true,
         "type": "bar",
         "x": [
          "Precision weighted"
         ],
         "xaxis": "x",
         "y": [
          0.1889
         ],
         "yaxis": "y"
        },
        {
         "hovertemplate": "<b>%{x}:</b> \t %{y}",
         "marker": {
          "color": "red"
         },
         "name": "logisticregression_l1",
         "showlegend": true,
         "type": "bar",
         "x": [
          "Precision weighted"
         ],
         "xaxis": "x",
         "y": [
          0.2236
         ],
         "yaxis": "y"
        },
        {
         "hovertemplate": "<b>%{x}:</b> \t %{y}",
         "marker": {
          "color": "tomato"
         },
         "name": "logisticregression_l2",
         "showlegend": true,
         "type": "bar",
         "x": [
          "Precision weighted"
         ],
         "xaxis": "x",
         "y": [
          0.1565
         ],
         "yaxis": "y"
        },
        {
         "hovertemplate": "<b>%{x}:</b> \t %{y}",
         "marker": {
          "color": "darksalmon"
         },
         "name": "logisticregression_elasticnet",
         "showlegend": true,
         "type": "bar",
         "x": [
          "Precision weighted"
         ],
         "xaxis": "x",
         "y": [
          0.2108
         ],
         "yaxis": "y"
        },
        {
         "hovertemplate": "<b>%{x}:</b> \t %{y}",
         "marker": {
          "color": "firebrick"
         },
         "name": "sgd",
         "showlegend": true,
         "type": "bar",
         "x": [
          "Precision weighted"
         ],
         "xaxis": "x",
         "y": [
          0.1935
         ],
         "yaxis": "y"
        },
        {
         "hovertemplate": "<b>%{x}:</b> \t %{y}",
         "marker": {
          "color": "darkseagreen"
         },
         "name": "mlp",
         "showlegend": true,
         "type": "bar",
         "x": [
          "Precision weighted"
         ],
         "xaxis": "x",
         "y": [
          0.2413
         ],
         "yaxis": "y"
        },
        {
         "hovertemplate": "<b>%{x}:</b> \t %{y}",
         "marker": {
          "color": "seagreen"
         },
         "name": "decisiontree",
         "showlegend": true,
         "type": "bar",
         "x": [
          "Precision weighted"
         ],
         "xaxis": "x",
         "y": [
          0.1035
         ],
         "yaxis": "y"
        },
        {
         "hovertemplate": "<b>%{x}:</b> \t %{y}",
         "marker": {
          "color": "lightseagreen"
         },
         "name": "randomforest",
         "showlegend": true,
         "type": "bar",
         "x": [
          "Precision weighted"
         ],
         "xaxis": "x",
         "y": [
          0.2917
         ],
         "yaxis": "y"
        },
        {
         "hovertemplate": "<b>%{x}:</b> \t %{y}",
         "marker": {
          "color": "olive"
         },
         "name": "extratree",
         "showlegend": true,
         "type": "bar",
         "x": [
          "Precision weighted"
         ],
         "xaxis": "x",
         "y": [
          0.1215
         ],
         "yaxis": "y"
        },
        {
         "hovertemplate": "<b>%{x}:</b> \t %{y}",
         "marker": {
          "color": "green"
         },
         "name": "adaboost",
         "showlegend": true,
         "type": "bar",
         "x": [
          "Precision weighted"
         ],
         "xaxis": "x",
         "y": [
          0.0846
         ],
         "yaxis": "y"
        },
        {
         "hovertemplate": "<b>%{x}:</b> \t %{y}",
         "marker": {
          "color": "dodgerblue"
         },
         "name": "extratrees",
         "showlegend": true,
         "type": "bar",
         "x": [
          "Precision weighted"
         ],
         "xaxis": "x",
         "y": [
          0.3431
         ],
         "yaxis": "y"
        },
        {
         "hovertemplate": "<b>%{x}:</b> \t %{y}",
         "marker": {
          "color": "deepskyblue"
         },
         "name": "gaussianprocess",
         "showlegend": true,
         "type": "bar",
         "x": [
          "Precision weighted"
         ],
         "xaxis": "x",
         "y": [
          0.0104
         ],
         "yaxis": "y"
        },
        {
         "hovertemplate": "<b>%{x}:</b> \t %{y}",
         "marker": {
          "color": "navy"
         },
         "name": "gradientboosting",
         "showlegend": true,
         "type": "bar",
         "x": [
          "Precision weighted"
         ],
         "xaxis": "x",
         "y": [
          0.309
         ],
         "yaxis": "y"
        },
        {
         "hovertemplate": "<b>%{x}:</b> \t %{y}",
         "marker": {
          "color": "blue"
         },
         "name": "svc",
         "showlegend": true,
         "type": "bar",
         "x": [
          "Precision weighted"
         ],
         "xaxis": "x",
         "y": [
          0.0312
         ],
         "yaxis": "y"
        },
        {
         "hovertemplate": "<b>%{x}:</b> \t %{y}",
         "marker": {
          "color": "maroon"
         },
         "name": "logisticregression",
         "showlegend": false,
         "type": "bar",
         "x": [
          "Precision weighted"
         ],
         "xaxis": "x2",
         "y": [
          0.2146
         ],
         "yaxis": "y2"
        },
        {
         "hovertemplate": "<b>%{x}:</b> \t %{y}",
         "marker": {
          "color": "red"
         },
         "name": "logisticregression_l1",
         "showlegend": false,
         "type": "bar",
         "x": [
          "Precision weighted"
         ],
         "xaxis": "x2",
         "y": [
          0.2299
         ],
         "yaxis": "y2"
        },
        {
         "hovertemplate": "<b>%{x}:</b> \t %{y}",
         "marker": {
          "color": "tomato"
         },
         "name": "logisticregression_l2",
         "showlegend": false,
         "type": "bar",
         "x": [
          "Precision weighted"
         ],
         "xaxis": "x2",
         "y": [
          0.1993
         ],
         "yaxis": "y2"
        },
        {
         "hovertemplate": "<b>%{x}:</b> \t %{y}",
         "marker": {
          "color": "darksalmon"
         },
         "name": "logisticregression_elasticnet",
         "showlegend": false,
         "type": "bar",
         "x": [
          "Precision weighted"
         ],
         "xaxis": "x2",
         "y": [
          0.1653
         ],
         "yaxis": "y2"
        },
        {
         "hovertemplate": "<b>%{x}:</b> \t %{y}",
         "marker": {
          "color": "firebrick"
         },
         "name": "sgd",
         "showlegend": false,
         "type": "bar",
         "x": [
          "Precision weighted"
         ],
         "xaxis": "x2",
         "y": [
          0.1944
         ],
         "yaxis": "y2"
        },
        {
         "hovertemplate": "<b>%{x}:</b> \t %{y}",
         "marker": {
          "color": "darkseagreen"
         },
         "name": "mlp",
         "showlegend": false,
         "type": "bar",
         "x": [
          "Precision weighted"
         ],
         "xaxis": "x2",
         "y": [
          0.1562
         ],
         "yaxis": "y2"
        },
        {
         "hovertemplate": "<b>%{x}:</b> \t %{y}",
         "marker": {
          "color": "seagreen"
         },
         "name": "decisiontree",
         "showlegend": false,
         "type": "bar",
         "x": [
          "Precision weighted"
         ],
         "xaxis": "x2",
         "y": [
          0.2118
         ],
         "yaxis": "y2"
        },
        {
         "hovertemplate": "<b>%{x}:</b> \t %{y}",
         "marker": {
          "color": "lightseagreen"
         },
         "name": "randomforest",
         "showlegend": false,
         "type": "bar",
         "x": [
          "Precision weighted"
         ],
         "xaxis": "x2",
         "y": [
          0.1601
         ],
         "yaxis": "y2"
        },
        {
         "hovertemplate": "<b>%{x}:</b> \t %{y}",
         "marker": {
          "color": "olive"
         },
         "name": "extratree",
         "showlegend": false,
         "type": "bar",
         "x": [
          "Precision weighted"
         ],
         "xaxis": "x2",
         "y": [
          0.116
         ],
         "yaxis": "y2"
        },
        {
         "hovertemplate": "<b>%{x}:</b> \t %{y}",
         "marker": {
          "color": "green"
         },
         "name": "adaboost",
         "showlegend": false,
         "type": "bar",
         "x": [
          "Precision weighted"
         ],
         "xaxis": "x2",
         "y": [
          0.1685
         ],
         "yaxis": "y2"
        },
        {
         "hovertemplate": "<b>%{x}:</b> \t %{y}",
         "marker": {
          "color": "dodgerblue"
         },
         "name": "extratrees",
         "showlegend": false,
         "type": "bar",
         "x": [
          "Precision weighted"
         ],
         "xaxis": "x2",
         "y": [
          0.1944
         ],
         "yaxis": "y2"
        },
        {
         "hovertemplate": "<b>%{x}:</b> \t %{y}",
         "marker": {
          "color": "deepskyblue"
         },
         "name": "gaussianprocess",
         "showlegend": false,
         "type": "bar",
         "x": [
          "Precision weighted"
         ],
         "xaxis": "x2",
         "y": [
          0.0104
         ],
         "yaxis": "y2"
        },
        {
         "hovertemplate": "<b>%{x}:</b> \t %{y}",
         "marker": {
          "color": "navy"
         },
         "name": "gradientboosting",
         "showlegend": false,
         "type": "bar",
         "x": [
          "Precision weighted"
         ],
         "xaxis": "x2",
         "y": [
          0.2153
         ],
         "yaxis": "y2"
        },
        {
         "hovertemplate": "<b>%{x}:</b> \t %{y}",
         "marker": {
          "color": "blue"
         },
         "name": "svc",
         "showlegend": false,
         "type": "bar",
         "x": [
          "Precision weighted"
         ],
         "xaxis": "x2",
         "y": [
          0.0312
         ],
         "yaxis": "y2"
        },
        {
         "hovertemplate": "<b>%{x}:</b> \t %{y}",
         "marker": {
          "color": "maroon"
         },
         "name": "logisticregression",
         "showlegend": false,
         "type": "bar",
         "x": [
          "Precision weighted"
         ],
         "xaxis": "x3",
         "y": [
          0.3542
         ],
         "yaxis": "y3"
        },
        {
         "hovertemplate": "<b>%{x}:</b> \t %{y}",
         "marker": {
          "color": "red"
         },
         "name": "logisticregression_l1",
         "showlegend": false,
         "type": "bar",
         "x": [
          "Precision weighted"
         ],
         "xaxis": "x3",
         "y": [
          0.2192
         ],
         "yaxis": "y3"
        },
        {
         "hovertemplate": "<b>%{x}:</b> \t %{y}",
         "marker": {
          "color": "tomato"
         },
         "name": "logisticregression_l2",
         "showlegend": false,
         "type": "bar",
         "x": [
          "Precision weighted"
         ],
         "xaxis": "x3",
         "y": [
          0.2132
         ],
         "yaxis": "y3"
        },
        {
         "hovertemplate": "<b>%{x}:</b> \t %{y}",
         "marker": {
          "color": "darksalmon"
         },
         "name": "logisticregression_elasticnet",
         "showlegend": false,
         "type": "bar",
         "x": [
          "Precision weighted"
         ],
         "xaxis": "x3",
         "y": [
          0.1736
         ],
         "yaxis": "y3"
        },
        {
         "hovertemplate": "<b>%{x}:</b> \t %{y}",
         "marker": {
          "color": "firebrick"
         },
         "name": "sgd",
         "showlegend": false,
         "type": "bar",
         "x": [
          "Precision weighted"
         ],
         "xaxis": "x3",
         "y": [
          0.1354
         ],
         "yaxis": "y3"
        },
        {
         "hovertemplate": "<b>%{x}:</b> \t %{y}",
         "marker": {
          "color": "darkseagreen"
         },
         "name": "mlp",
         "showlegend": false,
         "type": "bar",
         "x": [
          "Precision weighted"
         ],
         "xaxis": "x3",
         "y": [
          0.1833
         ],
         "yaxis": "y3"
        },
        {
         "hovertemplate": "<b>%{x}:</b> \t %{y}",
         "marker": {
          "color": "seagreen"
         },
         "name": "decisiontree",
         "showlegend": false,
         "type": "bar",
         "x": [
          "Precision weighted"
         ],
         "xaxis": "x3",
         "y": [
          0.1528
         ],
         "yaxis": "y3"
        },
        {
         "hovertemplate": "<b>%{x}:</b> \t %{y}",
         "marker": {
          "color": "lightseagreen"
         },
         "name": "randomforest",
         "showlegend": false,
         "type": "bar",
         "x": [
          "Precision weighted"
         ],
         "xaxis": "x3",
         "y": [
          0.1632
         ],
         "yaxis": "y3"
        },
        {
         "hovertemplate": "<b>%{x}:</b> \t %{y}",
         "marker": {
          "color": "olive"
         },
         "name": "extratree",
         "showlegend": false,
         "type": "bar",
         "x": [
          "Precision weighted"
         ],
         "xaxis": "x3",
         "y": [
          0.1819
         ],
         "yaxis": "y3"
        },
        {
         "hovertemplate": "<b>%{x}:</b> \t %{y}",
         "marker": {
          "color": "green"
         },
         "name": "adaboost",
         "showlegend": false,
         "type": "bar",
         "x": [
          "Precision weighted"
         ],
         "xaxis": "x3",
         "y": [
          0.1403
         ],
         "yaxis": "y3"
        },
        {
         "hovertemplate": "<b>%{x}:</b> \t %{y}",
         "marker": {
          "color": "dodgerblue"
         },
         "name": "extratrees",
         "showlegend": false,
         "type": "bar",
         "x": [
          "Precision weighted"
         ],
         "xaxis": "x3",
         "y": [
          0.1819
         ],
         "yaxis": "y3"
        },
        {
         "hovertemplate": "<b>%{x}:</b> \t %{y}",
         "marker": {
          "color": "deepskyblue"
         },
         "name": "gaussianprocess",
         "showlegend": false,
         "type": "bar",
         "x": [
          "Precision weighted"
         ],
         "xaxis": "x3",
         "y": [
          0.0104
         ],
         "yaxis": "y3"
        },
        {
         "hovertemplate": "<b>%{x}:</b> \t %{y}",
         "marker": {
          "color": "navy"
         },
         "name": "gradientboosting",
         "showlegend": false,
         "type": "bar",
         "x": [
          "Precision weighted"
         ],
         "xaxis": "x3",
         "y": [
          0.1486
         ],
         "yaxis": "y3"
        },
        {
         "hovertemplate": "<b>%{x}:</b> \t %{y}",
         "marker": {
          "color": "blue"
         },
         "name": "svc",
         "showlegend": false,
         "type": "bar",
         "x": [
          "Precision weighted"
         ],
         "xaxis": "x3",
         "y": [
          0.0312
         ],
         "yaxis": "y3"
        },
        {
         "hovertemplate": "<b>%{x}:</b> \t %{y}",
         "marker": {
          "color": "maroon"
         },
         "name": "logisticregression",
         "showlegend": false,
         "type": "bar",
         "x": [
          "Precision weighted"
         ],
         "xaxis": "x4",
         "y": [
          0.3542
         ],
         "yaxis": "y4"
        },
        {
         "hovertemplate": "<b>%{x}:</b> \t %{y}",
         "marker": {
          "color": "red"
         },
         "name": "logisticregression_l1",
         "showlegend": false,
         "type": "bar",
         "x": [
          "Precision weighted"
         ],
         "xaxis": "x4",
         "y": [
          0.3611
         ],
         "yaxis": "y4"
        },
        {
         "hovertemplate": "<b>%{x}:</b> \t %{y}",
         "marker": {
          "color": "tomato"
         },
         "name": "logisticregression_l2",
         "showlegend": false,
         "type": "bar",
         "x": [
          "Precision weighted"
         ],
         "xaxis": "x4",
         "y": [
          0.2674
         ],
         "yaxis": "y4"
        },
        {
         "hovertemplate": "<b>%{x}:</b> \t %{y}",
         "marker": {
          "color": "darksalmon"
         },
         "name": "logisticregression_elasticnet",
         "showlegend": false,
         "type": "bar",
         "x": [
          "Precision weighted"
         ],
         "xaxis": "x4",
         "y": [
          0.3611
         ],
         "yaxis": "y4"
        },
        {
         "hovertemplate": "<b>%{x}:</b> \t %{y}",
         "marker": {
          "color": "firebrick"
         },
         "name": "sgd_l1",
         "showlegend": false,
         "type": "bar",
         "x": [
          "Precision weighted"
         ],
         "xaxis": "x4",
         "y": [
          0.2297
         ],
         "yaxis": "y4"
        },
        {
         "hovertemplate": "<b>%{x}:</b> \t %{y}",
         "marker": {
          "color": "darkseagreen"
         },
         "name": "mlp",
         "showlegend": false,
         "type": "bar",
         "x": [
          "Precision weighted"
         ],
         "xaxis": "x4",
         "y": [
          0.2764
         ],
         "yaxis": "y4"
        },
        {
         "hovertemplate": "<b>%{x}:</b> \t %{y}",
         "marker": {
          "color": "seagreen"
         },
         "name": "decisiontree",
         "showlegend": false,
         "type": "bar",
         "x": [
          "Precision weighted"
         ],
         "xaxis": "x4",
         "y": [
          0.3153
         ],
         "yaxis": "y4"
        },
        {
         "hovertemplate": "<b>%{x}:</b> \t %{y}",
         "marker": {
          "color": "lightseagreen"
         },
         "name": "randomforest",
         "showlegend": false,
         "type": "bar",
         "x": [
          "Precision weighted"
         ],
         "xaxis": "x4",
         "y": [
          0.3139
         ],
         "yaxis": "y4"
        },
        {
         "hovertemplate": "<b>%{x}:</b> \t %{y}",
         "marker": {
          "color": "olive"
         },
         "name": "extratree",
         "showlegend": false,
         "type": "bar",
         "x": [
          "Precision weighted"
         ],
         "xaxis": "x4",
         "y": [
          0.2917
         ],
         "yaxis": "y4"
        },
        {
         "hovertemplate": "<b>%{x}:</b> \t %{y}",
         "marker": {
          "color": "green"
         },
         "name": "adaboost",
         "showlegend": false,
         "type": "bar",
         "x": [
          "Precision weighted"
         ],
         "xaxis": "x4",
         "y": [
          0.3083
         ],
         "yaxis": "y4"
        },
        {
         "hovertemplate": "<b>%{x}:</b> \t %{y}",
         "marker": {
          "color": "dodgerblue"
         },
         "name": "extratrees",
         "showlegend": false,
         "type": "bar",
         "x": [
          "Precision weighted"
         ],
         "xaxis": "x4",
         "y": [
          0.4658
         ],
         "yaxis": "y4"
        },
        {
         "hovertemplate": "<b>%{x}:</b> \t %{y}",
         "marker": {
          "color": "deepskyblue"
         },
         "name": "gaussianprocess",
         "showlegend": false,
         "type": "bar",
         "x": [
          "Precision weighted"
         ],
         "xaxis": "x4",
         "y": [
          0.0104
         ],
         "yaxis": "y4"
        },
        {
         "hovertemplate": "<b>%{x}:</b> \t %{y}",
         "marker": {
          "color": "navy"
         },
         "name": "gradientboosting",
         "showlegend": false,
         "type": "bar",
         "x": [
          "Precision weighted"
         ],
         "xaxis": "x4",
         "y": [
          0.1522
         ],
         "yaxis": "y4"
        },
        {
         "hovertemplate": "<b>%{x}:</b> \t %{y}",
         "marker": {
          "color": "blue"
         },
         "name": "svc",
         "showlegend": false,
         "type": "bar",
         "x": [
          "Precision weighted"
         ],
         "xaxis": "x4",
         "y": [
          0.2361
         ],
         "yaxis": "y4"
        }
       ],
       "layout": {
        "annotations": [
         {
          "font": {
           "size": 16
          },
          "showarrow": false,
          "text": "Standard Estimator",
          "x": 0.115625,
          "xanchor": "center",
          "xref": "paper",
          "y": 1,
          "yanchor": "bottom",
          "yref": "paper"
         },
         {
          "font": {
           "size": 16
          },
          "showarrow": false,
          "text": "Variance T (0.1)",
          "x": 0.37187500000000007,
          "xanchor": "center",
          "xref": "paper",
          "y": 1,
          "yanchor": "bottom",
          "yref": "paper"
         },
         {
          "font": {
           "size": 16
          },
          "showarrow": false,
          "text": "Variance T (0.2)",
          "x": 0.628125,
          "xanchor": "center",
          "xref": "paper",
          "y": 1,
          "yanchor": "bottom",
          "yref": "paper"
         },
         {
          "font": {
           "size": 16
          },
          "showarrow": false,
          "text": "Best Estimator",
          "x": 0.884375,
          "xanchor": "center",
          "xref": "paper",
          "y": 1,
          "yanchor": "bottom",
          "yref": "paper"
         }
        ],
        "height": 500,
        "showlegend": true,
        "template": {
         "data": {
          "bar": [
           {
            "error_x": {
             "color": "#2a3f5f"
            },
            "error_y": {
             "color": "#2a3f5f"
            },
            "marker": {
             "line": {
              "color": "white",
              "width": 0.5
             },
             "pattern": {
              "fillmode": "overlay",
              "size": 10,
              "solidity": 0.2
             }
            },
            "type": "bar"
           }
          ],
          "barpolar": [
           {
            "marker": {
             "line": {
              "color": "white",
              "width": 0.5
             },
             "pattern": {
              "fillmode": "overlay",
              "size": 10,
              "solidity": 0.2
             }
            },
            "type": "barpolar"
           }
          ],
          "carpet": [
           {
            "aaxis": {
             "endlinecolor": "#2a3f5f",
             "gridcolor": "#C8D4E3",
             "linecolor": "#C8D4E3",
             "minorgridcolor": "#C8D4E3",
             "startlinecolor": "#2a3f5f"
            },
            "baxis": {
             "endlinecolor": "#2a3f5f",
             "gridcolor": "#C8D4E3",
             "linecolor": "#C8D4E3",
             "minorgridcolor": "#C8D4E3",
             "startlinecolor": "#2a3f5f"
            },
            "type": "carpet"
           }
          ],
          "choropleth": [
           {
            "colorbar": {
             "outlinewidth": 0,
             "ticks": ""
            },
            "type": "choropleth"
           }
          ],
          "contour": [
           {
            "colorbar": {
             "outlinewidth": 0,
             "ticks": ""
            },
            "colorscale": [
             [
              0,
              "#0d0887"
             ],
             [
              0.1111111111111111,
              "#46039f"
             ],
             [
              0.2222222222222222,
              "#7201a8"
             ],
             [
              0.3333333333333333,
              "#9c179e"
             ],
             [
              0.4444444444444444,
              "#bd3786"
             ],
             [
              0.5555555555555556,
              "#d8576b"
             ],
             [
              0.6666666666666666,
              "#ed7953"
             ],
             [
              0.7777777777777778,
              "#fb9f3a"
             ],
             [
              0.8888888888888888,
              "#fdca26"
             ],
             [
              1,
              "#f0f921"
             ]
            ],
            "type": "contour"
           }
          ],
          "contourcarpet": [
           {
            "colorbar": {
             "outlinewidth": 0,
             "ticks": ""
            },
            "type": "contourcarpet"
           }
          ],
          "heatmap": [
           {
            "colorbar": {
             "outlinewidth": 0,
             "ticks": ""
            },
            "colorscale": [
             [
              0,
              "#0d0887"
             ],
             [
              0.1111111111111111,
              "#46039f"
             ],
             [
              0.2222222222222222,
              "#7201a8"
             ],
             [
              0.3333333333333333,
              "#9c179e"
             ],
             [
              0.4444444444444444,
              "#bd3786"
             ],
             [
              0.5555555555555556,
              "#d8576b"
             ],
             [
              0.6666666666666666,
              "#ed7953"
             ],
             [
              0.7777777777777778,
              "#fb9f3a"
             ],
             [
              0.8888888888888888,
              "#fdca26"
             ],
             [
              1,
              "#f0f921"
             ]
            ],
            "type": "heatmap"
           }
          ],
          "heatmapgl": [
           {
            "colorbar": {
             "outlinewidth": 0,
             "ticks": ""
            },
            "colorscale": [
             [
              0,
              "#0d0887"
             ],
             [
              0.1111111111111111,
              "#46039f"
             ],
             [
              0.2222222222222222,
              "#7201a8"
             ],
             [
              0.3333333333333333,
              "#9c179e"
             ],
             [
              0.4444444444444444,
              "#bd3786"
             ],
             [
              0.5555555555555556,
              "#d8576b"
             ],
             [
              0.6666666666666666,
              "#ed7953"
             ],
             [
              0.7777777777777778,
              "#fb9f3a"
             ],
             [
              0.8888888888888888,
              "#fdca26"
             ],
             [
              1,
              "#f0f921"
             ]
            ],
            "type": "heatmapgl"
           }
          ],
          "histogram": [
           {
            "marker": {
             "pattern": {
              "fillmode": "overlay",
              "size": 10,
              "solidity": 0.2
             }
            },
            "type": "histogram"
           }
          ],
          "histogram2d": [
           {
            "colorbar": {
             "outlinewidth": 0,
             "ticks": ""
            },
            "colorscale": [
             [
              0,
              "#0d0887"
             ],
             [
              0.1111111111111111,
              "#46039f"
             ],
             [
              0.2222222222222222,
              "#7201a8"
             ],
             [
              0.3333333333333333,
              "#9c179e"
             ],
             [
              0.4444444444444444,
              "#bd3786"
             ],
             [
              0.5555555555555556,
              "#d8576b"
             ],
             [
              0.6666666666666666,
              "#ed7953"
             ],
             [
              0.7777777777777778,
              "#fb9f3a"
             ],
             [
              0.8888888888888888,
              "#fdca26"
             ],
             [
              1,
              "#f0f921"
             ]
            ],
            "type": "histogram2d"
           }
          ],
          "histogram2dcontour": [
           {
            "colorbar": {
             "outlinewidth": 0,
             "ticks": ""
            },
            "colorscale": [
             [
              0,
              "#0d0887"
             ],
             [
              0.1111111111111111,
              "#46039f"
             ],
             [
              0.2222222222222222,
              "#7201a8"
             ],
             [
              0.3333333333333333,
              "#9c179e"
             ],
             [
              0.4444444444444444,
              "#bd3786"
             ],
             [
              0.5555555555555556,
              "#d8576b"
             ],
             [
              0.6666666666666666,
              "#ed7953"
             ],
             [
              0.7777777777777778,
              "#fb9f3a"
             ],
             [
              0.8888888888888888,
              "#fdca26"
             ],
             [
              1,
              "#f0f921"
             ]
            ],
            "type": "histogram2dcontour"
           }
          ],
          "mesh3d": [
           {
            "colorbar": {
             "outlinewidth": 0,
             "ticks": ""
            },
            "type": "mesh3d"
           }
          ],
          "parcoords": [
           {
            "line": {
             "colorbar": {
              "outlinewidth": 0,
              "ticks": ""
             }
            },
            "type": "parcoords"
           }
          ],
          "pie": [
           {
            "automargin": true,
            "type": "pie"
           }
          ],
          "scatter": [
           {
            "fillpattern": {
             "fillmode": "overlay",
             "size": 10,
             "solidity": 0.2
            },
            "type": "scatter"
           }
          ],
          "scatter3d": [
           {
            "line": {
             "colorbar": {
              "outlinewidth": 0,
              "ticks": ""
             }
            },
            "marker": {
             "colorbar": {
              "outlinewidth": 0,
              "ticks": ""
             }
            },
            "type": "scatter3d"
           }
          ],
          "scattercarpet": [
           {
            "marker": {
             "colorbar": {
              "outlinewidth": 0,
              "ticks": ""
             }
            },
            "type": "scattercarpet"
           }
          ],
          "scattergeo": [
           {
            "marker": {
             "colorbar": {
              "outlinewidth": 0,
              "ticks": ""
             }
            },
            "type": "scattergeo"
           }
          ],
          "scattergl": [
           {
            "marker": {
             "colorbar": {
              "outlinewidth": 0,
              "ticks": ""
             }
            },
            "type": "scattergl"
           }
          ],
          "scattermapbox": [
           {
            "marker": {
             "colorbar": {
              "outlinewidth": 0,
              "ticks": ""
             }
            },
            "type": "scattermapbox"
           }
          ],
          "scatterpolar": [
           {
            "marker": {
             "colorbar": {
              "outlinewidth": 0,
              "ticks": ""
             }
            },
            "type": "scatterpolar"
           }
          ],
          "scatterpolargl": [
           {
            "marker": {
             "colorbar": {
              "outlinewidth": 0,
              "ticks": ""
             }
            },
            "type": "scatterpolargl"
           }
          ],
          "scatterternary": [
           {
            "marker": {
             "colorbar": {
              "outlinewidth": 0,
              "ticks": ""
             }
            },
            "type": "scatterternary"
           }
          ],
          "surface": [
           {
            "colorbar": {
             "outlinewidth": 0,
             "ticks": ""
            },
            "colorscale": [
             [
              0,
              "#0d0887"
             ],
             [
              0.1111111111111111,
              "#46039f"
             ],
             [
              0.2222222222222222,
              "#7201a8"
             ],
             [
              0.3333333333333333,
              "#9c179e"
             ],
             [
              0.4444444444444444,
              "#bd3786"
             ],
             [
              0.5555555555555556,
              "#d8576b"
             ],
             [
              0.6666666666666666,
              "#ed7953"
             ],
             [
              0.7777777777777778,
              "#fb9f3a"
             ],
             [
              0.8888888888888888,
              "#fdca26"
             ],
             [
              1,
              "#f0f921"
             ]
            ],
            "type": "surface"
           }
          ],
          "table": [
           {
            "cells": {
             "fill": {
              "color": "#EBF0F8"
             },
             "line": {
              "color": "white"
             }
            },
            "header": {
             "fill": {
              "color": "#C8D4E3"
             },
             "line": {
              "color": "white"
             }
            },
            "type": "table"
           }
          ]
         },
         "layout": {
          "annotationdefaults": {
           "arrowcolor": "#2a3f5f",
           "arrowhead": 0,
           "arrowwidth": 1
          },
          "autotypenumbers": "strict",
          "coloraxis": {
           "colorbar": {
            "outlinewidth": 0,
            "ticks": ""
           }
          },
          "colorscale": {
           "diverging": [
            [
             0,
             "#8e0152"
            ],
            [
             0.1,
             "#c51b7d"
            ],
            [
             0.2,
             "#de77ae"
            ],
            [
             0.3,
             "#f1b6da"
            ],
            [
             0.4,
             "#fde0ef"
            ],
            [
             0.5,
             "#f7f7f7"
            ],
            [
             0.6,
             "#e6f5d0"
            ],
            [
             0.7,
             "#b8e186"
            ],
            [
             0.8,
             "#7fbc41"
            ],
            [
             0.9,
             "#4d9221"
            ],
            [
             1,
             "#276419"
            ]
           ],
           "sequential": [
            [
             0,
             "#0d0887"
            ],
            [
             0.1111111111111111,
             "#46039f"
            ],
            [
             0.2222222222222222,
             "#7201a8"
            ],
            [
             0.3333333333333333,
             "#9c179e"
            ],
            [
             0.4444444444444444,
             "#bd3786"
            ],
            [
             0.5555555555555556,
             "#d8576b"
            ],
            [
             0.6666666666666666,
             "#ed7953"
            ],
            [
             0.7777777777777778,
             "#fb9f3a"
            ],
            [
             0.8888888888888888,
             "#fdca26"
            ],
            [
             1,
             "#f0f921"
            ]
           ],
           "sequentialminus": [
            [
             0,
             "#0d0887"
            ],
            [
             0.1111111111111111,
             "#46039f"
            ],
            [
             0.2222222222222222,
             "#7201a8"
            ],
            [
             0.3333333333333333,
             "#9c179e"
            ],
            [
             0.4444444444444444,
             "#bd3786"
            ],
            [
             0.5555555555555556,
             "#d8576b"
            ],
            [
             0.6666666666666666,
             "#ed7953"
            ],
            [
             0.7777777777777778,
             "#fb9f3a"
            ],
            [
             0.8888888888888888,
             "#fdca26"
            ],
            [
             1,
             "#f0f921"
            ]
           ]
          },
          "colorway": [
           "#636efa",
           "#EF553B",
           "#00cc96",
           "#ab63fa",
           "#FFA15A",
           "#19d3f3",
           "#FF6692",
           "#B6E880",
           "#FF97FF",
           "#FECB52"
          ],
          "font": {
           "color": "#2a3f5f"
          },
          "geo": {
           "bgcolor": "white",
           "lakecolor": "white",
           "landcolor": "white",
           "showlakes": true,
           "showland": true,
           "subunitcolor": "#C8D4E3"
          },
          "hoverlabel": {
           "align": "left"
          },
          "hovermode": "closest",
          "mapbox": {
           "style": "light"
          },
          "paper_bgcolor": "white",
          "plot_bgcolor": "white",
          "polar": {
           "angularaxis": {
            "gridcolor": "#EBF0F8",
            "linecolor": "#EBF0F8",
            "ticks": ""
           },
           "bgcolor": "white",
           "radialaxis": {
            "gridcolor": "#EBF0F8",
            "linecolor": "#EBF0F8",
            "ticks": ""
           }
          },
          "scene": {
           "xaxis": {
            "backgroundcolor": "white",
            "gridcolor": "#DFE8F3",
            "gridwidth": 2,
            "linecolor": "#EBF0F8",
            "showbackground": true,
            "ticks": "",
            "zerolinecolor": "#EBF0F8"
           },
           "yaxis": {
            "backgroundcolor": "white",
            "gridcolor": "#DFE8F3",
            "gridwidth": 2,
            "linecolor": "#EBF0F8",
            "showbackground": true,
            "ticks": "",
            "zerolinecolor": "#EBF0F8"
           },
           "zaxis": {
            "backgroundcolor": "white",
            "gridcolor": "#DFE8F3",
            "gridwidth": 2,
            "linecolor": "#EBF0F8",
            "showbackground": true,
            "ticks": "",
            "zerolinecolor": "#EBF0F8"
           }
          },
          "shapedefaults": {
           "line": {
            "color": "#2a3f5f"
           }
          },
          "ternary": {
           "aaxis": {
            "gridcolor": "#DFE8F3",
            "linecolor": "#A2B1C6",
            "ticks": ""
           },
           "baxis": {
            "gridcolor": "#DFE8F3",
            "linecolor": "#A2B1C6",
            "ticks": ""
           },
           "bgcolor": "white",
           "caxis": {
            "gridcolor": "#DFE8F3",
            "linecolor": "#A2B1C6",
            "ticks": ""
           }
          },
          "title": {
           "x": 0.05
          },
          "xaxis": {
           "automargin": true,
           "gridcolor": "#EBF0F8",
           "linecolor": "#EBF0F8",
           "ticks": "",
           "title": {
            "standoff": 15
           },
           "zerolinecolor": "#EBF0F8",
           "zerolinewidth": 2
          },
          "yaxis": {
           "automargin": true,
           "gridcolor": "#EBF0F8",
           "linecolor": "#EBF0F8",
           "ticks": "",
           "title": {
            "standoff": 15
           },
           "zerolinecolor": "#EBF0F8",
           "zerolinewidth": 2
          }
         }
        },
        "title": {
         "font": {
          "size": 20
         },
         "text": "Precision weighted Perfromance"
        },
        "width": 1650,
        "xaxis": {
         "anchor": "y",
         "domain": [
          0,
          0.23125
         ],
         "showticklabels": false
        },
        "xaxis2": {
         "anchor": "y2",
         "domain": [
          0.25625000000000003,
          0.48750000000000004
         ],
         "showticklabels": false
        },
        "xaxis3": {
         "anchor": "y3",
         "domain": [
          0.5125000000000001,
          0.7437500000000001
         ],
         "showticklabels": false
        },
        "xaxis4": {
         "anchor": "y4",
         "domain": [
          0.76875,
          1
         ],
         "showticklabels": false
        },
        "yaxis": {
         "anchor": "x",
         "domain": [
          0,
          1
         ],
         "range": [
          0,
          1.1
         ]
        },
        "yaxis2": {
         "anchor": "x2",
         "domain": [
          0,
          1
         ],
         "matches": "y",
         "showticklabels": false
        },
        "yaxis3": {
         "anchor": "x3",
         "domain": [
          0,
          1
         ],
         "matches": "y",
         "showticklabels": false
        },
        "yaxis4": {
         "anchor": "x4",
         "domain": [
          0,
          1
         ],
         "matches": "y",
         "showticklabels": false
        }
       }
      }
     },
     "metadata": {},
     "output_type": "display_data"
    }
   ],
   "source": [
    "funs.comparison_plotter('Precision weighted', validation, names, color)"
   ]
  },
  {
   "cell_type": "code",
   "execution_count": 122,
   "metadata": {},
   "outputs": [
    {
     "data": {
      "application/vnd.plotly.v1+json": {
       "config": {
        "plotlyServerURL": "https://plot.ly"
       },
       "data": [
        {
         "hovertemplate": "<b>%{x}:</b> \t %{y}",
         "marker": {
          "color": "maroon"
         },
         "name": "logisticregression",
         "showlegend": true,
         "type": "bar",
         "x": [
          "Recall weighted"
         ],
         "xaxis": "x",
         "y": [
          0.2292
         ],
         "yaxis": "y"
        },
        {
         "hovertemplate": "<b>%{x}:</b> \t %{y}",
         "marker": {
          "color": "red"
         },
         "name": "logisticregression_l1",
         "showlegend": true,
         "type": "bar",
         "x": [
          "Recall weighted"
         ],
         "xaxis": "x",
         "y": [
          0.2917
         ],
         "yaxis": "y"
        },
        {
         "hovertemplate": "<b>%{x}:</b> \t %{y}",
         "marker": {
          "color": "tomato"
         },
         "name": "logisticregression_l2",
         "showlegend": true,
         "type": "bar",
         "x": [
          "Recall weighted"
         ],
         "xaxis": "x",
         "y": [
          0.1944
         ],
         "yaxis": "y"
        },
        {
         "hovertemplate": "<b>%{x}:</b> \t %{y}",
         "marker": {
          "color": "darksalmon"
         },
         "name": "logisticregression_elasticnet",
         "showlegend": true,
         "type": "bar",
         "x": [
          "Recall weighted"
         ],
         "xaxis": "x",
         "y": [
          0.2639
         ],
         "yaxis": "y"
        },
        {
         "hovertemplate": "<b>%{x}:</b> \t %{y}",
         "marker": {
          "color": "firebrick"
         },
         "name": "sgd",
         "showlegend": true,
         "type": "bar",
         "x": [
          "Recall weighted"
         ],
         "xaxis": "x",
         "y": [
          0.25
         ],
         "yaxis": "y"
        },
        {
         "hovertemplate": "<b>%{x}:</b> \t %{y}",
         "marker": {
          "color": "darkseagreen"
         },
         "name": "mlp",
         "showlegend": true,
         "type": "bar",
         "x": [
          "Recall weighted"
         ],
         "xaxis": "x",
         "y": [
          0.3125
         ],
         "yaxis": "y"
        },
        {
         "hovertemplate": "<b>%{x}:</b> \t %{y}",
         "marker": {
          "color": "seagreen"
         },
         "name": "decisiontree",
         "showlegend": true,
         "type": "bar",
         "x": [
          "Recall weighted"
         ],
         "xaxis": "x",
         "y": [
          0.1319
         ],
         "yaxis": "y"
        },
        {
         "hovertemplate": "<b>%{x}:</b> \t %{y}",
         "marker": {
          "color": "lightseagreen"
         },
         "name": "randomforest",
         "showlegend": true,
         "type": "bar",
         "x": [
          "Recall weighted"
         ],
         "xaxis": "x",
         "y": [
          0.3472
         ],
         "yaxis": "y"
        },
        {
         "hovertemplate": "<b>%{x}:</b> \t %{y}",
         "marker": {
          "color": "olive"
         },
         "name": "extratree",
         "showlegend": true,
         "type": "bar",
         "x": [
          "Recall weighted"
         ],
         "xaxis": "x",
         "y": [
          0.1528
         ],
         "yaxis": "y"
        },
        {
         "hovertemplate": "<b>%{x}:</b> \t %{y}",
         "marker": {
          "color": "green"
         },
         "name": "adaboost",
         "showlegend": true,
         "type": "bar",
         "x": [
          "Recall weighted"
         ],
         "xaxis": "x",
         "y": [
          0.1597
         ],
         "yaxis": "y"
        },
        {
         "hovertemplate": "<b>%{x}:</b> \t %{y}",
         "marker": {
          "color": "dodgerblue"
         },
         "name": "extratrees",
         "showlegend": true,
         "type": "bar",
         "x": [
          "Recall weighted"
         ],
         "xaxis": "x",
         "y": [
          0.375
         ],
         "yaxis": "y"
        },
        {
         "hovertemplate": "<b>%{x}:</b> \t %{y}",
         "marker": {
          "color": "deepskyblue"
         },
         "name": "gaussianprocess",
         "showlegend": true,
         "type": "bar",
         "x": [
          "Recall weighted"
         ],
         "xaxis": "x",
         "y": [
          0.125
         ],
         "yaxis": "y"
        },
        {
         "hovertemplate": "<b>%{x}:</b> \t %{y}",
         "marker": {
          "color": "navy"
         },
         "name": "gradientboosting",
         "showlegend": true,
         "type": "bar",
         "x": [
          "Recall weighted"
         ],
         "xaxis": "x",
         "y": [
          0.3958
         ],
         "yaxis": "y"
        },
        {
         "hovertemplate": "<b>%{x}:</b> \t %{y}",
         "marker": {
          "color": "blue"
         },
         "name": "svc",
         "showlegend": true,
         "type": "bar",
         "x": [
          "Recall weighted"
         ],
         "xaxis": "x",
         "y": [
          0.125
         ],
         "yaxis": "y"
        },
        {
         "hovertemplate": "<b>%{x}:</b> \t %{y}",
         "marker": {
          "color": "maroon"
         },
         "name": "logisticregression",
         "showlegend": false,
         "type": "bar",
         "x": [
          "Recall weighted"
         ],
         "xaxis": "x2",
         "y": [
          0.2431
         ],
         "yaxis": "y2"
        },
        {
         "hovertemplate": "<b>%{x}:</b> \t %{y}",
         "marker": {
          "color": "red"
         },
         "name": "logisticregression_l1",
         "showlegend": false,
         "type": "bar",
         "x": [
          "Recall weighted"
         ],
         "xaxis": "x2",
         "y": [
          0.2847
         ],
         "yaxis": "y2"
        },
        {
         "hovertemplate": "<b>%{x}:</b> \t %{y}",
         "marker": {
          "color": "tomato"
         },
         "name": "logisticregression_l2",
         "showlegend": false,
         "type": "bar",
         "x": [
          "Recall weighted"
         ],
         "xaxis": "x2",
         "y": [
          0.2222
         ],
         "yaxis": "y2"
        },
        {
         "hovertemplate": "<b>%{x}:</b> \t %{y}",
         "marker": {
          "color": "darksalmon"
         },
         "name": "logisticregression_elasticnet",
         "showlegend": false,
         "type": "bar",
         "x": [
          "Recall weighted"
         ],
         "xaxis": "x2",
         "y": [
          0.2014
         ],
         "yaxis": "y2"
        },
        {
         "hovertemplate": "<b>%{x}:</b> \t %{y}",
         "marker": {
          "color": "firebrick"
         },
         "name": "sgd",
         "showlegend": false,
         "type": "bar",
         "x": [
          "Recall weighted"
         ],
         "xaxis": "x2",
         "y": [
          0.1806
         ],
         "yaxis": "y2"
        },
        {
         "hovertemplate": "<b>%{x}:</b> \t %{y}",
         "marker": {
          "color": "darkseagreen"
         },
         "name": "mlp",
         "showlegend": false,
         "type": "bar",
         "x": [
          "Recall weighted"
         ],
         "xaxis": "x2",
         "y": [
          0.25
         ],
         "yaxis": "y2"
        },
        {
         "hovertemplate": "<b>%{x}:</b> \t %{y}",
         "marker": {
          "color": "seagreen"
         },
         "name": "decisiontree",
         "showlegend": false,
         "type": "bar",
         "x": [
          "Recall weighted"
         ],
         "xaxis": "x2",
         "y": [
          0.2847
         ],
         "yaxis": "y2"
        },
        {
         "hovertemplate": "<b>%{x}:</b> \t %{y}",
         "marker": {
          "color": "lightseagreen"
         },
         "name": "randomforest",
         "showlegend": false,
         "type": "bar",
         "x": [
          "Recall weighted"
         ],
         "xaxis": "x2",
         "y": [
          0.2222
         ],
         "yaxis": "y2"
        },
        {
         "hovertemplate": "<b>%{x}:</b> \t %{y}",
         "marker": {
          "color": "olive"
         },
         "name": "extratree",
         "showlegend": false,
         "type": "bar",
         "x": [
          "Recall weighted"
         ],
         "xaxis": "x2",
         "y": [
          0.1389
         ],
         "yaxis": "y2"
        },
        {
         "hovertemplate": "<b>%{x}:</b> \t %{y}",
         "marker": {
          "color": "green"
         },
         "name": "adaboost",
         "showlegend": false,
         "type": "bar",
         "x": [
          "Recall weighted"
         ],
         "xaxis": "x2",
         "y": [
          0.2014
         ],
         "yaxis": "y2"
        },
        {
         "hovertemplate": "<b>%{x}:</b> \t %{y}",
         "marker": {
          "color": "dodgerblue"
         },
         "name": "extratrees",
         "showlegend": false,
         "type": "bar",
         "x": [
          "Recall weighted"
         ],
         "xaxis": "x2",
         "y": [
          0.2083
         ],
         "yaxis": "y2"
        },
        {
         "hovertemplate": "<b>%{x}:</b> \t %{y}",
         "marker": {
          "color": "deepskyblue"
         },
         "name": "gaussianprocess",
         "showlegend": false,
         "type": "bar",
         "x": [
          "Recall weighted"
         ],
         "xaxis": "x2",
         "y": [
          0.125
         ],
         "yaxis": "y2"
        },
        {
         "hovertemplate": "<b>%{x}:</b> \t %{y}",
         "marker": {
          "color": "navy"
         },
         "name": "gradientboosting",
         "showlegend": false,
         "type": "bar",
         "x": [
          "Recall weighted"
         ],
         "xaxis": "x2",
         "y": [
          0.2917
         ],
         "yaxis": "y2"
        },
        {
         "hovertemplate": "<b>%{x}:</b> \t %{y}",
         "marker": {
          "color": "blue"
         },
         "name": "svc",
         "showlegend": false,
         "type": "bar",
         "x": [
          "Recall weighted"
         ],
         "xaxis": "x2",
         "y": [
          0.125
         ],
         "yaxis": "y2"
        },
        {
         "hovertemplate": "<b>%{x}:</b> \t %{y}",
         "marker": {
          "color": "maroon"
         },
         "name": "logisticregression",
         "showlegend": false,
         "type": "bar",
         "x": [
          "Recall weighted"
         ],
         "xaxis": "x3",
         "y": [
          0.3542
         ],
         "yaxis": "y3"
        },
        {
         "hovertemplate": "<b>%{x}:</b> \t %{y}",
         "marker": {
          "color": "red"
         },
         "name": "logisticregression_l1",
         "showlegend": false,
         "type": "bar",
         "x": [
          "Recall weighted"
         ],
         "xaxis": "x3",
         "y": [
          0.25
         ],
         "yaxis": "y3"
        },
        {
         "hovertemplate": "<b>%{x}:</b> \t %{y}",
         "marker": {
          "color": "tomato"
         },
         "name": "logisticregression_l2",
         "showlegend": false,
         "type": "bar",
         "x": [
          "Recall weighted"
         ],
         "xaxis": "x3",
         "y": [
          0.2778
         ],
         "yaxis": "y3"
        },
        {
         "hovertemplate": "<b>%{x}:</b> \t %{y}",
         "marker": {
          "color": "darksalmon"
         },
         "name": "logisticregression_elasticnet",
         "showlegend": false,
         "type": "bar",
         "x": [
          "Recall weighted"
         ],
         "xaxis": "x3",
         "y": [
          0.2153
         ],
         "yaxis": "y3"
        },
        {
         "hovertemplate": "<b>%{x}:</b> \t %{y}",
         "marker": {
          "color": "firebrick"
         },
         "name": "sgd",
         "showlegend": false,
         "type": "bar",
         "x": [
          "Recall weighted"
         ],
         "xaxis": "x3",
         "y": [
          0.1944
         ],
         "yaxis": "y3"
        },
        {
         "hovertemplate": "<b>%{x}:</b> \t %{y}",
         "marker": {
          "color": "darkseagreen"
         },
         "name": "mlp",
         "showlegend": false,
         "type": "bar",
         "x": [
          "Recall weighted"
         ],
         "xaxis": "x3",
         "y": [
          0.2986
         ],
         "yaxis": "y3"
        },
        {
         "hovertemplate": "<b>%{x}:</b> \t %{y}",
         "marker": {
          "color": "seagreen"
         },
         "name": "decisiontree",
         "showlegend": false,
         "type": "bar",
         "x": [
          "Recall weighted"
         ],
         "xaxis": "x3",
         "y": [
          0.1806
         ],
         "yaxis": "y3"
        },
        {
         "hovertemplate": "<b>%{x}:</b> \t %{y}",
         "marker": {
          "color": "lightseagreen"
         },
         "name": "randomforest",
         "showlegend": false,
         "type": "bar",
         "x": [
          "Recall weighted"
         ],
         "xaxis": "x3",
         "y": [
          0.25
         ],
         "yaxis": "y3"
        },
        {
         "hovertemplate": "<b>%{x}:</b> \t %{y}",
         "marker": {
          "color": "olive"
         },
         "name": "extratree",
         "showlegend": false,
         "type": "bar",
         "x": [
          "Recall weighted"
         ],
         "xaxis": "x3",
         "y": [
          0.2847
         ],
         "yaxis": "y3"
        },
        {
         "hovertemplate": "<b>%{x}:</b> \t %{y}",
         "marker": {
          "color": "green"
         },
         "name": "adaboost",
         "showlegend": false,
         "type": "bar",
         "x": [
          "Recall weighted"
         ],
         "xaxis": "x3",
         "y": [
          0.1944
         ],
         "yaxis": "y3"
        },
        {
         "hovertemplate": "<b>%{x}:</b> \t %{y}",
         "marker": {
          "color": "dodgerblue"
         },
         "name": "extratrees",
         "showlegend": false,
         "type": "bar",
         "x": [
          "Recall weighted"
         ],
         "xaxis": "x3",
         "y": [
          0.2431
         ],
         "yaxis": "y3"
        },
        {
         "hovertemplate": "<b>%{x}:</b> \t %{y}",
         "marker": {
          "color": "deepskyblue"
         },
         "name": "gaussianprocess",
         "showlegend": false,
         "type": "bar",
         "x": [
          "Recall weighted"
         ],
         "xaxis": "x3",
         "y": [
          0.125
         ],
         "yaxis": "y3"
        },
        {
         "hovertemplate": "<b>%{x}:</b> \t %{y}",
         "marker": {
          "color": "navy"
         },
         "name": "gradientboosting",
         "showlegend": false,
         "type": "bar",
         "x": [
          "Recall weighted"
         ],
         "xaxis": "x3",
         "y": [
          0.2361
         ],
         "yaxis": "y3"
        },
        {
         "hovertemplate": "<b>%{x}:</b> \t %{y}",
         "marker": {
          "color": "blue"
         },
         "name": "svc",
         "showlegend": false,
         "type": "bar",
         "x": [
          "Recall weighted"
         ],
         "xaxis": "x3",
         "y": [
          0.125
         ],
         "yaxis": "y3"
        },
        {
         "hovertemplate": "<b>%{x}:</b> \t %{y}",
         "marker": {
          "color": "maroon"
         },
         "name": "logisticregression",
         "showlegend": false,
         "type": "bar",
         "x": [
          "Recall weighted"
         ],
         "xaxis": "x4",
         "y": [
          0.3542
         ],
         "yaxis": "y4"
        },
        {
         "hovertemplate": "<b>%{x}:</b> \t %{y}",
         "marker": {
          "color": "red"
         },
         "name": "logisticregression_l1",
         "showlegend": false,
         "type": "bar",
         "x": [
          "Recall weighted"
         ],
         "xaxis": "x4",
         "y": [
          0.375
         ],
         "yaxis": "y4"
        },
        {
         "hovertemplate": "<b>%{x}:</b> \t %{y}",
         "marker": {
          "color": "tomato"
         },
         "name": "logisticregression_l2",
         "showlegend": false,
         "type": "bar",
         "x": [
          "Recall weighted"
         ],
         "xaxis": "x4",
         "y": [
          0.3194
         ],
         "yaxis": "y4"
        },
        {
         "hovertemplate": "<b>%{x}:</b> \t %{y}",
         "marker": {
          "color": "darksalmon"
         },
         "name": "logisticregression_elasticnet",
         "showlegend": false,
         "type": "bar",
         "x": [
          "Recall weighted"
         ],
         "xaxis": "x4",
         "y": [
          0.375
         ],
         "yaxis": "y4"
        },
        {
         "hovertemplate": "<b>%{x}:</b> \t %{y}",
         "marker": {
          "color": "firebrick"
         },
         "name": "sgd_l1",
         "showlegend": false,
         "type": "bar",
         "x": [
          "Recall weighted"
         ],
         "xaxis": "x4",
         "y": [
          0.3403
         ],
         "yaxis": "y4"
        },
        {
         "hovertemplate": "<b>%{x}:</b> \t %{y}",
         "marker": {
          "color": "darkseagreen"
         },
         "name": "mlp",
         "showlegend": false,
         "type": "bar",
         "x": [
          "Recall weighted"
         ],
         "xaxis": "x4",
         "y": [
          0.3958
         ],
         "yaxis": "y4"
        },
        {
         "hovertemplate": "<b>%{x}:</b> \t %{y}",
         "marker": {
          "color": "seagreen"
         },
         "name": "decisiontree",
         "showlegend": false,
         "type": "bar",
         "x": [
          "Recall weighted"
         ],
         "xaxis": "x4",
         "y": [
          0.4097
         ],
         "yaxis": "y4"
        },
        {
         "hovertemplate": "<b>%{x}:</b> \t %{y}",
         "marker": {
          "color": "lightseagreen"
         },
         "name": "randomforest",
         "showlegend": false,
         "type": "bar",
         "x": [
          "Recall weighted"
         ],
         "xaxis": "x4",
         "y": [
          0.3958
         ],
         "yaxis": "y4"
        },
        {
         "hovertemplate": "<b>%{x}:</b> \t %{y}",
         "marker": {
          "color": "olive"
         },
         "name": "extratree",
         "showlegend": false,
         "type": "bar",
         "x": [
          "Recall weighted"
         ],
         "xaxis": "x4",
         "y": [
          0.4097
         ],
         "yaxis": "y4"
        },
        {
         "hovertemplate": "<b>%{x}:</b> \t %{y}",
         "marker": {
          "color": "green"
         },
         "name": "adaboost",
         "showlegend": false,
         "type": "bar",
         "x": [
          "Recall weighted"
         ],
         "xaxis": "x4",
         "y": [
          0.4444
         ],
         "yaxis": "y4"
        },
        {
         "hovertemplate": "<b>%{x}:</b> \t %{y}",
         "marker": {
          "color": "dodgerblue"
         },
         "name": "extratrees",
         "showlegend": false,
         "type": "bar",
         "x": [
          "Recall weighted"
         ],
         "xaxis": "x4",
         "y": [
          0.5139
         ],
         "yaxis": "y4"
        },
        {
         "hovertemplate": "<b>%{x}:</b> \t %{y}",
         "marker": {
          "color": "deepskyblue"
         },
         "name": "gaussianprocess",
         "showlegend": false,
         "type": "bar",
         "x": [
          "Recall weighted"
         ],
         "xaxis": "x4",
         "y": [
          0.125
         ],
         "yaxis": "y4"
        },
        {
         "hovertemplate": "<b>%{x}:</b> \t %{y}",
         "marker": {
          "color": "navy"
         },
         "name": "gradientboosting",
         "showlegend": false,
         "type": "bar",
         "x": [
          "Recall weighted"
         ],
         "xaxis": "x4",
         "y": [
          0.3125
         ],
         "yaxis": "y4"
        },
        {
         "hovertemplate": "<b>%{x}:</b> \t %{y}",
         "marker": {
          "color": "blue"
         },
         "name": "svc",
         "showlegend": false,
         "type": "bar",
         "x": [
          "Recall weighted"
         ],
         "xaxis": "x4",
         "y": [
          0.3333
         ],
         "yaxis": "y4"
        }
       ],
       "layout": {
        "annotations": [
         {
          "font": {
           "size": 16
          },
          "showarrow": false,
          "text": "Standard Estimator",
          "x": 0.115625,
          "xanchor": "center",
          "xref": "paper",
          "y": 1,
          "yanchor": "bottom",
          "yref": "paper"
         },
         {
          "font": {
           "size": 16
          },
          "showarrow": false,
          "text": "Variance T (0.1)",
          "x": 0.37187500000000007,
          "xanchor": "center",
          "xref": "paper",
          "y": 1,
          "yanchor": "bottom",
          "yref": "paper"
         },
         {
          "font": {
           "size": 16
          },
          "showarrow": false,
          "text": "Variance T (0.2)",
          "x": 0.628125,
          "xanchor": "center",
          "xref": "paper",
          "y": 1,
          "yanchor": "bottom",
          "yref": "paper"
         },
         {
          "font": {
           "size": 16
          },
          "showarrow": false,
          "text": "Best Estimator",
          "x": 0.884375,
          "xanchor": "center",
          "xref": "paper",
          "y": 1,
          "yanchor": "bottom",
          "yref": "paper"
         }
        ],
        "height": 500,
        "showlegend": true,
        "template": {
         "data": {
          "bar": [
           {
            "error_x": {
             "color": "#2a3f5f"
            },
            "error_y": {
             "color": "#2a3f5f"
            },
            "marker": {
             "line": {
              "color": "white",
              "width": 0.5
             },
             "pattern": {
              "fillmode": "overlay",
              "size": 10,
              "solidity": 0.2
             }
            },
            "type": "bar"
           }
          ],
          "barpolar": [
           {
            "marker": {
             "line": {
              "color": "white",
              "width": 0.5
             },
             "pattern": {
              "fillmode": "overlay",
              "size": 10,
              "solidity": 0.2
             }
            },
            "type": "barpolar"
           }
          ],
          "carpet": [
           {
            "aaxis": {
             "endlinecolor": "#2a3f5f",
             "gridcolor": "#C8D4E3",
             "linecolor": "#C8D4E3",
             "minorgridcolor": "#C8D4E3",
             "startlinecolor": "#2a3f5f"
            },
            "baxis": {
             "endlinecolor": "#2a3f5f",
             "gridcolor": "#C8D4E3",
             "linecolor": "#C8D4E3",
             "minorgridcolor": "#C8D4E3",
             "startlinecolor": "#2a3f5f"
            },
            "type": "carpet"
           }
          ],
          "choropleth": [
           {
            "colorbar": {
             "outlinewidth": 0,
             "ticks": ""
            },
            "type": "choropleth"
           }
          ],
          "contour": [
           {
            "colorbar": {
             "outlinewidth": 0,
             "ticks": ""
            },
            "colorscale": [
             [
              0,
              "#0d0887"
             ],
             [
              0.1111111111111111,
              "#46039f"
             ],
             [
              0.2222222222222222,
              "#7201a8"
             ],
             [
              0.3333333333333333,
              "#9c179e"
             ],
             [
              0.4444444444444444,
              "#bd3786"
             ],
             [
              0.5555555555555556,
              "#d8576b"
             ],
             [
              0.6666666666666666,
              "#ed7953"
             ],
             [
              0.7777777777777778,
              "#fb9f3a"
             ],
             [
              0.8888888888888888,
              "#fdca26"
             ],
             [
              1,
              "#f0f921"
             ]
            ],
            "type": "contour"
           }
          ],
          "contourcarpet": [
           {
            "colorbar": {
             "outlinewidth": 0,
             "ticks": ""
            },
            "type": "contourcarpet"
           }
          ],
          "heatmap": [
           {
            "colorbar": {
             "outlinewidth": 0,
             "ticks": ""
            },
            "colorscale": [
             [
              0,
              "#0d0887"
             ],
             [
              0.1111111111111111,
              "#46039f"
             ],
             [
              0.2222222222222222,
              "#7201a8"
             ],
             [
              0.3333333333333333,
              "#9c179e"
             ],
             [
              0.4444444444444444,
              "#bd3786"
             ],
             [
              0.5555555555555556,
              "#d8576b"
             ],
             [
              0.6666666666666666,
              "#ed7953"
             ],
             [
              0.7777777777777778,
              "#fb9f3a"
             ],
             [
              0.8888888888888888,
              "#fdca26"
             ],
             [
              1,
              "#f0f921"
             ]
            ],
            "type": "heatmap"
           }
          ],
          "heatmapgl": [
           {
            "colorbar": {
             "outlinewidth": 0,
             "ticks": ""
            },
            "colorscale": [
             [
              0,
              "#0d0887"
             ],
             [
              0.1111111111111111,
              "#46039f"
             ],
             [
              0.2222222222222222,
              "#7201a8"
             ],
             [
              0.3333333333333333,
              "#9c179e"
             ],
             [
              0.4444444444444444,
              "#bd3786"
             ],
             [
              0.5555555555555556,
              "#d8576b"
             ],
             [
              0.6666666666666666,
              "#ed7953"
             ],
             [
              0.7777777777777778,
              "#fb9f3a"
             ],
             [
              0.8888888888888888,
              "#fdca26"
             ],
             [
              1,
              "#f0f921"
             ]
            ],
            "type": "heatmapgl"
           }
          ],
          "histogram": [
           {
            "marker": {
             "pattern": {
              "fillmode": "overlay",
              "size": 10,
              "solidity": 0.2
             }
            },
            "type": "histogram"
           }
          ],
          "histogram2d": [
           {
            "colorbar": {
             "outlinewidth": 0,
             "ticks": ""
            },
            "colorscale": [
             [
              0,
              "#0d0887"
             ],
             [
              0.1111111111111111,
              "#46039f"
             ],
             [
              0.2222222222222222,
              "#7201a8"
             ],
             [
              0.3333333333333333,
              "#9c179e"
             ],
             [
              0.4444444444444444,
              "#bd3786"
             ],
             [
              0.5555555555555556,
              "#d8576b"
             ],
             [
              0.6666666666666666,
              "#ed7953"
             ],
             [
              0.7777777777777778,
              "#fb9f3a"
             ],
             [
              0.8888888888888888,
              "#fdca26"
             ],
             [
              1,
              "#f0f921"
             ]
            ],
            "type": "histogram2d"
           }
          ],
          "histogram2dcontour": [
           {
            "colorbar": {
             "outlinewidth": 0,
             "ticks": ""
            },
            "colorscale": [
             [
              0,
              "#0d0887"
             ],
             [
              0.1111111111111111,
              "#46039f"
             ],
             [
              0.2222222222222222,
              "#7201a8"
             ],
             [
              0.3333333333333333,
              "#9c179e"
             ],
             [
              0.4444444444444444,
              "#bd3786"
             ],
             [
              0.5555555555555556,
              "#d8576b"
             ],
             [
              0.6666666666666666,
              "#ed7953"
             ],
             [
              0.7777777777777778,
              "#fb9f3a"
             ],
             [
              0.8888888888888888,
              "#fdca26"
             ],
             [
              1,
              "#f0f921"
             ]
            ],
            "type": "histogram2dcontour"
           }
          ],
          "mesh3d": [
           {
            "colorbar": {
             "outlinewidth": 0,
             "ticks": ""
            },
            "type": "mesh3d"
           }
          ],
          "parcoords": [
           {
            "line": {
             "colorbar": {
              "outlinewidth": 0,
              "ticks": ""
             }
            },
            "type": "parcoords"
           }
          ],
          "pie": [
           {
            "automargin": true,
            "type": "pie"
           }
          ],
          "scatter": [
           {
            "fillpattern": {
             "fillmode": "overlay",
             "size": 10,
             "solidity": 0.2
            },
            "type": "scatter"
           }
          ],
          "scatter3d": [
           {
            "line": {
             "colorbar": {
              "outlinewidth": 0,
              "ticks": ""
             }
            },
            "marker": {
             "colorbar": {
              "outlinewidth": 0,
              "ticks": ""
             }
            },
            "type": "scatter3d"
           }
          ],
          "scattercarpet": [
           {
            "marker": {
             "colorbar": {
              "outlinewidth": 0,
              "ticks": ""
             }
            },
            "type": "scattercarpet"
           }
          ],
          "scattergeo": [
           {
            "marker": {
             "colorbar": {
              "outlinewidth": 0,
              "ticks": ""
             }
            },
            "type": "scattergeo"
           }
          ],
          "scattergl": [
           {
            "marker": {
             "colorbar": {
              "outlinewidth": 0,
              "ticks": ""
             }
            },
            "type": "scattergl"
           }
          ],
          "scattermapbox": [
           {
            "marker": {
             "colorbar": {
              "outlinewidth": 0,
              "ticks": ""
             }
            },
            "type": "scattermapbox"
           }
          ],
          "scatterpolar": [
           {
            "marker": {
             "colorbar": {
              "outlinewidth": 0,
              "ticks": ""
             }
            },
            "type": "scatterpolar"
           }
          ],
          "scatterpolargl": [
           {
            "marker": {
             "colorbar": {
              "outlinewidth": 0,
              "ticks": ""
             }
            },
            "type": "scatterpolargl"
           }
          ],
          "scatterternary": [
           {
            "marker": {
             "colorbar": {
              "outlinewidth": 0,
              "ticks": ""
             }
            },
            "type": "scatterternary"
           }
          ],
          "surface": [
           {
            "colorbar": {
             "outlinewidth": 0,
             "ticks": ""
            },
            "colorscale": [
             [
              0,
              "#0d0887"
             ],
             [
              0.1111111111111111,
              "#46039f"
             ],
             [
              0.2222222222222222,
              "#7201a8"
             ],
             [
              0.3333333333333333,
              "#9c179e"
             ],
             [
              0.4444444444444444,
              "#bd3786"
             ],
             [
              0.5555555555555556,
              "#d8576b"
             ],
             [
              0.6666666666666666,
              "#ed7953"
             ],
             [
              0.7777777777777778,
              "#fb9f3a"
             ],
             [
              0.8888888888888888,
              "#fdca26"
             ],
             [
              1,
              "#f0f921"
             ]
            ],
            "type": "surface"
           }
          ],
          "table": [
           {
            "cells": {
             "fill": {
              "color": "#EBF0F8"
             },
             "line": {
              "color": "white"
             }
            },
            "header": {
             "fill": {
              "color": "#C8D4E3"
             },
             "line": {
              "color": "white"
             }
            },
            "type": "table"
           }
          ]
         },
         "layout": {
          "annotationdefaults": {
           "arrowcolor": "#2a3f5f",
           "arrowhead": 0,
           "arrowwidth": 1
          },
          "autotypenumbers": "strict",
          "coloraxis": {
           "colorbar": {
            "outlinewidth": 0,
            "ticks": ""
           }
          },
          "colorscale": {
           "diverging": [
            [
             0,
             "#8e0152"
            ],
            [
             0.1,
             "#c51b7d"
            ],
            [
             0.2,
             "#de77ae"
            ],
            [
             0.3,
             "#f1b6da"
            ],
            [
             0.4,
             "#fde0ef"
            ],
            [
             0.5,
             "#f7f7f7"
            ],
            [
             0.6,
             "#e6f5d0"
            ],
            [
             0.7,
             "#b8e186"
            ],
            [
             0.8,
             "#7fbc41"
            ],
            [
             0.9,
             "#4d9221"
            ],
            [
             1,
             "#276419"
            ]
           ],
           "sequential": [
            [
             0,
             "#0d0887"
            ],
            [
             0.1111111111111111,
             "#46039f"
            ],
            [
             0.2222222222222222,
             "#7201a8"
            ],
            [
             0.3333333333333333,
             "#9c179e"
            ],
            [
             0.4444444444444444,
             "#bd3786"
            ],
            [
             0.5555555555555556,
             "#d8576b"
            ],
            [
             0.6666666666666666,
             "#ed7953"
            ],
            [
             0.7777777777777778,
             "#fb9f3a"
            ],
            [
             0.8888888888888888,
             "#fdca26"
            ],
            [
             1,
             "#f0f921"
            ]
           ],
           "sequentialminus": [
            [
             0,
             "#0d0887"
            ],
            [
             0.1111111111111111,
             "#46039f"
            ],
            [
             0.2222222222222222,
             "#7201a8"
            ],
            [
             0.3333333333333333,
             "#9c179e"
            ],
            [
             0.4444444444444444,
             "#bd3786"
            ],
            [
             0.5555555555555556,
             "#d8576b"
            ],
            [
             0.6666666666666666,
             "#ed7953"
            ],
            [
             0.7777777777777778,
             "#fb9f3a"
            ],
            [
             0.8888888888888888,
             "#fdca26"
            ],
            [
             1,
             "#f0f921"
            ]
           ]
          },
          "colorway": [
           "#636efa",
           "#EF553B",
           "#00cc96",
           "#ab63fa",
           "#FFA15A",
           "#19d3f3",
           "#FF6692",
           "#B6E880",
           "#FF97FF",
           "#FECB52"
          ],
          "font": {
           "color": "#2a3f5f"
          },
          "geo": {
           "bgcolor": "white",
           "lakecolor": "white",
           "landcolor": "white",
           "showlakes": true,
           "showland": true,
           "subunitcolor": "#C8D4E3"
          },
          "hoverlabel": {
           "align": "left"
          },
          "hovermode": "closest",
          "mapbox": {
           "style": "light"
          },
          "paper_bgcolor": "white",
          "plot_bgcolor": "white",
          "polar": {
           "angularaxis": {
            "gridcolor": "#EBF0F8",
            "linecolor": "#EBF0F8",
            "ticks": ""
           },
           "bgcolor": "white",
           "radialaxis": {
            "gridcolor": "#EBF0F8",
            "linecolor": "#EBF0F8",
            "ticks": ""
           }
          },
          "scene": {
           "xaxis": {
            "backgroundcolor": "white",
            "gridcolor": "#DFE8F3",
            "gridwidth": 2,
            "linecolor": "#EBF0F8",
            "showbackground": true,
            "ticks": "",
            "zerolinecolor": "#EBF0F8"
           },
           "yaxis": {
            "backgroundcolor": "white",
            "gridcolor": "#DFE8F3",
            "gridwidth": 2,
            "linecolor": "#EBF0F8",
            "showbackground": true,
            "ticks": "",
            "zerolinecolor": "#EBF0F8"
           },
           "zaxis": {
            "backgroundcolor": "white",
            "gridcolor": "#DFE8F3",
            "gridwidth": 2,
            "linecolor": "#EBF0F8",
            "showbackground": true,
            "ticks": "",
            "zerolinecolor": "#EBF0F8"
           }
          },
          "shapedefaults": {
           "line": {
            "color": "#2a3f5f"
           }
          },
          "ternary": {
           "aaxis": {
            "gridcolor": "#DFE8F3",
            "linecolor": "#A2B1C6",
            "ticks": ""
           },
           "baxis": {
            "gridcolor": "#DFE8F3",
            "linecolor": "#A2B1C6",
            "ticks": ""
           },
           "bgcolor": "white",
           "caxis": {
            "gridcolor": "#DFE8F3",
            "linecolor": "#A2B1C6",
            "ticks": ""
           }
          },
          "title": {
           "x": 0.05
          },
          "xaxis": {
           "automargin": true,
           "gridcolor": "#EBF0F8",
           "linecolor": "#EBF0F8",
           "ticks": "",
           "title": {
            "standoff": 15
           },
           "zerolinecolor": "#EBF0F8",
           "zerolinewidth": 2
          },
          "yaxis": {
           "automargin": true,
           "gridcolor": "#EBF0F8",
           "linecolor": "#EBF0F8",
           "ticks": "",
           "title": {
            "standoff": 15
           },
           "zerolinecolor": "#EBF0F8",
           "zerolinewidth": 2
          }
         }
        },
        "title": {
         "font": {
          "size": 20
         },
         "text": "Recall weighted Perfromance"
        },
        "width": 1650,
        "xaxis": {
         "anchor": "y",
         "domain": [
          0,
          0.23125
         ],
         "showticklabels": false
        },
        "xaxis2": {
         "anchor": "y2",
         "domain": [
          0.25625000000000003,
          0.48750000000000004
         ],
         "showticklabels": false
        },
        "xaxis3": {
         "anchor": "y3",
         "domain": [
          0.5125000000000001,
          0.7437500000000001
         ],
         "showticklabels": false
        },
        "xaxis4": {
         "anchor": "y4",
         "domain": [
          0.76875,
          1
         ],
         "showticklabels": false
        },
        "yaxis": {
         "anchor": "x",
         "domain": [
          0,
          1
         ],
         "range": [
          0,
          1.1
         ]
        },
        "yaxis2": {
         "anchor": "x2",
         "domain": [
          0,
          1
         ],
         "matches": "y",
         "showticklabels": false
        },
        "yaxis3": {
         "anchor": "x3",
         "domain": [
          0,
          1
         ],
         "matches": "y",
         "showticklabels": false
        },
        "yaxis4": {
         "anchor": "x4",
         "domain": [
          0,
          1
         ],
         "matches": "y",
         "showticklabels": false
        }
       }
      }
     },
     "metadata": {},
     "output_type": "display_data"
    }
   ],
   "source": [
    "funs.comparison_plotter('Recall weighted', validation, names, color)"
   ]
  },
  {
   "cell_type": "code",
   "execution_count": 123,
   "metadata": {},
   "outputs": [
    {
     "data": {
      "application/vnd.plotly.v1+json": {
       "config": {
        "plotlyServerURL": "https://plot.ly"
       },
       "data": [
        {
         "hovertemplate": "<b>%{x}:</b> \t %{y}",
         "marker": {
          "color": "maroon"
         },
         "name": "logisticregression",
         "showlegend": true,
         "type": "bar",
         "x": [
          "AUC"
         ],
         "xaxis": "x",
         "y": [
          0.6257
         ],
         "yaxis": "y"
        },
        {
         "hovertemplate": "<b>%{x}:</b> \t %{y}",
         "marker": {
          "color": "red"
         },
         "name": "logisticregression_l1",
         "showlegend": true,
         "type": "bar",
         "x": [
          "AUC"
         ],
         "xaxis": "x",
         "y": [
          0.7147
         ],
         "yaxis": "y"
        },
        {
         "hovertemplate": "<b>%{x}:</b> \t %{y}",
         "marker": {
          "color": "tomato"
         },
         "name": "logisticregression_l2",
         "showlegend": true,
         "type": "bar",
         "x": [
          "AUC"
         ],
         "xaxis": "x",
         "y": [
          0.6443
         ],
         "yaxis": "y"
        },
        {
         "hovertemplate": "<b>%{x}:</b> \t %{y}",
         "marker": {
          "color": "darksalmon"
         },
         "name": "logisticregression_elasticnet",
         "showlegend": true,
         "type": "bar",
         "x": [
          "AUC"
         ],
         "xaxis": "x",
         "y": [
          0.6838
         ],
         "yaxis": "y"
        },
        {
         "hovertemplate": "<b>%{x}:</b> \t %{y}",
         "marker": {
          "color": "firebrick"
         },
         "name": "sgd",
         "showlegend": true,
         "type": "bar",
         "x": [
          "AUC"
         ],
         "xaxis": "x",
         "y": [
          0.5518
         ],
         "yaxis": "y"
        },
        {
         "hovertemplate": "<b>%{x}:</b> \t %{y}",
         "marker": {
          "color": "darkseagreen"
         },
         "name": "mlp",
         "showlegend": true,
         "type": "bar",
         "x": [
          "AUC"
         ],
         "xaxis": "x",
         "y": [
          0.6359
         ],
         "yaxis": "y"
        },
        {
         "hovertemplate": "<b>%{x}:</b> \t %{y}",
         "marker": {
          "color": "seagreen"
         },
         "name": "decisiontree",
         "showlegend": true,
         "type": "bar",
         "x": [
          "AUC"
         ],
         "xaxis": "x",
         "y": [
          0.5035
         ],
         "yaxis": "y"
        },
        {
         "hovertemplate": "<b>%{x}:</b> \t %{y}",
         "marker": {
          "color": "lightseagreen"
         },
         "name": "randomforest",
         "showlegend": true,
         "type": "bar",
         "x": [
          "AUC"
         ],
         "xaxis": "x",
         "y": [
          0.6957
         ],
         "yaxis": "y"
        },
        {
         "hovertemplate": "<b>%{x}:</b> \t %{y}",
         "marker": {
          "color": "olive"
         },
         "name": "extratree",
         "showlegend": true,
         "type": "bar",
         "x": [
          "AUC"
         ],
         "xaxis": "x",
         "y": [
          0.5126
         ],
         "yaxis": "y"
        },
        {
         "hovertemplate": "<b>%{x}:</b> \t %{y}",
         "marker": {
          "color": "green"
         },
         "name": "adaboost",
         "showlegend": true,
         "type": "bar",
         "x": [
          "AUC"
         ],
         "xaxis": "x",
         "y": [
          0.6077
         ],
         "yaxis": "y"
        },
        {
         "hovertemplate": "<b>%{x}:</b> \t %{y}",
         "marker": {
          "color": "dodgerblue"
         },
         "name": "extratrees",
         "showlegend": true,
         "type": "bar",
         "x": [
          "AUC"
         ],
         "xaxis": "x",
         "y": [
          0.723
         ],
         "yaxis": "y"
        },
        {
         "hovertemplate": "<b>%{x}:</b> \t %{y}",
         "marker": {
          "color": "deepskyblue"
         },
         "name": "gaussianprocess",
         "showlegend": true,
         "type": "bar",
         "x": [
          "AUC"
         ],
         "xaxis": "x",
         "y": [
          0.5
         ],
         "yaxis": "y"
        },
        {
         "hovertemplate": "<b>%{x}:</b> \t %{y}",
         "marker": {
          "color": "navy"
         },
         "name": "gradientboosting",
         "showlegend": true,
         "type": "bar",
         "x": [
          "AUC"
         ],
         "xaxis": "x",
         "y": [
          0.6614
         ],
         "yaxis": "y"
        },
        {
         "hovertemplate": "<b>%{x}:</b> \t %{y}",
         "marker": {
          "color": "blue"
         },
         "name": "svc",
         "showlegend": true,
         "type": "bar",
         "x": [
          "AUC"
         ],
         "xaxis": "x",
         "y": [
          0.3298
         ],
         "yaxis": "y"
        },
        {
         "hovertemplate": "<b>%{x}:</b> \t %{y}",
         "marker": {
          "color": "maroon"
         },
         "name": "logisticregression",
         "showlegend": false,
         "type": "bar",
         "x": [
          "AUC"
         ],
         "xaxis": "x2",
         "y": [
          0.6324
         ],
         "yaxis": "y2"
        },
        {
         "hovertemplate": "<b>%{x}:</b> \t %{y}",
         "marker": {
          "color": "red"
         },
         "name": "logisticregression_l1",
         "showlegend": false,
         "type": "bar",
         "x": [
          "AUC"
         ],
         "xaxis": "x2",
         "y": [
          0.7169
         ],
         "yaxis": "y2"
        },
        {
         "hovertemplate": "<b>%{x}:</b> \t %{y}",
         "marker": {
          "color": "tomato"
         },
         "name": "logisticregression_l2",
         "showlegend": false,
         "type": "bar",
         "x": [
          "AUC"
         ],
         "xaxis": "x2",
         "y": [
          0.6379
         ],
         "yaxis": "y2"
        },
        {
         "hovertemplate": "<b>%{x}:</b> \t %{y}",
         "marker": {
          "color": "darksalmon"
         },
         "name": "logisticregression_elasticnet",
         "showlegend": false,
         "type": "bar",
         "x": [
          "AUC"
         ],
         "xaxis": "x2",
         "y": [
          0.6736
         ],
         "yaxis": "y2"
        },
        {
         "hovertemplate": "<b>%{x}:</b> \t %{y}",
         "marker": {
          "color": "firebrick"
         },
         "name": "sgd",
         "showlegend": false,
         "type": "bar",
         "x": [
          "AUC"
         ],
         "xaxis": "x2",
         "y": [
          0.5724
         ],
         "yaxis": "y2"
        },
        {
         "hovertemplate": "<b>%{x}:</b> \t %{y}",
         "marker": {
          "color": "darkseagreen"
         },
         "name": "mlp",
         "showlegend": false,
         "type": "bar",
         "x": [
          "AUC"
         ],
         "xaxis": "x2",
         "y": [
          0.6003
         ],
         "yaxis": "y2"
        },
        {
         "hovertemplate": "<b>%{x}:</b> \t %{y}",
         "marker": {
          "color": "seagreen"
         },
         "name": "decisiontree",
         "showlegend": false,
         "type": "bar",
         "x": [
          "AUC"
         ],
         "xaxis": "x2",
         "y": [
          0.5862
         ],
         "yaxis": "y2"
        },
        {
         "hovertemplate": "<b>%{x}:</b> \t %{y}",
         "marker": {
          "color": "lightseagreen"
         },
         "name": "randomforest",
         "showlegend": false,
         "type": "bar",
         "x": [
          "AUC"
         ],
         "xaxis": "x2",
         "y": [
          0.6602
         ],
         "yaxis": "y2"
        },
        {
         "hovertemplate": "<b>%{x}:</b> \t %{y}",
         "marker": {
          "color": "olive"
         },
         "name": "extratree",
         "showlegend": false,
         "type": "bar",
         "x": [
          "AUC"
         ],
         "xaxis": "x2",
         "y": [
          0.5101
         ],
         "yaxis": "y2"
        },
        {
         "hovertemplate": "<b>%{x}:</b> \t %{y}",
         "marker": {
          "color": "green"
         },
         "name": "adaboost",
         "showlegend": false,
         "type": "bar",
         "x": [
          "AUC"
         ],
         "xaxis": "x2",
         "y": [
          0.605
         ],
         "yaxis": "y2"
        },
        {
         "hovertemplate": "<b>%{x}:</b> \t %{y}",
         "marker": {
          "color": "dodgerblue"
         },
         "name": "extratrees",
         "showlegend": false,
         "type": "bar",
         "x": [
          "AUC"
         ],
         "xaxis": "x2",
         "y": [
          0.7064
         ],
         "yaxis": "y2"
        },
        {
         "hovertemplate": "<b>%{x}:</b> \t %{y}",
         "marker": {
          "color": "deepskyblue"
         },
         "name": "gaussianprocess",
         "showlegend": false,
         "type": "bar",
         "x": [
          "AUC"
         ],
         "xaxis": "x2",
         "y": [
          0.5
         ],
         "yaxis": "y2"
        },
        {
         "hovertemplate": "<b>%{x}:</b> \t %{y}",
         "marker": {
          "color": "navy"
         },
         "name": "gradientboosting",
         "showlegend": false,
         "type": "bar",
         "x": [
          "AUC"
         ],
         "xaxis": "x2",
         "y": [
          0.6619
         ],
         "yaxis": "y2"
        },
        {
         "hovertemplate": "<b>%{x}:</b> \t %{y}",
         "marker": {
          "color": "blue"
         },
         "name": "svc",
         "showlegend": false,
         "type": "bar",
         "x": [
          "AUC"
         ],
         "xaxis": "x2",
         "y": [
          0.3338
         ],
         "yaxis": "y2"
        },
        {
         "hovertemplate": "<b>%{x}:</b> \t %{y}",
         "marker": {
          "color": "maroon"
         },
         "name": "logisticregression",
         "showlegend": false,
         "type": "bar",
         "x": [
          "AUC"
         ],
         "xaxis": "x3",
         "y": [
          0.7004
         ],
         "yaxis": "y3"
        },
        {
         "hovertemplate": "<b>%{x}:</b> \t %{y}",
         "marker": {
          "color": "red"
         },
         "name": "logisticregression_l1",
         "showlegend": false,
         "type": "bar",
         "x": [
          "AUC"
         ],
         "xaxis": "x3",
         "y": [
          0.6772
         ],
         "yaxis": "y3"
        },
        {
         "hovertemplate": "<b>%{x}:</b> \t %{y}",
         "marker": {
          "color": "tomato"
         },
         "name": "logisticregression_l2",
         "showlegend": false,
         "type": "bar",
         "x": [
          "AUC"
         ],
         "xaxis": "x3",
         "y": [
          0.6757
         ],
         "yaxis": "y3"
        },
        {
         "hovertemplate": "<b>%{x}:</b> \t %{y}",
         "marker": {
          "color": "darksalmon"
         },
         "name": "logisticregression_elasticnet",
         "showlegend": false,
         "type": "bar",
         "x": [
          "AUC"
         ],
         "xaxis": "x3",
         "y": [
          0.7034
         ],
         "yaxis": "y3"
        },
        {
         "hovertemplate": "<b>%{x}:</b> \t %{y}",
         "marker": {
          "color": "firebrick"
         },
         "name": "sgd",
         "showlegend": false,
         "type": "bar",
         "x": [
          "AUC"
         ],
         "xaxis": "x3",
         "y": [
          0.582
         ],
         "yaxis": "y3"
        },
        {
         "hovertemplate": "<b>%{x}:</b> \t %{y}",
         "marker": {
          "color": "darkseagreen"
         },
         "name": "mlp",
         "showlegend": false,
         "type": "bar",
         "x": [
          "AUC"
         ],
         "xaxis": "x3",
         "y": [
          0.6515
         ],
         "yaxis": "y3"
        },
        {
         "hovertemplate": "<b>%{x}:</b> \t %{y}",
         "marker": {
          "color": "seagreen"
         },
         "name": "decisiontree",
         "showlegend": false,
         "type": "bar",
         "x": [
          "AUC"
         ],
         "xaxis": "x3",
         "y": [
          0.534
         ],
         "yaxis": "y3"
        },
        {
         "hovertemplate": "<b>%{x}:</b> \t %{y}",
         "marker": {
          "color": "lightseagreen"
         },
         "name": "randomforest",
         "showlegend": false,
         "type": "bar",
         "x": [
          "AUC"
         ],
         "xaxis": "x3",
         "y": [
          0.6749
         ],
         "yaxis": "y3"
        },
        {
         "hovertemplate": "<b>%{x}:</b> \t %{y}",
         "marker": {
          "color": "olive"
         },
         "name": "extratree",
         "showlegend": false,
         "type": "bar",
         "x": [
          "AUC"
         ],
         "xaxis": "x3",
         "y": [
          0.5918
         ],
         "yaxis": "y3"
        },
        {
         "hovertemplate": "<b>%{x}:</b> \t %{y}",
         "marker": {
          "color": "green"
         },
         "name": "adaboost",
         "showlegend": false,
         "type": "bar",
         "x": [
          "AUC"
         ],
         "xaxis": "x3",
         "y": [
          0.7377
         ],
         "yaxis": "y3"
        },
        {
         "hovertemplate": "<b>%{x}:</b> \t %{y}",
         "marker": {
          "color": "dodgerblue"
         },
         "name": "extratrees",
         "showlegend": false,
         "type": "bar",
         "x": [
          "AUC"
         ],
         "xaxis": "x3",
         "y": [
          0.7413
         ],
         "yaxis": "y3"
        },
        {
         "hovertemplate": "<b>%{x}:</b> \t %{y}",
         "marker": {
          "color": "deepskyblue"
         },
         "name": "gaussianprocess",
         "showlegend": false,
         "type": "bar",
         "x": [
          "AUC"
         ],
         "xaxis": "x3",
         "y": [
          0.5
         ],
         "yaxis": "y3"
        },
        {
         "hovertemplate": "<b>%{x}:</b> \t %{y}",
         "marker": {
          "color": "navy"
         },
         "name": "gradientboosting",
         "showlegend": false,
         "type": "bar",
         "x": [
          "AUC"
         ],
         "xaxis": "x3",
         "y": [
          0.6493
         ],
         "yaxis": "y3"
        },
        {
         "hovertemplate": "<b>%{x}:</b> \t %{y}",
         "marker": {
          "color": "blue"
         },
         "name": "svc",
         "showlegend": false,
         "type": "bar",
         "x": [
          "AUC"
         ],
         "xaxis": "x3",
         "y": [
          0.3481
         ],
         "yaxis": "y3"
        },
        {
         "hovertemplate": "<b>%{x}:</b> \t %{y}",
         "marker": {
          "color": "maroon"
         },
         "name": "logisticregression",
         "showlegend": false,
         "type": "bar",
         "x": [
          "AUC"
         ],
         "xaxis": "x4",
         "y": [
          0.7004
         ],
         "yaxis": "y4"
        },
        {
         "hovertemplate": "<b>%{x}:</b> \t %{y}",
         "marker": {
          "color": "red"
         },
         "name": "logisticregression_l1",
         "showlegend": false,
         "type": "bar",
         "x": [
          "AUC"
         ],
         "xaxis": "x4",
         "y": [
          0.6854
         ],
         "yaxis": "y4"
        },
        {
         "hovertemplate": "<b>%{x}:</b> \t %{y}",
         "marker": {
          "color": "tomato"
         },
         "name": "logisticregression_l2",
         "showlegend": false,
         "type": "bar",
         "x": [
          "AUC"
         ],
         "xaxis": "x4",
         "y": [
          0.6997
         ],
         "yaxis": "y4"
        },
        {
         "hovertemplate": "<b>%{x}:</b> \t %{y}",
         "marker": {
          "color": "darksalmon"
         },
         "name": "logisticregression_elasticnet",
         "showlegend": false,
         "type": "bar",
         "x": [
          "AUC"
         ],
         "xaxis": "x4",
         "y": [
          0.6914
         ],
         "yaxis": "y4"
        },
        {
         "hovertemplate": "<b>%{x}:</b> \t %{y}",
         "marker": {
          "color": "firebrick"
         },
         "name": "sgd_l1",
         "showlegend": false,
         "type": "bar",
         "x": [
          "AUC"
         ],
         "xaxis": "x4",
         "y": [
          0.7607
         ],
         "yaxis": "y4"
        },
        {
         "hovertemplate": "<b>%{x}:</b> \t %{y}",
         "marker": {
          "color": "darkseagreen"
         },
         "name": "mlp",
         "showlegend": false,
         "type": "bar",
         "x": [
          "AUC"
         ],
         "xaxis": "x4",
         "y": [
          0.6782
         ],
         "yaxis": "y4"
        },
        {
         "hovertemplate": "<b>%{x}:</b> \t %{y}",
         "marker": {
          "color": "seagreen"
         },
         "name": "decisiontree",
         "showlegend": false,
         "type": "bar",
         "x": [
          "AUC"
         ],
         "xaxis": "x4",
         "y": [
          0.6713
         ],
         "yaxis": "y4"
        },
        {
         "hovertemplate": "<b>%{x}:</b> \t %{y}",
         "marker": {
          "color": "lightseagreen"
         },
         "name": "randomforest",
         "showlegend": false,
         "type": "bar",
         "x": [
          "AUC"
         ],
         "xaxis": "x4",
         "y": [
          0.7108
         ],
         "yaxis": "y4"
        },
        {
         "hovertemplate": "<b>%{x}:</b> \t %{y}",
         "marker": {
          "color": "olive"
         },
         "name": "extratree",
         "showlegend": false,
         "type": "bar",
         "x": [
          "AUC"
         ],
         "xaxis": "x4",
         "y": [
          0.7233
         ],
         "yaxis": "y4"
        },
        {
         "hovertemplate": "<b>%{x}:</b> \t %{y}",
         "marker": {
          "color": "green"
         },
         "name": "adaboost",
         "showlegend": false,
         "type": "bar",
         "x": [
          "AUC"
         ],
         "xaxis": "x4",
         "y": [
          0.7772
         ],
         "yaxis": "y4"
        },
        {
         "hovertemplate": "<b>%{x}:</b> \t %{y}",
         "marker": {
          "color": "dodgerblue"
         },
         "name": "extratrees",
         "showlegend": false,
         "type": "bar",
         "x": [
          "AUC"
         ],
         "xaxis": "x4",
         "y": [
          0.744
         ],
         "yaxis": "y4"
        },
        {
         "hovertemplate": "<b>%{x}:</b> \t %{y}",
         "marker": {
          "color": "deepskyblue"
         },
         "name": "gaussianprocess",
         "showlegend": false,
         "type": "bar",
         "x": [
          "AUC"
         ],
         "xaxis": "x4",
         "y": [
          0.5
         ],
         "yaxis": "y4"
        },
        {
         "hovertemplate": "<b>%{x}:</b> \t %{y}",
         "marker": {
          "color": "navy"
         },
         "name": "gradientboosting",
         "showlegend": false,
         "type": "bar",
         "x": [
          "AUC"
         ],
         "xaxis": "x4",
         "y": [
          0.6265
         ],
         "yaxis": "y4"
        },
        {
         "hovertemplate": "<b>%{x}:</b> \t %{y}",
         "marker": {
          "color": "blue"
         },
         "name": "svc",
         "showlegend": false,
         "type": "bar",
         "x": [
          "AUC"
         ],
         "xaxis": "x4",
         "y": [
          0.6672
         ],
         "yaxis": "y4"
        }
       ],
       "layout": {
        "annotations": [
         {
          "font": {
           "size": 16
          },
          "showarrow": false,
          "text": "Standard Estimator",
          "x": 0.115625,
          "xanchor": "center",
          "xref": "paper",
          "y": 1,
          "yanchor": "bottom",
          "yref": "paper"
         },
         {
          "font": {
           "size": 16
          },
          "showarrow": false,
          "text": "Variance T (0.1)",
          "x": 0.37187500000000007,
          "xanchor": "center",
          "xref": "paper",
          "y": 1,
          "yanchor": "bottom",
          "yref": "paper"
         },
         {
          "font": {
           "size": 16
          },
          "showarrow": false,
          "text": "Variance T (0.2)",
          "x": 0.628125,
          "xanchor": "center",
          "xref": "paper",
          "y": 1,
          "yanchor": "bottom",
          "yref": "paper"
         },
         {
          "font": {
           "size": 16
          },
          "showarrow": false,
          "text": "Best Estimator",
          "x": 0.884375,
          "xanchor": "center",
          "xref": "paper",
          "y": 1,
          "yanchor": "bottom",
          "yref": "paper"
         }
        ],
        "height": 500,
        "showlegend": true,
        "template": {
         "data": {
          "bar": [
           {
            "error_x": {
             "color": "#2a3f5f"
            },
            "error_y": {
             "color": "#2a3f5f"
            },
            "marker": {
             "line": {
              "color": "white",
              "width": 0.5
             },
             "pattern": {
              "fillmode": "overlay",
              "size": 10,
              "solidity": 0.2
             }
            },
            "type": "bar"
           }
          ],
          "barpolar": [
           {
            "marker": {
             "line": {
              "color": "white",
              "width": 0.5
             },
             "pattern": {
              "fillmode": "overlay",
              "size": 10,
              "solidity": 0.2
             }
            },
            "type": "barpolar"
           }
          ],
          "carpet": [
           {
            "aaxis": {
             "endlinecolor": "#2a3f5f",
             "gridcolor": "#C8D4E3",
             "linecolor": "#C8D4E3",
             "minorgridcolor": "#C8D4E3",
             "startlinecolor": "#2a3f5f"
            },
            "baxis": {
             "endlinecolor": "#2a3f5f",
             "gridcolor": "#C8D4E3",
             "linecolor": "#C8D4E3",
             "minorgridcolor": "#C8D4E3",
             "startlinecolor": "#2a3f5f"
            },
            "type": "carpet"
           }
          ],
          "choropleth": [
           {
            "colorbar": {
             "outlinewidth": 0,
             "ticks": ""
            },
            "type": "choropleth"
           }
          ],
          "contour": [
           {
            "colorbar": {
             "outlinewidth": 0,
             "ticks": ""
            },
            "colorscale": [
             [
              0,
              "#0d0887"
             ],
             [
              0.1111111111111111,
              "#46039f"
             ],
             [
              0.2222222222222222,
              "#7201a8"
             ],
             [
              0.3333333333333333,
              "#9c179e"
             ],
             [
              0.4444444444444444,
              "#bd3786"
             ],
             [
              0.5555555555555556,
              "#d8576b"
             ],
             [
              0.6666666666666666,
              "#ed7953"
             ],
             [
              0.7777777777777778,
              "#fb9f3a"
             ],
             [
              0.8888888888888888,
              "#fdca26"
             ],
             [
              1,
              "#f0f921"
             ]
            ],
            "type": "contour"
           }
          ],
          "contourcarpet": [
           {
            "colorbar": {
             "outlinewidth": 0,
             "ticks": ""
            },
            "type": "contourcarpet"
           }
          ],
          "heatmap": [
           {
            "colorbar": {
             "outlinewidth": 0,
             "ticks": ""
            },
            "colorscale": [
             [
              0,
              "#0d0887"
             ],
             [
              0.1111111111111111,
              "#46039f"
             ],
             [
              0.2222222222222222,
              "#7201a8"
             ],
             [
              0.3333333333333333,
              "#9c179e"
             ],
             [
              0.4444444444444444,
              "#bd3786"
             ],
             [
              0.5555555555555556,
              "#d8576b"
             ],
             [
              0.6666666666666666,
              "#ed7953"
             ],
             [
              0.7777777777777778,
              "#fb9f3a"
             ],
             [
              0.8888888888888888,
              "#fdca26"
             ],
             [
              1,
              "#f0f921"
             ]
            ],
            "type": "heatmap"
           }
          ],
          "heatmapgl": [
           {
            "colorbar": {
             "outlinewidth": 0,
             "ticks": ""
            },
            "colorscale": [
             [
              0,
              "#0d0887"
             ],
             [
              0.1111111111111111,
              "#46039f"
             ],
             [
              0.2222222222222222,
              "#7201a8"
             ],
             [
              0.3333333333333333,
              "#9c179e"
             ],
             [
              0.4444444444444444,
              "#bd3786"
             ],
             [
              0.5555555555555556,
              "#d8576b"
             ],
             [
              0.6666666666666666,
              "#ed7953"
             ],
             [
              0.7777777777777778,
              "#fb9f3a"
             ],
             [
              0.8888888888888888,
              "#fdca26"
             ],
             [
              1,
              "#f0f921"
             ]
            ],
            "type": "heatmapgl"
           }
          ],
          "histogram": [
           {
            "marker": {
             "pattern": {
              "fillmode": "overlay",
              "size": 10,
              "solidity": 0.2
             }
            },
            "type": "histogram"
           }
          ],
          "histogram2d": [
           {
            "colorbar": {
             "outlinewidth": 0,
             "ticks": ""
            },
            "colorscale": [
             [
              0,
              "#0d0887"
             ],
             [
              0.1111111111111111,
              "#46039f"
             ],
             [
              0.2222222222222222,
              "#7201a8"
             ],
             [
              0.3333333333333333,
              "#9c179e"
             ],
             [
              0.4444444444444444,
              "#bd3786"
             ],
             [
              0.5555555555555556,
              "#d8576b"
             ],
             [
              0.6666666666666666,
              "#ed7953"
             ],
             [
              0.7777777777777778,
              "#fb9f3a"
             ],
             [
              0.8888888888888888,
              "#fdca26"
             ],
             [
              1,
              "#f0f921"
             ]
            ],
            "type": "histogram2d"
           }
          ],
          "histogram2dcontour": [
           {
            "colorbar": {
             "outlinewidth": 0,
             "ticks": ""
            },
            "colorscale": [
             [
              0,
              "#0d0887"
             ],
             [
              0.1111111111111111,
              "#46039f"
             ],
             [
              0.2222222222222222,
              "#7201a8"
             ],
             [
              0.3333333333333333,
              "#9c179e"
             ],
             [
              0.4444444444444444,
              "#bd3786"
             ],
             [
              0.5555555555555556,
              "#d8576b"
             ],
             [
              0.6666666666666666,
              "#ed7953"
             ],
             [
              0.7777777777777778,
              "#fb9f3a"
             ],
             [
              0.8888888888888888,
              "#fdca26"
             ],
             [
              1,
              "#f0f921"
             ]
            ],
            "type": "histogram2dcontour"
           }
          ],
          "mesh3d": [
           {
            "colorbar": {
             "outlinewidth": 0,
             "ticks": ""
            },
            "type": "mesh3d"
           }
          ],
          "parcoords": [
           {
            "line": {
             "colorbar": {
              "outlinewidth": 0,
              "ticks": ""
             }
            },
            "type": "parcoords"
           }
          ],
          "pie": [
           {
            "automargin": true,
            "type": "pie"
           }
          ],
          "scatter": [
           {
            "fillpattern": {
             "fillmode": "overlay",
             "size": 10,
             "solidity": 0.2
            },
            "type": "scatter"
           }
          ],
          "scatter3d": [
           {
            "line": {
             "colorbar": {
              "outlinewidth": 0,
              "ticks": ""
             }
            },
            "marker": {
             "colorbar": {
              "outlinewidth": 0,
              "ticks": ""
             }
            },
            "type": "scatter3d"
           }
          ],
          "scattercarpet": [
           {
            "marker": {
             "colorbar": {
              "outlinewidth": 0,
              "ticks": ""
             }
            },
            "type": "scattercarpet"
           }
          ],
          "scattergeo": [
           {
            "marker": {
             "colorbar": {
              "outlinewidth": 0,
              "ticks": ""
             }
            },
            "type": "scattergeo"
           }
          ],
          "scattergl": [
           {
            "marker": {
             "colorbar": {
              "outlinewidth": 0,
              "ticks": ""
             }
            },
            "type": "scattergl"
           }
          ],
          "scattermapbox": [
           {
            "marker": {
             "colorbar": {
              "outlinewidth": 0,
              "ticks": ""
             }
            },
            "type": "scattermapbox"
           }
          ],
          "scatterpolar": [
           {
            "marker": {
             "colorbar": {
              "outlinewidth": 0,
              "ticks": ""
             }
            },
            "type": "scatterpolar"
           }
          ],
          "scatterpolargl": [
           {
            "marker": {
             "colorbar": {
              "outlinewidth": 0,
              "ticks": ""
             }
            },
            "type": "scatterpolargl"
           }
          ],
          "scatterternary": [
           {
            "marker": {
             "colorbar": {
              "outlinewidth": 0,
              "ticks": ""
             }
            },
            "type": "scatterternary"
           }
          ],
          "surface": [
           {
            "colorbar": {
             "outlinewidth": 0,
             "ticks": ""
            },
            "colorscale": [
             [
              0,
              "#0d0887"
             ],
             [
              0.1111111111111111,
              "#46039f"
             ],
             [
              0.2222222222222222,
              "#7201a8"
             ],
             [
              0.3333333333333333,
              "#9c179e"
             ],
             [
              0.4444444444444444,
              "#bd3786"
             ],
             [
              0.5555555555555556,
              "#d8576b"
             ],
             [
              0.6666666666666666,
              "#ed7953"
             ],
             [
              0.7777777777777778,
              "#fb9f3a"
             ],
             [
              0.8888888888888888,
              "#fdca26"
             ],
             [
              1,
              "#f0f921"
             ]
            ],
            "type": "surface"
           }
          ],
          "table": [
           {
            "cells": {
             "fill": {
              "color": "#EBF0F8"
             },
             "line": {
              "color": "white"
             }
            },
            "header": {
             "fill": {
              "color": "#C8D4E3"
             },
             "line": {
              "color": "white"
             }
            },
            "type": "table"
           }
          ]
         },
         "layout": {
          "annotationdefaults": {
           "arrowcolor": "#2a3f5f",
           "arrowhead": 0,
           "arrowwidth": 1
          },
          "autotypenumbers": "strict",
          "coloraxis": {
           "colorbar": {
            "outlinewidth": 0,
            "ticks": ""
           }
          },
          "colorscale": {
           "diverging": [
            [
             0,
             "#8e0152"
            ],
            [
             0.1,
             "#c51b7d"
            ],
            [
             0.2,
             "#de77ae"
            ],
            [
             0.3,
             "#f1b6da"
            ],
            [
             0.4,
             "#fde0ef"
            ],
            [
             0.5,
             "#f7f7f7"
            ],
            [
             0.6,
             "#e6f5d0"
            ],
            [
             0.7,
             "#b8e186"
            ],
            [
             0.8,
             "#7fbc41"
            ],
            [
             0.9,
             "#4d9221"
            ],
            [
             1,
             "#276419"
            ]
           ],
           "sequential": [
            [
             0,
             "#0d0887"
            ],
            [
             0.1111111111111111,
             "#46039f"
            ],
            [
             0.2222222222222222,
             "#7201a8"
            ],
            [
             0.3333333333333333,
             "#9c179e"
            ],
            [
             0.4444444444444444,
             "#bd3786"
            ],
            [
             0.5555555555555556,
             "#d8576b"
            ],
            [
             0.6666666666666666,
             "#ed7953"
            ],
            [
             0.7777777777777778,
             "#fb9f3a"
            ],
            [
             0.8888888888888888,
             "#fdca26"
            ],
            [
             1,
             "#f0f921"
            ]
           ],
           "sequentialminus": [
            [
             0,
             "#0d0887"
            ],
            [
             0.1111111111111111,
             "#46039f"
            ],
            [
             0.2222222222222222,
             "#7201a8"
            ],
            [
             0.3333333333333333,
             "#9c179e"
            ],
            [
             0.4444444444444444,
             "#bd3786"
            ],
            [
             0.5555555555555556,
             "#d8576b"
            ],
            [
             0.6666666666666666,
             "#ed7953"
            ],
            [
             0.7777777777777778,
             "#fb9f3a"
            ],
            [
             0.8888888888888888,
             "#fdca26"
            ],
            [
             1,
             "#f0f921"
            ]
           ]
          },
          "colorway": [
           "#636efa",
           "#EF553B",
           "#00cc96",
           "#ab63fa",
           "#FFA15A",
           "#19d3f3",
           "#FF6692",
           "#B6E880",
           "#FF97FF",
           "#FECB52"
          ],
          "font": {
           "color": "#2a3f5f"
          },
          "geo": {
           "bgcolor": "white",
           "lakecolor": "white",
           "landcolor": "white",
           "showlakes": true,
           "showland": true,
           "subunitcolor": "#C8D4E3"
          },
          "hoverlabel": {
           "align": "left"
          },
          "hovermode": "closest",
          "mapbox": {
           "style": "light"
          },
          "paper_bgcolor": "white",
          "plot_bgcolor": "white",
          "polar": {
           "angularaxis": {
            "gridcolor": "#EBF0F8",
            "linecolor": "#EBF0F8",
            "ticks": ""
           },
           "bgcolor": "white",
           "radialaxis": {
            "gridcolor": "#EBF0F8",
            "linecolor": "#EBF0F8",
            "ticks": ""
           }
          },
          "scene": {
           "xaxis": {
            "backgroundcolor": "white",
            "gridcolor": "#DFE8F3",
            "gridwidth": 2,
            "linecolor": "#EBF0F8",
            "showbackground": true,
            "ticks": "",
            "zerolinecolor": "#EBF0F8"
           },
           "yaxis": {
            "backgroundcolor": "white",
            "gridcolor": "#DFE8F3",
            "gridwidth": 2,
            "linecolor": "#EBF0F8",
            "showbackground": true,
            "ticks": "",
            "zerolinecolor": "#EBF0F8"
           },
           "zaxis": {
            "backgroundcolor": "white",
            "gridcolor": "#DFE8F3",
            "gridwidth": 2,
            "linecolor": "#EBF0F8",
            "showbackground": true,
            "ticks": "",
            "zerolinecolor": "#EBF0F8"
           }
          },
          "shapedefaults": {
           "line": {
            "color": "#2a3f5f"
           }
          },
          "ternary": {
           "aaxis": {
            "gridcolor": "#DFE8F3",
            "linecolor": "#A2B1C6",
            "ticks": ""
           },
           "baxis": {
            "gridcolor": "#DFE8F3",
            "linecolor": "#A2B1C6",
            "ticks": ""
           },
           "bgcolor": "white",
           "caxis": {
            "gridcolor": "#DFE8F3",
            "linecolor": "#A2B1C6",
            "ticks": ""
           }
          },
          "title": {
           "x": 0.05
          },
          "xaxis": {
           "automargin": true,
           "gridcolor": "#EBF0F8",
           "linecolor": "#EBF0F8",
           "ticks": "",
           "title": {
            "standoff": 15
           },
           "zerolinecolor": "#EBF0F8",
           "zerolinewidth": 2
          },
          "yaxis": {
           "automargin": true,
           "gridcolor": "#EBF0F8",
           "linecolor": "#EBF0F8",
           "ticks": "",
           "title": {
            "standoff": 15
           },
           "zerolinecolor": "#EBF0F8",
           "zerolinewidth": 2
          }
         }
        },
        "title": {
         "font": {
          "size": 20
         },
         "text": "AUC Perfromance"
        },
        "width": 1650,
        "xaxis": {
         "anchor": "y",
         "domain": [
          0,
          0.23125
         ],
         "showticklabels": false
        },
        "xaxis2": {
         "anchor": "y2",
         "domain": [
          0.25625000000000003,
          0.48750000000000004
         ],
         "showticklabels": false
        },
        "xaxis3": {
         "anchor": "y3",
         "domain": [
          0.5125000000000001,
          0.7437500000000001
         ],
         "showticklabels": false
        },
        "xaxis4": {
         "anchor": "y4",
         "domain": [
          0.76875,
          1
         ],
         "showticklabels": false
        },
        "yaxis": {
         "anchor": "x",
         "domain": [
          0,
          1
         ],
         "range": [
          0,
          1.1
         ]
        },
        "yaxis2": {
         "anchor": "x2",
         "domain": [
          0,
          1
         ],
         "matches": "y",
         "showticklabels": false
        },
        "yaxis3": {
         "anchor": "x3",
         "domain": [
          0,
          1
         ],
         "matches": "y",
         "showticklabels": false
        },
        "yaxis4": {
         "anchor": "x4",
         "domain": [
          0,
          1
         ],
         "matches": "y",
         "showticklabels": false
        }
       }
      }
     },
     "metadata": {},
     "output_type": "display_data"
    }
   ],
   "source": [
    "funs.comparison_plotter('AUC', validation, names, color)"
   ]
  },
  {
   "attachments": {},
   "cell_type": "markdown",
   "metadata": {},
   "source": [
    "## 4. Test Set Performance"
   ]
  },
  {
   "cell_type": "code",
   "execution_count": 124,
   "metadata": {},
   "outputs": [],
   "source": [
    "train, test = funs.models_performance_train_test(best_estimators, Transformer, X_train, y_train, X_test, y_test, classes, best=True)"
   ]
  },
  {
   "cell_type": "code",
   "execution_count": 125,
   "metadata": {},
   "outputs": [
    {
     "data": {
      "application/vnd.plotly.v1+json": {
       "config": {
        "plotlyServerURL": "https://plot.ly"
       },
       "data": [
        {
         "hovertemplate": "<b>%{x}:</b> \t %{y}",
         "marker": {
          "color": "maroon"
         },
         "name": "logisticregression",
         "type": "bar",
         "x": [
          "Accuracy",
          "Recall weighted",
          "Precision weighted",
          "AUC"
         ],
         "xaxis": "x",
         "y": [
          0.9821,
          0.9821,
          0.9835,
          0.9996
         ],
         "yaxis": "y"
        },
        {
         "hovertemplate": "<b>%{x}:</b> \t %{y}",
         "marker": {
          "color": "maroon"
         },
         "name": "logisticregression",
         "showlegend": false,
         "type": "bar",
         "x": [
          "Accuracy",
          "Recall weighted",
          "Precision weighted",
          "AUC"
         ],
         "xaxis": "x2",
         "y": [
          0.3103,
          0.3103,
          0.3163,
          0.7217
         ],
         "yaxis": "y2"
        },
        {
         "hovertemplate": "<b>%{x}:</b> \t %{y}",
         "marker": {
          "color": "red"
         },
         "name": "logisticregression_l1",
         "type": "bar",
         "x": [
          "Accuracy",
          "Recall weighted",
          "Precision weighted",
          "AUC"
         ],
         "xaxis": "x",
         "y": [
          0.9732,
          0.9732,
          0.974,
          0.999
         ],
         "yaxis": "y"
        },
        {
         "hovertemplate": "<b>%{x}:</b> \t %{y}",
         "marker": {
          "color": "red"
         },
         "name": "logisticregression_l1",
         "showlegend": false,
         "type": "bar",
         "x": [
          "Accuracy",
          "Recall weighted",
          "Precision weighted",
          "AUC"
         ],
         "xaxis": "x2",
         "y": [
          0.2759,
          0.2759,
          0.4224,
          0.7344
         ],
         "yaxis": "y2"
        },
        {
         "hovertemplate": "<b>%{x}:</b> \t %{y}",
         "marker": {
          "color": "tomato"
         },
         "name": "logisticregression_l2",
         "type": "bar",
         "x": [
          "Accuracy",
          "Recall weighted",
          "Precision weighted",
          "AUC"
         ],
         "xaxis": "x",
         "y": [
          0.9286,
          0.9286,
          0.9311,
          0.9948
         ],
         "yaxis": "y"
        },
        {
         "hovertemplate": "<b>%{x}:</b> \t %{y}",
         "marker": {
          "color": "tomato"
         },
         "name": "logisticregression_l2",
         "showlegend": false,
         "type": "bar",
         "x": [
          "Accuracy",
          "Recall weighted",
          "Precision weighted",
          "AUC"
         ],
         "xaxis": "x2",
         "y": [
          0.3448,
          0.3448,
          0.4054,
          0.7207
         ],
         "yaxis": "y2"
        },
        {
         "hovertemplate": "<b>%{x}:</b> \t %{y}",
         "marker": {
          "color": "darksalmon"
         },
         "name": "logisticregression_elasticnet",
         "type": "bar",
         "x": [
          "Accuracy",
          "Recall weighted",
          "Precision weighted",
          "AUC"
         ],
         "xaxis": "x",
         "y": [
          0.9375,
          0.9375,
          0.9389,
          0.997
         ],
         "yaxis": "y"
        },
        {
         "hovertemplate": "<b>%{x}:</b> \t %{y}",
         "marker": {
          "color": "darksalmon"
         },
         "name": "logisticregression_elasticnet",
         "showlegend": false,
         "type": "bar",
         "x": [
          "Accuracy",
          "Recall weighted",
          "Precision weighted",
          "AUC"
         ],
         "xaxis": "x2",
         "y": [
          0.3448,
          0.3448,
          0.4054,
          0.7378
         ],
         "yaxis": "y2"
        },
        {
         "hovertemplate": "<b>%{x}:</b> \t %{y}",
         "marker": {
          "color": "firebrick"
         },
         "name": "sgd_l1",
         "type": "bar",
         "x": [
          "Accuracy",
          "Recall weighted",
          "Precision weighted",
          "AUC"
         ],
         "xaxis": "x",
         "y": [
          0.4911,
          0.4911,
          0.5078,
          0.853
         ],
         "yaxis": "y"
        },
        {
         "hovertemplate": "<b>%{x}:</b> \t %{y}",
         "marker": {
          "color": "firebrick"
         },
         "name": "sgd_l1",
         "showlegend": false,
         "type": "bar",
         "x": [
          "Accuracy",
          "Recall weighted",
          "Precision weighted",
          "AUC"
         ],
         "xaxis": "x2",
         "y": [
          0.2069,
          0.2069,
          0.115,
          0.6287
         ],
         "yaxis": "y2"
        },
        {
         "hovertemplate": "<b>%{x}:</b> \t %{y}",
         "marker": {
          "color": "darkseagreen"
         },
         "name": "mlp",
         "type": "bar",
         "x": [
          "Accuracy",
          "Recall weighted",
          "Precision weighted",
          "AUC"
         ],
         "xaxis": "x",
         "y": [
          1,
          1,
          1,
          1
         ],
         "yaxis": "y"
        },
        {
         "hovertemplate": "<b>%{x}:</b> \t %{y}",
         "marker": {
          "color": "darkseagreen"
         },
         "name": "mlp",
         "showlegend": false,
         "type": "bar",
         "x": [
          "Accuracy",
          "Recall weighted",
          "Precision weighted",
          "AUC"
         ],
         "xaxis": "x2",
         "y": [
          0.1379,
          0.1379,
          0.1336,
          0.6278
         ],
         "yaxis": "y2"
        },
        {
         "hovertemplate": "<b>%{x}:</b> \t %{y}",
         "marker": {
          "color": "seagreen"
         },
         "name": "decisiontree",
         "type": "bar",
         "x": [
          "Accuracy",
          "Recall weighted",
          "Precision weighted",
          "AUC"
         ],
         "xaxis": "x",
         "y": [
          0.7054,
          0.7054,
          0.7689,
          0.9655
         ],
         "yaxis": "y"
        },
        {
         "hovertemplate": "<b>%{x}:</b> \t %{y}",
         "marker": {
          "color": "seagreen"
         },
         "name": "decisiontree",
         "showlegend": false,
         "type": "bar",
         "x": [
          "Accuracy",
          "Recall weighted",
          "Precision weighted",
          "AUC"
         ],
         "xaxis": "x2",
         "y": [
          0.2069,
          0.2069,
          0.181,
          0.4861
         ],
         "yaxis": "y2"
        },
        {
         "hovertemplate": "<b>%{x}:</b> \t %{y}",
         "marker": {
          "color": "lightseagreen"
         },
         "name": "randomforest",
         "type": "bar",
         "x": [
          "Accuracy",
          "Recall weighted",
          "Precision weighted",
          "AUC"
         ],
         "xaxis": "x",
         "y": [
          1,
          1,
          1,
          1
         ],
         "yaxis": "y"
        },
        {
         "hovertemplate": "<b>%{x}:</b> \t %{y}",
         "marker": {
          "color": "lightseagreen"
         },
         "name": "randomforest",
         "showlegend": false,
         "type": "bar",
         "x": [
          "Accuracy",
          "Recall weighted",
          "Precision weighted",
          "AUC"
         ],
         "xaxis": "x2",
         "y": [
          0.3103,
          0.3103,
          0.25,
          0.7159
         ],
         "yaxis": "y2"
        },
        {
         "hovertemplate": "<b>%{x}:</b> \t %{y}",
         "marker": {
          "color": "olive"
         },
         "name": "extratree",
         "type": "bar",
         "x": [
          "Accuracy",
          "Recall weighted",
          "Precision weighted",
          "AUC"
         ],
         "xaxis": "x",
         "y": [
          0.5446,
          0.5446,
          0.5772,
          0.9092
         ],
         "yaxis": "y"
        },
        {
         "hovertemplate": "<b>%{x}:</b> \t %{y}",
         "marker": {
          "color": "olive"
         },
         "name": "extratree",
         "showlegend": false,
         "type": "bar",
         "x": [
          "Accuracy",
          "Recall weighted",
          "Precision weighted",
          "AUC"
         ],
         "xaxis": "x2",
         "y": [
          0.1724,
          0.1724,
          0.2322,
          0.5661
         ],
         "yaxis": "y2"
        },
        {
         "hovertemplate": "<b>%{x}:</b> \t %{y}",
         "marker": {
          "color": "green"
         },
         "name": "adaboost",
         "type": "bar",
         "x": [
          "Accuracy",
          "Recall weighted",
          "Precision weighted",
          "AUC"
         ],
         "xaxis": "x",
         "y": [
          1,
          1,
          1,
          1
         ],
         "yaxis": "y"
        },
        {
         "hovertemplate": "<b>%{x}:</b> \t %{y}",
         "marker": {
          "color": "green"
         },
         "name": "adaboost",
         "showlegend": false,
         "type": "bar",
         "x": [
          "Accuracy",
          "Recall weighted",
          "Precision weighted",
          "AUC"
         ],
         "xaxis": "x2",
         "y": [
          0.1724,
          0.1724,
          0.1379,
          0.5381
         ],
         "yaxis": "y2"
        },
        {
         "hovertemplate": "<b>%{x}:</b> \t %{y}",
         "marker": {
          "color": "dodgerblue"
         },
         "name": "extratrees",
         "type": "bar",
         "x": [
          "Accuracy",
          "Recall weighted",
          "Precision weighted",
          "AUC"
         ],
         "xaxis": "x",
         "y": [
          0.9821,
          0.9821,
          0.9834,
          0.9994
         ],
         "yaxis": "y"
        },
        {
         "hovertemplate": "<b>%{x}:</b> \t %{y}",
         "marker": {
          "color": "dodgerblue"
         },
         "name": "extratrees",
         "showlegend": false,
         "type": "bar",
         "x": [
          "Accuracy",
          "Recall weighted",
          "Precision weighted",
          "AUC"
         ],
         "xaxis": "x2",
         "y": [
          0.1724,
          0.1724,
          0.1877,
          0.5389
         ],
         "yaxis": "y2"
        },
        {
         "hovertemplate": "<b>%{x}:</b> \t %{y}",
         "marker": {
          "color": "deepskyblue"
         },
         "name": "gaussianprocess",
         "type": "bar",
         "x": [
          "Accuracy",
          "Recall weighted",
          "Precision weighted",
          "AUC"
         ],
         "xaxis": "x",
         "y": [
          1,
          1,
          1,
          1
         ],
         "yaxis": "y"
        },
        {
         "hovertemplate": "<b>%{x}:</b> \t %{y}",
         "marker": {
          "color": "deepskyblue"
         },
         "name": "gaussianprocess",
         "showlegend": false,
         "type": "bar",
         "x": [
          "Accuracy",
          "Recall weighted",
          "Precision weighted",
          "AUC"
         ],
         "xaxis": "x2",
         "y": [
          0.069,
          0.069,
          0.0048,
          0.5
         ],
         "yaxis": "y2"
        },
        {
         "hovertemplate": "<b>%{x}:</b> \t %{y}",
         "marker": {
          "color": "navy"
         },
         "name": "gradientboosting",
         "type": "bar",
         "x": [
          "Accuracy",
          "Recall weighted",
          "Precision weighted",
          "AUC"
         ],
         "xaxis": "x",
         "y": [
          0.3482,
          0.3482,
          0.2227,
          0.664
         ],
         "yaxis": "y"
        },
        {
         "hovertemplate": "<b>%{x}:</b> \t %{y}",
         "marker": {
          "color": "navy"
         },
         "name": "gradientboosting",
         "showlegend": false,
         "type": "bar",
         "x": [
          "Accuracy",
          "Recall weighted",
          "Precision weighted",
          "AUC"
         ],
         "xaxis": "x2",
         "y": [
          0.2759,
          0.2759,
          0.1713,
          0.6055
         ],
         "yaxis": "y2"
        },
        {
         "hovertemplate": "<b>%{x}:</b> \t %{y}",
         "marker": {
          "color": "blue"
         },
         "name": "svc",
         "type": "bar",
         "x": [
          "Accuracy",
          "Recall weighted",
          "Precision weighted",
          "AUC"
         ],
         "xaxis": "x",
         "y": [
          0.4375,
          0.4375,
          0.3725,
          0.6742
         ],
         "yaxis": "y"
        },
        {
         "hovertemplate": "<b>%{x}:</b> \t %{y}",
         "marker": {
          "color": "blue"
         },
         "name": "svc",
         "showlegend": false,
         "type": "bar",
         "x": [
          "Accuracy",
          "Recall weighted",
          "Precision weighted",
          "AUC"
         ],
         "xaxis": "x2",
         "y": [
          0.2069,
          0.2069,
          0.2983,
          0.5254
         ],
         "yaxis": "y2"
        }
       ],
       "layout": {
        "annotations": [
         {
          "font": {
           "size": 16
          },
          "showarrow": false,
          "text": "Train Set",
          "x": 0.24375,
          "xanchor": "center",
          "xref": "paper",
          "y": 1,
          "yanchor": "bottom",
          "yref": "paper"
         },
         {
          "font": {
           "size": 16
          },
          "showarrow": false,
          "text": "Test Set",
          "x": 0.75625,
          "xanchor": "center",
          "xref": "paper",
          "y": 1,
          "yanchor": "bottom",
          "yref": "paper"
         }
        ],
        "height": 600,
        "showlegend": true,
        "template": {
         "data": {
          "bar": [
           {
            "error_x": {
             "color": "#2a3f5f"
            },
            "error_y": {
             "color": "#2a3f5f"
            },
            "marker": {
             "line": {
              "color": "white",
              "width": 0.5
             },
             "pattern": {
              "fillmode": "overlay",
              "size": 10,
              "solidity": 0.2
             }
            },
            "type": "bar"
           }
          ],
          "barpolar": [
           {
            "marker": {
             "line": {
              "color": "white",
              "width": 0.5
             },
             "pattern": {
              "fillmode": "overlay",
              "size": 10,
              "solidity": 0.2
             }
            },
            "type": "barpolar"
           }
          ],
          "carpet": [
           {
            "aaxis": {
             "endlinecolor": "#2a3f5f",
             "gridcolor": "#C8D4E3",
             "linecolor": "#C8D4E3",
             "minorgridcolor": "#C8D4E3",
             "startlinecolor": "#2a3f5f"
            },
            "baxis": {
             "endlinecolor": "#2a3f5f",
             "gridcolor": "#C8D4E3",
             "linecolor": "#C8D4E3",
             "minorgridcolor": "#C8D4E3",
             "startlinecolor": "#2a3f5f"
            },
            "type": "carpet"
           }
          ],
          "choropleth": [
           {
            "colorbar": {
             "outlinewidth": 0,
             "ticks": ""
            },
            "type": "choropleth"
           }
          ],
          "contour": [
           {
            "colorbar": {
             "outlinewidth": 0,
             "ticks": ""
            },
            "colorscale": [
             [
              0,
              "#0d0887"
             ],
             [
              0.1111111111111111,
              "#46039f"
             ],
             [
              0.2222222222222222,
              "#7201a8"
             ],
             [
              0.3333333333333333,
              "#9c179e"
             ],
             [
              0.4444444444444444,
              "#bd3786"
             ],
             [
              0.5555555555555556,
              "#d8576b"
             ],
             [
              0.6666666666666666,
              "#ed7953"
             ],
             [
              0.7777777777777778,
              "#fb9f3a"
             ],
             [
              0.8888888888888888,
              "#fdca26"
             ],
             [
              1,
              "#f0f921"
             ]
            ],
            "type": "contour"
           }
          ],
          "contourcarpet": [
           {
            "colorbar": {
             "outlinewidth": 0,
             "ticks": ""
            },
            "type": "contourcarpet"
           }
          ],
          "heatmap": [
           {
            "colorbar": {
             "outlinewidth": 0,
             "ticks": ""
            },
            "colorscale": [
             [
              0,
              "#0d0887"
             ],
             [
              0.1111111111111111,
              "#46039f"
             ],
             [
              0.2222222222222222,
              "#7201a8"
             ],
             [
              0.3333333333333333,
              "#9c179e"
             ],
             [
              0.4444444444444444,
              "#bd3786"
             ],
             [
              0.5555555555555556,
              "#d8576b"
             ],
             [
              0.6666666666666666,
              "#ed7953"
             ],
             [
              0.7777777777777778,
              "#fb9f3a"
             ],
             [
              0.8888888888888888,
              "#fdca26"
             ],
             [
              1,
              "#f0f921"
             ]
            ],
            "type": "heatmap"
           }
          ],
          "heatmapgl": [
           {
            "colorbar": {
             "outlinewidth": 0,
             "ticks": ""
            },
            "colorscale": [
             [
              0,
              "#0d0887"
             ],
             [
              0.1111111111111111,
              "#46039f"
             ],
             [
              0.2222222222222222,
              "#7201a8"
             ],
             [
              0.3333333333333333,
              "#9c179e"
             ],
             [
              0.4444444444444444,
              "#bd3786"
             ],
             [
              0.5555555555555556,
              "#d8576b"
             ],
             [
              0.6666666666666666,
              "#ed7953"
             ],
             [
              0.7777777777777778,
              "#fb9f3a"
             ],
             [
              0.8888888888888888,
              "#fdca26"
             ],
             [
              1,
              "#f0f921"
             ]
            ],
            "type": "heatmapgl"
           }
          ],
          "histogram": [
           {
            "marker": {
             "pattern": {
              "fillmode": "overlay",
              "size": 10,
              "solidity": 0.2
             }
            },
            "type": "histogram"
           }
          ],
          "histogram2d": [
           {
            "colorbar": {
             "outlinewidth": 0,
             "ticks": ""
            },
            "colorscale": [
             [
              0,
              "#0d0887"
             ],
             [
              0.1111111111111111,
              "#46039f"
             ],
             [
              0.2222222222222222,
              "#7201a8"
             ],
             [
              0.3333333333333333,
              "#9c179e"
             ],
             [
              0.4444444444444444,
              "#bd3786"
             ],
             [
              0.5555555555555556,
              "#d8576b"
             ],
             [
              0.6666666666666666,
              "#ed7953"
             ],
             [
              0.7777777777777778,
              "#fb9f3a"
             ],
             [
              0.8888888888888888,
              "#fdca26"
             ],
             [
              1,
              "#f0f921"
             ]
            ],
            "type": "histogram2d"
           }
          ],
          "histogram2dcontour": [
           {
            "colorbar": {
             "outlinewidth": 0,
             "ticks": ""
            },
            "colorscale": [
             [
              0,
              "#0d0887"
             ],
             [
              0.1111111111111111,
              "#46039f"
             ],
             [
              0.2222222222222222,
              "#7201a8"
             ],
             [
              0.3333333333333333,
              "#9c179e"
             ],
             [
              0.4444444444444444,
              "#bd3786"
             ],
             [
              0.5555555555555556,
              "#d8576b"
             ],
             [
              0.6666666666666666,
              "#ed7953"
             ],
             [
              0.7777777777777778,
              "#fb9f3a"
             ],
             [
              0.8888888888888888,
              "#fdca26"
             ],
             [
              1,
              "#f0f921"
             ]
            ],
            "type": "histogram2dcontour"
           }
          ],
          "mesh3d": [
           {
            "colorbar": {
             "outlinewidth": 0,
             "ticks": ""
            },
            "type": "mesh3d"
           }
          ],
          "parcoords": [
           {
            "line": {
             "colorbar": {
              "outlinewidth": 0,
              "ticks": ""
             }
            },
            "type": "parcoords"
           }
          ],
          "pie": [
           {
            "automargin": true,
            "type": "pie"
           }
          ],
          "scatter": [
           {
            "fillpattern": {
             "fillmode": "overlay",
             "size": 10,
             "solidity": 0.2
            },
            "type": "scatter"
           }
          ],
          "scatter3d": [
           {
            "line": {
             "colorbar": {
              "outlinewidth": 0,
              "ticks": ""
             }
            },
            "marker": {
             "colorbar": {
              "outlinewidth": 0,
              "ticks": ""
             }
            },
            "type": "scatter3d"
           }
          ],
          "scattercarpet": [
           {
            "marker": {
             "colorbar": {
              "outlinewidth": 0,
              "ticks": ""
             }
            },
            "type": "scattercarpet"
           }
          ],
          "scattergeo": [
           {
            "marker": {
             "colorbar": {
              "outlinewidth": 0,
              "ticks": ""
             }
            },
            "type": "scattergeo"
           }
          ],
          "scattergl": [
           {
            "marker": {
             "colorbar": {
              "outlinewidth": 0,
              "ticks": ""
             }
            },
            "type": "scattergl"
           }
          ],
          "scattermapbox": [
           {
            "marker": {
             "colorbar": {
              "outlinewidth": 0,
              "ticks": ""
             }
            },
            "type": "scattermapbox"
           }
          ],
          "scatterpolar": [
           {
            "marker": {
             "colorbar": {
              "outlinewidth": 0,
              "ticks": ""
             }
            },
            "type": "scatterpolar"
           }
          ],
          "scatterpolargl": [
           {
            "marker": {
             "colorbar": {
              "outlinewidth": 0,
              "ticks": ""
             }
            },
            "type": "scatterpolargl"
           }
          ],
          "scatterternary": [
           {
            "marker": {
             "colorbar": {
              "outlinewidth": 0,
              "ticks": ""
             }
            },
            "type": "scatterternary"
           }
          ],
          "surface": [
           {
            "colorbar": {
             "outlinewidth": 0,
             "ticks": ""
            },
            "colorscale": [
             [
              0,
              "#0d0887"
             ],
             [
              0.1111111111111111,
              "#46039f"
             ],
             [
              0.2222222222222222,
              "#7201a8"
             ],
             [
              0.3333333333333333,
              "#9c179e"
             ],
             [
              0.4444444444444444,
              "#bd3786"
             ],
             [
              0.5555555555555556,
              "#d8576b"
             ],
             [
              0.6666666666666666,
              "#ed7953"
             ],
             [
              0.7777777777777778,
              "#fb9f3a"
             ],
             [
              0.8888888888888888,
              "#fdca26"
             ],
             [
              1,
              "#f0f921"
             ]
            ],
            "type": "surface"
           }
          ],
          "table": [
           {
            "cells": {
             "fill": {
              "color": "#EBF0F8"
             },
             "line": {
              "color": "white"
             }
            },
            "header": {
             "fill": {
              "color": "#C8D4E3"
             },
             "line": {
              "color": "white"
             }
            },
            "type": "table"
           }
          ]
         },
         "layout": {
          "annotationdefaults": {
           "arrowcolor": "#2a3f5f",
           "arrowhead": 0,
           "arrowwidth": 1
          },
          "autotypenumbers": "strict",
          "coloraxis": {
           "colorbar": {
            "outlinewidth": 0,
            "ticks": ""
           }
          },
          "colorscale": {
           "diverging": [
            [
             0,
             "#8e0152"
            ],
            [
             0.1,
             "#c51b7d"
            ],
            [
             0.2,
             "#de77ae"
            ],
            [
             0.3,
             "#f1b6da"
            ],
            [
             0.4,
             "#fde0ef"
            ],
            [
             0.5,
             "#f7f7f7"
            ],
            [
             0.6,
             "#e6f5d0"
            ],
            [
             0.7,
             "#b8e186"
            ],
            [
             0.8,
             "#7fbc41"
            ],
            [
             0.9,
             "#4d9221"
            ],
            [
             1,
             "#276419"
            ]
           ],
           "sequential": [
            [
             0,
             "#0d0887"
            ],
            [
             0.1111111111111111,
             "#46039f"
            ],
            [
             0.2222222222222222,
             "#7201a8"
            ],
            [
             0.3333333333333333,
             "#9c179e"
            ],
            [
             0.4444444444444444,
             "#bd3786"
            ],
            [
             0.5555555555555556,
             "#d8576b"
            ],
            [
             0.6666666666666666,
             "#ed7953"
            ],
            [
             0.7777777777777778,
             "#fb9f3a"
            ],
            [
             0.8888888888888888,
             "#fdca26"
            ],
            [
             1,
             "#f0f921"
            ]
           ],
           "sequentialminus": [
            [
             0,
             "#0d0887"
            ],
            [
             0.1111111111111111,
             "#46039f"
            ],
            [
             0.2222222222222222,
             "#7201a8"
            ],
            [
             0.3333333333333333,
             "#9c179e"
            ],
            [
             0.4444444444444444,
             "#bd3786"
            ],
            [
             0.5555555555555556,
             "#d8576b"
            ],
            [
             0.6666666666666666,
             "#ed7953"
            ],
            [
             0.7777777777777778,
             "#fb9f3a"
            ],
            [
             0.8888888888888888,
             "#fdca26"
            ],
            [
             1,
             "#f0f921"
            ]
           ]
          },
          "colorway": [
           "#636efa",
           "#EF553B",
           "#00cc96",
           "#ab63fa",
           "#FFA15A",
           "#19d3f3",
           "#FF6692",
           "#B6E880",
           "#FF97FF",
           "#FECB52"
          ],
          "font": {
           "color": "#2a3f5f"
          },
          "geo": {
           "bgcolor": "white",
           "lakecolor": "white",
           "landcolor": "white",
           "showlakes": true,
           "showland": true,
           "subunitcolor": "#C8D4E3"
          },
          "hoverlabel": {
           "align": "left"
          },
          "hovermode": "closest",
          "mapbox": {
           "style": "light"
          },
          "paper_bgcolor": "white",
          "plot_bgcolor": "white",
          "polar": {
           "angularaxis": {
            "gridcolor": "#EBF0F8",
            "linecolor": "#EBF0F8",
            "ticks": ""
           },
           "bgcolor": "white",
           "radialaxis": {
            "gridcolor": "#EBF0F8",
            "linecolor": "#EBF0F8",
            "ticks": ""
           }
          },
          "scene": {
           "xaxis": {
            "backgroundcolor": "white",
            "gridcolor": "#DFE8F3",
            "gridwidth": 2,
            "linecolor": "#EBF0F8",
            "showbackground": true,
            "ticks": "",
            "zerolinecolor": "#EBF0F8"
           },
           "yaxis": {
            "backgroundcolor": "white",
            "gridcolor": "#DFE8F3",
            "gridwidth": 2,
            "linecolor": "#EBF0F8",
            "showbackground": true,
            "ticks": "",
            "zerolinecolor": "#EBF0F8"
           },
           "zaxis": {
            "backgroundcolor": "white",
            "gridcolor": "#DFE8F3",
            "gridwidth": 2,
            "linecolor": "#EBF0F8",
            "showbackground": true,
            "ticks": "",
            "zerolinecolor": "#EBF0F8"
           }
          },
          "shapedefaults": {
           "line": {
            "color": "#2a3f5f"
           }
          },
          "ternary": {
           "aaxis": {
            "gridcolor": "#DFE8F3",
            "linecolor": "#A2B1C6",
            "ticks": ""
           },
           "baxis": {
            "gridcolor": "#DFE8F3",
            "linecolor": "#A2B1C6",
            "ticks": ""
           },
           "bgcolor": "white",
           "caxis": {
            "gridcolor": "#DFE8F3",
            "linecolor": "#A2B1C6",
            "ticks": ""
           }
          },
          "title": {
           "x": 0.05
          },
          "xaxis": {
           "automargin": true,
           "gridcolor": "#EBF0F8",
           "linecolor": "#EBF0F8",
           "ticks": "",
           "title": {
            "standoff": 15
           },
           "zerolinecolor": "#EBF0F8",
           "zerolinewidth": 2
          },
          "yaxis": {
           "automargin": true,
           "gridcolor": "#EBF0F8",
           "linecolor": "#EBF0F8",
           "ticks": "",
           "title": {
            "standoff": 15
           },
           "zerolinecolor": "#EBF0F8",
           "zerolinewidth": 2
          }
         }
        },
        "width": 1650,
        "xaxis": {
         "anchor": "y",
         "domain": [
          0,
          0.4875
         ]
        },
        "xaxis2": {
         "anchor": "y2",
         "domain": [
          0.5125,
          1
         ]
        },
        "yaxis": {
         "anchor": "x",
         "domain": [
          0,
          1
         ],
         "range": [
          0,
          1.1
         ]
        },
        "yaxis2": {
         "anchor": "x2",
         "domain": [
          0,
          1
         ],
         "matches": "y",
         "showticklabels": false
        }
       }
      }
     },
     "metadata": {},
     "output_type": "display_data"
    }
   ],
   "source": [
    "funs.performance_plotter(train, test, 'Test', color)"
   ]
  },
  {
   "cell_type": "code",
   "execution_count": 126,
   "metadata": {},
   "outputs": [
    {
     "data": {
      "text/html": [
       "<style type=\"text/css\">\n",
       "</style>\n",
       "<table id=\"T_21d82\">\n",
       "  <thead>\n",
       "    <tr>\n",
       "      <th id=\"T_21d82_level0_col0\" class=\"col_heading level0 col0\" >Model</th>\n",
       "      <th id=\"T_21d82_level0_col1\" class=\"col_heading level0 col1\" >Accuracy</th>\n",
       "      <th id=\"T_21d82_level0_col2\" class=\"col_heading level0 col2\" >Recall weighted</th>\n",
       "      <th id=\"T_21d82_level0_col3\" class=\"col_heading level0 col3\" >Precision weighted</th>\n",
       "      <th id=\"T_21d82_level0_col4\" class=\"col_heading level0 col4\" >AUC</th>\n",
       "    </tr>\n",
       "  </thead>\n",
       "  <tbody>\n",
       "    <tr>\n",
       "      <td id=\"T_21d82_row0_col0\" class=\"data row0 col0\" >logisticregression</td>\n",
       "      <td id=\"T_21d82_row0_col1\" class=\"data row0 col1\" >0.310300</td>\n",
       "      <td id=\"T_21d82_row0_col2\" class=\"data row0 col2\" >0.310300</td>\n",
       "      <td id=\"T_21d82_row0_col3\" class=\"data row0 col3\" >0.316300</td>\n",
       "      <td id=\"T_21d82_row0_col4\" class=\"data row0 col4\" >0.721700</td>\n",
       "    </tr>\n",
       "    <tr>\n",
       "      <td id=\"T_21d82_row1_col0\" class=\"data row1 col0\" >logisticregression_l1</td>\n",
       "      <td id=\"T_21d82_row1_col1\" class=\"data row1 col1\" >0.275900</td>\n",
       "      <td id=\"T_21d82_row1_col2\" class=\"data row1 col2\" >0.275900</td>\n",
       "      <td id=\"T_21d82_row1_col3\" class=\"data row1 col3\" >0.422400</td>\n",
       "      <td id=\"T_21d82_row1_col4\" class=\"data row1 col4\" >0.734400</td>\n",
       "    </tr>\n",
       "    <tr>\n",
       "      <td id=\"T_21d82_row2_col0\" class=\"data row2 col0\" >logisticregression_l2</td>\n",
       "      <td id=\"T_21d82_row2_col1\" class=\"data row2 col1\" >0.344800</td>\n",
       "      <td id=\"T_21d82_row2_col2\" class=\"data row2 col2\" >0.344800</td>\n",
       "      <td id=\"T_21d82_row2_col3\" class=\"data row2 col3\" >0.405400</td>\n",
       "      <td id=\"T_21d82_row2_col4\" class=\"data row2 col4\" >0.720700</td>\n",
       "    </tr>\n",
       "    <tr>\n",
       "      <td id=\"T_21d82_row3_col0\" class=\"data row3 col0\" >logisticregression_elasticnet</td>\n",
       "      <td id=\"T_21d82_row3_col1\" class=\"data row3 col1\" >0.344800</td>\n",
       "      <td id=\"T_21d82_row3_col2\" class=\"data row3 col2\" >0.344800</td>\n",
       "      <td id=\"T_21d82_row3_col3\" class=\"data row3 col3\" >0.405400</td>\n",
       "      <td id=\"T_21d82_row3_col4\" class=\"data row3 col4\" >0.737800</td>\n",
       "    </tr>\n",
       "    <tr>\n",
       "      <td id=\"T_21d82_row4_col0\" class=\"data row4 col0\" >sgd_l1</td>\n",
       "      <td id=\"T_21d82_row4_col1\" class=\"data row4 col1\" >0.206900</td>\n",
       "      <td id=\"T_21d82_row4_col2\" class=\"data row4 col2\" >0.206900</td>\n",
       "      <td id=\"T_21d82_row4_col3\" class=\"data row4 col3\" >0.115000</td>\n",
       "      <td id=\"T_21d82_row4_col4\" class=\"data row4 col4\" >0.628700</td>\n",
       "    </tr>\n",
       "    <tr>\n",
       "      <td id=\"T_21d82_row5_col0\" class=\"data row5 col0\" >mlp</td>\n",
       "      <td id=\"T_21d82_row5_col1\" class=\"data row5 col1\" >0.137900</td>\n",
       "      <td id=\"T_21d82_row5_col2\" class=\"data row5 col2\" >0.137900</td>\n",
       "      <td id=\"T_21d82_row5_col3\" class=\"data row5 col3\" >0.133600</td>\n",
       "      <td id=\"T_21d82_row5_col4\" class=\"data row5 col4\" >0.627800</td>\n",
       "    </tr>\n",
       "    <tr>\n",
       "      <td id=\"T_21d82_row6_col0\" class=\"data row6 col0\" >decisiontree</td>\n",
       "      <td id=\"T_21d82_row6_col1\" class=\"data row6 col1\" >0.206900</td>\n",
       "      <td id=\"T_21d82_row6_col2\" class=\"data row6 col2\" >0.206900</td>\n",
       "      <td id=\"T_21d82_row6_col3\" class=\"data row6 col3\" >0.181000</td>\n",
       "      <td id=\"T_21d82_row6_col4\" class=\"data row6 col4\" >0.486100</td>\n",
       "    </tr>\n",
       "    <tr>\n",
       "      <td id=\"T_21d82_row7_col0\" class=\"data row7 col0\" >randomforest</td>\n",
       "      <td id=\"T_21d82_row7_col1\" class=\"data row7 col1\" >0.310300</td>\n",
       "      <td id=\"T_21d82_row7_col2\" class=\"data row7 col2\" >0.310300</td>\n",
       "      <td id=\"T_21d82_row7_col3\" class=\"data row7 col3\" >0.250000</td>\n",
       "      <td id=\"T_21d82_row7_col4\" class=\"data row7 col4\" >0.715900</td>\n",
       "    </tr>\n",
       "    <tr>\n",
       "      <td id=\"T_21d82_row8_col0\" class=\"data row8 col0\" >extratree</td>\n",
       "      <td id=\"T_21d82_row8_col1\" class=\"data row8 col1\" >0.172400</td>\n",
       "      <td id=\"T_21d82_row8_col2\" class=\"data row8 col2\" >0.172400</td>\n",
       "      <td id=\"T_21d82_row8_col3\" class=\"data row8 col3\" >0.232200</td>\n",
       "      <td id=\"T_21d82_row8_col4\" class=\"data row8 col4\" >0.566100</td>\n",
       "    </tr>\n",
       "    <tr>\n",
       "      <td id=\"T_21d82_row9_col0\" class=\"data row9 col0\" >adaboost</td>\n",
       "      <td id=\"T_21d82_row9_col1\" class=\"data row9 col1\" >0.172400</td>\n",
       "      <td id=\"T_21d82_row9_col2\" class=\"data row9 col2\" >0.172400</td>\n",
       "      <td id=\"T_21d82_row9_col3\" class=\"data row9 col3\" >0.137900</td>\n",
       "      <td id=\"T_21d82_row9_col4\" class=\"data row9 col4\" >0.538100</td>\n",
       "    </tr>\n",
       "    <tr>\n",
       "      <td id=\"T_21d82_row10_col0\" class=\"data row10 col0\" >extratrees</td>\n",
       "      <td id=\"T_21d82_row10_col1\" class=\"data row10 col1\" >0.172400</td>\n",
       "      <td id=\"T_21d82_row10_col2\" class=\"data row10 col2\" >0.172400</td>\n",
       "      <td id=\"T_21d82_row10_col3\" class=\"data row10 col3\" >0.187700</td>\n",
       "      <td id=\"T_21d82_row10_col4\" class=\"data row10 col4\" >0.538900</td>\n",
       "    </tr>\n",
       "    <tr>\n",
       "      <td id=\"T_21d82_row11_col0\" class=\"data row11 col0\" >gaussianprocess</td>\n",
       "      <td id=\"T_21d82_row11_col1\" class=\"data row11 col1\" >0.069000</td>\n",
       "      <td id=\"T_21d82_row11_col2\" class=\"data row11 col2\" >0.069000</td>\n",
       "      <td id=\"T_21d82_row11_col3\" class=\"data row11 col3\" >0.004800</td>\n",
       "      <td id=\"T_21d82_row11_col4\" class=\"data row11 col4\" >0.500000</td>\n",
       "    </tr>\n",
       "    <tr>\n",
       "      <td id=\"T_21d82_row12_col0\" class=\"data row12 col0\" >gradientboosting</td>\n",
       "      <td id=\"T_21d82_row12_col1\" class=\"data row12 col1\" >0.275900</td>\n",
       "      <td id=\"T_21d82_row12_col2\" class=\"data row12 col2\" >0.275900</td>\n",
       "      <td id=\"T_21d82_row12_col3\" class=\"data row12 col3\" >0.171300</td>\n",
       "      <td id=\"T_21d82_row12_col4\" class=\"data row12 col4\" >0.605500</td>\n",
       "    </tr>\n",
       "    <tr>\n",
       "      <td id=\"T_21d82_row13_col0\" class=\"data row13 col0\" >svc</td>\n",
       "      <td id=\"T_21d82_row13_col1\" class=\"data row13 col1\" >0.206900</td>\n",
       "      <td id=\"T_21d82_row13_col2\" class=\"data row13 col2\" >0.206900</td>\n",
       "      <td id=\"T_21d82_row13_col3\" class=\"data row13 col3\" >0.298300</td>\n",
       "      <td id=\"T_21d82_row13_col4\" class=\"data row13 col4\" >0.525400</td>\n",
       "    </tr>\n",
       "  </tbody>\n",
       "</table>\n"
      ],
      "text/plain": [
       "<pandas.io.formats.style.Styler at 0x7fa3a03be580>"
      ]
     },
     "execution_count": 126,
     "metadata": {},
     "output_type": "execute_result"
    }
   ],
   "source": [
    "test.style.hide(axis='index')"
   ]
  },
  {
   "attachments": {},
   "cell_type": "markdown",
   "metadata": {},
   "source": [
    "## 5 Best Classifiers for Grades Prediction"
   ]
  },
  {
   "attachments": {},
   "cell_type": "markdown",
   "metadata": {},
   "source": [
    "### 5.1.a Best Logistic Regression –elasticnet– Classifier"
   ]
  },
  {
   "cell_type": "code",
   "execution_count": 127,
   "metadata": {},
   "outputs": [],
   "source": [
    "# Option 1: Load the model from best_estimators using joblib.\n",
    "L1 = joblib.load('../working/best_estimators/logisticregression_l2.joblib')"
   ]
  },
  {
   "attachments": {},
   "cell_type": "markdown",
   "metadata": {},
   "source": [
    "<br>\n",
    "\n",
    "Overall Test Performance Report"
   ]
  },
  {
   "cell_type": "code",
   "execution_count": 129,
   "metadata": {},
   "outputs": [
    {
     "name": "stdout",
     "output_type": "stream",
     "text": [
      "\t\t TRAIN \t TEST\n",
      "\n",
      "Accuracy: \t 0.929 \t 0.345\n",
      "Recall: \t 0.929 \t 0.345\n",
      "Precision: \t 0.931 \t 0.405\n",
      "\n",
      "AUC: \t\t 0.995 \t 0.721\n"
     ]
    }
   ],
   "source": [
    "funs.classification_report(L1, y_train, X_train, y_test, X_test, classes, roc_plot=False)\n"
   ]
  },
  {
   "attachments": {},
   "cell_type": "markdown",
   "metadata": {},
   "source": [
    "<br>\n",
    "Test Set Classification Report"
   ]
  },
  {
   "cell_type": "code",
   "execution_count": 130,
   "metadata": {},
   "outputs": [
    {
     "name": "stdout",
     "output_type": "stream",
     "text": [
      "              precision    recall  f1-score   support\n",
      "\n",
      "          AA       1.00      0.33      0.50         3\n",
      "          BA       1.00      0.67      0.80         3\n",
      "          BB       0.67      0.67      0.67         3\n",
      "          CB       0.00      0.00      0.00         2\n",
      "          CC       0.27      0.75      0.40         4\n",
      "          DC       0.33      0.20      0.25         5\n",
      "          DD       0.14      0.14      0.14         7\n",
      "        Fail       0.00      0.00      0.00         2\n",
      "\n",
      "    accuracy                           0.34        29\n",
      "   macro avg       0.43      0.34      0.34        29\n",
      "weighted avg       0.41      0.34      0.34        29\n",
      "\n"
     ]
    }
   ],
   "source": [
    "print(classification_report(y_test, L1.predict(X_test), zero_division=0))"
   ]
  },
  {
   "cell_type": "code",
   "execution_count": 131,
   "metadata": {},
   "outputs": [
    {
     "data": {
      "application/vnd.plotly.v1+json": {
       "config": {
        "plotlyServerURL": "https://plot.ly"
       },
       "data": [
        {
         "colorscale": [
          [
           0,
           "rgb(228, 241, 225)"
          ],
          [
           0.16666666666666666,
           "rgb(180, 217, 204)"
          ],
          [
           0.3333333333333333,
           "rgb(137, 192, 182)"
          ],
          [
           0.5,
           "rgb(99, 166, 160)"
          ],
          [
           0.6666666666666666,
           "rgb(68, 140, 138)"
          ],
          [
           0.8333333333333334,
           "rgb(40, 114, 116)"
          ],
          [
           1,
           "rgb(13, 88, 95)"
          ]
         ],
         "hovertemplate": "Real: %{y}<br>Predicted: %{x}<br>Count: %{z}",
         "name": "Train Set",
         "showscale": false,
         "texttemplate": "%{z}",
         "type": "heatmap",
         "x": [
          "AA",
          "BA",
          "BB",
          "CB",
          "CC",
          "DC",
          "DD",
          "Fail"
         ],
         "xaxis": "x",
         "xgap": 5,
         "y": [
          "AA",
          "BA",
          "BB",
          "CB",
          "CC",
          "DC",
          "DD",
          "Fail"
         ],
         "yaxis": "y",
         "ygap": 5,
         "z": [
          [
           14,
           0,
           0,
           0,
           0,
           0,
           0,
           0
          ],
          [
           0,
           10,
           0,
           0,
           0,
           0,
           0,
           0
          ],
          [
           0,
           1,
           13,
           0,
           0,
           0,
           0,
           0
          ],
          [
           0,
           0,
           0,
           7,
           0,
           0,
           0,
           0
          ],
          [
           0,
           0,
           1,
           0,
           10,
           0,
           5,
           0
          ],
          [
           0,
           0,
           0,
           0,
           0,
           18,
           0,
           0
          ],
          [
           0,
           0,
           0,
           0,
           1,
           0,
           26,
           0
          ],
          [
           0,
           0,
           0,
           0,
           0,
           0,
           0,
           6
          ]
         ]
        },
        {
         "colorscale": [
          [
           0,
           "rgb(228, 241, 225)"
          ],
          [
           0.16666666666666666,
           "rgb(180, 217, 204)"
          ],
          [
           0.3333333333333333,
           "rgb(137, 192, 182)"
          ],
          [
           0.5,
           "rgb(99, 166, 160)"
          ],
          [
           0.6666666666666666,
           "rgb(68, 140, 138)"
          ],
          [
           0.8333333333333334,
           "rgb(40, 114, 116)"
          ],
          [
           1,
           "rgb(13, 88, 95)"
          ]
         ],
         "hovertemplate": "Real: %{y}<br>Predicted: %{x}<br>Count: %{z}",
         "name": "Test Set",
         "showscale": false,
         "texttemplate": "%{z}",
         "type": "heatmap",
         "x": [
          "AA",
          "BA",
          "BB",
          "CB",
          "CC",
          "DC",
          "DD",
          "Fail"
         ],
         "xaxis": "x2",
         "xgap": 5,
         "y": [
          "AA",
          "BA",
          "BB",
          "CB",
          "CC",
          "DC",
          "DD",
          "Fail"
         ],
         "yaxis": "y2",
         "ygap": 5,
         "z": [
          [
           1,
           0,
           0,
           1,
           1,
           0,
           0,
           0
          ],
          [
           0,
           2,
           1,
           0,
           0,
           0,
           0,
           0
          ],
          [
           0,
           0,
           2,
           0,
           0,
           0,
           1,
           0
          ],
          [
           0,
           0,
           0,
           0,
           1,
           0,
           1,
           0
          ],
          [
           0,
           0,
           0,
           0,
           3,
           0,
           1,
           0
          ],
          [
           0,
           0,
           0,
           0,
           2,
           1,
           2,
           0
          ],
          [
           0,
           0,
           0,
           0,
           4,
           2,
           1,
           0
          ],
          [
           0,
           0,
           0,
           1,
           0,
           0,
           1,
           0
          ]
         ]
        }
       ],
       "layout": {
        "annotations": [
         {
          "font": {
           "size": 16
          },
          "showarrow": false,
          "text": "Train Set",
          "x": 0.24375,
          "xanchor": "center",
          "xref": "paper",
          "y": 1,
          "yanchor": "bottom",
          "yref": "paper"
         },
         {
          "font": {
           "size": 16
          },
          "showarrow": false,
          "text": "Test Set",
          "x": 0.75625,
          "xanchor": "center",
          "xref": "paper",
          "y": 1,
          "yanchor": "bottom",
          "yref": "paper"
         }
        ],
        "height": 650,
        "showlegend": false,
        "template": {
         "data": {
          "bar": [
           {
            "error_x": {
             "color": "#2a3f5f"
            },
            "error_y": {
             "color": "#2a3f5f"
            },
            "marker": {
             "line": {
              "color": "white",
              "width": 0.5
             },
             "pattern": {
              "fillmode": "overlay",
              "size": 10,
              "solidity": 0.2
             }
            },
            "type": "bar"
           }
          ],
          "barpolar": [
           {
            "marker": {
             "line": {
              "color": "white",
              "width": 0.5
             },
             "pattern": {
              "fillmode": "overlay",
              "size": 10,
              "solidity": 0.2
             }
            },
            "type": "barpolar"
           }
          ],
          "carpet": [
           {
            "aaxis": {
             "endlinecolor": "#2a3f5f",
             "gridcolor": "#C8D4E3",
             "linecolor": "#C8D4E3",
             "minorgridcolor": "#C8D4E3",
             "startlinecolor": "#2a3f5f"
            },
            "baxis": {
             "endlinecolor": "#2a3f5f",
             "gridcolor": "#C8D4E3",
             "linecolor": "#C8D4E3",
             "minorgridcolor": "#C8D4E3",
             "startlinecolor": "#2a3f5f"
            },
            "type": "carpet"
           }
          ],
          "choropleth": [
           {
            "colorbar": {
             "outlinewidth": 0,
             "ticks": ""
            },
            "type": "choropleth"
           }
          ],
          "contour": [
           {
            "colorbar": {
             "outlinewidth": 0,
             "ticks": ""
            },
            "colorscale": [
             [
              0,
              "#0d0887"
             ],
             [
              0.1111111111111111,
              "#46039f"
             ],
             [
              0.2222222222222222,
              "#7201a8"
             ],
             [
              0.3333333333333333,
              "#9c179e"
             ],
             [
              0.4444444444444444,
              "#bd3786"
             ],
             [
              0.5555555555555556,
              "#d8576b"
             ],
             [
              0.6666666666666666,
              "#ed7953"
             ],
             [
              0.7777777777777778,
              "#fb9f3a"
             ],
             [
              0.8888888888888888,
              "#fdca26"
             ],
             [
              1,
              "#f0f921"
             ]
            ],
            "type": "contour"
           }
          ],
          "contourcarpet": [
           {
            "colorbar": {
             "outlinewidth": 0,
             "ticks": ""
            },
            "type": "contourcarpet"
           }
          ],
          "heatmap": [
           {
            "colorbar": {
             "outlinewidth": 0,
             "ticks": ""
            },
            "colorscale": [
             [
              0,
              "#0d0887"
             ],
             [
              0.1111111111111111,
              "#46039f"
             ],
             [
              0.2222222222222222,
              "#7201a8"
             ],
             [
              0.3333333333333333,
              "#9c179e"
             ],
             [
              0.4444444444444444,
              "#bd3786"
             ],
             [
              0.5555555555555556,
              "#d8576b"
             ],
             [
              0.6666666666666666,
              "#ed7953"
             ],
             [
              0.7777777777777778,
              "#fb9f3a"
             ],
             [
              0.8888888888888888,
              "#fdca26"
             ],
             [
              1,
              "#f0f921"
             ]
            ],
            "type": "heatmap"
           }
          ],
          "heatmapgl": [
           {
            "colorbar": {
             "outlinewidth": 0,
             "ticks": ""
            },
            "colorscale": [
             [
              0,
              "#0d0887"
             ],
             [
              0.1111111111111111,
              "#46039f"
             ],
             [
              0.2222222222222222,
              "#7201a8"
             ],
             [
              0.3333333333333333,
              "#9c179e"
             ],
             [
              0.4444444444444444,
              "#bd3786"
             ],
             [
              0.5555555555555556,
              "#d8576b"
             ],
             [
              0.6666666666666666,
              "#ed7953"
             ],
             [
              0.7777777777777778,
              "#fb9f3a"
             ],
             [
              0.8888888888888888,
              "#fdca26"
             ],
             [
              1,
              "#f0f921"
             ]
            ],
            "type": "heatmapgl"
           }
          ],
          "histogram": [
           {
            "marker": {
             "pattern": {
              "fillmode": "overlay",
              "size": 10,
              "solidity": 0.2
             }
            },
            "type": "histogram"
           }
          ],
          "histogram2d": [
           {
            "colorbar": {
             "outlinewidth": 0,
             "ticks": ""
            },
            "colorscale": [
             [
              0,
              "#0d0887"
             ],
             [
              0.1111111111111111,
              "#46039f"
             ],
             [
              0.2222222222222222,
              "#7201a8"
             ],
             [
              0.3333333333333333,
              "#9c179e"
             ],
             [
              0.4444444444444444,
              "#bd3786"
             ],
             [
              0.5555555555555556,
              "#d8576b"
             ],
             [
              0.6666666666666666,
              "#ed7953"
             ],
             [
              0.7777777777777778,
              "#fb9f3a"
             ],
             [
              0.8888888888888888,
              "#fdca26"
             ],
             [
              1,
              "#f0f921"
             ]
            ],
            "type": "histogram2d"
           }
          ],
          "histogram2dcontour": [
           {
            "colorbar": {
             "outlinewidth": 0,
             "ticks": ""
            },
            "colorscale": [
             [
              0,
              "#0d0887"
             ],
             [
              0.1111111111111111,
              "#46039f"
             ],
             [
              0.2222222222222222,
              "#7201a8"
             ],
             [
              0.3333333333333333,
              "#9c179e"
             ],
             [
              0.4444444444444444,
              "#bd3786"
             ],
             [
              0.5555555555555556,
              "#d8576b"
             ],
             [
              0.6666666666666666,
              "#ed7953"
             ],
             [
              0.7777777777777778,
              "#fb9f3a"
             ],
             [
              0.8888888888888888,
              "#fdca26"
             ],
             [
              1,
              "#f0f921"
             ]
            ],
            "type": "histogram2dcontour"
           }
          ],
          "mesh3d": [
           {
            "colorbar": {
             "outlinewidth": 0,
             "ticks": ""
            },
            "type": "mesh3d"
           }
          ],
          "parcoords": [
           {
            "line": {
             "colorbar": {
              "outlinewidth": 0,
              "ticks": ""
             }
            },
            "type": "parcoords"
           }
          ],
          "pie": [
           {
            "automargin": true,
            "type": "pie"
           }
          ],
          "scatter": [
           {
            "fillpattern": {
             "fillmode": "overlay",
             "size": 10,
             "solidity": 0.2
            },
            "type": "scatter"
           }
          ],
          "scatter3d": [
           {
            "line": {
             "colorbar": {
              "outlinewidth": 0,
              "ticks": ""
             }
            },
            "marker": {
             "colorbar": {
              "outlinewidth": 0,
              "ticks": ""
             }
            },
            "type": "scatter3d"
           }
          ],
          "scattercarpet": [
           {
            "marker": {
             "colorbar": {
              "outlinewidth": 0,
              "ticks": ""
             }
            },
            "type": "scattercarpet"
           }
          ],
          "scattergeo": [
           {
            "marker": {
             "colorbar": {
              "outlinewidth": 0,
              "ticks": ""
             }
            },
            "type": "scattergeo"
           }
          ],
          "scattergl": [
           {
            "marker": {
             "colorbar": {
              "outlinewidth": 0,
              "ticks": ""
             }
            },
            "type": "scattergl"
           }
          ],
          "scattermapbox": [
           {
            "marker": {
             "colorbar": {
              "outlinewidth": 0,
              "ticks": ""
             }
            },
            "type": "scattermapbox"
           }
          ],
          "scatterpolar": [
           {
            "marker": {
             "colorbar": {
              "outlinewidth": 0,
              "ticks": ""
             }
            },
            "type": "scatterpolar"
           }
          ],
          "scatterpolargl": [
           {
            "marker": {
             "colorbar": {
              "outlinewidth": 0,
              "ticks": ""
             }
            },
            "type": "scatterpolargl"
           }
          ],
          "scatterternary": [
           {
            "marker": {
             "colorbar": {
              "outlinewidth": 0,
              "ticks": ""
             }
            },
            "type": "scatterternary"
           }
          ],
          "surface": [
           {
            "colorbar": {
             "outlinewidth": 0,
             "ticks": ""
            },
            "colorscale": [
             [
              0,
              "#0d0887"
             ],
             [
              0.1111111111111111,
              "#46039f"
             ],
             [
              0.2222222222222222,
              "#7201a8"
             ],
             [
              0.3333333333333333,
              "#9c179e"
             ],
             [
              0.4444444444444444,
              "#bd3786"
             ],
             [
              0.5555555555555556,
              "#d8576b"
             ],
             [
              0.6666666666666666,
              "#ed7953"
             ],
             [
              0.7777777777777778,
              "#fb9f3a"
             ],
             [
              0.8888888888888888,
              "#fdca26"
             ],
             [
              1,
              "#f0f921"
             ]
            ],
            "type": "surface"
           }
          ],
          "table": [
           {
            "cells": {
             "fill": {
              "color": "#EBF0F8"
             },
             "line": {
              "color": "white"
             }
            },
            "header": {
             "fill": {
              "color": "#C8D4E3"
             },
             "line": {
              "color": "white"
             }
            },
            "type": "table"
           }
          ]
         },
         "layout": {
          "annotationdefaults": {
           "arrowcolor": "#2a3f5f",
           "arrowhead": 0,
           "arrowwidth": 1
          },
          "autotypenumbers": "strict",
          "coloraxis": {
           "colorbar": {
            "outlinewidth": 0,
            "ticks": ""
           }
          },
          "colorscale": {
           "diverging": [
            [
             0,
             "#8e0152"
            ],
            [
             0.1,
             "#c51b7d"
            ],
            [
             0.2,
             "#de77ae"
            ],
            [
             0.3,
             "#f1b6da"
            ],
            [
             0.4,
             "#fde0ef"
            ],
            [
             0.5,
             "#f7f7f7"
            ],
            [
             0.6,
             "#e6f5d0"
            ],
            [
             0.7,
             "#b8e186"
            ],
            [
             0.8,
             "#7fbc41"
            ],
            [
             0.9,
             "#4d9221"
            ],
            [
             1,
             "#276419"
            ]
           ],
           "sequential": [
            [
             0,
             "#0d0887"
            ],
            [
             0.1111111111111111,
             "#46039f"
            ],
            [
             0.2222222222222222,
             "#7201a8"
            ],
            [
             0.3333333333333333,
             "#9c179e"
            ],
            [
             0.4444444444444444,
             "#bd3786"
            ],
            [
             0.5555555555555556,
             "#d8576b"
            ],
            [
             0.6666666666666666,
             "#ed7953"
            ],
            [
             0.7777777777777778,
             "#fb9f3a"
            ],
            [
             0.8888888888888888,
             "#fdca26"
            ],
            [
             1,
             "#f0f921"
            ]
           ],
           "sequentialminus": [
            [
             0,
             "#0d0887"
            ],
            [
             0.1111111111111111,
             "#46039f"
            ],
            [
             0.2222222222222222,
             "#7201a8"
            ],
            [
             0.3333333333333333,
             "#9c179e"
            ],
            [
             0.4444444444444444,
             "#bd3786"
            ],
            [
             0.5555555555555556,
             "#d8576b"
            ],
            [
             0.6666666666666666,
             "#ed7953"
            ],
            [
             0.7777777777777778,
             "#fb9f3a"
            ],
            [
             0.8888888888888888,
             "#fdca26"
            ],
            [
             1,
             "#f0f921"
            ]
           ]
          },
          "colorway": [
           "#636efa",
           "#EF553B",
           "#00cc96",
           "#ab63fa",
           "#FFA15A",
           "#19d3f3",
           "#FF6692",
           "#B6E880",
           "#FF97FF",
           "#FECB52"
          ],
          "font": {
           "color": "#2a3f5f"
          },
          "geo": {
           "bgcolor": "white",
           "lakecolor": "white",
           "landcolor": "white",
           "showlakes": true,
           "showland": true,
           "subunitcolor": "#C8D4E3"
          },
          "hoverlabel": {
           "align": "left"
          },
          "hovermode": "closest",
          "mapbox": {
           "style": "light"
          },
          "paper_bgcolor": "white",
          "plot_bgcolor": "white",
          "polar": {
           "angularaxis": {
            "gridcolor": "#EBF0F8",
            "linecolor": "#EBF0F8",
            "ticks": ""
           },
           "bgcolor": "white",
           "radialaxis": {
            "gridcolor": "#EBF0F8",
            "linecolor": "#EBF0F8",
            "ticks": ""
           }
          },
          "scene": {
           "xaxis": {
            "backgroundcolor": "white",
            "gridcolor": "#DFE8F3",
            "gridwidth": 2,
            "linecolor": "#EBF0F8",
            "showbackground": true,
            "ticks": "",
            "zerolinecolor": "#EBF0F8"
           },
           "yaxis": {
            "backgroundcolor": "white",
            "gridcolor": "#DFE8F3",
            "gridwidth": 2,
            "linecolor": "#EBF0F8",
            "showbackground": true,
            "ticks": "",
            "zerolinecolor": "#EBF0F8"
           },
           "zaxis": {
            "backgroundcolor": "white",
            "gridcolor": "#DFE8F3",
            "gridwidth": 2,
            "linecolor": "#EBF0F8",
            "showbackground": true,
            "ticks": "",
            "zerolinecolor": "#EBF0F8"
           }
          },
          "shapedefaults": {
           "line": {
            "color": "#2a3f5f"
           }
          },
          "ternary": {
           "aaxis": {
            "gridcolor": "#DFE8F3",
            "linecolor": "#A2B1C6",
            "ticks": ""
           },
           "baxis": {
            "gridcolor": "#DFE8F3",
            "linecolor": "#A2B1C6",
            "ticks": ""
           },
           "bgcolor": "white",
           "caxis": {
            "gridcolor": "#DFE8F3",
            "linecolor": "#A2B1C6",
            "ticks": ""
           }
          },
          "title": {
           "x": 0.05
          },
          "xaxis": {
           "automargin": true,
           "gridcolor": "#EBF0F8",
           "linecolor": "#EBF0F8",
           "ticks": "",
           "title": {
            "standoff": 15
           },
           "zerolinecolor": "#EBF0F8",
           "zerolinewidth": 2
          },
          "yaxis": {
           "automargin": true,
           "gridcolor": "#EBF0F8",
           "linecolor": "#EBF0F8",
           "ticks": "",
           "title": {
            "standoff": 15
           },
           "zerolinecolor": "#EBF0F8",
           "zerolinewidth": 2
          }
         }
        },
        "title": {
         "font": {
          "size": 20
         },
         "text": "Confusion Matrix"
        },
        "width": 1650,
        "xaxis": {
         "anchor": "y",
         "domain": [
          0,
          0.4875
         ],
         "title": {
          "text": "Predicted Grade"
         }
        },
        "xaxis2": {
         "anchor": "y2",
         "domain": [
          0.5125,
          1
         ],
         "title": {
          "text": "Predicted Grade"
         }
        },
        "yaxis": {
         "anchor": "x",
         "autorange": "reversed",
         "domain": [
          0,
          1
         ],
         "title": {
          "text": "Real Grade"
         }
        },
        "yaxis2": {
         "anchor": "x2",
         "domain": [
          0,
          1
         ],
         "matches": "y",
         "showticklabels": false
        }
       }
      }
     },
     "metadata": {},
     "output_type": "display_data"
    }
   ],
   "source": [
    "funs.confusion_matrix_plot(L1, (X_train, X_test), (y_train, y_test))"
   ]
  },
  {
   "cell_type": "code",
   "execution_count": 132,
   "metadata": {},
   "outputs": [
    {
     "data": {
      "application/vnd.plotly.v1+json": {
       "config": {
        "plotlyServerURL": "https://plot.ly"
       },
       "data": [
        {
         "hovertemplate": "<b>FPR:</b> \t %{x}<br><b>TPR:</b> \t %{y}",
         "marker": {
          "color": "firebrick"
         },
         "mode": "lines",
         "name": "AA (AUC=0.453)",
         "showlegend": true,
         "type": "scatter",
         "x": [
          0,
          0,
          0,
          0.17346938775510204,
          0.19387755102040816,
          1
         ],
         "xaxis": "x",
         "y": [
          0,
          0.07142857142857142,
          1,
          1,
          1,
          1
         ],
         "yaxis": "y"
        },
        {
         "hovertemplate": "<b>FPR:</b> \t %{x}<br><b>TPR:</b> \t %{y}",
         "marker": {
          "color": "red"
         },
         "mode": "lines",
         "name": "BA (AUC=0.401)",
         "showlegend": true,
         "type": "scatter",
         "x": [
          0,
          0,
          0,
          0.00980392156862745,
          1
         ],
         "xaxis": "x",
         "y": [
          0,
          0.1,
          0.9,
          1,
          1
         ],
         "yaxis": "y"
        },
        {
         "hovertemplate": "<b>FPR:</b> \t %{x}<br><b>TPR:</b> \t %{y}",
         "marker": {
          "color": "darksalmon"
         },
         "mode": "lines",
         "name": "BB (AUC=0.401)",
         "showlegend": true,
         "type": "scatter",
         "x": [
          0,
          0,
          0,
          0.01020408163265306,
          0.01020408163265306,
          0.02040816326530612,
          1
         ],
         "xaxis": "x",
         "y": [
          0,
          0.07142857142857142,
          0.7857142857142857,
          0.7857142857142857,
          0.9285714285714286,
          1,
          1
         ],
         "yaxis": "y"
        },
        {
         "hovertemplate": "<b>FPR:</b> \t %{x}<br><b>TPR:</b> \t %{y}",
         "marker": {
          "color": "tomato"
         },
         "mode": "lines",
         "name": "CB (AUC=0.517)",
         "showlegend": true,
         "type": "scatter",
         "x": [
          0,
          0,
          0,
          0.5238095238095238,
          0.5428571428571428,
          1
         ],
         "xaxis": "x",
         "y": [
          0,
          0.14285714285714285,
          1,
          1,
          1,
          1
         ],
         "yaxis": "y"
        },
        {
         "hovertemplate": "<b>FPR:</b> \t %{x}<br><b>TPR:</b> \t %{y}",
         "marker": {
          "color": "seagreen"
         },
         "mode": "lines",
         "name": "CC (AUC=0.413)",
         "showlegend": true,
         "type": "scatter",
         "x": [
          0,
          0,
          0,
          0.010416666666666666,
          0.010416666666666666,
          0.020833333333333332,
          0.020833333333333332,
          0.041666666666666664,
          0.041666666666666664,
          0.0625,
          0.0625,
          0.07291666666666667,
          0.07291666666666667,
          0.16666666666666666,
          0.16666666666666666,
          0.3854166666666667,
          0.40625,
          1
         ],
         "xaxis": "x",
         "y": [
          0,
          0.0625,
          0.1875,
          0.1875,
          0.625,
          0.625,
          0.6875,
          0.6875,
          0.8125,
          0.8125,
          0.875,
          0.875,
          0.9375,
          0.9375,
          1,
          1,
          1,
          1
         ],
         "yaxis": "y"
        },
        {
         "hovertemplate": "<b>FPR:</b> \t %{x}<br><b>TPR:</b> \t %{y}",
         "marker": {
          "color": "lightseagreen"
         },
         "mode": "lines",
         "name": "DC (AUC=0.54)",
         "showlegend": true,
         "type": "scatter",
         "x": [
          0,
          0,
          0,
          0.7021276595744681,
          0.723404255319149,
          1
         ],
         "xaxis": "x",
         "y": [
          0,
          0.05555555555555555,
          1,
          1,
          1,
          1
         ],
         "yaxis": "y"
        },
        {
         "hovertemplate": "<b>FPR:</b> \t %{x}<br><b>TPR:</b> \t %{y}",
         "marker": {
          "color": "olive"
         },
         "mode": "lines",
         "name": "DD (AUC=0.484)",
         "showlegend": true,
         "type": "scatter",
         "x": [
          0,
          0,
          0,
          0.011764705882352941,
          0.011764705882352941,
          0.023529411764705882,
          0.023529411764705882,
          0.03529411764705882,
          0.03529411764705882,
          0.2235294117647059,
          0.2235294117647059,
          0.35294117647058826,
          0.3764705882352941,
          1
         ],
         "xaxis": "x",
         "y": [
          0,
          0.037037037037037035,
          0.8148148148148148,
          0.8148148148148148,
          0.8888888888888888,
          0.8888888888888888,
          0.9259259259259259,
          0.9259259259259259,
          0.9629629629629629,
          0.9629629629629629,
          1,
          1,
          1,
          1
         ],
         "yaxis": "y"
        },
        {
         "hovertemplate": "<b>FPR:</b> \t %{x}<br><b>TPR:</b> \t %{y}",
         "marker": {
          "color": "green"
         },
         "mode": "lines",
         "name": "Fail (AUC=0.446)",
         "showlegend": true,
         "type": "scatter",
         "x": [
          0,
          0,
          0,
          0.08490566037735849,
          0.10377358490566038,
          1
         ],
         "xaxis": "x",
         "y": [
          0,
          0.16666666666666666,
          1,
          1,
          1,
          1
         ],
         "yaxis": "y"
        },
        {
         "line": {
          "color": "grey",
          "dash": "dash",
          "width": 1
         },
         "mode": "lines",
         "name": "Chance Level (AUC=0.5)",
         "showlegend": true,
         "type": "scatter",
         "x": [
          0,
          1
         ],
         "xaxis": "x",
         "y": [
          0,
          1
         ],
         "yaxis": "y"
        },
        {
         "hovertemplate": "<b>FPR:</b> \t %{x}<br><b>TPR:</b> \t %{y}",
         "marker": {
          "color": "firebrick"
         },
         "mode": "lines",
         "name": "AA (AUC=0.395)",
         "showlegend": false,
         "type": "scatter",
         "x": [
          0,
          0,
          0,
          0.038461538461538464,
          0.038461538461538464,
          1
         ],
         "xaxis": "x2",
         "y": [
          0,
          0.3333333333333333,
          0.6666666666666666,
          0.6666666666666666,
          1,
          1
         ],
         "yaxis": "y2"
        },
        {
         "hovertemplate": "<b>FPR:</b> \t %{x}<br><b>TPR:</b> \t %{y}",
         "marker": {
          "color": "red"
         },
         "mode": "lines",
         "name": "BA (AUC=0.491)",
         "showlegend": false,
         "type": "scatter",
         "x": [
          0,
          0,
          0,
          0.6153846153846154,
          0.6153846153846154,
          1
         ],
         "xaxis": "x2",
         "y": [
          0,
          0.3333333333333333,
          0.6666666666666666,
          0.6666666666666666,
          1,
          1
         ],
         "yaxis": "y2"
        },
        {
         "hovertemplate": "<b>FPR:</b> \t %{x}<br><b>TPR:</b> \t %{y}",
         "marker": {
          "color": "darksalmon"
         },
         "mode": "lines",
         "name": "BB (AUC=0.401)",
         "showlegend": false,
         "type": "scatter",
         "x": [
          0,
          0,
          0.038461538461538464,
          0.038461538461538464,
          0.2692307692307692,
          0.2692307692307692,
          1
         ],
         "xaxis": "x2",
         "y": [
          0,
          0.3333333333333333,
          0.3333333333333333,
          0.6666666666666666,
          0.6666666666666666,
          1,
          1
         ],
         "yaxis": "y2"
        },
        {
         "hovertemplate": "<b>FPR:</b> \t %{x}<br><b>TPR:</b> \t %{y}",
         "marker": {
          "color": "tomato"
         },
         "mode": "lines",
         "name": "CB (AUC=0.394)",
         "showlegend": false,
         "type": "scatter",
         "x": [
          0,
          0.037037037037037035,
          0.18518518518518517,
          0.18518518518518517,
          0.5555555555555556,
          0.5555555555555556,
          1
         ],
         "xaxis": "x2",
         "y": [
          0,
          0,
          0,
          0.5,
          0.5,
          1,
          1
         ],
         "yaxis": "y2"
        },
        {
         "hovertemplate": "<b>FPR:</b> \t %{x}<br><b>TPR:</b> \t %{y}",
         "marker": {
          "color": "seagreen"
         },
         "mode": "lines",
         "name": "CC (AUC=0.437)",
         "showlegend": false,
         "type": "scatter",
         "x": [
          0,
          0.04,
          0.12,
          0.12,
          0.2,
          0.2,
          0.84,
          0.84,
          1
         ],
         "xaxis": "x2",
         "y": [
          0,
          0,
          0,
          0.5,
          0.5,
          0.75,
          0.75,
          1,
          1
         ],
         "yaxis": "y2"
        },
        {
         "hovertemplate": "<b>FPR:</b> \t %{x}<br><b>TPR:</b> \t %{y}",
         "marker": {
          "color": "lightseagreen"
         },
         "mode": "lines",
         "name": "DC (AUC=0.427)",
         "showlegend": false,
         "type": "scatter",
         "x": [
          0,
          0.041666666666666664,
          0.041666666666666664,
          0.16666666666666666,
          0.16666666666666666,
          0.375,
          0.375,
          0.4583333333333333,
          0.4583333333333333,
          0.5833333333333334,
          0.5833333333333334,
          1
         ],
         "xaxis": "x2",
         "y": [
          0,
          0,
          0.2,
          0.2,
          0.4,
          0.4,
          0.6,
          0.6,
          0.8,
          0.8,
          1,
          1
         ],
         "yaxis": "y2"
        },
        {
         "hovertemplate": "<b>FPR:</b> \t %{x}<br><b>TPR:</b> \t %{y}",
         "marker": {
          "color": "olive"
         },
         "mode": "lines",
         "name": "DD (AUC=0.47)",
         "showlegend": false,
         "type": "scatter",
         "x": [
          0,
          0.045454545454545456,
          0.18181818181818182,
          0.18181818181818182,
          0.2727272727272727,
          0.2727272727272727,
          0.36363636363636365,
          0.36363636363636365,
          0.45454545454545453,
          0.45454545454545453,
          0.7272727272727273,
          0.7272727272727273,
          0.9545454545454546,
          0.9545454545454546,
          1
         ],
         "xaxis": "x2",
         "y": [
          0,
          0,
          0,
          0.14285714285714285,
          0.14285714285714285,
          0.2857142857142857,
          0.2857142857142857,
          0.5714285714285714,
          0.5714285714285714,
          0.7142857142857143,
          0.7142857142857143,
          0.8571428571428571,
          0.8571428571428571,
          1,
          1
         ],
         "yaxis": "y2"
        },
        {
         "hovertemplate": "<b>FPR:</b> \t %{x}<br><b>TPR:</b> \t %{y}",
         "marker": {
          "color": "green"
         },
         "mode": "lines",
         "name": "Fail (AUC=0.384)",
         "showlegend": false,
         "type": "scatter",
         "x": [
          0,
          0.037037037037037035,
          0.07407407407407407,
          0.07407407407407407,
          0.5925925925925926,
          0.5925925925925926,
          1
         ],
         "xaxis": "x2",
         "y": [
          0,
          0,
          0,
          0.5,
          0.5,
          1,
          1
         ],
         "yaxis": "y2"
        },
        {
         "line": {
          "color": "grey",
          "dash": "dash",
          "width": 1
         },
         "mode": "lines",
         "name": "Chance Level (AUC=0.5)",
         "showlegend": true,
         "type": "scatter",
         "x": [
          0,
          1
         ],
         "xaxis": "x2",
         "y": [
          0,
          1
         ],
         "yaxis": "y2"
        }
       ],
       "layout": {
        "annotations": [
         {
          "font": {
           "size": 16
          },
          "showarrow": false,
          "text": "Train Set",
          "x": 0.24375,
          "xanchor": "center",
          "xref": "paper",
          "y": 1,
          "yanchor": "bottom",
          "yref": "paper"
         },
         {
          "font": {
           "size": 16
          },
          "showarrow": false,
          "text": "Test Set",
          "x": 0.75625,
          "xanchor": "center",
          "xref": "paper",
          "y": 1,
          "yanchor": "bottom",
          "yref": "paper"
         }
        ],
        "height": 650,
        "showlegend": true,
        "template": {
         "data": {
          "bar": [
           {
            "error_x": {
             "color": "#2a3f5f"
            },
            "error_y": {
             "color": "#2a3f5f"
            },
            "marker": {
             "line": {
              "color": "white",
              "width": 0.5
             },
             "pattern": {
              "fillmode": "overlay",
              "size": 10,
              "solidity": 0.2
             }
            },
            "type": "bar"
           }
          ],
          "barpolar": [
           {
            "marker": {
             "line": {
              "color": "white",
              "width": 0.5
             },
             "pattern": {
              "fillmode": "overlay",
              "size": 10,
              "solidity": 0.2
             }
            },
            "type": "barpolar"
           }
          ],
          "carpet": [
           {
            "aaxis": {
             "endlinecolor": "#2a3f5f",
             "gridcolor": "#C8D4E3",
             "linecolor": "#C8D4E3",
             "minorgridcolor": "#C8D4E3",
             "startlinecolor": "#2a3f5f"
            },
            "baxis": {
             "endlinecolor": "#2a3f5f",
             "gridcolor": "#C8D4E3",
             "linecolor": "#C8D4E3",
             "minorgridcolor": "#C8D4E3",
             "startlinecolor": "#2a3f5f"
            },
            "type": "carpet"
           }
          ],
          "choropleth": [
           {
            "colorbar": {
             "outlinewidth": 0,
             "ticks": ""
            },
            "type": "choropleth"
           }
          ],
          "contour": [
           {
            "colorbar": {
             "outlinewidth": 0,
             "ticks": ""
            },
            "colorscale": [
             [
              0,
              "#0d0887"
             ],
             [
              0.1111111111111111,
              "#46039f"
             ],
             [
              0.2222222222222222,
              "#7201a8"
             ],
             [
              0.3333333333333333,
              "#9c179e"
             ],
             [
              0.4444444444444444,
              "#bd3786"
             ],
             [
              0.5555555555555556,
              "#d8576b"
             ],
             [
              0.6666666666666666,
              "#ed7953"
             ],
             [
              0.7777777777777778,
              "#fb9f3a"
             ],
             [
              0.8888888888888888,
              "#fdca26"
             ],
             [
              1,
              "#f0f921"
             ]
            ],
            "type": "contour"
           }
          ],
          "contourcarpet": [
           {
            "colorbar": {
             "outlinewidth": 0,
             "ticks": ""
            },
            "type": "contourcarpet"
           }
          ],
          "heatmap": [
           {
            "colorbar": {
             "outlinewidth": 0,
             "ticks": ""
            },
            "colorscale": [
             [
              0,
              "#0d0887"
             ],
             [
              0.1111111111111111,
              "#46039f"
             ],
             [
              0.2222222222222222,
              "#7201a8"
             ],
             [
              0.3333333333333333,
              "#9c179e"
             ],
             [
              0.4444444444444444,
              "#bd3786"
             ],
             [
              0.5555555555555556,
              "#d8576b"
             ],
             [
              0.6666666666666666,
              "#ed7953"
             ],
             [
              0.7777777777777778,
              "#fb9f3a"
             ],
             [
              0.8888888888888888,
              "#fdca26"
             ],
             [
              1,
              "#f0f921"
             ]
            ],
            "type": "heatmap"
           }
          ],
          "heatmapgl": [
           {
            "colorbar": {
             "outlinewidth": 0,
             "ticks": ""
            },
            "colorscale": [
             [
              0,
              "#0d0887"
             ],
             [
              0.1111111111111111,
              "#46039f"
             ],
             [
              0.2222222222222222,
              "#7201a8"
             ],
             [
              0.3333333333333333,
              "#9c179e"
             ],
             [
              0.4444444444444444,
              "#bd3786"
             ],
             [
              0.5555555555555556,
              "#d8576b"
             ],
             [
              0.6666666666666666,
              "#ed7953"
             ],
             [
              0.7777777777777778,
              "#fb9f3a"
             ],
             [
              0.8888888888888888,
              "#fdca26"
             ],
             [
              1,
              "#f0f921"
             ]
            ],
            "type": "heatmapgl"
           }
          ],
          "histogram": [
           {
            "marker": {
             "pattern": {
              "fillmode": "overlay",
              "size": 10,
              "solidity": 0.2
             }
            },
            "type": "histogram"
           }
          ],
          "histogram2d": [
           {
            "colorbar": {
             "outlinewidth": 0,
             "ticks": ""
            },
            "colorscale": [
             [
              0,
              "#0d0887"
             ],
             [
              0.1111111111111111,
              "#46039f"
             ],
             [
              0.2222222222222222,
              "#7201a8"
             ],
             [
              0.3333333333333333,
              "#9c179e"
             ],
             [
              0.4444444444444444,
              "#bd3786"
             ],
             [
              0.5555555555555556,
              "#d8576b"
             ],
             [
              0.6666666666666666,
              "#ed7953"
             ],
             [
              0.7777777777777778,
              "#fb9f3a"
             ],
             [
              0.8888888888888888,
              "#fdca26"
             ],
             [
              1,
              "#f0f921"
             ]
            ],
            "type": "histogram2d"
           }
          ],
          "histogram2dcontour": [
           {
            "colorbar": {
             "outlinewidth": 0,
             "ticks": ""
            },
            "colorscale": [
             [
              0,
              "#0d0887"
             ],
             [
              0.1111111111111111,
              "#46039f"
             ],
             [
              0.2222222222222222,
              "#7201a8"
             ],
             [
              0.3333333333333333,
              "#9c179e"
             ],
             [
              0.4444444444444444,
              "#bd3786"
             ],
             [
              0.5555555555555556,
              "#d8576b"
             ],
             [
              0.6666666666666666,
              "#ed7953"
             ],
             [
              0.7777777777777778,
              "#fb9f3a"
             ],
             [
              0.8888888888888888,
              "#fdca26"
             ],
             [
              1,
              "#f0f921"
             ]
            ],
            "type": "histogram2dcontour"
           }
          ],
          "mesh3d": [
           {
            "colorbar": {
             "outlinewidth": 0,
             "ticks": ""
            },
            "type": "mesh3d"
           }
          ],
          "parcoords": [
           {
            "line": {
             "colorbar": {
              "outlinewidth": 0,
              "ticks": ""
             }
            },
            "type": "parcoords"
           }
          ],
          "pie": [
           {
            "automargin": true,
            "type": "pie"
           }
          ],
          "scatter": [
           {
            "fillpattern": {
             "fillmode": "overlay",
             "size": 10,
             "solidity": 0.2
            },
            "type": "scatter"
           }
          ],
          "scatter3d": [
           {
            "line": {
             "colorbar": {
              "outlinewidth": 0,
              "ticks": ""
             }
            },
            "marker": {
             "colorbar": {
              "outlinewidth": 0,
              "ticks": ""
             }
            },
            "type": "scatter3d"
           }
          ],
          "scattercarpet": [
           {
            "marker": {
             "colorbar": {
              "outlinewidth": 0,
              "ticks": ""
             }
            },
            "type": "scattercarpet"
           }
          ],
          "scattergeo": [
           {
            "marker": {
             "colorbar": {
              "outlinewidth": 0,
              "ticks": ""
             }
            },
            "type": "scattergeo"
           }
          ],
          "scattergl": [
           {
            "marker": {
             "colorbar": {
              "outlinewidth": 0,
              "ticks": ""
             }
            },
            "type": "scattergl"
           }
          ],
          "scattermapbox": [
           {
            "marker": {
             "colorbar": {
              "outlinewidth": 0,
              "ticks": ""
             }
            },
            "type": "scattermapbox"
           }
          ],
          "scatterpolar": [
           {
            "marker": {
             "colorbar": {
              "outlinewidth": 0,
              "ticks": ""
             }
            },
            "type": "scatterpolar"
           }
          ],
          "scatterpolargl": [
           {
            "marker": {
             "colorbar": {
              "outlinewidth": 0,
              "ticks": ""
             }
            },
            "type": "scatterpolargl"
           }
          ],
          "scatterternary": [
           {
            "marker": {
             "colorbar": {
              "outlinewidth": 0,
              "ticks": ""
             }
            },
            "type": "scatterternary"
           }
          ],
          "surface": [
           {
            "colorbar": {
             "outlinewidth": 0,
             "ticks": ""
            },
            "colorscale": [
             [
              0,
              "#0d0887"
             ],
             [
              0.1111111111111111,
              "#46039f"
             ],
             [
              0.2222222222222222,
              "#7201a8"
             ],
             [
              0.3333333333333333,
              "#9c179e"
             ],
             [
              0.4444444444444444,
              "#bd3786"
             ],
             [
              0.5555555555555556,
              "#d8576b"
             ],
             [
              0.6666666666666666,
              "#ed7953"
             ],
             [
              0.7777777777777778,
              "#fb9f3a"
             ],
             [
              0.8888888888888888,
              "#fdca26"
             ],
             [
              1,
              "#f0f921"
             ]
            ],
            "type": "surface"
           }
          ],
          "table": [
           {
            "cells": {
             "fill": {
              "color": "#EBF0F8"
             },
             "line": {
              "color": "white"
             }
            },
            "header": {
             "fill": {
              "color": "#C8D4E3"
             },
             "line": {
              "color": "white"
             }
            },
            "type": "table"
           }
          ]
         },
         "layout": {
          "annotationdefaults": {
           "arrowcolor": "#2a3f5f",
           "arrowhead": 0,
           "arrowwidth": 1
          },
          "autotypenumbers": "strict",
          "coloraxis": {
           "colorbar": {
            "outlinewidth": 0,
            "ticks": ""
           }
          },
          "colorscale": {
           "diverging": [
            [
             0,
             "#8e0152"
            ],
            [
             0.1,
             "#c51b7d"
            ],
            [
             0.2,
             "#de77ae"
            ],
            [
             0.3,
             "#f1b6da"
            ],
            [
             0.4,
             "#fde0ef"
            ],
            [
             0.5,
             "#f7f7f7"
            ],
            [
             0.6,
             "#e6f5d0"
            ],
            [
             0.7,
             "#b8e186"
            ],
            [
             0.8,
             "#7fbc41"
            ],
            [
             0.9,
             "#4d9221"
            ],
            [
             1,
             "#276419"
            ]
           ],
           "sequential": [
            [
             0,
             "#0d0887"
            ],
            [
             0.1111111111111111,
             "#46039f"
            ],
            [
             0.2222222222222222,
             "#7201a8"
            ],
            [
             0.3333333333333333,
             "#9c179e"
            ],
            [
             0.4444444444444444,
             "#bd3786"
            ],
            [
             0.5555555555555556,
             "#d8576b"
            ],
            [
             0.6666666666666666,
             "#ed7953"
            ],
            [
             0.7777777777777778,
             "#fb9f3a"
            ],
            [
             0.8888888888888888,
             "#fdca26"
            ],
            [
             1,
             "#f0f921"
            ]
           ],
           "sequentialminus": [
            [
             0,
             "#0d0887"
            ],
            [
             0.1111111111111111,
             "#46039f"
            ],
            [
             0.2222222222222222,
             "#7201a8"
            ],
            [
             0.3333333333333333,
             "#9c179e"
            ],
            [
             0.4444444444444444,
             "#bd3786"
            ],
            [
             0.5555555555555556,
             "#d8576b"
            ],
            [
             0.6666666666666666,
             "#ed7953"
            ],
            [
             0.7777777777777778,
             "#fb9f3a"
            ],
            [
             0.8888888888888888,
             "#fdca26"
            ],
            [
             1,
             "#f0f921"
            ]
           ]
          },
          "colorway": [
           "#636efa",
           "#EF553B",
           "#00cc96",
           "#ab63fa",
           "#FFA15A",
           "#19d3f3",
           "#FF6692",
           "#B6E880",
           "#FF97FF",
           "#FECB52"
          ],
          "font": {
           "color": "#2a3f5f"
          },
          "geo": {
           "bgcolor": "white",
           "lakecolor": "white",
           "landcolor": "white",
           "showlakes": true,
           "showland": true,
           "subunitcolor": "#C8D4E3"
          },
          "hoverlabel": {
           "align": "left"
          },
          "hovermode": "closest",
          "mapbox": {
           "style": "light"
          },
          "paper_bgcolor": "white",
          "plot_bgcolor": "white",
          "polar": {
           "angularaxis": {
            "gridcolor": "#EBF0F8",
            "linecolor": "#EBF0F8",
            "ticks": ""
           },
           "bgcolor": "white",
           "radialaxis": {
            "gridcolor": "#EBF0F8",
            "linecolor": "#EBF0F8",
            "ticks": ""
           }
          },
          "scene": {
           "xaxis": {
            "backgroundcolor": "white",
            "gridcolor": "#DFE8F3",
            "gridwidth": 2,
            "linecolor": "#EBF0F8",
            "showbackground": true,
            "ticks": "",
            "zerolinecolor": "#EBF0F8"
           },
           "yaxis": {
            "backgroundcolor": "white",
            "gridcolor": "#DFE8F3",
            "gridwidth": 2,
            "linecolor": "#EBF0F8",
            "showbackground": true,
            "ticks": "",
            "zerolinecolor": "#EBF0F8"
           },
           "zaxis": {
            "backgroundcolor": "white",
            "gridcolor": "#DFE8F3",
            "gridwidth": 2,
            "linecolor": "#EBF0F8",
            "showbackground": true,
            "ticks": "",
            "zerolinecolor": "#EBF0F8"
           }
          },
          "shapedefaults": {
           "line": {
            "color": "#2a3f5f"
           }
          },
          "ternary": {
           "aaxis": {
            "gridcolor": "#DFE8F3",
            "linecolor": "#A2B1C6",
            "ticks": ""
           },
           "baxis": {
            "gridcolor": "#DFE8F3",
            "linecolor": "#A2B1C6",
            "ticks": ""
           },
           "bgcolor": "white",
           "caxis": {
            "gridcolor": "#DFE8F3",
            "linecolor": "#A2B1C6",
            "ticks": ""
           }
          },
          "title": {
           "x": 0.05
          },
          "xaxis": {
           "automargin": true,
           "gridcolor": "#EBF0F8",
           "linecolor": "#EBF0F8",
           "ticks": "",
           "title": {
            "standoff": 15
           },
           "zerolinecolor": "#EBF0F8",
           "zerolinewidth": 2
          },
          "yaxis": {
           "automargin": true,
           "gridcolor": "#EBF0F8",
           "linecolor": "#EBF0F8",
           "ticks": "",
           "title": {
            "standoff": 15
           },
           "zerolinecolor": "#EBF0F8",
           "zerolinewidth": 2
          }
         }
        },
        "title": {
         "font": {
          "size": 20
         },
         "text": "ROC-AUC Plot"
        },
        "width": 1650,
        "xaxis": {
         "anchor": "y",
         "domain": [
          0,
          0.4875
         ],
         "range": [
          0,
          1
         ]
        },
        "xaxis2": {
         "anchor": "y2",
         "domain": [
          0.5125,
          1
         ]
        },
        "yaxis": {
         "anchor": "x",
         "domain": [
          0,
          1
         ],
         "range": [
          0,
          1
         ]
        },
        "yaxis2": {
         "anchor": "x2",
         "domain": [
          0,
          1
         ],
         "matches": "y",
         "showticklabels": false
        }
       }
      }
     },
     "metadata": {},
     "output_type": "display_data"
    }
   ],
   "source": [
    "funs.roc_auc_plot(L1, (X_train, X_test), (y_train, y_test), binarizer)"
   ]
  },
  {
   "cell_type": "code",
   "execution_count": 164,
   "metadata": {},
   "outputs": [
    {
     "data": {
      "application/vnd.plotly.v1+json": {
       "config": {
        "plotlyServerURL": "https://plot.ly"
       },
       "data": [
        {
         "hovertemplate": "Grades=AA<br>log(odds)=%{x}<br>=%{y}<extra></extra>",
         "legendgroup": "AA",
         "marker": {
          "color": "maroon",
          "size": 10,
          "symbol": "circle"
         },
         "mode": "markers",
         "name": "AA",
         "orientation": "h",
         "showlegend": true,
         "type": "scatter",
         "x": [
          3.25481659152375,
          -3.1169569338591883,
          -5.827896318841417,
          5.877396549829034,
          2.9700930255028046,
          10.054495862072056,
          0.7533776708235952,
          -0.7038774398357034,
          -1.1323295110828022,
          1.1818297420706252,
          -0.6715294085333625,
          0.7210296395210757,
          -3.9025969012853765,
          -2.4283105542625996,
          0.024035298541944052,
          -2.048695229518569,
          0.4176416551006593,
          -6.857834149728311,
          -3.886890106704365,
          1.4903463627643543,
          6.796613457637504,
          -5.384848940250608,
          0.5109277461586235,
          -0.3372021075635137,
          0.39334623716366024,
          0.28454773860307025,
          3.833345701450064,
          0.25071078048337536,
          -0.8656019628363978,
          0.6465630644072456,
          0.7040324399695057,
          -4.428019173381794,
          -12.342530546936453
         ],
         "xaxis": "x",
         "y": [
          "Age: 18-21",
          "Age: 22-25",
          "Sex: female",
          "Sex: male",
          "Scholarship: 50%",
          "Scholarship: 75%",
          "Additional Work: No",
          "Additional Work: Yes",
          "Regular Artistic or Sports Activity: No",
          "Regular Artistic or Sports Activity: Yes",
          "Partener: No",
          "Partener: Yes",
          "Total Salary: USD 135-200",
          "Transportation to University: Bus",
          "Accommodation Type: dormitory",
          "Accommodation Type: rental",
          "Mothers Education: high school",
          "Mothers Education: primary school",
          "Fathers Education: high school",
          "Number of Siblings: 2",
          "Mothers Occupation: housewife",
          "Weekly Study Hours: <5 hours",
          "Reading Frequency (non-scientific books/journals): Sometimes",
          "Taking Notes in Classes: always",
          "Taking Notes in Classes: sometimes",
          "Listening in Classes: sometimes",
          "Discussion Improves my Interest and Success in the Course: always",
          "Discussion Improves my Interest and Success in the Course: sometimes",
          "Flip-classroom: not useful",
          "Flip-classroom: useful",
          "Cumulative Grade Point Average in the Last Semester: 3.00-3.49",
          "Expected Cumulative Grade Point Average in the Graduation: 2.50-2.99",
          "Course ID: 1"
         ],
         "yaxis": "y"
        },
        {
         "hovertemplate": "Grades=BA<br>log(odds)=%{x}<br>=%{y}<extra></extra>",
         "legendgroup": "BA",
         "marker": {
          "color": "red",
          "size": 10,
          "symbol": "circle"
         },
         "mode": "markers",
         "name": "BA",
         "orientation": "h",
         "showlegend": true,
         "type": "scatter",
         "x": [
          0.7984716637839627,
          0.6033224171643549,
          -2.6147006392166126,
          3.7770164704519456,
          -1.8685903048188435,
          -4.0410699632831415,
          0.6830149631563062,
          0.47930086807890665,
          1.3395692160415285,
          -0.17725338480629868,
          0.7508846492420345,
          0.41143118199336504,
          3.203347477367072,
          2.5569703557997268,
          -8.972946021578874,
          -2.8162809626005165,
          1.5472295677454337,
          2.783352950068435,
          1.9820137013374508,
          -0.8418308266652621,
          -2.0970077596451033,
          1.9174654411176975,
          -1.9512159072086204,
          -2.6809676410615273,
          4.0805835582600745,
          -2.77614139564989,
          -1.045622682128976,
          0.9469368075874294,
          -3.2471211481482336,
          1.9315519959691336,
          -2.5785247618623197,
          1.5560476029722206,
          -6.76179388152943
         ],
         "xaxis": "x",
         "y": [
          "Age: 18-21",
          "Age: 22-25",
          "Sex: female",
          "Sex: male",
          "Scholarship: 50%",
          "Scholarship: 75%",
          "Additional Work: No",
          "Additional Work: Yes",
          "Regular Artistic or Sports Activity: No",
          "Regular Artistic or Sports Activity: Yes",
          "Partener: No",
          "Partener: Yes",
          "Total Salary: USD 135-200",
          "Transportation to University: Bus",
          "Accommodation Type: dormitory",
          "Accommodation Type: rental",
          "Mothers Education: high school",
          "Mothers Education: primary school",
          "Fathers Education: high school",
          "Number of Siblings: 2",
          "Mothers Occupation: housewife",
          "Weekly Study Hours: <5 hours",
          "Reading Frequency (non-scientific books/journals): Sometimes",
          "Taking Notes in Classes: always",
          "Taking Notes in Classes: sometimes",
          "Listening in Classes: sometimes",
          "Discussion Improves my Interest and Success in the Course: always",
          "Discussion Improves my Interest and Success in the Course: sometimes",
          "Flip-classroom: not useful",
          "Flip-classroom: useful",
          "Cumulative Grade Point Average in the Last Semester: 3.00-3.49",
          "Expected Cumulative Grade Point Average in the Graduation: 2.50-2.99",
          "Course ID: 1"
         ],
         "yaxis": "y"
        },
        {
         "hovertemplate": "Grades=BB<br>log(odds)=%{x}<br>=%{y}<extra></extra>",
         "legendgroup": "BB",
         "marker": {
          "color": "tomato",
          "size": 10,
          "symbol": "circle"
         },
         "mode": "markers",
         "name": "BB",
         "orientation": "h",
         "showlegend": true,
         "type": "scatter",
         "x": [
          -1.2198784339220121,
          4.195686263553118,
          -1.0183606218935508,
          -1.3356714090099555,
          2.1362841239197374,
          4.986709849068205,
          -0.28470990658599593,
          -2.0693221243174706,
          -1.8869309533078744,
          -0.4671010775958491,
          -0.6352300710283879,
          -1.7188019598749533,
          2.0255999716511184,
          -1.6728264907247787,
          1.0735865685780164,
          -3.004343094363896,
          -1.2318102236414683,
          2.9666687226481048,
          -3.7156112002849984,
          -0.5320086756134945,
          2.274353770702345,
          -0.1199145130697231,
          -0.05178976794037885,
          1.178165770579398,
          -2.0616485891045593,
          5.532254032001801,
          1.6709791511268033,
          3.884400321093395,
          1.3767138744490917,
          1.4127353131784555,
          3.479449718223853,
          0.6115698580393069,
          2.601448722310353
         ],
         "xaxis": "x",
         "y": [
          "Age: 18-21",
          "Age: 22-25",
          "Sex: female",
          "Sex: male",
          "Scholarship: 50%",
          "Scholarship: 75%",
          "Additional Work: No",
          "Additional Work: Yes",
          "Regular Artistic or Sports Activity: No",
          "Regular Artistic or Sports Activity: Yes",
          "Partener: No",
          "Partener: Yes",
          "Total Salary: USD 135-200",
          "Transportation to University: Bus",
          "Accommodation Type: dormitory",
          "Accommodation Type: rental",
          "Mothers Education: high school",
          "Mothers Education: primary school",
          "Fathers Education: high school",
          "Number of Siblings: 2",
          "Mothers Occupation: housewife",
          "Weekly Study Hours: <5 hours",
          "Reading Frequency (non-scientific books/journals): Sometimes",
          "Taking Notes in Classes: always",
          "Taking Notes in Classes: sometimes",
          "Listening in Classes: sometimes",
          "Discussion Improves my Interest and Success in the Course: always",
          "Discussion Improves my Interest and Success in the Course: sometimes",
          "Flip-classroom: not useful",
          "Flip-classroom: useful",
          "Cumulative Grade Point Average in the Last Semester: 3.00-3.49",
          "Expected Cumulative Grade Point Average in the Graduation: 2.50-2.99",
          "Course ID: 1"
         ],
         "yaxis": "y"
        },
        {
         "hovertemplate": "Grades=CB<br>log(odds)=%{x}<br>=%{y}<extra></extra>",
         "legendgroup": "CB",
         "marker": {
          "color": "darksalmon",
          "size": 10,
          "symbol": "circle"
         },
         "mode": "markers",
         "name": "CB",
         "orientation": "h",
         "showlegend": true,
         "type": "scatter",
         "x": [
          0.7266859176285618,
          2.7498739560123764,
          0.9885831461365386,
          -0.6184242554048991,
          1.2095430488149435,
          -5.781060778579202,
          -2.0158990306220197,
          2.38605792135373,
          -0.22342318253208487,
          0.593582073263722,
          1.3352549694014582,
          -0.9650960786698314,
          -3.7057321498057085,
          1.1221038191754389,
          -1.309123343815996,
          5.30162831243164,
          -9.016779445516997,
          0.3930887215903322,
          4.791739638665934,
          -3.6833368741033103,
          -4.613280090348578,
          4.875024598851077,
          -2.2317823451764167,
          1.05515288447897,
          1.0540506179426146,
          -3.5622135464240996,
          6.075845773514996,
          2.306627612959726,
          -2.224261329135022,
          -6.131741691224999,
          0.16464306538493584,
          1.0974113711878364,
          -2.7148029715262267
         ],
         "xaxis": "x",
         "y": [
          "Age: 18-21",
          "Age: 22-25",
          "Sex: female",
          "Sex: male",
          "Scholarship: 50%",
          "Scholarship: 75%",
          "Additional Work: No",
          "Additional Work: Yes",
          "Regular Artistic or Sports Activity: No",
          "Regular Artistic or Sports Activity: Yes",
          "Partener: No",
          "Partener: Yes",
          "Total Salary: USD 135-200",
          "Transportation to University: Bus",
          "Accommodation Type: dormitory",
          "Accommodation Type: rental",
          "Mothers Education: high school",
          "Mothers Education: primary school",
          "Fathers Education: high school",
          "Number of Siblings: 2",
          "Mothers Occupation: housewife",
          "Weekly Study Hours: <5 hours",
          "Reading Frequency (non-scientific books/journals): Sometimes",
          "Taking Notes in Classes: always",
          "Taking Notes in Classes: sometimes",
          "Listening in Classes: sometimes",
          "Discussion Improves my Interest and Success in the Course: always",
          "Discussion Improves my Interest and Success in the Course: sometimes",
          "Flip-classroom: not useful",
          "Flip-classroom: useful",
          "Cumulative Grade Point Average in the Last Semester: 3.00-3.49",
          "Expected Cumulative Grade Point Average in the Graduation: 2.50-2.99",
          "Course ID: 1"
         ],
         "yaxis": "y"
        },
        {
         "hovertemplate": "Grades=CC<br>log(odds)=%{x}<br>=%{y}<extra></extra>",
         "legendgroup": "CC",
         "marker": {
          "color": "firebrick",
          "size": 10,
          "symbol": "circle"
         },
         "mode": "markers",
         "name": "CC",
         "orientation": "h",
         "showlegend": true,
         "type": "scatter",
         "x": [
          -1.3683792295815045,
          -0.8473796019658004,
          0.23063647678687796,
          -1.4085224082016221,
          2.490074976797565,
          -0.9678963349665207,
          -0.14634428854671774,
          -1.0315416428680695,
          1.9235149351434653,
          -3.101400866558117,
          -1.6538519702086545,
          0.47596603879391103,
          0.5190277000802485,
          -0.896338178217174,
          4.794684409731311,
          -1.491692869694322,
          -1.4082319583367544,
          1.2227329932670858,
          -0.9437013599650688,
          0.0912095605064802,
          1.05133246751288,
          -0.9257775479755822,
          3.177130175847655,
          4.75730932323848,
          -0.7555503495432686,
          -0.9018227609196012,
          1.8965983474666674,
          -1.6761827430618959,
          3.9189904450343525,
          1.2941336595631885,
          0.9887407384234974,
          3.4113161513796806,
          0.6172189470455381
         ],
         "xaxis": "x",
         "y": [
          "Age: 18-21",
          "Age: 22-25",
          "Sex: female",
          "Sex: male",
          "Scholarship: 50%",
          "Scholarship: 75%",
          "Additional Work: No",
          "Additional Work: Yes",
          "Regular Artistic or Sports Activity: No",
          "Regular Artistic or Sports Activity: Yes",
          "Partener: No",
          "Partener: Yes",
          "Total Salary: USD 135-200",
          "Transportation to University: Bus",
          "Accommodation Type: dormitory",
          "Accommodation Type: rental",
          "Mothers Education: high school",
          "Mothers Education: primary school",
          "Fathers Education: high school",
          "Number of Siblings: 2",
          "Mothers Occupation: housewife",
          "Weekly Study Hours: <5 hours",
          "Reading Frequency (non-scientific books/journals): Sometimes",
          "Taking Notes in Classes: always",
          "Taking Notes in Classes: sometimes",
          "Listening in Classes: sometimes",
          "Discussion Improves my Interest and Success in the Course: always",
          "Discussion Improves my Interest and Success in the Course: sometimes",
          "Flip-classroom: not useful",
          "Flip-classroom: useful",
          "Cumulative Grade Point Average in the Last Semester: 3.00-3.49",
          "Expected Cumulative Grade Point Average in the Graduation: 2.50-2.99",
          "Course ID: 1"
         ],
         "yaxis": "y"
        },
        {
         "hovertemplate": "Grades=DC<br>log(odds)=%{x}<br>=%{y}<extra></extra>",
         "legendgroup": "DC",
         "marker": {
          "color": "darkseagreen",
          "size": 10,
          "symbol": "circle"
         },
         "mode": "markers",
         "name": "DC",
         "orientation": "h",
         "showlegend": true,
         "type": "scatter",
         "x": [
          1.0918200272215874,
          2.3018094585956295,
          3.1236313312330584,
          -0.5153425237065243,
          -4.68732175585234,
          -3.36769776535985,
          0.33968690027337695,
          2.2686019072529953,
          0.5714773601948757,
          2.0368114473319907,
          3.93026646380545,
          -1.3219776562791987,
          -1.017641607324969,
          4.444142584481676,
          3.625467899917619,
          3.0376878515292782,
          1.423895071477936,
          -4.15120516290412,
          4.58693150804932,
          2.407123334765593,
          -4.713628510943153,
          -0.18562588594524165,
          -2.039328741129708,
          -9.875540122031214,
          -6.760067278820471,
          0.06442636109436264,
          -4.901617977630467,
          -1.3468495956393494,
          -0.6680830278926448,
          -1.2714309565079804,
          -0.9964844340693086,
          -2.3844512082414857,
          9.463094086062533
         ],
         "xaxis": "x",
         "y": [
          "Age: 18-21",
          "Age: 22-25",
          "Sex: female",
          "Sex: male",
          "Scholarship: 50%",
          "Scholarship: 75%",
          "Additional Work: No",
          "Additional Work: Yes",
          "Regular Artistic or Sports Activity: No",
          "Regular Artistic or Sports Activity: Yes",
          "Partener: No",
          "Partener: Yes",
          "Total Salary: USD 135-200",
          "Transportation to University: Bus",
          "Accommodation Type: dormitory",
          "Accommodation Type: rental",
          "Mothers Education: high school",
          "Mothers Education: primary school",
          "Fathers Education: high school",
          "Number of Siblings: 2",
          "Mothers Occupation: housewife",
          "Weekly Study Hours: <5 hours",
          "Reading Frequency (non-scientific books/journals): Sometimes",
          "Taking Notes in Classes: always",
          "Taking Notes in Classes: sometimes",
          "Listening in Classes: sometimes",
          "Discussion Improves my Interest and Success in the Course: always",
          "Discussion Improves my Interest and Success in the Course: sometimes",
          "Flip-classroom: not useful",
          "Flip-classroom: useful",
          "Cumulative Grade Point Average in the Last Semester: 3.00-3.49",
          "Expected Cumulative Grade Point Average in the Graduation: 2.50-2.99",
          "Course ID: 1"
         ],
         "yaxis": "y"
        },
        {
         "hovertemplate": "Grades=DD<br>log(odds)=%{x}<br>=%{y}<extra></extra>",
         "legendgroup": "DD",
         "marker": {
          "color": "seagreen",
          "size": 10,
          "symbol": "circle"
         },
         "mode": "markers",
         "name": "DD",
         "orientation": "h",
         "showlegend": true,
         "type": "scatter",
         "x": [
          -5.112891680516077,
          -3.9267590371844703,
          1.8902100041838361,
          -2.387455748393772,
          -2.4082322019367117,
          -4.199112972145256,
          1.0201208497911864,
          -1.517366594001034,
          0.48271605019486996,
          -0.9799617944046256,
          -0.5224049104964349,
          0.02515916628667156,
          0.13040262719629686,
          -0.7873095969392683,
          1.52112249556225,
          -1.2175063012065435,
          3.113674736424579,
          3.3870431624475628,
          -0.36426362259115525,
          3.098003816109631,
          1.7427095559720671,
          1.7287833618465223,
          2.1865440670377403,
          8.687916756666153,
          3.5926945709667075,
          -0.9983757551004797,
          -6.014537973472786,
          -3.6142432904579183,
          3.6299947909235533,
          3.6057872501637154,
          -2.453832641739163,
          2.134119107986595,
          7.561344264230408
         ],
         "xaxis": "x",
         "y": [
          "Age: 18-21",
          "Age: 22-25",
          "Sex: female",
          "Sex: male",
          "Scholarship: 50%",
          "Scholarship: 75%",
          "Additional Work: No",
          "Additional Work: Yes",
          "Regular Artistic or Sports Activity: No",
          "Regular Artistic or Sports Activity: Yes",
          "Partener: No",
          "Partener: Yes",
          "Total Salary: USD 135-200",
          "Transportation to University: Bus",
          "Accommodation Type: dormitory",
          "Accommodation Type: rental",
          "Mothers Education: high school",
          "Mothers Education: primary school",
          "Fathers Education: high school",
          "Number of Siblings: 2",
          "Mothers Occupation: housewife",
          "Weekly Study Hours: <5 hours",
          "Reading Frequency (non-scientific books/journals): Sometimes",
          "Taking Notes in Classes: always",
          "Taking Notes in Classes: sometimes",
          "Listening in Classes: sometimes",
          "Discussion Improves my Interest and Success in the Course: always",
          "Discussion Improves my Interest and Success in the Course: sometimes",
          "Flip-classroom: not useful",
          "Flip-classroom: useful",
          "Cumulative Grade Point Average in the Last Semester: 3.00-3.49",
          "Expected Cumulative Grade Point Average in the Graduation: 2.50-2.99",
          "Course ID: 1"
         ],
         "yaxis": "y"
        },
        {
         "hovertemplate": "Grades=Fail<br>log(odds)=%{x}<br>=%{y}<extra></extra>",
         "legendgroup": "Fail",
         "marker": {
          "color": "lightseagreen",
          "size": 10,
          "symbol": "circle"
         },
         "mode": "markers",
         "name": "Fail",
         "orientation": "h",
         "showlegend": true,
         "type": "scatter",
         "x": [
          1.829355143861683,
          -1.959596522316175,
          3.2278966216116105,
          -3.3889966755641594,
          0.15814908757329993,
          3.3156321031932916,
          -0.34924715828961456,
          0.1881471043367398,
          -1.0745939146513592,
          0.9134938606985717,
          -2.5333897221815604,
          2.3722896682289374,
          2.7475928821218547,
          -2.338431939312794,
          -0.7568273069366538,
          2.239202293423077,
          5.154380596746606,
          0.25615276261143055,
          -2.4502185585067875,
          -2.0295066977639196,
          -0.4410928908882589,
          -1.905106514574244,
          0.3995147724113065,
          -2.784834864306538,
          0.4565912331353515,
          2.3573253263945526,
          -1.51499034032685,
          -0.7513998929641322,
          -1.92063164239465,
          -1.487598635548885,
          0.6919758756692388,
          -1.9979937099416114,
          1.5760213803425973
         ],
         "xaxis": "x",
         "y": [
          "Age: 18-21",
          "Age: 22-25",
          "Sex: female",
          "Sex: male",
          "Scholarship: 50%",
          "Scholarship: 75%",
          "Additional Work: No",
          "Additional Work: Yes",
          "Regular Artistic or Sports Activity: No",
          "Regular Artistic or Sports Activity: Yes",
          "Partener: No",
          "Partener: Yes",
          "Total Salary: USD 135-200",
          "Transportation to University: Bus",
          "Accommodation Type: dormitory",
          "Accommodation Type: rental",
          "Mothers Education: high school",
          "Mothers Education: primary school",
          "Fathers Education: high school",
          "Number of Siblings: 2",
          "Mothers Occupation: housewife",
          "Weekly Study Hours: <5 hours",
          "Reading Frequency (non-scientific books/journals): Sometimes",
          "Taking Notes in Classes: always",
          "Taking Notes in Classes: sometimes",
          "Listening in Classes: sometimes",
          "Discussion Improves my Interest and Success in the Course: always",
          "Discussion Improves my Interest and Success in the Course: sometimes",
          "Flip-classroom: not useful",
          "Flip-classroom: useful",
          "Cumulative Grade Point Average in the Last Semester: 3.00-3.49",
          "Expected Cumulative Grade Point Average in the Graduation: 2.50-2.99",
          "Course ID: 1"
         ],
         "yaxis": "y"
        }
       ],
       "layout": {
        "height": 650,
        "legend": {
         "title": {
          "text": "Grades"
         },
         "tracegroupgap": 0
        },
        "margin": {
         "pad": 20,
         "t": 60
        },
        "showlegend": true,
        "template": {
         "data": {
          "bar": [
           {
            "error_x": {
             "color": "#2a3f5f"
            },
            "error_y": {
             "color": "#2a3f5f"
            },
            "marker": {
             "line": {
              "color": "white",
              "width": 0.5
             },
             "pattern": {
              "fillmode": "overlay",
              "size": 10,
              "solidity": 0.2
             }
            },
            "type": "bar"
           }
          ],
          "barpolar": [
           {
            "marker": {
             "line": {
              "color": "white",
              "width": 0.5
             },
             "pattern": {
              "fillmode": "overlay",
              "size": 10,
              "solidity": 0.2
             }
            },
            "type": "barpolar"
           }
          ],
          "carpet": [
           {
            "aaxis": {
             "endlinecolor": "#2a3f5f",
             "gridcolor": "#C8D4E3",
             "linecolor": "#C8D4E3",
             "minorgridcolor": "#C8D4E3",
             "startlinecolor": "#2a3f5f"
            },
            "baxis": {
             "endlinecolor": "#2a3f5f",
             "gridcolor": "#C8D4E3",
             "linecolor": "#C8D4E3",
             "minorgridcolor": "#C8D4E3",
             "startlinecolor": "#2a3f5f"
            },
            "type": "carpet"
           }
          ],
          "choropleth": [
           {
            "colorbar": {
             "outlinewidth": 0,
             "ticks": ""
            },
            "type": "choropleth"
           }
          ],
          "contour": [
           {
            "colorbar": {
             "outlinewidth": 0,
             "ticks": ""
            },
            "colorscale": [
             [
              0,
              "#0d0887"
             ],
             [
              0.1111111111111111,
              "#46039f"
             ],
             [
              0.2222222222222222,
              "#7201a8"
             ],
             [
              0.3333333333333333,
              "#9c179e"
             ],
             [
              0.4444444444444444,
              "#bd3786"
             ],
             [
              0.5555555555555556,
              "#d8576b"
             ],
             [
              0.6666666666666666,
              "#ed7953"
             ],
             [
              0.7777777777777778,
              "#fb9f3a"
             ],
             [
              0.8888888888888888,
              "#fdca26"
             ],
             [
              1,
              "#f0f921"
             ]
            ],
            "type": "contour"
           }
          ],
          "contourcarpet": [
           {
            "colorbar": {
             "outlinewidth": 0,
             "ticks": ""
            },
            "type": "contourcarpet"
           }
          ],
          "heatmap": [
           {
            "colorbar": {
             "outlinewidth": 0,
             "ticks": ""
            },
            "colorscale": [
             [
              0,
              "#0d0887"
             ],
             [
              0.1111111111111111,
              "#46039f"
             ],
             [
              0.2222222222222222,
              "#7201a8"
             ],
             [
              0.3333333333333333,
              "#9c179e"
             ],
             [
              0.4444444444444444,
              "#bd3786"
             ],
             [
              0.5555555555555556,
              "#d8576b"
             ],
             [
              0.6666666666666666,
              "#ed7953"
             ],
             [
              0.7777777777777778,
              "#fb9f3a"
             ],
             [
              0.8888888888888888,
              "#fdca26"
             ],
             [
              1,
              "#f0f921"
             ]
            ],
            "type": "heatmap"
           }
          ],
          "heatmapgl": [
           {
            "colorbar": {
             "outlinewidth": 0,
             "ticks": ""
            },
            "colorscale": [
             [
              0,
              "#0d0887"
             ],
             [
              0.1111111111111111,
              "#46039f"
             ],
             [
              0.2222222222222222,
              "#7201a8"
             ],
             [
              0.3333333333333333,
              "#9c179e"
             ],
             [
              0.4444444444444444,
              "#bd3786"
             ],
             [
              0.5555555555555556,
              "#d8576b"
             ],
             [
              0.6666666666666666,
              "#ed7953"
             ],
             [
              0.7777777777777778,
              "#fb9f3a"
             ],
             [
              0.8888888888888888,
              "#fdca26"
             ],
             [
              1,
              "#f0f921"
             ]
            ],
            "type": "heatmapgl"
           }
          ],
          "histogram": [
           {
            "marker": {
             "pattern": {
              "fillmode": "overlay",
              "size": 10,
              "solidity": 0.2
             }
            },
            "type": "histogram"
           }
          ],
          "histogram2d": [
           {
            "colorbar": {
             "outlinewidth": 0,
             "ticks": ""
            },
            "colorscale": [
             [
              0,
              "#0d0887"
             ],
             [
              0.1111111111111111,
              "#46039f"
             ],
             [
              0.2222222222222222,
              "#7201a8"
             ],
             [
              0.3333333333333333,
              "#9c179e"
             ],
             [
              0.4444444444444444,
              "#bd3786"
             ],
             [
              0.5555555555555556,
              "#d8576b"
             ],
             [
              0.6666666666666666,
              "#ed7953"
             ],
             [
              0.7777777777777778,
              "#fb9f3a"
             ],
             [
              0.8888888888888888,
              "#fdca26"
             ],
             [
              1,
              "#f0f921"
             ]
            ],
            "type": "histogram2d"
           }
          ],
          "histogram2dcontour": [
           {
            "colorbar": {
             "outlinewidth": 0,
             "ticks": ""
            },
            "colorscale": [
             [
              0,
              "#0d0887"
             ],
             [
              0.1111111111111111,
              "#46039f"
             ],
             [
              0.2222222222222222,
              "#7201a8"
             ],
             [
              0.3333333333333333,
              "#9c179e"
             ],
             [
              0.4444444444444444,
              "#bd3786"
             ],
             [
              0.5555555555555556,
              "#d8576b"
             ],
             [
              0.6666666666666666,
              "#ed7953"
             ],
             [
              0.7777777777777778,
              "#fb9f3a"
             ],
             [
              0.8888888888888888,
              "#fdca26"
             ],
             [
              1,
              "#f0f921"
             ]
            ],
            "type": "histogram2dcontour"
           }
          ],
          "mesh3d": [
           {
            "colorbar": {
             "outlinewidth": 0,
             "ticks": ""
            },
            "type": "mesh3d"
           }
          ],
          "parcoords": [
           {
            "line": {
             "colorbar": {
              "outlinewidth": 0,
              "ticks": ""
             }
            },
            "type": "parcoords"
           }
          ],
          "pie": [
           {
            "automargin": true,
            "type": "pie"
           }
          ],
          "scatter": [
           {
            "fillpattern": {
             "fillmode": "overlay",
             "size": 10,
             "solidity": 0.2
            },
            "type": "scatter"
           }
          ],
          "scatter3d": [
           {
            "line": {
             "colorbar": {
              "outlinewidth": 0,
              "ticks": ""
             }
            },
            "marker": {
             "colorbar": {
              "outlinewidth": 0,
              "ticks": ""
             }
            },
            "type": "scatter3d"
           }
          ],
          "scattercarpet": [
           {
            "marker": {
             "colorbar": {
              "outlinewidth": 0,
              "ticks": ""
             }
            },
            "type": "scattercarpet"
           }
          ],
          "scattergeo": [
           {
            "marker": {
             "colorbar": {
              "outlinewidth": 0,
              "ticks": ""
             }
            },
            "type": "scattergeo"
           }
          ],
          "scattergl": [
           {
            "marker": {
             "colorbar": {
              "outlinewidth": 0,
              "ticks": ""
             }
            },
            "type": "scattergl"
           }
          ],
          "scattermapbox": [
           {
            "marker": {
             "colorbar": {
              "outlinewidth": 0,
              "ticks": ""
             }
            },
            "type": "scattermapbox"
           }
          ],
          "scatterpolar": [
           {
            "marker": {
             "colorbar": {
              "outlinewidth": 0,
              "ticks": ""
             }
            },
            "type": "scatterpolar"
           }
          ],
          "scatterpolargl": [
           {
            "marker": {
             "colorbar": {
              "outlinewidth": 0,
              "ticks": ""
             }
            },
            "type": "scatterpolargl"
           }
          ],
          "scatterternary": [
           {
            "marker": {
             "colorbar": {
              "outlinewidth": 0,
              "ticks": ""
             }
            },
            "type": "scatterternary"
           }
          ],
          "surface": [
           {
            "colorbar": {
             "outlinewidth": 0,
             "ticks": ""
            },
            "colorscale": [
             [
              0,
              "#0d0887"
             ],
             [
              0.1111111111111111,
              "#46039f"
             ],
             [
              0.2222222222222222,
              "#7201a8"
             ],
             [
              0.3333333333333333,
              "#9c179e"
             ],
             [
              0.4444444444444444,
              "#bd3786"
             ],
             [
              0.5555555555555556,
              "#d8576b"
             ],
             [
              0.6666666666666666,
              "#ed7953"
             ],
             [
              0.7777777777777778,
              "#fb9f3a"
             ],
             [
              0.8888888888888888,
              "#fdca26"
             ],
             [
              1,
              "#f0f921"
             ]
            ],
            "type": "surface"
           }
          ],
          "table": [
           {
            "cells": {
             "fill": {
              "color": "#EBF0F8"
             },
             "line": {
              "color": "white"
             }
            },
            "header": {
             "fill": {
              "color": "#C8D4E3"
             },
             "line": {
              "color": "white"
             }
            },
            "type": "table"
           }
          ]
         },
         "layout": {
          "annotationdefaults": {
           "arrowcolor": "#2a3f5f",
           "arrowhead": 0,
           "arrowwidth": 1
          },
          "autotypenumbers": "strict",
          "coloraxis": {
           "colorbar": {
            "outlinewidth": 0,
            "ticks": ""
           }
          },
          "colorscale": {
           "diverging": [
            [
             0,
             "#8e0152"
            ],
            [
             0.1,
             "#c51b7d"
            ],
            [
             0.2,
             "#de77ae"
            ],
            [
             0.3,
             "#f1b6da"
            ],
            [
             0.4,
             "#fde0ef"
            ],
            [
             0.5,
             "#f7f7f7"
            ],
            [
             0.6,
             "#e6f5d0"
            ],
            [
             0.7,
             "#b8e186"
            ],
            [
             0.8,
             "#7fbc41"
            ],
            [
             0.9,
             "#4d9221"
            ],
            [
             1,
             "#276419"
            ]
           ],
           "sequential": [
            [
             0,
             "#0d0887"
            ],
            [
             0.1111111111111111,
             "#46039f"
            ],
            [
             0.2222222222222222,
             "#7201a8"
            ],
            [
             0.3333333333333333,
             "#9c179e"
            ],
            [
             0.4444444444444444,
             "#bd3786"
            ],
            [
             0.5555555555555556,
             "#d8576b"
            ],
            [
             0.6666666666666666,
             "#ed7953"
            ],
            [
             0.7777777777777778,
             "#fb9f3a"
            ],
            [
             0.8888888888888888,
             "#fdca26"
            ],
            [
             1,
             "#f0f921"
            ]
           ],
           "sequentialminus": [
            [
             0,
             "#0d0887"
            ],
            [
             0.1111111111111111,
             "#46039f"
            ],
            [
             0.2222222222222222,
             "#7201a8"
            ],
            [
             0.3333333333333333,
             "#9c179e"
            ],
            [
             0.4444444444444444,
             "#bd3786"
            ],
            [
             0.5555555555555556,
             "#d8576b"
            ],
            [
             0.6666666666666666,
             "#ed7953"
            ],
            [
             0.7777777777777778,
             "#fb9f3a"
            ],
            [
             0.8888888888888888,
             "#fdca26"
            ],
            [
             1,
             "#f0f921"
            ]
           ]
          },
          "colorway": [
           "#636efa",
           "#EF553B",
           "#00cc96",
           "#ab63fa",
           "#FFA15A",
           "#19d3f3",
           "#FF6692",
           "#B6E880",
           "#FF97FF",
           "#FECB52"
          ],
          "font": {
           "color": "#2a3f5f"
          },
          "geo": {
           "bgcolor": "white",
           "lakecolor": "white",
           "landcolor": "white",
           "showlakes": true,
           "showland": true,
           "subunitcolor": "#C8D4E3"
          },
          "hoverlabel": {
           "align": "left"
          },
          "hovermode": "closest",
          "mapbox": {
           "style": "light"
          },
          "paper_bgcolor": "white",
          "plot_bgcolor": "white",
          "polar": {
           "angularaxis": {
            "gridcolor": "#EBF0F8",
            "linecolor": "#EBF0F8",
            "ticks": ""
           },
           "bgcolor": "white",
           "radialaxis": {
            "gridcolor": "#EBF0F8",
            "linecolor": "#EBF0F8",
            "ticks": ""
           }
          },
          "scene": {
           "xaxis": {
            "backgroundcolor": "white",
            "gridcolor": "#DFE8F3",
            "gridwidth": 2,
            "linecolor": "#EBF0F8",
            "showbackground": true,
            "ticks": "",
            "zerolinecolor": "#EBF0F8"
           },
           "yaxis": {
            "backgroundcolor": "white",
            "gridcolor": "#DFE8F3",
            "gridwidth": 2,
            "linecolor": "#EBF0F8",
            "showbackground": true,
            "ticks": "",
            "zerolinecolor": "#EBF0F8"
           },
           "zaxis": {
            "backgroundcolor": "white",
            "gridcolor": "#DFE8F3",
            "gridwidth": 2,
            "linecolor": "#EBF0F8",
            "showbackground": true,
            "ticks": "",
            "zerolinecolor": "#EBF0F8"
           }
          },
          "shapedefaults": {
           "line": {
            "color": "#2a3f5f"
           }
          },
          "ternary": {
           "aaxis": {
            "gridcolor": "#DFE8F3",
            "linecolor": "#A2B1C6",
            "ticks": ""
           },
           "baxis": {
            "gridcolor": "#DFE8F3",
            "linecolor": "#A2B1C6",
            "ticks": ""
           },
           "bgcolor": "white",
           "caxis": {
            "gridcolor": "#DFE8F3",
            "linecolor": "#A2B1C6",
            "ticks": ""
           }
          },
          "title": {
           "x": 0.05
          },
          "xaxis": {
           "automargin": true,
           "gridcolor": "#EBF0F8",
           "linecolor": "#EBF0F8",
           "ticks": "",
           "title": {
            "standoff": 15
           },
           "zerolinecolor": "#EBF0F8",
           "zerolinewidth": 2
          },
          "yaxis": {
           "automargin": true,
           "gridcolor": "#EBF0F8",
           "linecolor": "#EBF0F8",
           "ticks": "",
           "title": {
            "standoff": 15
           },
           "zerolinecolor": "#EBF0F8",
           "zerolinewidth": 2
          }
         }
        },
        "title": {
         "font": {
          "size": 20
         },
         "text": "log(odds) by Attribute for each Grade"
        },
        "width": 1650,
        "xaxis": {
         "anchor": "y",
         "domain": [
          0,
          1
         ],
         "range": [
          -15,
          15
         ],
         "title": {
          "text": "log(odds)"
         }
        },
        "yaxis": {
         "anchor": "x",
         "domain": [
          0,
          1
         ],
         "tickfont": {
          "size": 10
         },
         "tickmode": "linear",
         "title": {
          "text": ""
         },
         "zeroline": false
        }
       }
      }
     },
     "metadata": {},
     "output_type": "display_data"
    }
   ],
   "source": [
    "# Create logodds plot by attribute and grade.\n",
    "logodds = funs.linear_coefficients(L1, 'logisticregression')"
   ]
  },
  {
   "cell_type": "code",
   "execution_count": 169,
   "metadata": {},
   "outputs": [
    {
     "data": {
      "application/vnd.plotly.v1+json": {
       "config": {
        "plotlyServerURL": "https://plot.ly"
       },
       "data": [
        {
         "hovertemplate": "Grades=AA<br>Probability=%{x}<br>=%{y}<extra></extra>",
         "legendgroup": "AA",
         "marker": {
          "color": "maroon",
          "size": 10,
          "symbol": "circle"
         },
         "mode": "markers",
         "name": "AA",
         "orientation": "h",
         "showlegend": true,
         "type": "scatter",
         "x": [
          0.9628458049050387,
          0.042413191929368176,
          0.002935621019106035,
          0.9972057588227945,
          0.9512045949065911,
          0.9999570098205474,
          0.679914230890448,
          0.33095311084401413,
          0.2437314541416551,
          0.7652766367521011,
          0.3381544652750513,
          0.6728337104013841,
          0.019789867578006583,
          0.08103919433269971,
          0.5060085353795788,
          0.11418428748237681,
          0.6029187811471488,
          0.0010500843488490225,
          0.020096860775603423,
          0.8161302540439649,
          0.9988836941428529,
          0.004564601827258699,
          0.6250239346302198,
          0.4164892782763959,
          0.597087977570839,
          0.5706608082065774,
          0.9788211459413471,
          0.5623514404494847,
          0.29617026538227503,
          0.656235539679771,
          0.6690812088744252,
          0.011797276375256287,
          0.000004362196211720941
         ],
         "xaxis": "x",
         "y": [
          "Age: 18-21",
          "Age: 22-25",
          "Sex: female",
          "Sex: male",
          "Scholarship: 50%",
          "Scholarship: 75%",
          "Additional Work: No",
          "Additional Work: Yes",
          "Regular Artistic or Sports Activity: No",
          "Regular Artistic or Sports Activity: Yes",
          "Partener: No",
          "Partener: Yes",
          "Total Salary: USD 135-200",
          "Transportation to University: Bus",
          "Accommodation Type: dormitory",
          "Accommodation Type: rental",
          "Mothers Education: high school",
          "Mothers Education: primary school",
          "Fathers Education: high school",
          "Number of Siblings: 2",
          "Mothers Occupation: housewife",
          "Weekly Study Hours: <5 hours",
          "Reading Frequency (non-scientific books/journals): Sometimes",
          "Taking Notes in Classes: always",
          "Taking Notes in Classes: sometimes",
          "Listening in Classes: sometimes",
          "Discussion Improves my Interest and Success in the Course: always",
          "Discussion Improves my Interest and Success in the Course: sometimes",
          "Flip-classroom: not useful",
          "Flip-classroom: useful",
          "Cumulative Grade Point Average in the Last Semester: 3.00-3.49",
          "Expected Cumulative Grade Point Average in the Graduation: 2.50-2.99",
          "Course ID: 1"
         ],
         "yaxis": "y"
        },
        {
         "hovertemplate": "Grades=BA<br>Probability=%{x}<br>=%{y}<extra></extra>",
         "legendgroup": "BA",
         "marker": {
          "color": "red",
          "size": 10,
          "symbol": "circle"
         },
         "mode": "markers",
         "name": "BA",
         "orientation": "h",
         "showlegend": true,
         "type": "scatter",
         "x": [
          0.6896474603062929,
          0.6464160545485773,
          0.06819828390587085,
          0.977621381119543,
          0.13370492028970019,
          0.01727498289138818,
          0.664411273405249,
          0.617582771362049,
          0.7924190902498409,
          0.4558023129666011,
          0.6793714292541955,
          0.6014309997428429,
          0.9609600545524399,
          0.9280403959865409,
          0.00012677802851835545,
          0.05645069798780026,
          0.8245132350981861,
          0.9417695915838807,
          0.8788956601955137,
          0.3011493309051283,
          0.10938799147131117,
          0.8718555307668129,
          0.12442083639890379,
          0.06410579708337925,
          0.9833831823323715,
          0.05862714961410111,
          0.26006655149927954,
          0.7204987282333545,
          0.037430472729427296,
          0.873421102863559,
          0.07053338392906607,
          0.8257854779913568,
          0.0011558140661909694
         ],
         "xaxis": "x",
         "y": [
          "Age: 18-21",
          "Age: 22-25",
          "Sex: female",
          "Sex: male",
          "Scholarship: 50%",
          "Scholarship: 75%",
          "Additional Work: No",
          "Additional Work: Yes",
          "Regular Artistic or Sports Activity: No",
          "Regular Artistic or Sports Activity: Yes",
          "Partener: No",
          "Partener: Yes",
          "Total Salary: USD 135-200",
          "Transportation to University: Bus",
          "Accommodation Type: dormitory",
          "Accommodation Type: rental",
          "Mothers Education: high school",
          "Mothers Education: primary school",
          "Fathers Education: high school",
          "Number of Siblings: 2",
          "Mothers Occupation: housewife",
          "Weekly Study Hours: <5 hours",
          "Reading Frequency (non-scientific books/journals): Sometimes",
          "Taking Notes in Classes: always",
          "Taking Notes in Classes: sometimes",
          "Listening in Classes: sometimes",
          "Discussion Improves my Interest and Success in the Course: always",
          "Discussion Improves my Interest and Success in the Course: sometimes",
          "Flip-classroom: not useful",
          "Flip-classroom: useful",
          "Cumulative Grade Point Average in the Last Semester: 3.00-3.49",
          "Expected Cumulative Grade Point Average in the Graduation: 2.50-2.99",
          "Course ID: 1"
         ],
         "yaxis": "y"
        },
        {
         "hovertemplate": "Grades=BB<br>Probability=%{x}<br>=%{y}<extra></extra>",
         "legendgroup": "BB",
         "marker": {
          "color": "tomato",
          "size": 10,
          "symbol": "circle"
         },
         "mode": "markers",
         "name": "BB",
         "orientation": "h",
         "showlegend": true,
         "type": "scatter",
         "x": [
          0.22795784465241611,
          0.9851630469903195,
          0.2653468545002327,
          0.208222795025276,
          0.8943801067832154,
          0.9932182136362061,
          0.42929945994966284,
          0.11211449984178318,
          0.13159479637392202,
          0.38530260876435934,
          0.34632558281955267,
          0.15202554315731007,
          0.8834588177342526,
          0.15804769798834625,
          0.7452783834407302,
          0.047230051889982985,
          0.22586475130847325,
          0.9510454121062037,
          0.023762174974283977,
          0.3700485183116232,
          0.9067306395485805,
          0.470057243268571,
          0.48705545118647064,
          0.7646178441729198,
          0.11288063728005775,
          0.9960585369145739,
          0.8417063237598555,
          0.9798540493036942,
          0.798462715510985,
          0.804197015883961,
          0.97009736149227,
          0.6482988246995829,
          0.9309547587819319
         ],
         "xaxis": "x",
         "y": [
          "Age: 18-21",
          "Age: 22-25",
          "Sex: female",
          "Sex: male",
          "Scholarship: 50%",
          "Scholarship: 75%",
          "Additional Work: No",
          "Additional Work: Yes",
          "Regular Artistic or Sports Activity: No",
          "Regular Artistic or Sports Activity: Yes",
          "Partener: No",
          "Partener: Yes",
          "Total Salary: USD 135-200",
          "Transportation to University: Bus",
          "Accommodation Type: dormitory",
          "Accommodation Type: rental",
          "Mothers Education: high school",
          "Mothers Education: primary school",
          "Fathers Education: high school",
          "Number of Siblings: 2",
          "Mothers Occupation: housewife",
          "Weekly Study Hours: <5 hours",
          "Reading Frequency (non-scientific books/journals): Sometimes",
          "Taking Notes in Classes: always",
          "Taking Notes in Classes: sometimes",
          "Listening in Classes: sometimes",
          "Discussion Improves my Interest and Success in the Course: always",
          "Discussion Improves my Interest and Success in the Course: sometimes",
          "Flip-classroom: not useful",
          "Flip-classroom: useful",
          "Cumulative Grade Point Average in the Last Semester: 3.00-3.49",
          "Expected Cumulative Grade Point Average in the Graduation: 2.50-2.99",
          "Course ID: 1"
         ],
         "yaxis": "y"
        },
        {
         "hovertemplate": "Grades=CB<br>Probability=%{x}<br>=%{y}<extra></extra>",
         "legendgroup": "CB",
         "marker": {
          "color": "darksalmon",
          "size": 10,
          "symbol": "circle"
         },
         "mode": "markers",
         "name": "CB",
         "orientation": "h",
         "showlegend": true,
         "type": "scatter",
         "x": [
          0.674077599128701,
          0.9399062309401898,
          0.7288079763631506,
          0.3501399147095376,
          0.7702180868131674,
          0.0030759500408164184,
          0.11754370614180336,
          0.9157579531696005,
          0.4443754007723381,
          0.6441866168943168,
          0.7917085398737984,
          0.27585903606120205,
          0.023992425990995353,
          0.7543787447497522,
          0.21263357739885233,
          0.9950412392025265,
          0.00012134160666920473,
          0.597026024490127,
          0.9917702810040702,
          0.024522479837894604,
          0.00982180419768677,
          0.9924229437089952,
          0.09693250842951087,
          0.7417631661231667,
          0.7415519700784643,
          0.02759296719322362,
          0.9977075653032917,
          0.9094244496004886,
          0.0975928713437671,
          0.002168082532893659,
          0.5410680377967142,
          0.7497747603759685,
          0.062105496852345184
         ],
         "xaxis": "x",
         "y": [
          "Age: 18-21",
          "Age: 22-25",
          "Sex: female",
          "Sex: male",
          "Scholarship: 50%",
          "Scholarship: 75%",
          "Additional Work: No",
          "Additional Work: Yes",
          "Regular Artistic or Sports Activity: No",
          "Regular Artistic or Sports Activity: Yes",
          "Partener: No",
          "Partener: Yes",
          "Total Salary: USD 135-200",
          "Transportation to University: Bus",
          "Accommodation Type: dormitory",
          "Accommodation Type: rental",
          "Mothers Education: high school",
          "Mothers Education: primary school",
          "Fathers Education: high school",
          "Number of Siblings: 2",
          "Mothers Occupation: housewife",
          "Weekly Study Hours: <5 hours",
          "Reading Frequency (non-scientific books/journals): Sometimes",
          "Taking Notes in Classes: always",
          "Taking Notes in Classes: sometimes",
          "Listening in Classes: sometimes",
          "Discussion Improves my Interest and Success in the Course: always",
          "Discussion Improves my Interest and Success in the Course: sometimes",
          "Flip-classroom: not useful",
          "Flip-classroom: useful",
          "Cumulative Grade Point Average in the Last Semester: 3.00-3.49",
          "Expected Cumulative Grade Point Average in the Graduation: 2.50-2.99",
          "Course ID: 1"
         ],
         "yaxis": "y"
        },
        {
         "hovertemplate": "Grades=CC<br>Probability=%{x}<br>=%{y}<extra></extra>",
         "legendgroup": "CC",
         "marker": {
          "color": "firebrick",
          "size": 10,
          "symbol": "circle"
         },
         "mode": "markers",
         "name": "CC",
         "orientation": "h",
         "showlegend": true,
         "type": "scatter",
         "x": [
          0.20288183249152433,
          0.29998283454913044,
          0.5574048821322706,
          0.1964672159907937,
          0.9234431033715225,
          0.27530000578581804,
          0.46347908425127826,
          0.2627853337225535,
          0.8725298821607336,
          0.04304950753951958,
          0.16058902415447793,
          0.6167948621935915,
          0.6269203819802316,
          0.2898035837640154,
          0.9917942814246077,
          0.18366777289229477,
          0.19651307272866797,
          0.7725441478295901,
          0.2801532918047574,
          0.5227865951601584,
          0.7410306874170567,
          0.28378214311837097,
          0.9599645165934838,
          0.9914844496845265,
          0.31961311209617904,
          0.28867606352322767,
          0.869506041060015,
          0.1576015985083143,
          0.9805256472253733,
          0.7848460321113159,
          0.7288391228685437,
          0.9680563273027635,
          0.6495857775558496
         ],
         "xaxis": "x",
         "y": [
          "Age: 18-21",
          "Age: 22-25",
          "Sex: female",
          "Sex: male",
          "Scholarship: 50%",
          "Scholarship: 75%",
          "Additional Work: No",
          "Additional Work: Yes",
          "Regular Artistic or Sports Activity: No",
          "Regular Artistic or Sports Activity: Yes",
          "Partener: No",
          "Partener: Yes",
          "Total Salary: USD 135-200",
          "Transportation to University: Bus",
          "Accommodation Type: dormitory",
          "Accommodation Type: rental",
          "Mothers Education: high school",
          "Mothers Education: primary school",
          "Fathers Education: high school",
          "Number of Siblings: 2",
          "Mothers Occupation: housewife",
          "Weekly Study Hours: <5 hours",
          "Reading Frequency (non-scientific books/journals): Sometimes",
          "Taking Notes in Classes: always",
          "Taking Notes in Classes: sometimes",
          "Listening in Classes: sometimes",
          "Discussion Improves my Interest and Success in the Course: always",
          "Discussion Improves my Interest and Success in the Course: sometimes",
          "Flip-classroom: not useful",
          "Flip-classroom: useful",
          "Cumulative Grade Point Average in the Last Semester: 3.00-3.49",
          "Expected Cumulative Grade Point Average in the Graduation: 2.50-2.99",
          "Course ID: 1"
         ],
         "yaxis": "y"
        },
        {
         "hovertemplate": "Grades=DC<br>Probability=%{x}<br>=%{y}<extra></extra>",
         "legendgroup": "DC",
         "marker": {
          "color": "darkseagreen",
          "size": 10,
          "symbol": "circle"
         },
         "mode": "markers",
         "name": "DC",
         "orientation": "h",
         "showlegend": true,
         "type": "scatter",
         "x": [
          0.748724289643761,
          0.9090267867313817,
          0.9578570577580005,
          0.3739419507631477,
          0.009127249277983703,
          0.03332038451139624,
          0.5841144652641769,
          0.9062430640632558,
          0.6391039983719572,
          0.8846081904631159,
          0.980739801312913,
          0.21048945118214996,
          0.26548704133738893,
          0.9883892199295135,
          0.9740544703602142,
          0.9542479896269396,
          0.8059483146002295,
          0.015501353769679992,
          0.9899186093052416,
          0.9173688830436199,
          0.008892378983256457,
          0.4537263231601878,
          0.11513510156925741,
          0.000051414437599714785,
          0.0011578091091558153,
          0.5161010213745701,
          0.007379679850299367,
          0.20638590163629622,
          0.33892621572372156,
          0.21901239433954828,
          0.26963318479217696,
          0.08436608006260499,
          0.9999223401176781
         ],
         "xaxis": "x",
         "y": [
          "Age: 18-21",
          "Age: 22-25",
          "Sex: female",
          "Sex: male",
          "Scholarship: 50%",
          "Scholarship: 75%",
          "Additional Work: No",
          "Additional Work: Yes",
          "Regular Artistic or Sports Activity: No",
          "Regular Artistic or Sports Activity: Yes",
          "Partener: No",
          "Partener: Yes",
          "Total Salary: USD 135-200",
          "Transportation to University: Bus",
          "Accommodation Type: dormitory",
          "Accommodation Type: rental",
          "Mothers Education: high school",
          "Mothers Education: primary school",
          "Fathers Education: high school",
          "Number of Siblings: 2",
          "Mothers Occupation: housewife",
          "Weekly Study Hours: <5 hours",
          "Reading Frequency (non-scientific books/journals): Sometimes",
          "Taking Notes in Classes: always",
          "Taking Notes in Classes: sometimes",
          "Listening in Classes: sometimes",
          "Discussion Improves my Interest and Success in the Course: always",
          "Discussion Improves my Interest and Success in the Course: sometimes",
          "Flip-classroom: not useful",
          "Flip-classroom: useful",
          "Cumulative Grade Point Average in the Last Semester: 3.00-3.49",
          "Expected Cumulative Grade Point Average in the Graduation: 2.50-2.99",
          "Course ID: 1"
         ],
         "yaxis": "y"
        },
        {
         "hovertemplate": "Grades=DD<br>Probability=%{x}<br>=%{y}<extra></extra>",
         "legendgroup": "DD",
         "marker": {
          "color": "seagreen",
          "size": 10,
          "symbol": "circle"
         },
         "mode": "markers",
         "name": "DD",
         "orientation": "h",
         "showlegend": true,
         "type": "scatter",
         "x": [
          0.00598264623623783,
          0.019326563155405214,
          0.8687794732496232,
          0.08413427366073029,
          0.08254710015142876,
          0.014786948616269203,
          0.7349961388723776,
          0.17984962920713446,
          0.618389025031754,
          0.2728993645498703,
          0.3722900573519183,
          0.5062894598147328,
          0.5325545377953367,
          0.31274664285019677,
          0.8207037143003157,
          0.22837559294677168,
          0.9574533034870527,
          0.9672971390446508,
          0.40992785637724105,
          0.9568103292914003,
          0.8510309025004308,
          0.8492567327343951,
          0.8990346390308362,
          0.9998314175066794,
          0.9732132163067001,
          0.26926088712364293,
          0.0024370232326631795,
          0.026230716507983073,
          0.9741686303938872,
          0.9735524261947857,
          0.07915872688287383,
          0.8941754153070226,
          0.9994800949215565
         ],
         "xaxis": "x",
         "y": [
          "Age: 18-21",
          "Age: 22-25",
          "Sex: female",
          "Sex: male",
          "Scholarship: 50%",
          "Scholarship: 75%",
          "Additional Work: No",
          "Additional Work: Yes",
          "Regular Artistic or Sports Activity: No",
          "Regular Artistic or Sports Activity: Yes",
          "Partener: No",
          "Partener: Yes",
          "Total Salary: USD 135-200",
          "Transportation to University: Bus",
          "Accommodation Type: dormitory",
          "Accommodation Type: rental",
          "Mothers Education: high school",
          "Mothers Education: primary school",
          "Fathers Education: high school",
          "Number of Siblings: 2",
          "Mothers Occupation: housewife",
          "Weekly Study Hours: <5 hours",
          "Reading Frequency (non-scientific books/journals): Sometimes",
          "Taking Notes in Classes: always",
          "Taking Notes in Classes: sometimes",
          "Listening in Classes: sometimes",
          "Discussion Improves my Interest and Success in the Course: always",
          "Discussion Improves my Interest and Success in the Course: sometimes",
          "Flip-classroom: not useful",
          "Flip-classroom: useful",
          "Cumulative Grade Point Average in the Last Semester: 3.00-3.49",
          "Expected Cumulative Grade Point Average in the Graduation: 2.50-2.99",
          "Course ID: 1"
         ],
         "yaxis": "y"
        },
        {
         "hovertemplate": "Grades=Fail<br>Probability=%{x}<br>=%{y}<extra></extra>",
         "legendgroup": "Fail",
         "marker": {
          "color": "lightseagreen",
          "size": 10,
          "symbol": "circle"
         },
         "mode": "markers",
         "name": "Fail",
         "orientation": "h",
         "showlegend": true,
         "type": "scatter",
         "x": [
          0.8616848881907563,
          0.12351071973886898,
          0.9618706854367848,
          0.03264112110525277,
          0.5394550714796459,
          0.9649612077367506,
          0.4135649951332104,
          0.5468985096430647,
          0.25453043073140424,
          0.7137145823259337,
          0.07355033446780149,
          0.9146896987244488,
          0.939777260805695,
          0.08798966648736885,
          0.31933548820007085,
          0.9037150688852982,
          0.9942590928795587,
          0.5636903215687292,
          0.07942256789207057,
          0.11613955052546336,
          0.3914805860652514,
          0.1295316085897586,
          0.5985710733895567,
          0.05814919397373219,
          0.6122052110274192,
          0.9135147249698276,
          0.18020040219993663,
          0.32051634769741955,
          0.12779114654455923,
          0.18428243268645472,
          0.6664063258976495,
          0.11941373059350721,
          0.8286403101705312
         ],
         "xaxis": "x",
         "y": [
          "Age: 18-21",
          "Age: 22-25",
          "Sex: female",
          "Sex: male",
          "Scholarship: 50%",
          "Scholarship: 75%",
          "Additional Work: No",
          "Additional Work: Yes",
          "Regular Artistic or Sports Activity: No",
          "Regular Artistic or Sports Activity: Yes",
          "Partener: No",
          "Partener: Yes",
          "Total Salary: USD 135-200",
          "Transportation to University: Bus",
          "Accommodation Type: dormitory",
          "Accommodation Type: rental",
          "Mothers Education: high school",
          "Mothers Education: primary school",
          "Fathers Education: high school",
          "Number of Siblings: 2",
          "Mothers Occupation: housewife",
          "Weekly Study Hours: <5 hours",
          "Reading Frequency (non-scientific books/journals): Sometimes",
          "Taking Notes in Classes: always",
          "Taking Notes in Classes: sometimes",
          "Listening in Classes: sometimes",
          "Discussion Improves my Interest and Success in the Course: always",
          "Discussion Improves my Interest and Success in the Course: sometimes",
          "Flip-classroom: not useful",
          "Flip-classroom: useful",
          "Cumulative Grade Point Average in the Last Semester: 3.00-3.49",
          "Expected Cumulative Grade Point Average in the Graduation: 2.50-2.99",
          "Course ID: 1"
         ],
         "yaxis": "y"
        }
       ],
       "layout": {
        "height": 650,
        "legend": {
         "title": {
          "text": "Grades"
         },
         "tracegroupgap": 0
        },
        "margin": {
         "pad": 20,
         "t": 60
        },
        "showlegend": true,
        "template": {
         "data": {
          "bar": [
           {
            "error_x": {
             "color": "#2a3f5f"
            },
            "error_y": {
             "color": "#2a3f5f"
            },
            "marker": {
             "line": {
              "color": "white",
              "width": 0.5
             },
             "pattern": {
              "fillmode": "overlay",
              "size": 10,
              "solidity": 0.2
             }
            },
            "type": "bar"
           }
          ],
          "barpolar": [
           {
            "marker": {
             "line": {
              "color": "white",
              "width": 0.5
             },
             "pattern": {
              "fillmode": "overlay",
              "size": 10,
              "solidity": 0.2
             }
            },
            "type": "barpolar"
           }
          ],
          "carpet": [
           {
            "aaxis": {
             "endlinecolor": "#2a3f5f",
             "gridcolor": "#C8D4E3",
             "linecolor": "#C8D4E3",
             "minorgridcolor": "#C8D4E3",
             "startlinecolor": "#2a3f5f"
            },
            "baxis": {
             "endlinecolor": "#2a3f5f",
             "gridcolor": "#C8D4E3",
             "linecolor": "#C8D4E3",
             "minorgridcolor": "#C8D4E3",
             "startlinecolor": "#2a3f5f"
            },
            "type": "carpet"
           }
          ],
          "choropleth": [
           {
            "colorbar": {
             "outlinewidth": 0,
             "ticks": ""
            },
            "type": "choropleth"
           }
          ],
          "contour": [
           {
            "colorbar": {
             "outlinewidth": 0,
             "ticks": ""
            },
            "colorscale": [
             [
              0,
              "#0d0887"
             ],
             [
              0.1111111111111111,
              "#46039f"
             ],
             [
              0.2222222222222222,
              "#7201a8"
             ],
             [
              0.3333333333333333,
              "#9c179e"
             ],
             [
              0.4444444444444444,
              "#bd3786"
             ],
             [
              0.5555555555555556,
              "#d8576b"
             ],
             [
              0.6666666666666666,
              "#ed7953"
             ],
             [
              0.7777777777777778,
              "#fb9f3a"
             ],
             [
              0.8888888888888888,
              "#fdca26"
             ],
             [
              1,
              "#f0f921"
             ]
            ],
            "type": "contour"
           }
          ],
          "contourcarpet": [
           {
            "colorbar": {
             "outlinewidth": 0,
             "ticks": ""
            },
            "type": "contourcarpet"
           }
          ],
          "heatmap": [
           {
            "colorbar": {
             "outlinewidth": 0,
             "ticks": ""
            },
            "colorscale": [
             [
              0,
              "#0d0887"
             ],
             [
              0.1111111111111111,
              "#46039f"
             ],
             [
              0.2222222222222222,
              "#7201a8"
             ],
             [
              0.3333333333333333,
              "#9c179e"
             ],
             [
              0.4444444444444444,
              "#bd3786"
             ],
             [
              0.5555555555555556,
              "#d8576b"
             ],
             [
              0.6666666666666666,
              "#ed7953"
             ],
             [
              0.7777777777777778,
              "#fb9f3a"
             ],
             [
              0.8888888888888888,
              "#fdca26"
             ],
             [
              1,
              "#f0f921"
             ]
            ],
            "type": "heatmap"
           }
          ],
          "heatmapgl": [
           {
            "colorbar": {
             "outlinewidth": 0,
             "ticks": ""
            },
            "colorscale": [
             [
              0,
              "#0d0887"
             ],
             [
              0.1111111111111111,
              "#46039f"
             ],
             [
              0.2222222222222222,
              "#7201a8"
             ],
             [
              0.3333333333333333,
              "#9c179e"
             ],
             [
              0.4444444444444444,
              "#bd3786"
             ],
             [
              0.5555555555555556,
              "#d8576b"
             ],
             [
              0.6666666666666666,
              "#ed7953"
             ],
             [
              0.7777777777777778,
              "#fb9f3a"
             ],
             [
              0.8888888888888888,
              "#fdca26"
             ],
             [
              1,
              "#f0f921"
             ]
            ],
            "type": "heatmapgl"
           }
          ],
          "histogram": [
           {
            "marker": {
             "pattern": {
              "fillmode": "overlay",
              "size": 10,
              "solidity": 0.2
             }
            },
            "type": "histogram"
           }
          ],
          "histogram2d": [
           {
            "colorbar": {
             "outlinewidth": 0,
             "ticks": ""
            },
            "colorscale": [
             [
              0,
              "#0d0887"
             ],
             [
              0.1111111111111111,
              "#46039f"
             ],
             [
              0.2222222222222222,
              "#7201a8"
             ],
             [
              0.3333333333333333,
              "#9c179e"
             ],
             [
              0.4444444444444444,
              "#bd3786"
             ],
             [
              0.5555555555555556,
              "#d8576b"
             ],
             [
              0.6666666666666666,
              "#ed7953"
             ],
             [
              0.7777777777777778,
              "#fb9f3a"
             ],
             [
              0.8888888888888888,
              "#fdca26"
             ],
             [
              1,
              "#f0f921"
             ]
            ],
            "type": "histogram2d"
           }
          ],
          "histogram2dcontour": [
           {
            "colorbar": {
             "outlinewidth": 0,
             "ticks": ""
            },
            "colorscale": [
             [
              0,
              "#0d0887"
             ],
             [
              0.1111111111111111,
              "#46039f"
             ],
             [
              0.2222222222222222,
              "#7201a8"
             ],
             [
              0.3333333333333333,
              "#9c179e"
             ],
             [
              0.4444444444444444,
              "#bd3786"
             ],
             [
              0.5555555555555556,
              "#d8576b"
             ],
             [
              0.6666666666666666,
              "#ed7953"
             ],
             [
              0.7777777777777778,
              "#fb9f3a"
             ],
             [
              0.8888888888888888,
              "#fdca26"
             ],
             [
              1,
              "#f0f921"
             ]
            ],
            "type": "histogram2dcontour"
           }
          ],
          "mesh3d": [
           {
            "colorbar": {
             "outlinewidth": 0,
             "ticks": ""
            },
            "type": "mesh3d"
           }
          ],
          "parcoords": [
           {
            "line": {
             "colorbar": {
              "outlinewidth": 0,
              "ticks": ""
             }
            },
            "type": "parcoords"
           }
          ],
          "pie": [
           {
            "automargin": true,
            "type": "pie"
           }
          ],
          "scatter": [
           {
            "fillpattern": {
             "fillmode": "overlay",
             "size": 10,
             "solidity": 0.2
            },
            "type": "scatter"
           }
          ],
          "scatter3d": [
           {
            "line": {
             "colorbar": {
              "outlinewidth": 0,
              "ticks": ""
             }
            },
            "marker": {
             "colorbar": {
              "outlinewidth": 0,
              "ticks": ""
             }
            },
            "type": "scatter3d"
           }
          ],
          "scattercarpet": [
           {
            "marker": {
             "colorbar": {
              "outlinewidth": 0,
              "ticks": ""
             }
            },
            "type": "scattercarpet"
           }
          ],
          "scattergeo": [
           {
            "marker": {
             "colorbar": {
              "outlinewidth": 0,
              "ticks": ""
             }
            },
            "type": "scattergeo"
           }
          ],
          "scattergl": [
           {
            "marker": {
             "colorbar": {
              "outlinewidth": 0,
              "ticks": ""
             }
            },
            "type": "scattergl"
           }
          ],
          "scattermapbox": [
           {
            "marker": {
             "colorbar": {
              "outlinewidth": 0,
              "ticks": ""
             }
            },
            "type": "scattermapbox"
           }
          ],
          "scatterpolar": [
           {
            "marker": {
             "colorbar": {
              "outlinewidth": 0,
              "ticks": ""
             }
            },
            "type": "scatterpolar"
           }
          ],
          "scatterpolargl": [
           {
            "marker": {
             "colorbar": {
              "outlinewidth": 0,
              "ticks": ""
             }
            },
            "type": "scatterpolargl"
           }
          ],
          "scatterternary": [
           {
            "marker": {
             "colorbar": {
              "outlinewidth": 0,
              "ticks": ""
             }
            },
            "type": "scatterternary"
           }
          ],
          "surface": [
           {
            "colorbar": {
             "outlinewidth": 0,
             "ticks": ""
            },
            "colorscale": [
             [
              0,
              "#0d0887"
             ],
             [
              0.1111111111111111,
              "#46039f"
             ],
             [
              0.2222222222222222,
              "#7201a8"
             ],
             [
              0.3333333333333333,
              "#9c179e"
             ],
             [
              0.4444444444444444,
              "#bd3786"
             ],
             [
              0.5555555555555556,
              "#d8576b"
             ],
             [
              0.6666666666666666,
              "#ed7953"
             ],
             [
              0.7777777777777778,
              "#fb9f3a"
             ],
             [
              0.8888888888888888,
              "#fdca26"
             ],
             [
              1,
              "#f0f921"
             ]
            ],
            "type": "surface"
           }
          ],
          "table": [
           {
            "cells": {
             "fill": {
              "color": "#EBF0F8"
             },
             "line": {
              "color": "white"
             }
            },
            "header": {
             "fill": {
              "color": "#C8D4E3"
             },
             "line": {
              "color": "white"
             }
            },
            "type": "table"
           }
          ]
         },
         "layout": {
          "annotationdefaults": {
           "arrowcolor": "#2a3f5f",
           "arrowhead": 0,
           "arrowwidth": 1
          },
          "autotypenumbers": "strict",
          "coloraxis": {
           "colorbar": {
            "outlinewidth": 0,
            "ticks": ""
           }
          },
          "colorscale": {
           "diverging": [
            [
             0,
             "#8e0152"
            ],
            [
             0.1,
             "#c51b7d"
            ],
            [
             0.2,
             "#de77ae"
            ],
            [
             0.3,
             "#f1b6da"
            ],
            [
             0.4,
             "#fde0ef"
            ],
            [
             0.5,
             "#f7f7f7"
            ],
            [
             0.6,
             "#e6f5d0"
            ],
            [
             0.7,
             "#b8e186"
            ],
            [
             0.8,
             "#7fbc41"
            ],
            [
             0.9,
             "#4d9221"
            ],
            [
             1,
             "#276419"
            ]
           ],
           "sequential": [
            [
             0,
             "#0d0887"
            ],
            [
             0.1111111111111111,
             "#46039f"
            ],
            [
             0.2222222222222222,
             "#7201a8"
            ],
            [
             0.3333333333333333,
             "#9c179e"
            ],
            [
             0.4444444444444444,
             "#bd3786"
            ],
            [
             0.5555555555555556,
             "#d8576b"
            ],
            [
             0.6666666666666666,
             "#ed7953"
            ],
            [
             0.7777777777777778,
             "#fb9f3a"
            ],
            [
             0.8888888888888888,
             "#fdca26"
            ],
            [
             1,
             "#f0f921"
            ]
           ],
           "sequentialminus": [
            [
             0,
             "#0d0887"
            ],
            [
             0.1111111111111111,
             "#46039f"
            ],
            [
             0.2222222222222222,
             "#7201a8"
            ],
            [
             0.3333333333333333,
             "#9c179e"
            ],
            [
             0.4444444444444444,
             "#bd3786"
            ],
            [
             0.5555555555555556,
             "#d8576b"
            ],
            [
             0.6666666666666666,
             "#ed7953"
            ],
            [
             0.7777777777777778,
             "#fb9f3a"
            ],
            [
             0.8888888888888888,
             "#fdca26"
            ],
            [
             1,
             "#f0f921"
            ]
           ]
          },
          "colorway": [
           "#636efa",
           "#EF553B",
           "#00cc96",
           "#ab63fa",
           "#FFA15A",
           "#19d3f3",
           "#FF6692",
           "#B6E880",
           "#FF97FF",
           "#FECB52"
          ],
          "font": {
           "color": "#2a3f5f"
          },
          "geo": {
           "bgcolor": "white",
           "lakecolor": "white",
           "landcolor": "white",
           "showlakes": true,
           "showland": true,
           "subunitcolor": "#C8D4E3"
          },
          "hoverlabel": {
           "align": "left"
          },
          "hovermode": "closest",
          "mapbox": {
           "style": "light"
          },
          "paper_bgcolor": "white",
          "plot_bgcolor": "white",
          "polar": {
           "angularaxis": {
            "gridcolor": "#EBF0F8",
            "linecolor": "#EBF0F8",
            "ticks": ""
           },
           "bgcolor": "white",
           "radialaxis": {
            "gridcolor": "#EBF0F8",
            "linecolor": "#EBF0F8",
            "ticks": ""
           }
          },
          "scene": {
           "xaxis": {
            "backgroundcolor": "white",
            "gridcolor": "#DFE8F3",
            "gridwidth": 2,
            "linecolor": "#EBF0F8",
            "showbackground": true,
            "ticks": "",
            "zerolinecolor": "#EBF0F8"
           },
           "yaxis": {
            "backgroundcolor": "white",
            "gridcolor": "#DFE8F3",
            "gridwidth": 2,
            "linecolor": "#EBF0F8",
            "showbackground": true,
            "ticks": "",
            "zerolinecolor": "#EBF0F8"
           },
           "zaxis": {
            "backgroundcolor": "white",
            "gridcolor": "#DFE8F3",
            "gridwidth": 2,
            "linecolor": "#EBF0F8",
            "showbackground": true,
            "ticks": "",
            "zerolinecolor": "#EBF0F8"
           }
          },
          "shapedefaults": {
           "line": {
            "color": "#2a3f5f"
           }
          },
          "ternary": {
           "aaxis": {
            "gridcolor": "#DFE8F3",
            "linecolor": "#A2B1C6",
            "ticks": ""
           },
           "baxis": {
            "gridcolor": "#DFE8F3",
            "linecolor": "#A2B1C6",
            "ticks": ""
           },
           "bgcolor": "white",
           "caxis": {
            "gridcolor": "#DFE8F3",
            "linecolor": "#A2B1C6",
            "ticks": ""
           }
          },
          "title": {
           "x": 0.05
          },
          "xaxis": {
           "automargin": true,
           "gridcolor": "#EBF0F8",
           "linecolor": "#EBF0F8",
           "ticks": "",
           "title": {
            "standoff": 15
           },
           "zerolinecolor": "#EBF0F8",
           "zerolinewidth": 2
          },
          "yaxis": {
           "automargin": true,
           "gridcolor": "#EBF0F8",
           "linecolor": "#EBF0F8",
           "ticks": "",
           "title": {
            "standoff": 15
           },
           "zerolinecolor": "#EBF0F8",
           "zerolinewidth": 2
          }
         }
        },
        "title": {
         "font": {
          "size": 20
         },
         "text": "Probability by Attribute for each Grade"
        },
        "width": 1650,
        "xaxis": {
         "anchor": "y",
         "domain": [
          0,
          1
         ],
         "range": [
          -0.01,
          1.01
         ],
         "title": {
          "text": "Probability"
         }
        },
        "yaxis": {
         "anchor": "x",
         "domain": [
          0,
          1
         ],
         "tickfont": {
          "size": 10
         },
         "tickmode": "linear",
         "title": {
          "text": ""
         },
         "zeroline": false
        }
       }
      }
     },
     "metadata": {},
     "output_type": "display_data"
    }
   ],
   "source": [
    "# Create probabilities plot by attribute and grade.\n",
    "probabilities = funs.linear_coefficients(L1, 'logisticregression', proba=True)"
   ]
  },
  {
   "cell_type": "code",
   "execution_count": 186,
   "metadata": {},
   "outputs": [],
   "source": [
    "# Prepare the DataFrame for plotting.\n",
    "df = probabilities.melt(id_vars='Variable', var_name='Grades', value_name='Coefficient')"
   ]
  },
  {
   "cell_type": "code",
   "execution_count": 228,
   "metadata": {},
   "outputs": [
    {
     "data": {
      "application/vnd.plotly.v1+json": {
       "config": {
        "plotlyServerURL": "https://plot.ly"
       },
       "data": [
        {
         "marker": {
          "color": [
           "maroon",
           "maroon",
           "maroon",
           "maroon",
           "maroon",
           "maroon",
           "maroon",
           "maroon",
           "maroon",
           "maroon",
           "maroon",
           "maroon",
           "maroon",
           "maroon",
           "maroon",
           "maroon",
           "maroon",
           "maroon",
           "maroon",
           "maroon",
           "maroon",
           "maroon",
           "maroon",
           "maroon",
           "maroon",
           "maroon",
           "maroon",
           "maroon",
           "maroon",
           "maroon",
           "maroon",
           "maroon",
           "maroon"
          ],
          "size": 10
         },
         "mode": "markers",
         "name": "AA",
         "type": "scatter",
         "x": [
          0.9628458049050387,
          0.042413191929368176,
          0.002935621019106035,
          0.9972057588227945,
          0.9512045949065911,
          0.9999570098205474,
          0.679914230890448,
          0.33095311084401413,
          0.2437314541416551,
          0.7652766367521011,
          0.3381544652750513,
          0.6728337104013841,
          0.019789867578006583,
          0.08103919433269971,
          0.5060085353795788,
          0.11418428748237681,
          0.6029187811471488,
          0.0010500843488490225,
          0.020096860775603423,
          0.8161302540439649,
          0.9988836941428529,
          0.004564601827258699,
          0.6250239346302198,
          0.4164892782763959,
          0.597087977570839,
          0.5706608082065774,
          0.9788211459413471,
          0.5623514404494847,
          0.29617026538227503,
          0.656235539679771,
          0.6690812088744252,
          0.011797276375256287,
          0.000004362196211720941
         ],
         "y": [
          "Age: 18-21",
          "Age: 22-25",
          "Sex: female",
          "Sex: male",
          "Scholarship: 50%",
          "Scholarship: 75%",
          "Additional Work: No",
          "Additional Work: Yes",
          "Regular Artistic or Sports Activity: No",
          "Regular Artistic or Sports Activity: Yes",
          "Partener: No",
          "Partener: Yes",
          "Total Salary: USD 135-200",
          "Transportation to University: Bus",
          "Accommodation Type: dormitory",
          "Accommodation Type: rental",
          "Mothers Education: high school",
          "Mothers Education: primary school",
          "Fathers Education: high school",
          "Number of Siblings: 2",
          "Mothers Occupation: housewife",
          "Weekly Study Hours: <5 hours",
          "Reading Frequency (non-scientific books/journals): Sometimes",
          "Taking Notes in Classes: always",
          "Taking Notes in Classes: sometimes",
          "Listening in Classes: sometimes",
          "Discussion Improves my Interest and Success in the Course: always",
          "Discussion Improves my Interest and Success in the Course: sometimes",
          "Flip-classroom: not useful",
          "Flip-classroom: useful",
          "Cumulative Grade Point Average in the Last Semester: 3.00-3.49",
          "Expected Cumulative Grade Point Average in the Graduation: 2.50-2.99",
          "Course ID: 1"
         ]
        },
        {
         "marker": {
          "color": [
           "red",
           "red",
           "red",
           "red",
           "red",
           "red",
           "red",
           "red",
           "red",
           "red",
           "red",
           "red",
           "red",
           "red",
           "red",
           "red",
           "red",
           "red",
           "red",
           "red",
           "red",
           "red",
           "red",
           "red",
           "red",
           "red",
           "red",
           "red",
           "red",
           "red",
           "red",
           "red",
           "red"
          ],
          "size": 10
         },
         "mode": "markers",
         "name": "BA",
         "type": "scatter",
         "x": [
          0.6896474603062929,
          0.6464160545485773,
          0.06819828390587085,
          0.977621381119543,
          0.13370492028970019,
          0.01727498289138818,
          0.664411273405249,
          0.617582771362049,
          0.7924190902498409,
          0.4558023129666011,
          0.6793714292541955,
          0.6014309997428429,
          0.9609600545524399,
          0.9280403959865409,
          0.00012677802851835545,
          0.05645069798780026,
          0.8245132350981861,
          0.9417695915838807,
          0.8788956601955137,
          0.3011493309051283,
          0.10938799147131117,
          0.8718555307668129,
          0.12442083639890379,
          0.06410579708337925,
          0.9833831823323715,
          0.05862714961410111,
          0.26006655149927954,
          0.7204987282333545,
          0.037430472729427296,
          0.873421102863559,
          0.07053338392906607,
          0.8257854779913568,
          0.0011558140661909694
         ],
         "y": [
          "Age: 18-21",
          "Age: 22-25",
          "Sex: female",
          "Sex: male",
          "Scholarship: 50%",
          "Scholarship: 75%",
          "Additional Work: No",
          "Additional Work: Yes",
          "Regular Artistic or Sports Activity: No",
          "Regular Artistic or Sports Activity: Yes",
          "Partener: No",
          "Partener: Yes",
          "Total Salary: USD 135-200",
          "Transportation to University: Bus",
          "Accommodation Type: dormitory",
          "Accommodation Type: rental",
          "Mothers Education: high school",
          "Mothers Education: primary school",
          "Fathers Education: high school",
          "Number of Siblings: 2",
          "Mothers Occupation: housewife",
          "Weekly Study Hours: <5 hours",
          "Reading Frequency (non-scientific books/journals): Sometimes",
          "Taking Notes in Classes: always",
          "Taking Notes in Classes: sometimes",
          "Listening in Classes: sometimes",
          "Discussion Improves my Interest and Success in the Course: always",
          "Discussion Improves my Interest and Success in the Course: sometimes",
          "Flip-classroom: not useful",
          "Flip-classroom: useful",
          "Cumulative Grade Point Average in the Last Semester: 3.00-3.49",
          "Expected Cumulative Grade Point Average in the Graduation: 2.50-2.99",
          "Course ID: 1"
         ]
        },
        {
         "marker": {
          "color": [
           "tomato",
           "tomato",
           "tomato",
           "tomato",
           "tomato",
           "tomato",
           "tomato",
           "tomato",
           "tomato",
           "tomato",
           "tomato",
           "tomato",
           "tomato",
           "tomato",
           "tomato",
           "tomato",
           "tomato",
           "tomato",
           "tomato",
           "tomato",
           "tomato",
           "tomato",
           "tomato",
           "tomato",
           "tomato",
           "tomato",
           "tomato",
           "tomato",
           "tomato",
           "tomato",
           "tomato",
           "tomato",
           "tomato"
          ],
          "size": 10
         },
         "mode": "markers",
         "name": "BB",
         "type": "scatter",
         "x": [
          0.22795784465241611,
          0.9851630469903195,
          0.2653468545002327,
          0.208222795025276,
          0.8943801067832154,
          0.9932182136362061,
          0.42929945994966284,
          0.11211449984178318,
          0.13159479637392202,
          0.38530260876435934,
          0.34632558281955267,
          0.15202554315731007,
          0.8834588177342526,
          0.15804769798834625,
          0.7452783834407302,
          0.047230051889982985,
          0.22586475130847325,
          0.9510454121062037,
          0.023762174974283977,
          0.3700485183116232,
          0.9067306395485805,
          0.470057243268571,
          0.48705545118647064,
          0.7646178441729198,
          0.11288063728005775,
          0.9960585369145739,
          0.8417063237598555,
          0.9798540493036942,
          0.798462715510985,
          0.804197015883961,
          0.97009736149227,
          0.6482988246995829,
          0.9309547587819319
         ],
         "y": [
          "Age: 18-21",
          "Age: 22-25",
          "Sex: female",
          "Sex: male",
          "Scholarship: 50%",
          "Scholarship: 75%",
          "Additional Work: No",
          "Additional Work: Yes",
          "Regular Artistic or Sports Activity: No",
          "Regular Artistic or Sports Activity: Yes",
          "Partener: No",
          "Partener: Yes",
          "Total Salary: USD 135-200",
          "Transportation to University: Bus",
          "Accommodation Type: dormitory",
          "Accommodation Type: rental",
          "Mothers Education: high school",
          "Mothers Education: primary school",
          "Fathers Education: high school",
          "Number of Siblings: 2",
          "Mothers Occupation: housewife",
          "Weekly Study Hours: <5 hours",
          "Reading Frequency (non-scientific books/journals): Sometimes",
          "Taking Notes in Classes: always",
          "Taking Notes in Classes: sometimes",
          "Listening in Classes: sometimes",
          "Discussion Improves my Interest and Success in the Course: always",
          "Discussion Improves my Interest and Success in the Course: sometimes",
          "Flip-classroom: not useful",
          "Flip-classroom: useful",
          "Cumulative Grade Point Average in the Last Semester: 3.00-3.49",
          "Expected Cumulative Grade Point Average in the Graduation: 2.50-2.99",
          "Course ID: 1"
         ]
        },
        {
         "marker": {
          "color": [
           "darksalmon",
           "darksalmon",
           "darksalmon",
           "darksalmon",
           "darksalmon",
           "darksalmon",
           "darksalmon",
           "darksalmon",
           "darksalmon",
           "darksalmon",
           "darksalmon",
           "darksalmon",
           "darksalmon",
           "darksalmon",
           "darksalmon",
           "darksalmon",
           "darksalmon",
           "darksalmon",
           "darksalmon",
           "darksalmon",
           "darksalmon",
           "darksalmon",
           "darksalmon",
           "darksalmon",
           "darksalmon",
           "darksalmon",
           "darksalmon",
           "darksalmon",
           "darksalmon",
           "darksalmon",
           "darksalmon",
           "darksalmon",
           "darksalmon"
          ],
          "size": 10
         },
         "mode": "markers",
         "name": "CB",
         "type": "scatter",
         "x": [
          0.674077599128701,
          0.9399062309401898,
          0.7288079763631506,
          0.3501399147095376,
          0.7702180868131674,
          0.0030759500408164184,
          0.11754370614180336,
          0.9157579531696005,
          0.4443754007723381,
          0.6441866168943168,
          0.7917085398737984,
          0.27585903606120205,
          0.023992425990995353,
          0.7543787447497522,
          0.21263357739885233,
          0.9950412392025265,
          0.00012134160666920473,
          0.597026024490127,
          0.9917702810040702,
          0.024522479837894604,
          0.00982180419768677,
          0.9924229437089952,
          0.09693250842951087,
          0.7417631661231667,
          0.7415519700784643,
          0.02759296719322362,
          0.9977075653032917,
          0.9094244496004886,
          0.0975928713437671,
          0.002168082532893659,
          0.5410680377967142,
          0.7497747603759685,
          0.062105496852345184
         ],
         "y": [
          "Age: 18-21",
          "Age: 22-25",
          "Sex: female",
          "Sex: male",
          "Scholarship: 50%",
          "Scholarship: 75%",
          "Additional Work: No",
          "Additional Work: Yes",
          "Regular Artistic or Sports Activity: No",
          "Regular Artistic or Sports Activity: Yes",
          "Partener: No",
          "Partener: Yes",
          "Total Salary: USD 135-200",
          "Transportation to University: Bus",
          "Accommodation Type: dormitory",
          "Accommodation Type: rental",
          "Mothers Education: high school",
          "Mothers Education: primary school",
          "Fathers Education: high school",
          "Number of Siblings: 2",
          "Mothers Occupation: housewife",
          "Weekly Study Hours: <5 hours",
          "Reading Frequency (non-scientific books/journals): Sometimes",
          "Taking Notes in Classes: always",
          "Taking Notes in Classes: sometimes",
          "Listening in Classes: sometimes",
          "Discussion Improves my Interest and Success in the Course: always",
          "Discussion Improves my Interest and Success in the Course: sometimes",
          "Flip-classroom: not useful",
          "Flip-classroom: useful",
          "Cumulative Grade Point Average in the Last Semester: 3.00-3.49",
          "Expected Cumulative Grade Point Average in the Graduation: 2.50-2.99",
          "Course ID: 1"
         ]
        },
        {
         "marker": {
          "color": [
           "firebrick",
           "firebrick",
           "firebrick",
           "firebrick",
           "firebrick",
           "firebrick",
           "firebrick",
           "firebrick",
           "firebrick",
           "firebrick",
           "firebrick",
           "firebrick",
           "firebrick",
           "firebrick",
           "firebrick",
           "firebrick",
           "firebrick",
           "firebrick",
           "firebrick",
           "firebrick",
           "firebrick",
           "firebrick",
           "firebrick",
           "firebrick",
           "firebrick",
           "firebrick",
           "firebrick",
           "firebrick",
           "firebrick",
           "firebrick",
           "firebrick",
           "firebrick",
           "firebrick"
          ],
          "size": 10
         },
         "mode": "markers",
         "name": "CC",
         "type": "scatter",
         "x": [
          0.20288183249152433,
          0.29998283454913044,
          0.5574048821322706,
          0.1964672159907937,
          0.9234431033715225,
          0.27530000578581804,
          0.46347908425127826,
          0.2627853337225535,
          0.8725298821607336,
          0.04304950753951958,
          0.16058902415447793,
          0.6167948621935915,
          0.6269203819802316,
          0.2898035837640154,
          0.9917942814246077,
          0.18366777289229477,
          0.19651307272866797,
          0.7725441478295901,
          0.2801532918047574,
          0.5227865951601584,
          0.7410306874170567,
          0.28378214311837097,
          0.9599645165934838,
          0.9914844496845265,
          0.31961311209617904,
          0.28867606352322767,
          0.869506041060015,
          0.1576015985083143,
          0.9805256472253733,
          0.7848460321113159,
          0.7288391228685437,
          0.9680563273027635,
          0.6495857775558496
         ],
         "y": [
          "Age: 18-21",
          "Age: 22-25",
          "Sex: female",
          "Sex: male",
          "Scholarship: 50%",
          "Scholarship: 75%",
          "Additional Work: No",
          "Additional Work: Yes",
          "Regular Artistic or Sports Activity: No",
          "Regular Artistic or Sports Activity: Yes",
          "Partener: No",
          "Partener: Yes",
          "Total Salary: USD 135-200",
          "Transportation to University: Bus",
          "Accommodation Type: dormitory",
          "Accommodation Type: rental",
          "Mothers Education: high school",
          "Mothers Education: primary school",
          "Fathers Education: high school",
          "Number of Siblings: 2",
          "Mothers Occupation: housewife",
          "Weekly Study Hours: <5 hours",
          "Reading Frequency (non-scientific books/journals): Sometimes",
          "Taking Notes in Classes: always",
          "Taking Notes in Classes: sometimes",
          "Listening in Classes: sometimes",
          "Discussion Improves my Interest and Success in the Course: always",
          "Discussion Improves my Interest and Success in the Course: sometimes",
          "Flip-classroom: not useful",
          "Flip-classroom: useful",
          "Cumulative Grade Point Average in the Last Semester: 3.00-3.49",
          "Expected Cumulative Grade Point Average in the Graduation: 2.50-2.99",
          "Course ID: 1"
         ]
        },
        {
         "marker": {
          "color": [
           "darkseagreen",
           "darkseagreen",
           "darkseagreen",
           "darkseagreen",
           "darkseagreen",
           "darkseagreen",
           "darkseagreen",
           "darkseagreen",
           "darkseagreen",
           "darkseagreen",
           "darkseagreen",
           "darkseagreen",
           "darkseagreen",
           "darkseagreen",
           "darkseagreen",
           "darkseagreen",
           "darkseagreen",
           "darkseagreen",
           "darkseagreen",
           "darkseagreen",
           "darkseagreen",
           "darkseagreen",
           "darkseagreen",
           "darkseagreen",
           "darkseagreen",
           "darkseagreen",
           "darkseagreen",
           "darkseagreen",
           "darkseagreen",
           "darkseagreen",
           "darkseagreen",
           "darkseagreen",
           "darkseagreen"
          ],
          "size": 10
         },
         "mode": "markers",
         "name": "DC",
         "type": "scatter",
         "x": [
          0.748724289643761,
          0.9090267867313817,
          0.9578570577580005,
          0.3739419507631477,
          0.009127249277983703,
          0.03332038451139624,
          0.5841144652641769,
          0.9062430640632558,
          0.6391039983719572,
          0.8846081904631159,
          0.980739801312913,
          0.21048945118214996,
          0.26548704133738893,
          0.9883892199295135,
          0.9740544703602142,
          0.9542479896269396,
          0.8059483146002295,
          0.015501353769679992,
          0.9899186093052416,
          0.9173688830436199,
          0.008892378983256457,
          0.4537263231601878,
          0.11513510156925741,
          0.000051414437599714785,
          0.0011578091091558153,
          0.5161010213745701,
          0.007379679850299367,
          0.20638590163629622,
          0.33892621572372156,
          0.21901239433954828,
          0.26963318479217696,
          0.08436608006260499,
          0.9999223401176781
         ],
         "y": [
          "Age: 18-21",
          "Age: 22-25",
          "Sex: female",
          "Sex: male",
          "Scholarship: 50%",
          "Scholarship: 75%",
          "Additional Work: No",
          "Additional Work: Yes",
          "Regular Artistic or Sports Activity: No",
          "Regular Artistic or Sports Activity: Yes",
          "Partener: No",
          "Partener: Yes",
          "Total Salary: USD 135-200",
          "Transportation to University: Bus",
          "Accommodation Type: dormitory",
          "Accommodation Type: rental",
          "Mothers Education: high school",
          "Mothers Education: primary school",
          "Fathers Education: high school",
          "Number of Siblings: 2",
          "Mothers Occupation: housewife",
          "Weekly Study Hours: <5 hours",
          "Reading Frequency (non-scientific books/journals): Sometimes",
          "Taking Notes in Classes: always",
          "Taking Notes in Classes: sometimes",
          "Listening in Classes: sometimes",
          "Discussion Improves my Interest and Success in the Course: always",
          "Discussion Improves my Interest and Success in the Course: sometimes",
          "Flip-classroom: not useful",
          "Flip-classroom: useful",
          "Cumulative Grade Point Average in the Last Semester: 3.00-3.49",
          "Expected Cumulative Grade Point Average in the Graduation: 2.50-2.99",
          "Course ID: 1"
         ]
        },
        {
         "marker": {
          "color": [
           "seagreen",
           "seagreen",
           "seagreen",
           "seagreen",
           "seagreen",
           "seagreen",
           "seagreen",
           "seagreen",
           "seagreen",
           "seagreen",
           "seagreen",
           "seagreen",
           "seagreen",
           "seagreen",
           "seagreen",
           "seagreen",
           "seagreen",
           "seagreen",
           "seagreen",
           "seagreen",
           "seagreen",
           "seagreen",
           "seagreen",
           "seagreen",
           "seagreen",
           "seagreen",
           "seagreen",
           "seagreen",
           "seagreen",
           "seagreen",
           "seagreen",
           "seagreen",
           "seagreen"
          ],
          "size": 10
         },
         "mode": "markers",
         "name": "DD",
         "type": "scatter",
         "x": [
          0.00598264623623783,
          0.019326563155405214,
          0.8687794732496232,
          0.08413427366073029,
          0.08254710015142876,
          0.014786948616269203,
          0.7349961388723776,
          0.17984962920713446,
          0.618389025031754,
          0.2728993645498703,
          0.3722900573519183,
          0.5062894598147328,
          0.5325545377953367,
          0.31274664285019677,
          0.8207037143003157,
          0.22837559294677168,
          0.9574533034870527,
          0.9672971390446508,
          0.40992785637724105,
          0.9568103292914003,
          0.8510309025004308,
          0.8492567327343951,
          0.8990346390308362,
          0.9998314175066794,
          0.9732132163067001,
          0.26926088712364293,
          0.0024370232326631795,
          0.026230716507983073,
          0.9741686303938872,
          0.9735524261947857,
          0.07915872688287383,
          0.8941754153070226,
          0.9994800949215565
         ],
         "y": [
          "Age: 18-21",
          "Age: 22-25",
          "Sex: female",
          "Sex: male",
          "Scholarship: 50%",
          "Scholarship: 75%",
          "Additional Work: No",
          "Additional Work: Yes",
          "Regular Artistic or Sports Activity: No",
          "Regular Artistic or Sports Activity: Yes",
          "Partener: No",
          "Partener: Yes",
          "Total Salary: USD 135-200",
          "Transportation to University: Bus",
          "Accommodation Type: dormitory",
          "Accommodation Type: rental",
          "Mothers Education: high school",
          "Mothers Education: primary school",
          "Fathers Education: high school",
          "Number of Siblings: 2",
          "Mothers Occupation: housewife",
          "Weekly Study Hours: <5 hours",
          "Reading Frequency (non-scientific books/journals): Sometimes",
          "Taking Notes in Classes: always",
          "Taking Notes in Classes: sometimes",
          "Listening in Classes: sometimes",
          "Discussion Improves my Interest and Success in the Course: always",
          "Discussion Improves my Interest and Success in the Course: sometimes",
          "Flip-classroom: not useful",
          "Flip-classroom: useful",
          "Cumulative Grade Point Average in the Last Semester: 3.00-3.49",
          "Expected Cumulative Grade Point Average in the Graduation: 2.50-2.99",
          "Course ID: 1"
         ]
        },
        {
         "marker": {
          "color": [
           "lightseagreen",
           "lightseagreen",
           "lightseagreen",
           "lightseagreen",
           "lightseagreen",
           "lightseagreen",
           "lightseagreen",
           "lightseagreen",
           "lightseagreen",
           "lightseagreen",
           "lightseagreen",
           "lightseagreen",
           "lightseagreen",
           "lightseagreen",
           "lightseagreen",
           "lightseagreen",
           "lightseagreen",
           "lightseagreen",
           "lightseagreen",
           "lightseagreen",
           "lightseagreen",
           "lightseagreen",
           "lightseagreen",
           "lightseagreen",
           "lightseagreen",
           "lightseagreen",
           "lightseagreen",
           "lightseagreen",
           "lightseagreen",
           "lightseagreen",
           "lightseagreen",
           "lightseagreen",
           "lightseagreen"
          ],
          "size": 10
         },
         "mode": "markers",
         "name": "Fail",
         "type": "scatter",
         "x": [
          0.8616848881907563,
          0.12351071973886898,
          0.9618706854367848,
          0.03264112110525277,
          0.5394550714796459,
          0.9649612077367506,
          0.4135649951332104,
          0.5468985096430647,
          0.25453043073140424,
          0.7137145823259337,
          0.07355033446780149,
          0.9146896987244488,
          0.939777260805695,
          0.08798966648736885,
          0.31933548820007085,
          0.9037150688852982,
          0.9942590928795587,
          0.5636903215687292,
          0.07942256789207057,
          0.11613955052546336,
          0.3914805860652514,
          0.1295316085897586,
          0.5985710733895567,
          0.05814919397373219,
          0.6122052110274192,
          0.9135147249698276,
          0.18020040219993663,
          0.32051634769741955,
          0.12779114654455923,
          0.18428243268645472,
          0.6664063258976495,
          0.11941373059350721,
          0.8286403101705312
         ],
         "y": [
          "Age: 18-21",
          "Age: 22-25",
          "Sex: female",
          "Sex: male",
          "Scholarship: 50%",
          "Scholarship: 75%",
          "Additional Work: No",
          "Additional Work: Yes",
          "Regular Artistic or Sports Activity: No",
          "Regular Artistic or Sports Activity: Yes",
          "Partener: No",
          "Partener: Yes",
          "Total Salary: USD 135-200",
          "Transportation to University: Bus",
          "Accommodation Type: dormitory",
          "Accommodation Type: rental",
          "Mothers Education: high school",
          "Mothers Education: primary school",
          "Fathers Education: high school",
          "Number of Siblings: 2",
          "Mothers Occupation: housewife",
          "Weekly Study Hours: <5 hours",
          "Reading Frequency (non-scientific books/journals): Sometimes",
          "Taking Notes in Classes: always",
          "Taking Notes in Classes: sometimes",
          "Listening in Classes: sometimes",
          "Discussion Improves my Interest and Success in the Course: always",
          "Discussion Improves my Interest and Success in the Course: sometimes",
          "Flip-classroom: not useful",
          "Flip-classroom: useful",
          "Cumulative Grade Point Average in the Last Semester: 3.00-3.49",
          "Expected Cumulative Grade Point Average in the Graduation: 2.50-2.99",
          "Course ID: 1"
         ]
        }
       ],
       "layout": {
        "height": 650,
        "margin": {
         "pad": 20
        },
        "showlegend": true,
        "template": {
         "data": {
          "bar": [
           {
            "error_x": {
             "color": "#2a3f5f"
            },
            "error_y": {
             "color": "#2a3f5f"
            },
            "marker": {
             "line": {
              "color": "white",
              "width": 0.5
             },
             "pattern": {
              "fillmode": "overlay",
              "size": 10,
              "solidity": 0.2
             }
            },
            "type": "bar"
           }
          ],
          "barpolar": [
           {
            "marker": {
             "line": {
              "color": "white",
              "width": 0.5
             },
             "pattern": {
              "fillmode": "overlay",
              "size": 10,
              "solidity": 0.2
             }
            },
            "type": "barpolar"
           }
          ],
          "carpet": [
           {
            "aaxis": {
             "endlinecolor": "#2a3f5f",
             "gridcolor": "#C8D4E3",
             "linecolor": "#C8D4E3",
             "minorgridcolor": "#C8D4E3",
             "startlinecolor": "#2a3f5f"
            },
            "baxis": {
             "endlinecolor": "#2a3f5f",
             "gridcolor": "#C8D4E3",
             "linecolor": "#C8D4E3",
             "minorgridcolor": "#C8D4E3",
             "startlinecolor": "#2a3f5f"
            },
            "type": "carpet"
           }
          ],
          "choropleth": [
           {
            "colorbar": {
             "outlinewidth": 0,
             "ticks": ""
            },
            "type": "choropleth"
           }
          ],
          "contour": [
           {
            "colorbar": {
             "outlinewidth": 0,
             "ticks": ""
            },
            "colorscale": [
             [
              0,
              "#0d0887"
             ],
             [
              0.1111111111111111,
              "#46039f"
             ],
             [
              0.2222222222222222,
              "#7201a8"
             ],
             [
              0.3333333333333333,
              "#9c179e"
             ],
             [
              0.4444444444444444,
              "#bd3786"
             ],
             [
              0.5555555555555556,
              "#d8576b"
             ],
             [
              0.6666666666666666,
              "#ed7953"
             ],
             [
              0.7777777777777778,
              "#fb9f3a"
             ],
             [
              0.8888888888888888,
              "#fdca26"
             ],
             [
              1,
              "#f0f921"
             ]
            ],
            "type": "contour"
           }
          ],
          "contourcarpet": [
           {
            "colorbar": {
             "outlinewidth": 0,
             "ticks": ""
            },
            "type": "contourcarpet"
           }
          ],
          "heatmap": [
           {
            "colorbar": {
             "outlinewidth": 0,
             "ticks": ""
            },
            "colorscale": [
             [
              0,
              "#0d0887"
             ],
             [
              0.1111111111111111,
              "#46039f"
             ],
             [
              0.2222222222222222,
              "#7201a8"
             ],
             [
              0.3333333333333333,
              "#9c179e"
             ],
             [
              0.4444444444444444,
              "#bd3786"
             ],
             [
              0.5555555555555556,
              "#d8576b"
             ],
             [
              0.6666666666666666,
              "#ed7953"
             ],
             [
              0.7777777777777778,
              "#fb9f3a"
             ],
             [
              0.8888888888888888,
              "#fdca26"
             ],
             [
              1,
              "#f0f921"
             ]
            ],
            "type": "heatmap"
           }
          ],
          "heatmapgl": [
           {
            "colorbar": {
             "outlinewidth": 0,
             "ticks": ""
            },
            "colorscale": [
             [
              0,
              "#0d0887"
             ],
             [
              0.1111111111111111,
              "#46039f"
             ],
             [
              0.2222222222222222,
              "#7201a8"
             ],
             [
              0.3333333333333333,
              "#9c179e"
             ],
             [
              0.4444444444444444,
              "#bd3786"
             ],
             [
              0.5555555555555556,
              "#d8576b"
             ],
             [
              0.6666666666666666,
              "#ed7953"
             ],
             [
              0.7777777777777778,
              "#fb9f3a"
             ],
             [
              0.8888888888888888,
              "#fdca26"
             ],
             [
              1,
              "#f0f921"
             ]
            ],
            "type": "heatmapgl"
           }
          ],
          "histogram": [
           {
            "marker": {
             "pattern": {
              "fillmode": "overlay",
              "size": 10,
              "solidity": 0.2
             }
            },
            "type": "histogram"
           }
          ],
          "histogram2d": [
           {
            "colorbar": {
             "outlinewidth": 0,
             "ticks": ""
            },
            "colorscale": [
             [
              0,
              "#0d0887"
             ],
             [
              0.1111111111111111,
              "#46039f"
             ],
             [
              0.2222222222222222,
              "#7201a8"
             ],
             [
              0.3333333333333333,
              "#9c179e"
             ],
             [
              0.4444444444444444,
              "#bd3786"
             ],
             [
              0.5555555555555556,
              "#d8576b"
             ],
             [
              0.6666666666666666,
              "#ed7953"
             ],
             [
              0.7777777777777778,
              "#fb9f3a"
             ],
             [
              0.8888888888888888,
              "#fdca26"
             ],
             [
              1,
              "#f0f921"
             ]
            ],
            "type": "histogram2d"
           }
          ],
          "histogram2dcontour": [
           {
            "colorbar": {
             "outlinewidth": 0,
             "ticks": ""
            },
            "colorscale": [
             [
              0,
              "#0d0887"
             ],
             [
              0.1111111111111111,
              "#46039f"
             ],
             [
              0.2222222222222222,
              "#7201a8"
             ],
             [
              0.3333333333333333,
              "#9c179e"
             ],
             [
              0.4444444444444444,
              "#bd3786"
             ],
             [
              0.5555555555555556,
              "#d8576b"
             ],
             [
              0.6666666666666666,
              "#ed7953"
             ],
             [
              0.7777777777777778,
              "#fb9f3a"
             ],
             [
              0.8888888888888888,
              "#fdca26"
             ],
             [
              1,
              "#f0f921"
             ]
            ],
            "type": "histogram2dcontour"
           }
          ],
          "mesh3d": [
           {
            "colorbar": {
             "outlinewidth": 0,
             "ticks": ""
            },
            "type": "mesh3d"
           }
          ],
          "parcoords": [
           {
            "line": {
             "colorbar": {
              "outlinewidth": 0,
              "ticks": ""
             }
            },
            "type": "parcoords"
           }
          ],
          "pie": [
           {
            "automargin": true,
            "type": "pie"
           }
          ],
          "scatter": [
           {
            "fillpattern": {
             "fillmode": "overlay",
             "size": 10,
             "solidity": 0.2
            },
            "type": "scatter"
           }
          ],
          "scatter3d": [
           {
            "line": {
             "colorbar": {
              "outlinewidth": 0,
              "ticks": ""
             }
            },
            "marker": {
             "colorbar": {
              "outlinewidth": 0,
              "ticks": ""
             }
            },
            "type": "scatter3d"
           }
          ],
          "scattercarpet": [
           {
            "marker": {
             "colorbar": {
              "outlinewidth": 0,
              "ticks": ""
             }
            },
            "type": "scattercarpet"
           }
          ],
          "scattergeo": [
           {
            "marker": {
             "colorbar": {
              "outlinewidth": 0,
              "ticks": ""
             }
            },
            "type": "scattergeo"
           }
          ],
          "scattergl": [
           {
            "marker": {
             "colorbar": {
              "outlinewidth": 0,
              "ticks": ""
             }
            },
            "type": "scattergl"
           }
          ],
          "scattermapbox": [
           {
            "marker": {
             "colorbar": {
              "outlinewidth": 0,
              "ticks": ""
             }
            },
            "type": "scattermapbox"
           }
          ],
          "scatterpolar": [
           {
            "marker": {
             "colorbar": {
              "outlinewidth": 0,
              "ticks": ""
             }
            },
            "type": "scatterpolar"
           }
          ],
          "scatterpolargl": [
           {
            "marker": {
             "colorbar": {
              "outlinewidth": 0,
              "ticks": ""
             }
            },
            "type": "scatterpolargl"
           }
          ],
          "scatterternary": [
           {
            "marker": {
             "colorbar": {
              "outlinewidth": 0,
              "ticks": ""
             }
            },
            "type": "scatterternary"
           }
          ],
          "surface": [
           {
            "colorbar": {
             "outlinewidth": 0,
             "ticks": ""
            },
            "colorscale": [
             [
              0,
              "#0d0887"
             ],
             [
              0.1111111111111111,
              "#46039f"
             ],
             [
              0.2222222222222222,
              "#7201a8"
             ],
             [
              0.3333333333333333,
              "#9c179e"
             ],
             [
              0.4444444444444444,
              "#bd3786"
             ],
             [
              0.5555555555555556,
              "#d8576b"
             ],
             [
              0.6666666666666666,
              "#ed7953"
             ],
             [
              0.7777777777777778,
              "#fb9f3a"
             ],
             [
              0.8888888888888888,
              "#fdca26"
             ],
             [
              1,
              "#f0f921"
             ]
            ],
            "type": "surface"
           }
          ],
          "table": [
           {
            "cells": {
             "fill": {
              "color": "#EBF0F8"
             },
             "line": {
              "color": "white"
             }
            },
            "header": {
             "fill": {
              "color": "#C8D4E3"
             },
             "line": {
              "color": "white"
             }
            },
            "type": "table"
           }
          ]
         },
         "layout": {
          "annotationdefaults": {
           "arrowcolor": "#2a3f5f",
           "arrowhead": 0,
           "arrowwidth": 1
          },
          "autotypenumbers": "strict",
          "coloraxis": {
           "colorbar": {
            "outlinewidth": 0,
            "ticks": ""
           }
          },
          "colorscale": {
           "diverging": [
            [
             0,
             "#8e0152"
            ],
            [
             0.1,
             "#c51b7d"
            ],
            [
             0.2,
             "#de77ae"
            ],
            [
             0.3,
             "#f1b6da"
            ],
            [
             0.4,
             "#fde0ef"
            ],
            [
             0.5,
             "#f7f7f7"
            ],
            [
             0.6,
             "#e6f5d0"
            ],
            [
             0.7,
             "#b8e186"
            ],
            [
             0.8,
             "#7fbc41"
            ],
            [
             0.9,
             "#4d9221"
            ],
            [
             1,
             "#276419"
            ]
           ],
           "sequential": [
            [
             0,
             "#0d0887"
            ],
            [
             0.1111111111111111,
             "#46039f"
            ],
            [
             0.2222222222222222,
             "#7201a8"
            ],
            [
             0.3333333333333333,
             "#9c179e"
            ],
            [
             0.4444444444444444,
             "#bd3786"
            ],
            [
             0.5555555555555556,
             "#d8576b"
            ],
            [
             0.6666666666666666,
             "#ed7953"
            ],
            [
             0.7777777777777778,
             "#fb9f3a"
            ],
            [
             0.8888888888888888,
             "#fdca26"
            ],
            [
             1,
             "#f0f921"
            ]
           ],
           "sequentialminus": [
            [
             0,
             "#0d0887"
            ],
            [
             0.1111111111111111,
             "#46039f"
            ],
            [
             0.2222222222222222,
             "#7201a8"
            ],
            [
             0.3333333333333333,
             "#9c179e"
            ],
            [
             0.4444444444444444,
             "#bd3786"
            ],
            [
             0.5555555555555556,
             "#d8576b"
            ],
            [
             0.6666666666666666,
             "#ed7953"
            ],
            [
             0.7777777777777778,
             "#fb9f3a"
            ],
            [
             0.8888888888888888,
             "#fdca26"
            ],
            [
             1,
             "#f0f921"
            ]
           ]
          },
          "colorway": [
           "#636efa",
           "#EF553B",
           "#00cc96",
           "#ab63fa",
           "#FFA15A",
           "#19d3f3",
           "#FF6692",
           "#B6E880",
           "#FF97FF",
           "#FECB52"
          ],
          "font": {
           "color": "#2a3f5f"
          },
          "geo": {
           "bgcolor": "white",
           "lakecolor": "white",
           "landcolor": "white",
           "showlakes": true,
           "showland": true,
           "subunitcolor": "#C8D4E3"
          },
          "hoverlabel": {
           "align": "left"
          },
          "hovermode": "closest",
          "mapbox": {
           "style": "light"
          },
          "paper_bgcolor": "white",
          "plot_bgcolor": "white",
          "polar": {
           "angularaxis": {
            "gridcolor": "#EBF0F8",
            "linecolor": "#EBF0F8",
            "ticks": ""
           },
           "bgcolor": "white",
           "radialaxis": {
            "gridcolor": "#EBF0F8",
            "linecolor": "#EBF0F8",
            "ticks": ""
           }
          },
          "scene": {
           "xaxis": {
            "backgroundcolor": "white",
            "gridcolor": "#DFE8F3",
            "gridwidth": 2,
            "linecolor": "#EBF0F8",
            "showbackground": true,
            "ticks": "",
            "zerolinecolor": "#EBF0F8"
           },
           "yaxis": {
            "backgroundcolor": "white",
            "gridcolor": "#DFE8F3",
            "gridwidth": 2,
            "linecolor": "#EBF0F8",
            "showbackground": true,
            "ticks": "",
            "zerolinecolor": "#EBF0F8"
           },
           "zaxis": {
            "backgroundcolor": "white",
            "gridcolor": "#DFE8F3",
            "gridwidth": 2,
            "linecolor": "#EBF0F8",
            "showbackground": true,
            "ticks": "",
            "zerolinecolor": "#EBF0F8"
           }
          },
          "shapedefaults": {
           "line": {
            "color": "#2a3f5f"
           }
          },
          "ternary": {
           "aaxis": {
            "gridcolor": "#DFE8F3",
            "linecolor": "#A2B1C6",
            "ticks": ""
           },
           "baxis": {
            "gridcolor": "#DFE8F3",
            "linecolor": "#A2B1C6",
            "ticks": ""
           },
           "bgcolor": "white",
           "caxis": {
            "gridcolor": "#DFE8F3",
            "linecolor": "#A2B1C6",
            "ticks": ""
           }
          },
          "title": {
           "x": 0.05
          },
          "xaxis": {
           "automargin": true,
           "gridcolor": "#EBF0F8",
           "linecolor": "#EBF0F8",
           "ticks": "",
           "title": {
            "standoff": 15
           },
           "zerolinecolor": "#EBF0F8",
           "zerolinewidth": 2
          },
          "yaxis": {
           "automargin": true,
           "gridcolor": "#EBF0F8",
           "linecolor": "#EBF0F8",
           "ticks": "",
           "title": {
            "standoff": 15
           },
           "zerolinecolor": "#EBF0F8",
           "zerolinewidth": 2
          }
         }
        },
        "title": {
         "text": "Probabilities for: "
        },
        "updatemenus": [
         {
          "active": 0,
          "buttons": [
           {
            "args": [
             {
              "visible": [
               true,
               false,
               false,
               false,
               false,
               false,
               false,
               false
              ]
             },
             {
              "showlegend": true,
              "title": "AA"
             }
            ],
            "label": "AA",
            "method": "update"
           },
           {
            "args": [
             {
              "visible": [
               false,
               true,
               false,
               false,
               false,
               false,
               false,
               false
              ]
             },
             {
              "showlegend": true,
              "title": "BA"
             }
            ],
            "label": "BA",
            "method": "update"
           },
           {
            "args": [
             {
              "visible": [
               false,
               false,
               true,
               false,
               false,
               false,
               false,
               false
              ]
             },
             {
              "showlegend": true,
              "title": "BB"
             }
            ],
            "label": "BB",
            "method": "update"
           },
           {
            "args": [
             {
              "visible": [
               false,
               false,
               false,
               true,
               false,
               false,
               false,
               false
              ]
             },
             {
              "showlegend": true,
              "title": "CB"
             }
            ],
            "label": "CB",
            "method": "update"
           },
           {
            "args": [
             {
              "visible": [
               false,
               false,
               false,
               false,
               true,
               false,
               false,
               false
              ]
             },
             {
              "showlegend": true,
              "title": "CC"
             }
            ],
            "label": "CC",
            "method": "update"
           },
           {
            "args": [
             {
              "visible": [
               false,
               false,
               false,
               false,
               false,
               true,
               false,
               false
              ]
             },
             {
              "showlegend": true,
              "title": "DC"
             }
            ],
            "label": "DC",
            "method": "update"
           },
           {
            "args": [
             {
              "visible": [
               false,
               false,
               false,
               false,
               false,
               false,
               true,
               false
              ]
             },
             {
              "showlegend": true,
              "title": "DD"
             }
            ],
            "label": "DD",
            "method": "update"
           },
           {
            "args": [
             {
              "visible": [
               false,
               false,
               false,
               false,
               false,
               false,
               false,
               true
              ]
             },
             {
              "showlegend": true,
              "title": "Fail"
             }
            ],
            "label": "Fail",
            "method": "update"
           }
          ],
          "x": -0.1,
          "y": 1.155
         }
        ],
        "width": 1650,
        "xaxis": {
         "range": [
          -0.01,
          1.01
         ]
        },
        "yaxis": {
         "tickfont": {
          "size": 10
         },
         "tickmode": "linear",
         "zeroline": false
        }
       }
      }
     },
     "metadata": {},
     "output_type": "display_data"
    }
   ],
   "source": [
    "funs.probabilities_by_grade(probabilities, probabilities.columns[0:-1])"
   ]
  },
  {
   "attachments": {},
   "cell_type": "markdown",
   "metadata": {},
   "source": [
    "### 5.1.b Best Random Forest Classifier"
   ]
  },
  {
   "cell_type": "code",
   "execution_count": null,
   "metadata": {},
   "outputs": [],
   "source": [
    "# Option 1: Load the model from best_estimators using pickle.\n",
    "RFC = joblib.load('../working/best_estimators/randomforest.joblib')"
   ]
  },
  {
   "cell_type": "code",
   "execution_count": null,
   "metadata": {},
   "outputs": [],
   "source": [
    "_ = (RFC\n",
    "     # .set_params(**extra_params)\n",
    "     .fit(X_train, y_train))"
   ]
  },
  {
   "attachments": {},
   "cell_type": "markdown",
   "metadata": {},
   "source": [
    "<br>\n",
    "\n",
    "Overall Test Performance Report"
   ]
  },
  {
   "cell_type": "code",
   "execution_count": null,
   "metadata": {},
   "outputs": [
    {
     "name": "stdout",
     "output_type": "stream",
     "text": [
      "\t\t TRAIN \t TEST\n",
      "\n",
      "Accuracy: \t 1.000 \t 0.310\n",
      "Recall: \t 1.000 \t 0.310\n",
      "Precision: \t 1.000 \t 0.250\n",
      "\n",
      "AUC: \t\t 1.000 \t 0.716\n"
     ]
    }
   ],
   "source": [
    "funs.classification_report(RFC, y_train, X_train, y_test, X_test, classes, roc_plot=False)\n"
   ]
  },
  {
   "attachments": {},
   "cell_type": "markdown",
   "metadata": {},
   "source": [
    "<br> \n",
    "\n",
    "Test Set Classification Report"
   ]
  },
  {
   "cell_type": "code",
   "execution_count": null,
   "metadata": {},
   "outputs": [
    {
     "name": "stdout",
     "output_type": "stream",
     "text": [
      "              precision    recall  f1-score   support\n",
      "\n",
      "          AA       1.00      0.67      0.80         3\n",
      "          BA       0.00      0.00      0.00         3\n",
      "          BB       0.00      0.00      0.00         3\n",
      "          CB       0.00      0.00      0.00         2\n",
      "          CC       0.17      0.25      0.20         4\n",
      "          DC       0.25      0.20      0.22         5\n",
      "          DD       0.33      0.71      0.45         7\n",
      "        Fail       0.00      0.00      0.00         2\n",
      "\n",
      "    accuracy                           0.31        29\n",
      "   macro avg       0.22      0.23      0.21        29\n",
      "weighted avg       0.25      0.31      0.26        29\n",
      "\n"
     ]
    }
   ],
   "source": [
    "print(classification_report(y_test, RFC.predict(X_test), zero_division=0))"
   ]
  },
  {
   "cell_type": "code",
   "execution_count": null,
   "metadata": {},
   "outputs": [
    {
     "data": {
      "application/vnd.plotly.v1+json": {
       "config": {
        "plotlyServerURL": "https://plot.ly"
       },
       "data": [
        {
         "colorscale": [
          [
           0,
           "rgb(228, 241, 225)"
          ],
          [
           0.16666666666666666,
           "rgb(180, 217, 204)"
          ],
          [
           0.3333333333333333,
           "rgb(137, 192, 182)"
          ],
          [
           0.5,
           "rgb(99, 166, 160)"
          ],
          [
           0.6666666666666666,
           "rgb(68, 140, 138)"
          ],
          [
           0.8333333333333334,
           "rgb(40, 114, 116)"
          ],
          [
           1,
           "rgb(13, 88, 95)"
          ]
         ],
         "hovertemplate": "Real: %{y}<br>Predicted: %{x}<br>Count: %{z}",
         "name": "Train Set",
         "showscale": false,
         "texttemplate": "%{z}",
         "type": "heatmap",
         "x": [
          "AA",
          "BA",
          "BB",
          "CB",
          "CC",
          "DC",
          "DD",
          "Fail"
         ],
         "xaxis": "x",
         "xgap": 5,
         "y": [
          "AA",
          "BA",
          "BB",
          "CB",
          "CC",
          "DC",
          "DD",
          "Fail"
         ],
         "yaxis": "y",
         "ygap": 5,
         "z": [
          [
           14,
           0,
           0,
           0,
           0,
           0,
           0,
           0
          ],
          [
           0,
           10,
           0,
           0,
           0,
           0,
           0,
           0
          ],
          [
           0,
           0,
           14,
           0,
           0,
           0,
           0,
           0
          ],
          [
           0,
           0,
           0,
           7,
           0,
           0,
           0,
           0
          ],
          [
           0,
           0,
           0,
           0,
           16,
           0,
           0,
           0
          ],
          [
           0,
           0,
           0,
           0,
           0,
           18,
           0,
           0
          ],
          [
           0,
           0,
           0,
           0,
           0,
           0,
           27,
           0
          ],
          [
           0,
           0,
           0,
           0,
           0,
           0,
           0,
           6
          ]
         ]
        },
        {
         "colorscale": [
          [
           0,
           "rgb(228, 241, 225)"
          ],
          [
           0.16666666666666666,
           "rgb(180, 217, 204)"
          ],
          [
           0.3333333333333333,
           "rgb(137, 192, 182)"
          ],
          [
           0.5,
           "rgb(99, 166, 160)"
          ],
          [
           0.6666666666666666,
           "rgb(68, 140, 138)"
          ],
          [
           0.8333333333333334,
           "rgb(40, 114, 116)"
          ],
          [
           1,
           "rgb(13, 88, 95)"
          ]
         ],
         "hovertemplate": "Real: %{y}<br>Predicted: %{x}<br>Count: %{z}",
         "name": "Test Set",
         "showscale": false,
         "texttemplate": "%{z}",
         "type": "heatmap",
         "x": [
          "AA",
          "BA",
          "BB",
          "CB",
          "CC",
          "DC",
          "DD",
          "Fail"
         ],
         "xaxis": "x2",
         "xgap": 5,
         "y": [
          "AA",
          "BA",
          "BB",
          "CB",
          "CC",
          "DC",
          "DD",
          "Fail"
         ],
         "yaxis": "y2",
         "ygap": 5,
         "z": [
          [
           2,
           0,
           0,
           0,
           1,
           0,
           0,
           0
          ],
          [
           0,
           0,
           0,
           0,
           1,
           0,
           2,
           0
          ],
          [
           0,
           0,
           0,
           0,
           1,
           1,
           1,
           0
          ],
          [
           0,
           0,
           0,
           0,
           1,
           1,
           0,
           0
          ],
          [
           0,
           0,
           1,
           0,
           1,
           1,
           1,
           0
          ],
          [
           0,
           0,
           0,
           0,
           0,
           1,
           4,
           0
          ],
          [
           0,
           0,
           1,
           0,
           1,
           0,
           5,
           0
          ],
          [
           0,
           0,
           0,
           0,
           0,
           0,
           2,
           0
          ]
         ]
        }
       ],
       "layout": {
        "annotations": [
         {
          "font": {
           "size": 16
          },
          "showarrow": false,
          "text": "Train Set",
          "x": 0.24375,
          "xanchor": "center",
          "xref": "paper",
          "y": 1,
          "yanchor": "bottom",
          "yref": "paper"
         },
         {
          "font": {
           "size": 16
          },
          "showarrow": false,
          "text": "Test Set",
          "x": 0.75625,
          "xanchor": "center",
          "xref": "paper",
          "y": 1,
          "yanchor": "bottom",
          "yref": "paper"
         }
        ],
        "height": 650,
        "showlegend": false,
        "template": {
         "data": {
          "bar": [
           {
            "error_x": {
             "color": "#2a3f5f"
            },
            "error_y": {
             "color": "#2a3f5f"
            },
            "marker": {
             "line": {
              "color": "white",
              "width": 0.5
             },
             "pattern": {
              "fillmode": "overlay",
              "size": 10,
              "solidity": 0.2
             }
            },
            "type": "bar"
           }
          ],
          "barpolar": [
           {
            "marker": {
             "line": {
              "color": "white",
              "width": 0.5
             },
             "pattern": {
              "fillmode": "overlay",
              "size": 10,
              "solidity": 0.2
             }
            },
            "type": "barpolar"
           }
          ],
          "carpet": [
           {
            "aaxis": {
             "endlinecolor": "#2a3f5f",
             "gridcolor": "#C8D4E3",
             "linecolor": "#C8D4E3",
             "minorgridcolor": "#C8D4E3",
             "startlinecolor": "#2a3f5f"
            },
            "baxis": {
             "endlinecolor": "#2a3f5f",
             "gridcolor": "#C8D4E3",
             "linecolor": "#C8D4E3",
             "minorgridcolor": "#C8D4E3",
             "startlinecolor": "#2a3f5f"
            },
            "type": "carpet"
           }
          ],
          "choropleth": [
           {
            "colorbar": {
             "outlinewidth": 0,
             "ticks": ""
            },
            "type": "choropleth"
           }
          ],
          "contour": [
           {
            "colorbar": {
             "outlinewidth": 0,
             "ticks": ""
            },
            "colorscale": [
             [
              0,
              "#0d0887"
             ],
             [
              0.1111111111111111,
              "#46039f"
             ],
             [
              0.2222222222222222,
              "#7201a8"
             ],
             [
              0.3333333333333333,
              "#9c179e"
             ],
             [
              0.4444444444444444,
              "#bd3786"
             ],
             [
              0.5555555555555556,
              "#d8576b"
             ],
             [
              0.6666666666666666,
              "#ed7953"
             ],
             [
              0.7777777777777778,
              "#fb9f3a"
             ],
             [
              0.8888888888888888,
              "#fdca26"
             ],
             [
              1,
              "#f0f921"
             ]
            ],
            "type": "contour"
           }
          ],
          "contourcarpet": [
           {
            "colorbar": {
             "outlinewidth": 0,
             "ticks": ""
            },
            "type": "contourcarpet"
           }
          ],
          "heatmap": [
           {
            "colorbar": {
             "outlinewidth": 0,
             "ticks": ""
            },
            "colorscale": [
             [
              0,
              "#0d0887"
             ],
             [
              0.1111111111111111,
              "#46039f"
             ],
             [
              0.2222222222222222,
              "#7201a8"
             ],
             [
              0.3333333333333333,
              "#9c179e"
             ],
             [
              0.4444444444444444,
              "#bd3786"
             ],
             [
              0.5555555555555556,
              "#d8576b"
             ],
             [
              0.6666666666666666,
              "#ed7953"
             ],
             [
              0.7777777777777778,
              "#fb9f3a"
             ],
             [
              0.8888888888888888,
              "#fdca26"
             ],
             [
              1,
              "#f0f921"
             ]
            ],
            "type": "heatmap"
           }
          ],
          "heatmapgl": [
           {
            "colorbar": {
             "outlinewidth": 0,
             "ticks": ""
            },
            "colorscale": [
             [
              0,
              "#0d0887"
             ],
             [
              0.1111111111111111,
              "#46039f"
             ],
             [
              0.2222222222222222,
              "#7201a8"
             ],
             [
              0.3333333333333333,
              "#9c179e"
             ],
             [
              0.4444444444444444,
              "#bd3786"
             ],
             [
              0.5555555555555556,
              "#d8576b"
             ],
             [
              0.6666666666666666,
              "#ed7953"
             ],
             [
              0.7777777777777778,
              "#fb9f3a"
             ],
             [
              0.8888888888888888,
              "#fdca26"
             ],
             [
              1,
              "#f0f921"
             ]
            ],
            "type": "heatmapgl"
           }
          ],
          "histogram": [
           {
            "marker": {
             "pattern": {
              "fillmode": "overlay",
              "size": 10,
              "solidity": 0.2
             }
            },
            "type": "histogram"
           }
          ],
          "histogram2d": [
           {
            "colorbar": {
             "outlinewidth": 0,
             "ticks": ""
            },
            "colorscale": [
             [
              0,
              "#0d0887"
             ],
             [
              0.1111111111111111,
              "#46039f"
             ],
             [
              0.2222222222222222,
              "#7201a8"
             ],
             [
              0.3333333333333333,
              "#9c179e"
             ],
             [
              0.4444444444444444,
              "#bd3786"
             ],
             [
              0.5555555555555556,
              "#d8576b"
             ],
             [
              0.6666666666666666,
              "#ed7953"
             ],
             [
              0.7777777777777778,
              "#fb9f3a"
             ],
             [
              0.8888888888888888,
              "#fdca26"
             ],
             [
              1,
              "#f0f921"
             ]
            ],
            "type": "histogram2d"
           }
          ],
          "histogram2dcontour": [
           {
            "colorbar": {
             "outlinewidth": 0,
             "ticks": ""
            },
            "colorscale": [
             [
              0,
              "#0d0887"
             ],
             [
              0.1111111111111111,
              "#46039f"
             ],
             [
              0.2222222222222222,
              "#7201a8"
             ],
             [
              0.3333333333333333,
              "#9c179e"
             ],
             [
              0.4444444444444444,
              "#bd3786"
             ],
             [
              0.5555555555555556,
              "#d8576b"
             ],
             [
              0.6666666666666666,
              "#ed7953"
             ],
             [
              0.7777777777777778,
              "#fb9f3a"
             ],
             [
              0.8888888888888888,
              "#fdca26"
             ],
             [
              1,
              "#f0f921"
             ]
            ],
            "type": "histogram2dcontour"
           }
          ],
          "mesh3d": [
           {
            "colorbar": {
             "outlinewidth": 0,
             "ticks": ""
            },
            "type": "mesh3d"
           }
          ],
          "parcoords": [
           {
            "line": {
             "colorbar": {
              "outlinewidth": 0,
              "ticks": ""
             }
            },
            "type": "parcoords"
           }
          ],
          "pie": [
           {
            "automargin": true,
            "type": "pie"
           }
          ],
          "scatter": [
           {
            "fillpattern": {
             "fillmode": "overlay",
             "size": 10,
             "solidity": 0.2
            },
            "type": "scatter"
           }
          ],
          "scatter3d": [
           {
            "line": {
             "colorbar": {
              "outlinewidth": 0,
              "ticks": ""
             }
            },
            "marker": {
             "colorbar": {
              "outlinewidth": 0,
              "ticks": ""
             }
            },
            "type": "scatter3d"
           }
          ],
          "scattercarpet": [
           {
            "marker": {
             "colorbar": {
              "outlinewidth": 0,
              "ticks": ""
             }
            },
            "type": "scattercarpet"
           }
          ],
          "scattergeo": [
           {
            "marker": {
             "colorbar": {
              "outlinewidth": 0,
              "ticks": ""
             }
            },
            "type": "scattergeo"
           }
          ],
          "scattergl": [
           {
            "marker": {
             "colorbar": {
              "outlinewidth": 0,
              "ticks": ""
             }
            },
            "type": "scattergl"
           }
          ],
          "scattermapbox": [
           {
            "marker": {
             "colorbar": {
              "outlinewidth": 0,
              "ticks": ""
             }
            },
            "type": "scattermapbox"
           }
          ],
          "scatterpolar": [
           {
            "marker": {
             "colorbar": {
              "outlinewidth": 0,
              "ticks": ""
             }
            },
            "type": "scatterpolar"
           }
          ],
          "scatterpolargl": [
           {
            "marker": {
             "colorbar": {
              "outlinewidth": 0,
              "ticks": ""
             }
            },
            "type": "scatterpolargl"
           }
          ],
          "scatterternary": [
           {
            "marker": {
             "colorbar": {
              "outlinewidth": 0,
              "ticks": ""
             }
            },
            "type": "scatterternary"
           }
          ],
          "surface": [
           {
            "colorbar": {
             "outlinewidth": 0,
             "ticks": ""
            },
            "colorscale": [
             [
              0,
              "#0d0887"
             ],
             [
              0.1111111111111111,
              "#46039f"
             ],
             [
              0.2222222222222222,
              "#7201a8"
             ],
             [
              0.3333333333333333,
              "#9c179e"
             ],
             [
              0.4444444444444444,
              "#bd3786"
             ],
             [
              0.5555555555555556,
              "#d8576b"
             ],
             [
              0.6666666666666666,
              "#ed7953"
             ],
             [
              0.7777777777777778,
              "#fb9f3a"
             ],
             [
              0.8888888888888888,
              "#fdca26"
             ],
             [
              1,
              "#f0f921"
             ]
            ],
            "type": "surface"
           }
          ],
          "table": [
           {
            "cells": {
             "fill": {
              "color": "#EBF0F8"
             },
             "line": {
              "color": "white"
             }
            },
            "header": {
             "fill": {
              "color": "#C8D4E3"
             },
             "line": {
              "color": "white"
             }
            },
            "type": "table"
           }
          ]
         },
         "layout": {
          "annotationdefaults": {
           "arrowcolor": "#2a3f5f",
           "arrowhead": 0,
           "arrowwidth": 1
          },
          "autotypenumbers": "strict",
          "coloraxis": {
           "colorbar": {
            "outlinewidth": 0,
            "ticks": ""
           }
          },
          "colorscale": {
           "diverging": [
            [
             0,
             "#8e0152"
            ],
            [
             0.1,
             "#c51b7d"
            ],
            [
             0.2,
             "#de77ae"
            ],
            [
             0.3,
             "#f1b6da"
            ],
            [
             0.4,
             "#fde0ef"
            ],
            [
             0.5,
             "#f7f7f7"
            ],
            [
             0.6,
             "#e6f5d0"
            ],
            [
             0.7,
             "#b8e186"
            ],
            [
             0.8,
             "#7fbc41"
            ],
            [
             0.9,
             "#4d9221"
            ],
            [
             1,
             "#276419"
            ]
           ],
           "sequential": [
            [
             0,
             "#0d0887"
            ],
            [
             0.1111111111111111,
             "#46039f"
            ],
            [
             0.2222222222222222,
             "#7201a8"
            ],
            [
             0.3333333333333333,
             "#9c179e"
            ],
            [
             0.4444444444444444,
             "#bd3786"
            ],
            [
             0.5555555555555556,
             "#d8576b"
            ],
            [
             0.6666666666666666,
             "#ed7953"
            ],
            [
             0.7777777777777778,
             "#fb9f3a"
            ],
            [
             0.8888888888888888,
             "#fdca26"
            ],
            [
             1,
             "#f0f921"
            ]
           ],
           "sequentialminus": [
            [
             0,
             "#0d0887"
            ],
            [
             0.1111111111111111,
             "#46039f"
            ],
            [
             0.2222222222222222,
             "#7201a8"
            ],
            [
             0.3333333333333333,
             "#9c179e"
            ],
            [
             0.4444444444444444,
             "#bd3786"
            ],
            [
             0.5555555555555556,
             "#d8576b"
            ],
            [
             0.6666666666666666,
             "#ed7953"
            ],
            [
             0.7777777777777778,
             "#fb9f3a"
            ],
            [
             0.8888888888888888,
             "#fdca26"
            ],
            [
             1,
             "#f0f921"
            ]
           ]
          },
          "colorway": [
           "#636efa",
           "#EF553B",
           "#00cc96",
           "#ab63fa",
           "#FFA15A",
           "#19d3f3",
           "#FF6692",
           "#B6E880",
           "#FF97FF",
           "#FECB52"
          ],
          "font": {
           "color": "#2a3f5f"
          },
          "geo": {
           "bgcolor": "white",
           "lakecolor": "white",
           "landcolor": "white",
           "showlakes": true,
           "showland": true,
           "subunitcolor": "#C8D4E3"
          },
          "hoverlabel": {
           "align": "left"
          },
          "hovermode": "closest",
          "mapbox": {
           "style": "light"
          },
          "paper_bgcolor": "white",
          "plot_bgcolor": "white",
          "polar": {
           "angularaxis": {
            "gridcolor": "#EBF0F8",
            "linecolor": "#EBF0F8",
            "ticks": ""
           },
           "bgcolor": "white",
           "radialaxis": {
            "gridcolor": "#EBF0F8",
            "linecolor": "#EBF0F8",
            "ticks": ""
           }
          },
          "scene": {
           "xaxis": {
            "backgroundcolor": "white",
            "gridcolor": "#DFE8F3",
            "gridwidth": 2,
            "linecolor": "#EBF0F8",
            "showbackground": true,
            "ticks": "",
            "zerolinecolor": "#EBF0F8"
           },
           "yaxis": {
            "backgroundcolor": "white",
            "gridcolor": "#DFE8F3",
            "gridwidth": 2,
            "linecolor": "#EBF0F8",
            "showbackground": true,
            "ticks": "",
            "zerolinecolor": "#EBF0F8"
           },
           "zaxis": {
            "backgroundcolor": "white",
            "gridcolor": "#DFE8F3",
            "gridwidth": 2,
            "linecolor": "#EBF0F8",
            "showbackground": true,
            "ticks": "",
            "zerolinecolor": "#EBF0F8"
           }
          },
          "shapedefaults": {
           "line": {
            "color": "#2a3f5f"
           }
          },
          "ternary": {
           "aaxis": {
            "gridcolor": "#DFE8F3",
            "linecolor": "#A2B1C6",
            "ticks": ""
           },
           "baxis": {
            "gridcolor": "#DFE8F3",
            "linecolor": "#A2B1C6",
            "ticks": ""
           },
           "bgcolor": "white",
           "caxis": {
            "gridcolor": "#DFE8F3",
            "linecolor": "#A2B1C6",
            "ticks": ""
           }
          },
          "title": {
           "x": 0.05
          },
          "xaxis": {
           "automargin": true,
           "gridcolor": "#EBF0F8",
           "linecolor": "#EBF0F8",
           "ticks": "",
           "title": {
            "standoff": 15
           },
           "zerolinecolor": "#EBF0F8",
           "zerolinewidth": 2
          },
          "yaxis": {
           "automargin": true,
           "gridcolor": "#EBF0F8",
           "linecolor": "#EBF0F8",
           "ticks": "",
           "title": {
            "standoff": 15
           },
           "zerolinecolor": "#EBF0F8",
           "zerolinewidth": 2
          }
         }
        },
        "title": {
         "font": {
          "size": 20
         },
         "text": "Confusion Matrix"
        },
        "width": 1650,
        "xaxis": {
         "anchor": "y",
         "domain": [
          0,
          0.4875
         ],
         "title": {
          "text": "Predicted Grade"
         }
        },
        "xaxis2": {
         "anchor": "y2",
         "domain": [
          0.5125,
          1
         ],
         "title": {
          "text": "Predicted Grade"
         }
        },
        "yaxis": {
         "anchor": "x",
         "autorange": "reversed",
         "domain": [
          0,
          1
         ],
         "title": {
          "text": "Real Grade"
         }
        },
        "yaxis2": {
         "anchor": "x2",
         "domain": [
          0,
          1
         ],
         "matches": "y",
         "showticklabels": false
        }
       }
      }
     },
     "metadata": {},
     "output_type": "display_data"
    }
   ],
   "source": [
    "funs.confusion_matrix_plot(RFC, (X_train, X_test), (y_train, y_test))"
   ]
  },
  {
   "cell_type": "code",
   "execution_count": null,
   "metadata": {},
   "outputs": [
    {
     "data": {
      "application/vnd.plotly.v1+json": {
       "config": {
        "plotlyServerURL": "https://plot.ly"
       },
       "data": [
        {
         "hovertemplate": "<b>FPR:</b> \t %{x}<br><b>TPR:</b> \t %{y}",
         "marker": {
          "color": "firebrick"
         },
         "mode": "lines",
         "name": "AA (AUC=0.384)",
         "showlegend": true,
         "type": "scatter",
         "x": [
          0,
          0,
          0,
          1
         ],
         "xaxis": "x",
         "y": [
          0,
          0.07142857142857142,
          1,
          1
         ],
         "yaxis": "y"
        },
        {
         "hovertemplate": "<b>FPR:</b> \t %{x}<br><b>TPR:</b> \t %{y}",
         "marker": {
          "color": "red"
         },
         "mode": "lines",
         "name": "BA (AUC=0.523)",
         "showlegend": true,
         "type": "scatter",
         "x": [
          0,
          0,
          0,
          0.5784313725490197,
          0.5980392156862745,
          1
         ],
         "xaxis": "x",
         "y": [
          0,
          0.1,
          1,
          1,
          1,
          1
         ],
         "yaxis": "y"
        },
        {
         "hovertemplate": "<b>FPR:</b> \t %{x}<br><b>TPR:</b> \t %{y}",
         "marker": {
          "color": "darksalmon"
         },
         "mode": "lines",
         "name": "BB (AUC=0.384)",
         "showlegend": true,
         "type": "scatter",
         "x": [
          0,
          0,
          0,
          1
         ],
         "xaxis": "x",
         "y": [
          0,
          0.07142857142857142,
          1,
          1
         ],
         "yaxis": "y"
        },
        {
         "hovertemplate": "<b>FPR:</b> \t %{x}<br><b>TPR:</b> \t %{y}",
         "marker": {
          "color": "tomato"
         },
         "mode": "lines",
         "name": "CB (AUC=0.608)",
         "showlegend": true,
         "type": "scatter",
         "x": [
          0,
          0,
          0,
          0.6857142857142857,
          0.7047619047619048,
          0.9809523809523809,
          1
         ],
         "xaxis": "x",
         "y": [
          0,
          0.14285714285714285,
          1,
          1,
          1,
          1,
          1
         ],
         "yaxis": "y"
        },
        {
         "hovertemplate": "<b>FPR:</b> \t %{x}<br><b>TPR:</b> \t %{y}",
         "marker": {
          "color": "seagreen"
         },
         "mode": "lines",
         "name": "CC (AUC=0.383)",
         "showlegend": true,
         "type": "scatter",
         "x": [
          0,
          0,
          0,
          1
         ],
         "xaxis": "x",
         "y": [
          0,
          0.0625,
          1,
          1
         ],
         "yaxis": "y"
        },
        {
         "hovertemplate": "<b>FPR:</b> \t %{x}<br><b>TPR:</b> \t %{y}",
         "marker": {
          "color": "lightseagreen"
         },
         "mode": "lines",
         "name": "DC (AUC=0.382)",
         "showlegend": true,
         "type": "scatter",
         "x": [
          0,
          0,
          0,
          1
         ],
         "xaxis": "x",
         "y": [
          0,
          0.05555555555555555,
          1,
          1
         ],
         "yaxis": "y"
        },
        {
         "hovertemplate": "<b>FPR:</b> \t %{x}<br><b>TPR:</b> \t %{y}",
         "marker": {
          "color": "olive"
         },
         "mode": "lines",
         "name": "DD (AUC=0.38)",
         "showlegend": true,
         "type": "scatter",
         "x": [
          0,
          0,
          0,
          1
         ],
         "xaxis": "x",
         "y": [
          0,
          0.037037037037037035,
          1,
          1
         ],
         "yaxis": "y"
        },
        {
         "hovertemplate": "<b>FPR:</b> \t %{x}<br><b>TPR:</b> \t %{y}",
         "marker": {
          "color": "green"
         },
         "mode": "lines",
         "name": "Fail (AUC=0.764)",
         "showlegend": true,
         "type": "scatter",
         "x": [
          0,
          0,
          0,
          0.6132075471698113,
          0.6320754716981132,
          0.7830188679245284,
          0.8018867924528302,
          0.839622641509434,
          0.8490566037735849,
          0.8679245283018868,
          0.9056603773584906,
          0.9622641509433962,
          0.9716981132075472,
          1
         ],
         "xaxis": "x",
         "y": [
          0,
          0.16666666666666666,
          1,
          1,
          1,
          1,
          1,
          1,
          1,
          1,
          1,
          1,
          1,
          1
         ],
         "yaxis": "y"
        },
        {
         "line": {
          "color": "grey",
          "dash": "dash",
          "width": 1
         },
         "mode": "lines",
         "name": "Chance Level (AUC=0.5)",
         "showlegend": true,
         "type": "scatter",
         "x": [
          0,
          1
         ],
         "xaxis": "x",
         "y": [
          0,
          1
         ],
         "yaxis": "y"
        },
        {
         "hovertemplate": "<b>FPR:</b> \t %{x}<br><b>TPR:</b> \t %{y}",
         "marker": {
          "color": "firebrick"
         },
         "mode": "lines",
         "name": "AA (AUC=0.415)",
         "showlegend": false,
         "type": "scatter",
         "x": [
          0,
          0,
          0,
          0.15384615384615385,
          0.15384615384615385,
          1
         ],
         "xaxis": "x2",
         "y": [
          0,
          0.3333333333333333,
          0.6666666666666666,
          0.6666666666666666,
          1,
          1
         ],
         "yaxis": "y2"
        },
        {
         "hovertemplate": "<b>FPR:</b> \t %{x}<br><b>TPR:</b> \t %{y}",
         "marker": {
          "color": "red"
         },
         "mode": "lines",
         "name": "BA (AUC=0.395)",
         "showlegend": false,
         "type": "scatter",
         "x": [
          0,
          0.038461538461538464,
          0.11538461538461539,
          0.11538461538461539,
          0.2692307692307692,
          0.2692307692307692,
          0.6538461538461539,
          0.6538461538461539,
          1
         ],
         "xaxis": "x2",
         "y": [
          0,
          0,
          0,
          0.3333333333333333,
          0.3333333333333333,
          0.6666666666666666,
          0.6666666666666666,
          1,
          1
         ],
         "yaxis": "y2"
        },
        {
         "hovertemplate": "<b>FPR:</b> \t %{x}<br><b>TPR:</b> \t %{y}",
         "marker": {
          "color": "darksalmon"
         },
         "mode": "lines",
         "name": "BB (AUC=0.395)",
         "showlegend": false,
         "type": "scatter",
         "x": [
          0,
          0.038461538461538464,
          0.15384615384615385,
          0.15384615384615385,
          0.19230769230769232,
          0.19230769230769232,
          0.6923076923076923,
          0.6923076923076923,
          1
         ],
         "xaxis": "x2",
         "y": [
          0,
          0,
          0,
          0.3333333333333333,
          0.3333333333333333,
          0.6666666666666666,
          0.6666666666666666,
          1,
          1
         ],
         "yaxis": "y2"
        },
        {
         "hovertemplate": "<b>FPR:</b> \t %{x}<br><b>TPR:</b> \t %{y}",
         "marker": {
          "color": "tomato"
         },
         "mode": "lines",
         "name": "CB (AUC=0.459)",
         "showlegend": false,
         "type": "scatter",
         "x": [
          0,
          0,
          0.2962962962962963,
          0.2962962962962963,
          1
         ],
         "xaxis": "x2",
         "y": [
          0,
          0.5,
          0.5,
          1,
          1
         ],
         "yaxis": "y2"
        },
        {
         "hovertemplate": "<b>FPR:</b> \t %{x}<br><b>TPR:</b> \t %{y}",
         "marker": {
          "color": "seagreen"
         },
         "mode": "lines",
         "name": "CC (AUC=0.452)",
         "showlegend": false,
         "type": "scatter",
         "x": [
          0,
          0.04,
          0.04,
          0.2,
          0.2,
          0.52,
          0.52,
          0.76,
          0.76,
          1
         ],
         "xaxis": "x2",
         "y": [
          0,
          0,
          0.25,
          0.25,
          0.5,
          0.5,
          0.75,
          0.75,
          1,
          1
         ],
         "yaxis": "y2"
        },
        {
         "hovertemplate": "<b>FPR:</b> \t %{x}<br><b>TPR:</b> \t %{y}",
         "marker": {
          "color": "lightseagreen"
         },
         "mode": "lines",
         "name": "DC (AUC=0.369)",
         "showlegend": false,
         "type": "scatter",
         "x": [
          0,
          0.041666666666666664,
          0.16666666666666666,
          0.16666666666666666,
          0.25,
          0.25,
          0.4166666666666667,
          0.4166666666666667,
          0.5,
          0.5,
          1
         ],
         "xaxis": "x2",
         "y": [
          0,
          0,
          0,
          0.2,
          0.2,
          0.4,
          0.4,
          0.6,
          0.6,
          1,
          1
         ],
         "yaxis": "y2"
        },
        {
         "hovertemplate": "<b>FPR:</b> \t %{x}<br><b>TPR:</b> \t %{y}",
         "marker": {
          "color": "olive"
         },
         "mode": "lines",
         "name": "DD (AUC=0.385)",
         "showlegend": false,
         "type": "scatter",
         "x": [
          0,
          0.045454545454545456,
          0.09090909090909091,
          0.09090909090909091,
          0.18181818181818182,
          0.18181818181818182,
          0.3181818181818182,
          0.3181818181818182,
          0.4090909090909091,
          0.4090909090909091,
          1
         ],
         "xaxis": "x2",
         "y": [
          0,
          0,
          0,
          0.42857142857142855,
          0.42857142857142855,
          0.5714285714285714,
          0.5714285714285714,
          0.7142857142857143,
          0.7142857142857143,
          1,
          1
         ],
         "yaxis": "y2"
        },
        {
         "hovertemplate": "<b>FPR:</b> \t %{x}<br><b>TPR:</b> \t %{y}",
         "marker": {
          "color": "green"
         },
         "mode": "lines",
         "name": "Fail (AUC=0.399)",
         "showlegend": false,
         "type": "scatter",
         "x": [
          0,
          0.037037037037037035,
          0.14814814814814814,
          0.14814814814814814,
          0.6296296296296297,
          0.6296296296296297,
          1
         ],
         "xaxis": "x2",
         "y": [
          0,
          0,
          0,
          0.5,
          0.5,
          1,
          1
         ],
         "yaxis": "y2"
        },
        {
         "line": {
          "color": "grey",
          "dash": "dash",
          "width": 1
         },
         "mode": "lines",
         "name": "Chance Level (AUC=0.5)",
         "showlegend": true,
         "type": "scatter",
         "x": [
          0,
          1
         ],
         "xaxis": "x2",
         "y": [
          0,
          1
         ],
         "yaxis": "y2"
        }
       ],
       "layout": {
        "annotations": [
         {
          "font": {
           "size": 16
          },
          "showarrow": false,
          "text": "Train Set",
          "x": 0.24375,
          "xanchor": "center",
          "xref": "paper",
          "y": 1,
          "yanchor": "bottom",
          "yref": "paper"
         },
         {
          "font": {
           "size": 16
          },
          "showarrow": false,
          "text": "Test Set",
          "x": 0.75625,
          "xanchor": "center",
          "xref": "paper",
          "y": 1,
          "yanchor": "bottom",
          "yref": "paper"
         }
        ],
        "height": 650,
        "showlegend": true,
        "template": {
         "data": {
          "bar": [
           {
            "error_x": {
             "color": "#2a3f5f"
            },
            "error_y": {
             "color": "#2a3f5f"
            },
            "marker": {
             "line": {
              "color": "white",
              "width": 0.5
             },
             "pattern": {
              "fillmode": "overlay",
              "size": 10,
              "solidity": 0.2
             }
            },
            "type": "bar"
           }
          ],
          "barpolar": [
           {
            "marker": {
             "line": {
              "color": "white",
              "width": 0.5
             },
             "pattern": {
              "fillmode": "overlay",
              "size": 10,
              "solidity": 0.2
             }
            },
            "type": "barpolar"
           }
          ],
          "carpet": [
           {
            "aaxis": {
             "endlinecolor": "#2a3f5f",
             "gridcolor": "#C8D4E3",
             "linecolor": "#C8D4E3",
             "minorgridcolor": "#C8D4E3",
             "startlinecolor": "#2a3f5f"
            },
            "baxis": {
             "endlinecolor": "#2a3f5f",
             "gridcolor": "#C8D4E3",
             "linecolor": "#C8D4E3",
             "minorgridcolor": "#C8D4E3",
             "startlinecolor": "#2a3f5f"
            },
            "type": "carpet"
           }
          ],
          "choropleth": [
           {
            "colorbar": {
             "outlinewidth": 0,
             "ticks": ""
            },
            "type": "choropleth"
           }
          ],
          "contour": [
           {
            "colorbar": {
             "outlinewidth": 0,
             "ticks": ""
            },
            "colorscale": [
             [
              0,
              "#0d0887"
             ],
             [
              0.1111111111111111,
              "#46039f"
             ],
             [
              0.2222222222222222,
              "#7201a8"
             ],
             [
              0.3333333333333333,
              "#9c179e"
             ],
             [
              0.4444444444444444,
              "#bd3786"
             ],
             [
              0.5555555555555556,
              "#d8576b"
             ],
             [
              0.6666666666666666,
              "#ed7953"
             ],
             [
              0.7777777777777778,
              "#fb9f3a"
             ],
             [
              0.8888888888888888,
              "#fdca26"
             ],
             [
              1,
              "#f0f921"
             ]
            ],
            "type": "contour"
           }
          ],
          "contourcarpet": [
           {
            "colorbar": {
             "outlinewidth": 0,
             "ticks": ""
            },
            "type": "contourcarpet"
           }
          ],
          "heatmap": [
           {
            "colorbar": {
             "outlinewidth": 0,
             "ticks": ""
            },
            "colorscale": [
             [
              0,
              "#0d0887"
             ],
             [
              0.1111111111111111,
              "#46039f"
             ],
             [
              0.2222222222222222,
              "#7201a8"
             ],
             [
              0.3333333333333333,
              "#9c179e"
             ],
             [
              0.4444444444444444,
              "#bd3786"
             ],
             [
              0.5555555555555556,
              "#d8576b"
             ],
             [
              0.6666666666666666,
              "#ed7953"
             ],
             [
              0.7777777777777778,
              "#fb9f3a"
             ],
             [
              0.8888888888888888,
              "#fdca26"
             ],
             [
              1,
              "#f0f921"
             ]
            ],
            "type": "heatmap"
           }
          ],
          "heatmapgl": [
           {
            "colorbar": {
             "outlinewidth": 0,
             "ticks": ""
            },
            "colorscale": [
             [
              0,
              "#0d0887"
             ],
             [
              0.1111111111111111,
              "#46039f"
             ],
             [
              0.2222222222222222,
              "#7201a8"
             ],
             [
              0.3333333333333333,
              "#9c179e"
             ],
             [
              0.4444444444444444,
              "#bd3786"
             ],
             [
              0.5555555555555556,
              "#d8576b"
             ],
             [
              0.6666666666666666,
              "#ed7953"
             ],
             [
              0.7777777777777778,
              "#fb9f3a"
             ],
             [
              0.8888888888888888,
              "#fdca26"
             ],
             [
              1,
              "#f0f921"
             ]
            ],
            "type": "heatmapgl"
           }
          ],
          "histogram": [
           {
            "marker": {
             "pattern": {
              "fillmode": "overlay",
              "size": 10,
              "solidity": 0.2
             }
            },
            "type": "histogram"
           }
          ],
          "histogram2d": [
           {
            "colorbar": {
             "outlinewidth": 0,
             "ticks": ""
            },
            "colorscale": [
             [
              0,
              "#0d0887"
             ],
             [
              0.1111111111111111,
              "#46039f"
             ],
             [
              0.2222222222222222,
              "#7201a8"
             ],
             [
              0.3333333333333333,
              "#9c179e"
             ],
             [
              0.4444444444444444,
              "#bd3786"
             ],
             [
              0.5555555555555556,
              "#d8576b"
             ],
             [
              0.6666666666666666,
              "#ed7953"
             ],
             [
              0.7777777777777778,
              "#fb9f3a"
             ],
             [
              0.8888888888888888,
              "#fdca26"
             ],
             [
              1,
              "#f0f921"
             ]
            ],
            "type": "histogram2d"
           }
          ],
          "histogram2dcontour": [
           {
            "colorbar": {
             "outlinewidth": 0,
             "ticks": ""
            },
            "colorscale": [
             [
              0,
              "#0d0887"
             ],
             [
              0.1111111111111111,
              "#46039f"
             ],
             [
              0.2222222222222222,
              "#7201a8"
             ],
             [
              0.3333333333333333,
              "#9c179e"
             ],
             [
              0.4444444444444444,
              "#bd3786"
             ],
             [
              0.5555555555555556,
              "#d8576b"
             ],
             [
              0.6666666666666666,
              "#ed7953"
             ],
             [
              0.7777777777777778,
              "#fb9f3a"
             ],
             [
              0.8888888888888888,
              "#fdca26"
             ],
             [
              1,
              "#f0f921"
             ]
            ],
            "type": "histogram2dcontour"
           }
          ],
          "mesh3d": [
           {
            "colorbar": {
             "outlinewidth": 0,
             "ticks": ""
            },
            "type": "mesh3d"
           }
          ],
          "parcoords": [
           {
            "line": {
             "colorbar": {
              "outlinewidth": 0,
              "ticks": ""
             }
            },
            "type": "parcoords"
           }
          ],
          "pie": [
           {
            "automargin": true,
            "type": "pie"
           }
          ],
          "scatter": [
           {
            "fillpattern": {
             "fillmode": "overlay",
             "size": 10,
             "solidity": 0.2
            },
            "type": "scatter"
           }
          ],
          "scatter3d": [
           {
            "line": {
             "colorbar": {
              "outlinewidth": 0,
              "ticks": ""
             }
            },
            "marker": {
             "colorbar": {
              "outlinewidth": 0,
              "ticks": ""
             }
            },
            "type": "scatter3d"
           }
          ],
          "scattercarpet": [
           {
            "marker": {
             "colorbar": {
              "outlinewidth": 0,
              "ticks": ""
             }
            },
            "type": "scattercarpet"
           }
          ],
          "scattergeo": [
           {
            "marker": {
             "colorbar": {
              "outlinewidth": 0,
              "ticks": ""
             }
            },
            "type": "scattergeo"
           }
          ],
          "scattergl": [
           {
            "marker": {
             "colorbar": {
              "outlinewidth": 0,
              "ticks": ""
             }
            },
            "type": "scattergl"
           }
          ],
          "scattermapbox": [
           {
            "marker": {
             "colorbar": {
              "outlinewidth": 0,
              "ticks": ""
             }
            },
            "type": "scattermapbox"
           }
          ],
          "scatterpolar": [
           {
            "marker": {
             "colorbar": {
              "outlinewidth": 0,
              "ticks": ""
             }
            },
            "type": "scatterpolar"
           }
          ],
          "scatterpolargl": [
           {
            "marker": {
             "colorbar": {
              "outlinewidth": 0,
              "ticks": ""
             }
            },
            "type": "scatterpolargl"
           }
          ],
          "scatterternary": [
           {
            "marker": {
             "colorbar": {
              "outlinewidth": 0,
              "ticks": ""
             }
            },
            "type": "scatterternary"
           }
          ],
          "surface": [
           {
            "colorbar": {
             "outlinewidth": 0,
             "ticks": ""
            },
            "colorscale": [
             [
              0,
              "#0d0887"
             ],
             [
              0.1111111111111111,
              "#46039f"
             ],
             [
              0.2222222222222222,
              "#7201a8"
             ],
             [
              0.3333333333333333,
              "#9c179e"
             ],
             [
              0.4444444444444444,
              "#bd3786"
             ],
             [
              0.5555555555555556,
              "#d8576b"
             ],
             [
              0.6666666666666666,
              "#ed7953"
             ],
             [
              0.7777777777777778,
              "#fb9f3a"
             ],
             [
              0.8888888888888888,
              "#fdca26"
             ],
             [
              1,
              "#f0f921"
             ]
            ],
            "type": "surface"
           }
          ],
          "table": [
           {
            "cells": {
             "fill": {
              "color": "#EBF0F8"
             },
             "line": {
              "color": "white"
             }
            },
            "header": {
             "fill": {
              "color": "#C8D4E3"
             },
             "line": {
              "color": "white"
             }
            },
            "type": "table"
           }
          ]
         },
         "layout": {
          "annotationdefaults": {
           "arrowcolor": "#2a3f5f",
           "arrowhead": 0,
           "arrowwidth": 1
          },
          "autotypenumbers": "strict",
          "coloraxis": {
           "colorbar": {
            "outlinewidth": 0,
            "ticks": ""
           }
          },
          "colorscale": {
           "diverging": [
            [
             0,
             "#8e0152"
            ],
            [
             0.1,
             "#c51b7d"
            ],
            [
             0.2,
             "#de77ae"
            ],
            [
             0.3,
             "#f1b6da"
            ],
            [
             0.4,
             "#fde0ef"
            ],
            [
             0.5,
             "#f7f7f7"
            ],
            [
             0.6,
             "#e6f5d0"
            ],
            [
             0.7,
             "#b8e186"
            ],
            [
             0.8,
             "#7fbc41"
            ],
            [
             0.9,
             "#4d9221"
            ],
            [
             1,
             "#276419"
            ]
           ],
           "sequential": [
            [
             0,
             "#0d0887"
            ],
            [
             0.1111111111111111,
             "#46039f"
            ],
            [
             0.2222222222222222,
             "#7201a8"
            ],
            [
             0.3333333333333333,
             "#9c179e"
            ],
            [
             0.4444444444444444,
             "#bd3786"
            ],
            [
             0.5555555555555556,
             "#d8576b"
            ],
            [
             0.6666666666666666,
             "#ed7953"
            ],
            [
             0.7777777777777778,
             "#fb9f3a"
            ],
            [
             0.8888888888888888,
             "#fdca26"
            ],
            [
             1,
             "#f0f921"
            ]
           ],
           "sequentialminus": [
            [
             0,
             "#0d0887"
            ],
            [
             0.1111111111111111,
             "#46039f"
            ],
            [
             0.2222222222222222,
             "#7201a8"
            ],
            [
             0.3333333333333333,
             "#9c179e"
            ],
            [
             0.4444444444444444,
             "#bd3786"
            ],
            [
             0.5555555555555556,
             "#d8576b"
            ],
            [
             0.6666666666666666,
             "#ed7953"
            ],
            [
             0.7777777777777778,
             "#fb9f3a"
            ],
            [
             0.8888888888888888,
             "#fdca26"
            ],
            [
             1,
             "#f0f921"
            ]
           ]
          },
          "colorway": [
           "#636efa",
           "#EF553B",
           "#00cc96",
           "#ab63fa",
           "#FFA15A",
           "#19d3f3",
           "#FF6692",
           "#B6E880",
           "#FF97FF",
           "#FECB52"
          ],
          "font": {
           "color": "#2a3f5f"
          },
          "geo": {
           "bgcolor": "white",
           "lakecolor": "white",
           "landcolor": "white",
           "showlakes": true,
           "showland": true,
           "subunitcolor": "#C8D4E3"
          },
          "hoverlabel": {
           "align": "left"
          },
          "hovermode": "closest",
          "mapbox": {
           "style": "light"
          },
          "paper_bgcolor": "white",
          "plot_bgcolor": "white",
          "polar": {
           "angularaxis": {
            "gridcolor": "#EBF0F8",
            "linecolor": "#EBF0F8",
            "ticks": ""
           },
           "bgcolor": "white",
           "radialaxis": {
            "gridcolor": "#EBF0F8",
            "linecolor": "#EBF0F8",
            "ticks": ""
           }
          },
          "scene": {
           "xaxis": {
            "backgroundcolor": "white",
            "gridcolor": "#DFE8F3",
            "gridwidth": 2,
            "linecolor": "#EBF0F8",
            "showbackground": true,
            "ticks": "",
            "zerolinecolor": "#EBF0F8"
           },
           "yaxis": {
            "backgroundcolor": "white",
            "gridcolor": "#DFE8F3",
            "gridwidth": 2,
            "linecolor": "#EBF0F8",
            "showbackground": true,
            "ticks": "",
            "zerolinecolor": "#EBF0F8"
           },
           "zaxis": {
            "backgroundcolor": "white",
            "gridcolor": "#DFE8F3",
            "gridwidth": 2,
            "linecolor": "#EBF0F8",
            "showbackground": true,
            "ticks": "",
            "zerolinecolor": "#EBF0F8"
           }
          },
          "shapedefaults": {
           "line": {
            "color": "#2a3f5f"
           }
          },
          "ternary": {
           "aaxis": {
            "gridcolor": "#DFE8F3",
            "linecolor": "#A2B1C6",
            "ticks": ""
           },
           "baxis": {
            "gridcolor": "#DFE8F3",
            "linecolor": "#A2B1C6",
            "ticks": ""
           },
           "bgcolor": "white",
           "caxis": {
            "gridcolor": "#DFE8F3",
            "linecolor": "#A2B1C6",
            "ticks": ""
           }
          },
          "title": {
           "x": 0.05
          },
          "xaxis": {
           "automargin": true,
           "gridcolor": "#EBF0F8",
           "linecolor": "#EBF0F8",
           "ticks": "",
           "title": {
            "standoff": 15
           },
           "zerolinecolor": "#EBF0F8",
           "zerolinewidth": 2
          },
          "yaxis": {
           "automargin": true,
           "gridcolor": "#EBF0F8",
           "linecolor": "#EBF0F8",
           "ticks": "",
           "title": {
            "standoff": 15
           },
           "zerolinecolor": "#EBF0F8",
           "zerolinewidth": 2
          }
         }
        },
        "title": {
         "font": {
          "size": 20
         },
         "text": "ROC-AUC Plot"
        },
        "width": 1650,
        "xaxis": {
         "anchor": "y",
         "domain": [
          0,
          0.4875
         ],
         "range": [
          0,
          1
         ]
        },
        "xaxis2": {
         "anchor": "y2",
         "domain": [
          0.5125,
          1
         ]
        },
        "yaxis": {
         "anchor": "x",
         "domain": [
          0,
          1
         ],
         "range": [
          0,
          1
         ]
        },
        "yaxis2": {
         "anchor": "x2",
         "domain": [
          0,
          1
         ],
         "matches": "y",
         "showticklabels": false
        }
       }
      }
     },
     "metadata": {},
     "output_type": "display_data"
    }
   ],
   "source": [
    "funs.roc_auc_plot(RFC, (X_train, X_test), (y_train, y_test), binarizer)"
   ]
  },
  {
   "cell_type": "code",
   "execution_count": null,
   "metadata": {},
   "outputs": [
    {
     "data": {
      "application/vnd.plotly.v1+json": {
       "config": {
        "plotlyServerURL": "https://plot.ly"
       },
       "data": [
        {
         "alignmentgroup": "True",
         "hovertemplate": "Importance=%{x}<br>Variable=%{y}<extra></extra>",
         "legendgroup": "",
         "marker": {
          "color": "royalblue",
          "pattern": {
           "shape": ""
          }
         },
         "name": "",
         "offsetgroup": "",
         "orientation": "h",
         "showlegend": false,
         "textposition": "auto",
         "type": "bar",
         "x": [
          0.05821561864982441,
          0.029527417007742095,
          0.0288983113918274,
          0.028660764204205155,
          0.02424999945686815,
          0.024218259941886536,
          0.023739564901685658,
          0.02097976343907878,
          0.019919095615975886,
          0.01938489840407763,
          0.018917022080481617,
          0.018348947491191047,
          0.01826718791582098,
          0.017501749115661748,
          0.016972598187375218,
          0.01695442615327121,
          0.016434538157178297,
          0.015213398017431783,
          0.014928195908329236,
          0.014913513586631746,
          0.014903122534476876,
          0.013631380998925658,
          0.013567497922351821,
          0.013408409690126482,
          0.013364086825001438,
          0.012845944764780065,
          0.0127193366729016,
          0.012675424765399164,
          0.01237183855604234,
          0.012282293394142194,
          0.012128642129435506,
          0.01199764199852557,
          0.011992442045635964,
          0.011484544586742133,
          0.011475260374626374,
          0.011287193428429846,
          0.011127703476792115,
          0.011100058581993423,
          0.011022327650497338,
          0.010971352781258608,
          0.010873078748816349,
          0.010779386833319533,
          0.010392975324137242,
          0.010197854220538684,
          0.010188207421153665,
          0.010087547878244089,
          0.010055589849741406,
          0.010050373978816831,
          0.009843650685112844,
          0.009555467163178809,
          0.009454877865685067,
          0.009329968914452928,
          0.009284307785273607,
          0.009244303184192788,
          0.008869128752419795,
          0.008809504929076669,
          0.00858691495993132,
          0.00856633790569071,
          0.008323166782063952,
          0.008314234268283266,
          0.008089506316877637,
          0.008019029309363773,
          0.007883794959756598,
          0.007850397717644007,
          0.0077893154135709915,
          0.007667749537716111,
          0.00756159597658625,
          0.007477396729032777,
          0.00720470409304586,
          0.006630831184312617,
          0.005825301637302221,
          0.005092006394892876,
          0.005069133206257628,
          0.004130875310527039,
          0.0038631525899176294,
          0.0037433271771736137,
          0.003344204960743786,
          0.0032580491865082926,
          0.0031794783123184523,
          0.00291149973169322
         ],
         "xaxis": "x",
         "y": [
          "Course ID: 1",
          "Course ID: 7",
          "Sex: male",
          "Cumulative Grade Point Average in the Last Semester: 2.00-2.49",
          "Sex: female",
          "Scholarship: 75%",
          "Age: 18-21",
          "Age: 22-25",
          "Mothers Education: high school",
          "Regular Artistic or Sports Activity: No",
          "Accommodation Type: dormitory",
          "Regular Artistic or Sports Activity: Yes",
          "Listening in Classes: sometimes",
          "Total Salary: USD 135-200",
          "Cumulative Grade Point Average in the Last Semester: above 3.49",
          "Cumulative Grade Point Average in the Last Semester: 3.00-3.49",
          "Taking Notes in Classes: always",
          "Weekly Study Hours: <5 hours",
          "Mothers Occupation: housewife",
          "Attendance to the Seminars/Conferences Related to the Department: Yes",
          "Mothers Education: primary school",
          "Taking Notes in Classes: sometimes",
          "Additional Work: Yes",
          "Reading Frequency (scientific books/journals): Sometimes",
          "Discussion Improves my Interest and Success in the Course: sometimes",
          "Accommodation Type: rental",
          "Fathers Education: high school",
          "Flip-classroom: not useful",
          "Scholarship: 50%",
          "Fathers Occupation: private sector employee",
          "Reading Frequency (non-scientific books/journals): Sometimes",
          "Flip-classroom: useful",
          "Expected Cumulative Grade Point Average in the Graduation: 2.00-2.49",
          "Expected Cumulative Grade Point Average in the Graduation: 3.00-3.49",
          "Additional Work: No",
          "Expected Cumulative Grade Point Average in the Graduation: 2.50-2.99",
          "Partener: No",
          "Flip-classroom: not applicable",
          "Fathers Occupation: self-employment",
          "Attendance to the Seminars/Conferences Related to the Department: No",
          "Listening in Classes: always",
          "Graduated High-School Type: state",
          "Partener: Yes",
          "Accommodation Type: with family",
          "Discussion Improves my Interest and Success in the Course: always",
          "Scholarship: Full",
          "Transportation to University: Bus",
          "Listening in Classes: never",
          "Cumulative Grade Point Average in the Last Semester: 2.50-2.99",
          "Preparation to Midterm Exams 1: alone",
          "Number of Siblings: 3",
          "Fathers Occupation: government officer",
          "Weekly Study Hours: 6-10 hours",
          "Transportation to University: Private car/taxi",
          "Number of Siblings: 2",
          "Attendance to Classes: sometimes",
          "Attendance to Classes: always",
          "Reading Frequency (non-scientific books/journals): none",
          "Reading Frequency (non-scientific books/journals): Often",
          "Weekly Study Hours: none",
          "Number of Siblings: 4",
          "Mothers Education: secondary school",
          "Parental Status: married",
          "Fathers Occupation: retired",
          "Fathers Education: secondary school",
          "Fathers Education: primary school",
          "Number of Siblings: 5 or above",
          "Preparation to Midterm Exams 1: with friends",
          "Mothers Occupation: private sector employee",
          "Mothers Education: university",
          "Number of Siblings: 1",
          "Fathers Education: university",
          "Total Salary: USD 201-270",
          "Expected Cumulative Grade Point Average in the Graduation: <2.00",
          "Transportation to University: Other",
          "Reading Frequency (scientific books/journals): Often",
          "Preparation to Midterm Exams 2: regurlarly during the semester",
          "Graduated High-School Type: private",
          "Preparation to Midterm Exams 2: closest date to the exam",
          "Fathers Occupation: other"
         ],
         "yaxis": "y"
        }
       ],
       "layout": {
        "barmode": "relative",
        "height": 650,
        "legend": {
         "tracegroupgap": 0
        },
        "margin": {
         "pad": 20,
         "t": 60
        },
        "showlegend": true,
        "template": {
         "data": {
          "bar": [
           {
            "error_x": {
             "color": "#2a3f5f"
            },
            "error_y": {
             "color": "#2a3f5f"
            },
            "marker": {
             "line": {
              "color": "white",
              "width": 0.5
             },
             "pattern": {
              "fillmode": "overlay",
              "size": 10,
              "solidity": 0.2
             }
            },
            "type": "bar"
           }
          ],
          "barpolar": [
           {
            "marker": {
             "line": {
              "color": "white",
              "width": 0.5
             },
             "pattern": {
              "fillmode": "overlay",
              "size": 10,
              "solidity": 0.2
             }
            },
            "type": "barpolar"
           }
          ],
          "carpet": [
           {
            "aaxis": {
             "endlinecolor": "#2a3f5f",
             "gridcolor": "#C8D4E3",
             "linecolor": "#C8D4E3",
             "minorgridcolor": "#C8D4E3",
             "startlinecolor": "#2a3f5f"
            },
            "baxis": {
             "endlinecolor": "#2a3f5f",
             "gridcolor": "#C8D4E3",
             "linecolor": "#C8D4E3",
             "minorgridcolor": "#C8D4E3",
             "startlinecolor": "#2a3f5f"
            },
            "type": "carpet"
           }
          ],
          "choropleth": [
           {
            "colorbar": {
             "outlinewidth": 0,
             "ticks": ""
            },
            "type": "choropleth"
           }
          ],
          "contour": [
           {
            "colorbar": {
             "outlinewidth": 0,
             "ticks": ""
            },
            "colorscale": [
             [
              0,
              "#0d0887"
             ],
             [
              0.1111111111111111,
              "#46039f"
             ],
             [
              0.2222222222222222,
              "#7201a8"
             ],
             [
              0.3333333333333333,
              "#9c179e"
             ],
             [
              0.4444444444444444,
              "#bd3786"
             ],
             [
              0.5555555555555556,
              "#d8576b"
             ],
             [
              0.6666666666666666,
              "#ed7953"
             ],
             [
              0.7777777777777778,
              "#fb9f3a"
             ],
             [
              0.8888888888888888,
              "#fdca26"
             ],
             [
              1,
              "#f0f921"
             ]
            ],
            "type": "contour"
           }
          ],
          "contourcarpet": [
           {
            "colorbar": {
             "outlinewidth": 0,
             "ticks": ""
            },
            "type": "contourcarpet"
           }
          ],
          "heatmap": [
           {
            "colorbar": {
             "outlinewidth": 0,
             "ticks": ""
            },
            "colorscale": [
             [
              0,
              "#0d0887"
             ],
             [
              0.1111111111111111,
              "#46039f"
             ],
             [
              0.2222222222222222,
              "#7201a8"
             ],
             [
              0.3333333333333333,
              "#9c179e"
             ],
             [
              0.4444444444444444,
              "#bd3786"
             ],
             [
              0.5555555555555556,
              "#d8576b"
             ],
             [
              0.6666666666666666,
              "#ed7953"
             ],
             [
              0.7777777777777778,
              "#fb9f3a"
             ],
             [
              0.8888888888888888,
              "#fdca26"
             ],
             [
              1,
              "#f0f921"
             ]
            ],
            "type": "heatmap"
           }
          ],
          "heatmapgl": [
           {
            "colorbar": {
             "outlinewidth": 0,
             "ticks": ""
            },
            "colorscale": [
             [
              0,
              "#0d0887"
             ],
             [
              0.1111111111111111,
              "#46039f"
             ],
             [
              0.2222222222222222,
              "#7201a8"
             ],
             [
              0.3333333333333333,
              "#9c179e"
             ],
             [
              0.4444444444444444,
              "#bd3786"
             ],
             [
              0.5555555555555556,
              "#d8576b"
             ],
             [
              0.6666666666666666,
              "#ed7953"
             ],
             [
              0.7777777777777778,
              "#fb9f3a"
             ],
             [
              0.8888888888888888,
              "#fdca26"
             ],
             [
              1,
              "#f0f921"
             ]
            ],
            "type": "heatmapgl"
           }
          ],
          "histogram": [
           {
            "marker": {
             "pattern": {
              "fillmode": "overlay",
              "size": 10,
              "solidity": 0.2
             }
            },
            "type": "histogram"
           }
          ],
          "histogram2d": [
           {
            "colorbar": {
             "outlinewidth": 0,
             "ticks": ""
            },
            "colorscale": [
             [
              0,
              "#0d0887"
             ],
             [
              0.1111111111111111,
              "#46039f"
             ],
             [
              0.2222222222222222,
              "#7201a8"
             ],
             [
              0.3333333333333333,
              "#9c179e"
             ],
             [
              0.4444444444444444,
              "#bd3786"
             ],
             [
              0.5555555555555556,
              "#d8576b"
             ],
             [
              0.6666666666666666,
              "#ed7953"
             ],
             [
              0.7777777777777778,
              "#fb9f3a"
             ],
             [
              0.8888888888888888,
              "#fdca26"
             ],
             [
              1,
              "#f0f921"
             ]
            ],
            "type": "histogram2d"
           }
          ],
          "histogram2dcontour": [
           {
            "colorbar": {
             "outlinewidth": 0,
             "ticks": ""
            },
            "colorscale": [
             [
              0,
              "#0d0887"
             ],
             [
              0.1111111111111111,
              "#46039f"
             ],
             [
              0.2222222222222222,
              "#7201a8"
             ],
             [
              0.3333333333333333,
              "#9c179e"
             ],
             [
              0.4444444444444444,
              "#bd3786"
             ],
             [
              0.5555555555555556,
              "#d8576b"
             ],
             [
              0.6666666666666666,
              "#ed7953"
             ],
             [
              0.7777777777777778,
              "#fb9f3a"
             ],
             [
              0.8888888888888888,
              "#fdca26"
             ],
             [
              1,
              "#f0f921"
             ]
            ],
            "type": "histogram2dcontour"
           }
          ],
          "mesh3d": [
           {
            "colorbar": {
             "outlinewidth": 0,
             "ticks": ""
            },
            "type": "mesh3d"
           }
          ],
          "parcoords": [
           {
            "line": {
             "colorbar": {
              "outlinewidth": 0,
              "ticks": ""
             }
            },
            "type": "parcoords"
           }
          ],
          "pie": [
           {
            "automargin": true,
            "type": "pie"
           }
          ],
          "scatter": [
           {
            "fillpattern": {
             "fillmode": "overlay",
             "size": 10,
             "solidity": 0.2
            },
            "type": "scatter"
           }
          ],
          "scatter3d": [
           {
            "line": {
             "colorbar": {
              "outlinewidth": 0,
              "ticks": ""
             }
            },
            "marker": {
             "colorbar": {
              "outlinewidth": 0,
              "ticks": ""
             }
            },
            "type": "scatter3d"
           }
          ],
          "scattercarpet": [
           {
            "marker": {
             "colorbar": {
              "outlinewidth": 0,
              "ticks": ""
             }
            },
            "type": "scattercarpet"
           }
          ],
          "scattergeo": [
           {
            "marker": {
             "colorbar": {
              "outlinewidth": 0,
              "ticks": ""
             }
            },
            "type": "scattergeo"
           }
          ],
          "scattergl": [
           {
            "marker": {
             "colorbar": {
              "outlinewidth": 0,
              "ticks": ""
             }
            },
            "type": "scattergl"
           }
          ],
          "scattermapbox": [
           {
            "marker": {
             "colorbar": {
              "outlinewidth": 0,
              "ticks": ""
             }
            },
            "type": "scattermapbox"
           }
          ],
          "scatterpolar": [
           {
            "marker": {
             "colorbar": {
              "outlinewidth": 0,
              "ticks": ""
             }
            },
            "type": "scatterpolar"
           }
          ],
          "scatterpolargl": [
           {
            "marker": {
             "colorbar": {
              "outlinewidth": 0,
              "ticks": ""
             }
            },
            "type": "scatterpolargl"
           }
          ],
          "scatterternary": [
           {
            "marker": {
             "colorbar": {
              "outlinewidth": 0,
              "ticks": ""
             }
            },
            "type": "scatterternary"
           }
          ],
          "surface": [
           {
            "colorbar": {
             "outlinewidth": 0,
             "ticks": ""
            },
            "colorscale": [
             [
              0,
              "#0d0887"
             ],
             [
              0.1111111111111111,
              "#46039f"
             ],
             [
              0.2222222222222222,
              "#7201a8"
             ],
             [
              0.3333333333333333,
              "#9c179e"
             ],
             [
              0.4444444444444444,
              "#bd3786"
             ],
             [
              0.5555555555555556,
              "#d8576b"
             ],
             [
              0.6666666666666666,
              "#ed7953"
             ],
             [
              0.7777777777777778,
              "#fb9f3a"
             ],
             [
              0.8888888888888888,
              "#fdca26"
             ],
             [
              1,
              "#f0f921"
             ]
            ],
            "type": "surface"
           }
          ],
          "table": [
           {
            "cells": {
             "fill": {
              "color": "#EBF0F8"
             },
             "line": {
              "color": "white"
             }
            },
            "header": {
             "fill": {
              "color": "#C8D4E3"
             },
             "line": {
              "color": "white"
             }
            },
            "type": "table"
           }
          ]
         },
         "layout": {
          "annotationdefaults": {
           "arrowcolor": "#2a3f5f",
           "arrowhead": 0,
           "arrowwidth": 1
          },
          "autotypenumbers": "strict",
          "coloraxis": {
           "colorbar": {
            "outlinewidth": 0,
            "ticks": ""
           }
          },
          "colorscale": {
           "diverging": [
            [
             0,
             "#8e0152"
            ],
            [
             0.1,
             "#c51b7d"
            ],
            [
             0.2,
             "#de77ae"
            ],
            [
             0.3,
             "#f1b6da"
            ],
            [
             0.4,
             "#fde0ef"
            ],
            [
             0.5,
             "#f7f7f7"
            ],
            [
             0.6,
             "#e6f5d0"
            ],
            [
             0.7,
             "#b8e186"
            ],
            [
             0.8,
             "#7fbc41"
            ],
            [
             0.9,
             "#4d9221"
            ],
            [
             1,
             "#276419"
            ]
           ],
           "sequential": [
            [
             0,
             "#0d0887"
            ],
            [
             0.1111111111111111,
             "#46039f"
            ],
            [
             0.2222222222222222,
             "#7201a8"
            ],
            [
             0.3333333333333333,
             "#9c179e"
            ],
            [
             0.4444444444444444,
             "#bd3786"
            ],
            [
             0.5555555555555556,
             "#d8576b"
            ],
            [
             0.6666666666666666,
             "#ed7953"
            ],
            [
             0.7777777777777778,
             "#fb9f3a"
            ],
            [
             0.8888888888888888,
             "#fdca26"
            ],
            [
             1,
             "#f0f921"
            ]
           ],
           "sequentialminus": [
            [
             0,
             "#0d0887"
            ],
            [
             0.1111111111111111,
             "#46039f"
            ],
            [
             0.2222222222222222,
             "#7201a8"
            ],
            [
             0.3333333333333333,
             "#9c179e"
            ],
            [
             0.4444444444444444,
             "#bd3786"
            ],
            [
             0.5555555555555556,
             "#d8576b"
            ],
            [
             0.6666666666666666,
             "#ed7953"
            ],
            [
             0.7777777777777778,
             "#fb9f3a"
            ],
            [
             0.8888888888888888,
             "#fdca26"
            ],
            [
             1,
             "#f0f921"
            ]
           ]
          },
          "colorway": [
           "#636efa",
           "#EF553B",
           "#00cc96",
           "#ab63fa",
           "#FFA15A",
           "#19d3f3",
           "#FF6692",
           "#B6E880",
           "#FF97FF",
           "#FECB52"
          ],
          "font": {
           "color": "#2a3f5f"
          },
          "geo": {
           "bgcolor": "white",
           "lakecolor": "white",
           "landcolor": "white",
           "showlakes": true,
           "showland": true,
           "subunitcolor": "#C8D4E3"
          },
          "hoverlabel": {
           "align": "left"
          },
          "hovermode": "closest",
          "mapbox": {
           "style": "light"
          },
          "paper_bgcolor": "white",
          "plot_bgcolor": "white",
          "polar": {
           "angularaxis": {
            "gridcolor": "#EBF0F8",
            "linecolor": "#EBF0F8",
            "ticks": ""
           },
           "bgcolor": "white",
           "radialaxis": {
            "gridcolor": "#EBF0F8",
            "linecolor": "#EBF0F8",
            "ticks": ""
           }
          },
          "scene": {
           "xaxis": {
            "backgroundcolor": "white",
            "gridcolor": "#DFE8F3",
            "gridwidth": 2,
            "linecolor": "#EBF0F8",
            "showbackground": true,
            "ticks": "",
            "zerolinecolor": "#EBF0F8"
           },
           "yaxis": {
            "backgroundcolor": "white",
            "gridcolor": "#DFE8F3",
            "gridwidth": 2,
            "linecolor": "#EBF0F8",
            "showbackground": true,
            "ticks": "",
            "zerolinecolor": "#EBF0F8"
           },
           "zaxis": {
            "backgroundcolor": "white",
            "gridcolor": "#DFE8F3",
            "gridwidth": 2,
            "linecolor": "#EBF0F8",
            "showbackground": true,
            "ticks": "",
            "zerolinecolor": "#EBF0F8"
           }
          },
          "shapedefaults": {
           "line": {
            "color": "#2a3f5f"
           }
          },
          "ternary": {
           "aaxis": {
            "gridcolor": "#DFE8F3",
            "linecolor": "#A2B1C6",
            "ticks": ""
           },
           "baxis": {
            "gridcolor": "#DFE8F3",
            "linecolor": "#A2B1C6",
            "ticks": ""
           },
           "bgcolor": "white",
           "caxis": {
            "gridcolor": "#DFE8F3",
            "linecolor": "#A2B1C6",
            "ticks": ""
           }
          },
          "title": {
           "x": 0.05
          },
          "xaxis": {
           "automargin": true,
           "gridcolor": "#EBF0F8",
           "linecolor": "#EBF0F8",
           "ticks": "",
           "title": {
            "standoff": 15
           },
           "zerolinecolor": "#EBF0F8",
           "zerolinewidth": 2
          },
          "yaxis": {
           "automargin": true,
           "gridcolor": "#EBF0F8",
           "linecolor": "#EBF0F8",
           "ticks": "",
           "title": {
            "standoff": 15
           },
           "zerolinecolor": "#EBF0F8",
           "zerolinewidth": 2
          }
         }
        },
        "title": {
         "font": {
          "size": 20
         },
         "text": "Feature Importance"
        },
        "width": 1650,
        "xaxis": {
         "anchor": "y",
         "domain": [
          0,
          1
         ],
         "title": {
          "text": "Importance"
         }
        },
        "yaxis": {
         "anchor": "x",
         "domain": [
          0,
          1
         ],
         "title": {
          "text": "Variable"
         }
        }
       }
      }
     },
     "metadata": {},
     "output_type": "display_data"
    }
   ],
   "source": [
    "# Create features importance plot by attribute.\n",
    "features = funs.tree_importance(RFC, 'randomforestclassifier')"
   ]
  },
  {
   "cell_type": "markdown",
   "metadata": {},
   "source": [
    "## CONCLUSION\n",
    "\n",
    "In conclusion, the evaluation of various models reveals their performance on the classification task. The results demonstrate the impact of feature selection and hyperparameter optimization on model performance. The best-performing model, the Logistic Regression with l1 penalization, shows promising results in terms of accuracy, recall, precision, and AUC in comparison to the other classifiers.\n",
    "\n",
    "Nonetheless, the performance of such model is still poor – given the fact that the tunning process is made for just one model applied to each grade leaving the rest out. If a model per grade is developed and fine-tuned better classification performances can be achieved.  \n"
   ]
  },
  {
   "cell_type": "markdown",
   "metadata": {},
   "source": []
  }
 ],
 "metadata": {
  "kernelspec": {
   "display_name": "base",
   "language": "python",
   "name": "python3"
  },
  "language_info": {
   "codemirror_mode": {
    "name": "ipython",
    "version": 3
   },
   "file_extension": ".py",
   "mimetype": "text/x-python",
   "name": "python",
   "nbconvert_exporter": "python",
   "pygments_lexer": "ipython3",
   "version": "3.9.16"
  },
  "orig_nbformat": 4
 },
 "nbformat": 4,
 "nbformat_minor": 2
}
